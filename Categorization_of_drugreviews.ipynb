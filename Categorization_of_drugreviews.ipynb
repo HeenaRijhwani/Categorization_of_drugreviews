{
  "cells": [
    {
      "cell_type": "code",
      "execution_count": null,
      "metadata": {
        "id": "GcoVNoyjVYzX",
        "colab": {
          "base_uri": "https://localhost:8080/",
          "height": 206
        },
        "outputId": "156346d8-aeff-4dc1-c932-913517347075"
      },
      "outputs": [
        {
          "output_type": "execute_result",
          "data": {
            "text/plain": [
              "                           drugName                     condition  \\\n",
              "0  206461                 Valsartan  Left Ventricular Dysfunction   \n",
              "1   95260                Guanfacine                          ADHD   \n",
              "2   92703                    Lybrel                 Birth Control   \n",
              "3  138000                Ortho Evra                 Birth Control   \n",
              "4   35696  Buprenorphine / naloxone             Opiate Dependence   \n",
              "\n",
              "                                              review rating            date  \\\n",
              "0  \"It has no side effect, I take it in combinati...      9       20-May-12   \n",
              "1  \"My son is halfway through his fourth week of ...      8  April 27, 2010   \n",
              "2  \"I used to take another oral contraceptive, wh...      5       14-Dec-09   \n",
              "3  \"This is my first time using any form of birth...      8       03-Nov-15   \n",
              "4  \"Suboxone has completely turned my life around...      9       27-Nov-16   \n",
              "\n",
              "   usefulCount  \n",
              "0         27.0  \n",
              "1        192.0  \n",
              "2         17.0  \n",
              "3         10.0  \n",
              "4         37.0  "
            ],
            "text/html": [
              "\n",
              "  <div id=\"df-5434cb9a-ac9e-41cf-a9b4-e23835b793fb\">\n",
              "    <div class=\"colab-df-container\">\n",
              "      <div>\n",
              "<style scoped>\n",
              "    .dataframe tbody tr th:only-of-type {\n",
              "        vertical-align: middle;\n",
              "    }\n",
              "\n",
              "    .dataframe tbody tr th {\n",
              "        vertical-align: top;\n",
              "    }\n",
              "\n",
              "    .dataframe thead th {\n",
              "        text-align: right;\n",
              "    }\n",
              "</style>\n",
              "<table border=\"1\" class=\"dataframe\">\n",
              "  <thead>\n",
              "    <tr style=\"text-align: right;\">\n",
              "      <th></th>\n",
              "      <th></th>\n",
              "      <th>drugName</th>\n",
              "      <th>condition</th>\n",
              "      <th>review</th>\n",
              "      <th>rating</th>\n",
              "      <th>date</th>\n",
              "      <th>usefulCount</th>\n",
              "    </tr>\n",
              "  </thead>\n",
              "  <tbody>\n",
              "    <tr>\n",
              "      <th>0</th>\n",
              "      <td>206461</td>\n",
              "      <td>Valsartan</td>\n",
              "      <td>Left Ventricular Dysfunction</td>\n",
              "      <td>\"It has no side effect, I take it in combinati...</td>\n",
              "      <td>9</td>\n",
              "      <td>20-May-12</td>\n",
              "      <td>27.0</td>\n",
              "    </tr>\n",
              "    <tr>\n",
              "      <th>1</th>\n",
              "      <td>95260</td>\n",
              "      <td>Guanfacine</td>\n",
              "      <td>ADHD</td>\n",
              "      <td>\"My son is halfway through his fourth week of ...</td>\n",
              "      <td>8</td>\n",
              "      <td>April 27, 2010</td>\n",
              "      <td>192.0</td>\n",
              "    </tr>\n",
              "    <tr>\n",
              "      <th>2</th>\n",
              "      <td>92703</td>\n",
              "      <td>Lybrel</td>\n",
              "      <td>Birth Control</td>\n",
              "      <td>\"I used to take another oral contraceptive, wh...</td>\n",
              "      <td>5</td>\n",
              "      <td>14-Dec-09</td>\n",
              "      <td>17.0</td>\n",
              "    </tr>\n",
              "    <tr>\n",
              "      <th>3</th>\n",
              "      <td>138000</td>\n",
              "      <td>Ortho Evra</td>\n",
              "      <td>Birth Control</td>\n",
              "      <td>\"This is my first time using any form of birth...</td>\n",
              "      <td>8</td>\n",
              "      <td>03-Nov-15</td>\n",
              "      <td>10.0</td>\n",
              "    </tr>\n",
              "    <tr>\n",
              "      <th>4</th>\n",
              "      <td>35696</td>\n",
              "      <td>Buprenorphine / naloxone</td>\n",
              "      <td>Opiate Dependence</td>\n",
              "      <td>\"Suboxone has completely turned my life around...</td>\n",
              "      <td>9</td>\n",
              "      <td>27-Nov-16</td>\n",
              "      <td>37.0</td>\n",
              "    </tr>\n",
              "  </tbody>\n",
              "</table>\n",
              "</div>\n",
              "      <button class=\"colab-df-convert\" onclick=\"convertToInteractive('df-5434cb9a-ac9e-41cf-a9b4-e23835b793fb')\"\n",
              "              title=\"Convert this dataframe to an interactive table.\"\n",
              "              style=\"display:none;\">\n",
              "        \n",
              "  <svg xmlns=\"http://www.w3.org/2000/svg\" height=\"24px\"viewBox=\"0 0 24 24\"\n",
              "       width=\"24px\">\n",
              "    <path d=\"M0 0h24v24H0V0z\" fill=\"none\"/>\n",
              "    <path d=\"M18.56 5.44l.94 2.06.94-2.06 2.06-.94-2.06-.94-.94-2.06-.94 2.06-2.06.94zm-11 1L8.5 8.5l.94-2.06 2.06-.94-2.06-.94L8.5 2.5l-.94 2.06-2.06.94zm10 10l.94 2.06.94-2.06 2.06-.94-2.06-.94-.94-2.06-.94 2.06-2.06.94z\"/><path d=\"M17.41 7.96l-1.37-1.37c-.4-.4-.92-.59-1.43-.59-.52 0-1.04.2-1.43.59L10.3 9.45l-7.72 7.72c-.78.78-.78 2.05 0 2.83L4 21.41c.39.39.9.59 1.41.59.51 0 1.02-.2 1.41-.59l7.78-7.78 2.81-2.81c.8-.78.8-2.07 0-2.86zM5.41 20L4 18.59l7.72-7.72 1.47 1.35L5.41 20z\"/>\n",
              "  </svg>\n",
              "      </button>\n",
              "      \n",
              "  <style>\n",
              "    .colab-df-container {\n",
              "      display:flex;\n",
              "      flex-wrap:wrap;\n",
              "      gap: 12px;\n",
              "    }\n",
              "\n",
              "    .colab-df-convert {\n",
              "      background-color: #E8F0FE;\n",
              "      border: none;\n",
              "      border-radius: 50%;\n",
              "      cursor: pointer;\n",
              "      display: none;\n",
              "      fill: #1967D2;\n",
              "      height: 32px;\n",
              "      padding: 0 0 0 0;\n",
              "      width: 32px;\n",
              "    }\n",
              "\n",
              "    .colab-df-convert:hover {\n",
              "      background-color: #E2EBFA;\n",
              "      box-shadow: 0px 1px 2px rgba(60, 64, 67, 0.3), 0px 1px 3px 1px rgba(60, 64, 67, 0.15);\n",
              "      fill: #174EA6;\n",
              "    }\n",
              "\n",
              "    [theme=dark] .colab-df-convert {\n",
              "      background-color: #3B4455;\n",
              "      fill: #D2E3FC;\n",
              "    }\n",
              "\n",
              "    [theme=dark] .colab-df-convert:hover {\n",
              "      background-color: #434B5C;\n",
              "      box-shadow: 0px 1px 3px 1px rgba(0, 0, 0, 0.15);\n",
              "      filter: drop-shadow(0px 1px 2px rgba(0, 0, 0, 0.3));\n",
              "      fill: #FFFFFF;\n",
              "    }\n",
              "  </style>\n",
              "\n",
              "      <script>\n",
              "        const buttonEl =\n",
              "          document.querySelector('#df-5434cb9a-ac9e-41cf-a9b4-e23835b793fb button.colab-df-convert');\n",
              "        buttonEl.style.display =\n",
              "          google.colab.kernel.accessAllowed ? 'block' : 'none';\n",
              "\n",
              "        async function convertToInteractive(key) {\n",
              "          const element = document.querySelector('#df-5434cb9a-ac9e-41cf-a9b4-e23835b793fb');\n",
              "          const dataTable =\n",
              "            await google.colab.kernel.invokeFunction('convertToInteractive',\n",
              "                                                     [key], {});\n",
              "          if (!dataTable) return;\n",
              "\n",
              "          const docLinkHtml = 'Like what you see? Visit the ' +\n",
              "            '<a target=\"_blank\" href=https://colab.research.google.com/notebooks/data_table.ipynb>data table notebook</a>'\n",
              "            + ' to learn more about interactive tables.';\n",
              "          element.innerHTML = '';\n",
              "          dataTable['output_type'] = 'display_data';\n",
              "          await google.colab.output.renderOutput(dataTable, element);\n",
              "          const docLink = document.createElement('div');\n",
              "          docLink.innerHTML = docLinkHtml;\n",
              "          element.appendChild(docLink);\n",
              "        }\n",
              "      </script>\n",
              "    </div>\n",
              "  </div>\n",
              "  "
            ]
          },
          "metadata": {},
          "execution_count": 38
        }
      ],
      "source": [
        "import tensorflow as tf\n",
        "tf.test.gpu_device_name()\n",
        "\n",
        "import pandas as pd\n",
        "import numpy as np\n",
        "import keras\n",
        "import tensorflow as tf\n",
        "import re\n",
        "import string\n",
        "import warnings\n",
        "warnings.filterwarnings(\"ignore\")\n",
        "corpus=pd.read_csv(r'/drugsComTrain_raw.csv', encoding = \"ISO-8859-1\")\n",
        "corpus.head()"
      ]
    },
    {
      "cell_type": "code",
      "execution_count": null,
      "metadata": {
        "colab": {
          "base_uri": "https://localhost:8080/"
        },
        "id": "TJQit95mXh08",
        "outputId": "10298abe-36d1-496d-dee3-ca45c223bd00"
      },
      "outputs": [
        {
          "output_type": "execute_result",
          "data": {
            "text/plain": [
              "Index([' ', 'drugName', 'condition', 'review', 'rating', 'date',\n",
              "       'usefulCount'],\n",
              "      dtype='object')"
            ]
          },
          "metadata": {},
          "execution_count": 5
        }
      ],
      "source": [
        "corpus.columns"
      ]
    },
    {
      "cell_type": "code",
      "execution_count": null,
      "metadata": {
        "colab": {
          "base_uri": "https://localhost:8080/"
        },
        "id": "D2GBejmwXkr5",
        "outputId": "3c625622-b23c-4b43-9a12-7aabee651644"
      },
      "outputs": [
        {
          "output_type": "execute_result",
          "data": {
            "text/plain": [
              "                 int64\n",
              "drugName        object\n",
              "condition       object\n",
              "review          object\n",
              "rating          object\n",
              "date            object\n",
              "usefulCount    float64\n",
              "dtype: object"
            ]
          },
          "metadata": {},
          "execution_count": 6
        }
      ],
      "source": [
        "corpus.dtypes"
      ]
    },
    {
      "cell_type": "code",
      "execution_count": null,
      "metadata": {
        "colab": {
          "base_uri": "https://localhost:8080/"
        },
        "id": "nv590ic3XtJq",
        "outputId": "568901a2-65d3-4ce4-ad35-419ccdbb3abf"
      },
      "outputs": [
        {
          "output_type": "execute_result",
          "data": {
            "text/plain": [
              "924"
            ]
          },
          "metadata": {},
          "execution_count": 7
        }
      ],
      "source": [
        "np.sum(corpus.isnull().any(axis=1))"
      ]
    },
    {
      "cell_type": "code",
      "execution_count": null,
      "metadata": {
        "id": "COm-qlRp3Z4U",
        "colab": {
          "base_uri": "https://localhost:8080/"
        },
        "outputId": "923863d6-05a6-4163-fc46-6d5d5ae64442"
      },
      "outputs": [
        {
          "output_type": "execute_result",
          "data": {
            "text/plain": [
              "                 0\n",
              "drugName         0\n",
              "condition      899\n",
              "review           0\n",
              "rating           0\n",
              "date             0\n",
              "usefulCount     25\n",
              "dtype: int64"
            ]
          },
          "metadata": {},
          "execution_count": 8
        }
      ],
      "source": [
        "corpus.isnull().sum()"
      ]
    },
    {
      "cell_type": "code",
      "execution_count": null,
      "metadata": {
        "colab": {
          "base_uri": "https://localhost:8080/"
        },
        "id": "EnsElxYaYc6i",
        "outputId": "32a093ff-0a6c-4af5-bbb4-c584016f2097"
      },
      "outputs": [
        {
          "output_type": "execute_result",
          "data": {
            "text/plain": [
              "0"
            ]
          },
          "metadata": {},
          "execution_count": 39
        }
      ],
      "source": [
        "#dropping null values\n",
        "corpus1=corpus.dropna()\n",
        "np.sum(corpus1.isnull().any(axis=1))"
      ]
    },
    {
      "cell_type": "code",
      "execution_count": null,
      "metadata": {
        "id": "vK1eg3YJTXHx"
      },
      "outputs": [],
      "source": [
        "opinions=corpus1['review']\n",
        "opinions=opinions[:5000]\n",
        "corpus1=corpus1.iloc[:5000,:]"
      ]
    },
    {
      "cell_type": "code",
      "execution_count": null,
      "metadata": {
        "colab": {
          "base_uri": "https://localhost:8080/"
        },
        "id": "a13dN1S-TBJz",
        "outputId": "40829ae6-d9a0-4193-fe56-6aca97e0db38"
      },
      "outputs": [
        {
          "output_type": "stream",
          "name": "stdout",
          "text": [
            "[nltk_data] Downloading package punkt to /root/nltk_data...\n",
            "[nltk_data]   Package punkt is already up-to-date!\n",
            "[nltk_data] Downloading package stopwords to /root/nltk_data...\n",
            "[nltk_data]   Package stopwords is already up-to-date!\n",
            "[nltk_data] Downloading package wordnet to /root/nltk_data...\n",
            "[nltk_data]   Package wordnet is already up-to-date!\n"
          ]
        },
        {
          "output_type": "execute_result",
          "data": {
            "text/plain": [
              "5000"
            ]
          },
          "metadata": {},
          "execution_count": 41
        }
      ],
      "source": [
        "#Data preprocessing\n",
        "import nltk\n",
        "nltk.download('punkt')\n",
        "nltk.download('stopwords')\n",
        "import re\n",
        "from nltk.corpus import stopwords\n",
        "from nltk.tokenize import word_tokenize\n",
        "import string\n",
        "from nltk.tokenize.treebank import TreebankWordDetokenizer\n",
        "from nltk.stem.porter import PorterStemmer\n",
        "nltk.download('wordnet')\n",
        "from nltk.stem import WordNetLemmatizer\n",
        "\n",
        "\n",
        "def clean_text(text):\n",
        "    text=text.lower()\n",
        "    new_resulta = re.sub(pattern='[^a-zA-Z]',repl=' ', string=text) #remove special characters\n",
        "    new_resultb = new_resulta.replace(\"\\n\", \" \") #replace escape character with space \n",
        "    new_resultc = re.sub(\"https*\\S+\", \" \", new_resultb) #removing urls\n",
        "    new_resultd = re.sub(\"@\\S+\", \" \", new_resultc) #removing mentions\n",
        "    new_resulte = re.sub(\"#\\S+\", \" \", new_resultd) #removing hashtags\n",
        "    new_resulte= re.sub(r'(.)\\1+',r'\\1',new_resulte) #remove duplicates\n",
        "    new_resultf = re.sub('\\s{2,}', \" \", new_resulte) #removing additonal white spaces\n",
        "    new_resultg=re.sub(r'[^\\x00-\\x7F]+',' ',new_resultf) #remove encoded characters\n",
        "    stop_words = set(stopwords.words(\"english\"))\n",
        "    word_tokens = word_tokenize(new_resultg) #tokenize each review into words\n",
        "    new_result2 = [word for word in word_tokens if word not in stop_words] #remove stop words\n",
        "    #Stemming \n",
        "    ps = PorterStemmer()\n",
        "    new_result3 = [ps.stem(word) for word in new_result2]\n",
        "    lemmatizer = WordNetLemmatizer()\n",
        "    new_result4 = [lemmatizer.lemmatize(word) for word in new_result3 ]\n",
        "    new_result5=TreebankWordDetokenizer().detokenize([word for word in new_result4]) #detokenize to sentence after stop word removal and stemming\n",
        "  \n",
        "    return new_result5\n",
        "\n",
        "def remove_emojis(text): #removing emojis from tweets\n",
        "    emoji = re.compile(\"[\"\n",
        "        u\"\\U0001F600-\\U0001F64F\"  \n",
        "        u\"\\U0001F300-\\U0001F5FF\"  \n",
        "        u\"\\U0001F680-\\U0001F6FF\"  \n",
        "        u\"\\U0001F1E0-\\U0001F1FF\"  \n",
        "        u\"\\U00002500-\\U00002BEF\"  \n",
        "        u\"\\U00002702-\\U000027B0\"\n",
        "        u\"\\U00002702-\\U000027B0\"\n",
        "        u\"\\U000024C2-\\U0001F251\"\n",
        "        u\"\\U0001f926-\\U0001f937\"\n",
        "        u\"\\U00010000-\\U0010ffff\"\n",
        "        u\"\\u2640-\\u2642\" \n",
        "        u\"\\u2600-\\u2B55\"\n",
        "        u\"\\u200d\"\n",
        "        u\"\\u23cf\"\n",
        "        u\"\\u23e9\"\n",
        "        u\"\\u231a\"\n",
        "        u\"\\ufe0f\"  \n",
        "        u\"\\u3030\"\"]+\", re.UNICODE)\n",
        "    return re.sub(emoji, '', text)\n",
        "\n",
        "corpus_cleaned=[]\n",
        "for i in opinions:\n",
        "    j=clean_text(i)\n",
        "    corpus_cleaned.append(remove_emojis(j))\n",
        "len(corpus_cleaned)"
      ]
    },
    {
      "cell_type": "code",
      "execution_count": null,
      "metadata": {
        "colab": {
          "base_uri": "https://localhost:8080/"
        },
        "id": "At6qgbn2Wr4G",
        "outputId": "dda45628-6a36-4e43-bbe2-f45d7e664be9"
      },
      "outputs": [
        {
          "data": {
            "text/plain": [
              "['side efect take combin bystol mg fish oil',\n",
              " 'son halfway fourth wek intuniv becam concern began last wek start take highest dose wil two day could hardli get bed cranki slept nearli hour drive home schol vacat unusu cale doctor monday morn said stick day se schol gete morn last two day ben problem fre much agreabl ever le emot god thing le cranki rememb al thing over behavior beter tri mani difer medic far efect',\n",
              " 'use take anoth oral contracept pil cycl hapi light period max day side efect contain hormon gestoden avail u switch lybrel ingredi similar pil end start lybrel imedi first day period instruct said period last two wek take second pack two wek third pack thing got even wors third period last two wek end third wek stil daili brown discharg posit side side efect idea period fre tempt ala',\n",
              " 'first time use form birth control glad went patch ben month first decreas libido subsid downsid made period longer day exact use period day max also made cramp intens first two day period never cramp use birth control hapi patch',\n",
              " 'suboxon complet turn life around fel healthier excel job alway money pocket save acount none suboxon spent year abus oxycontin paycheck alreadi spent time got start resort scheme steal fund adict al histori readi stop god chanc suboxon wil put path great life found side efect minim compar oxycontin actuali slepe beter slight constip truli amaz cost pale comparison spent oxycontin',\n",
              " 'nd day mg start work rock hard erect howev experianc headach lower bowel preasur rd day erect would wake amp hurt leg ankl ach sever lower bowel preasur like ned go enjoy initi rockhard erect side efect month supli amp work x wek worth side efect',\n",
              " 'pule cume bit tok plan b hour later tok pregnanc test two wek later pregnant',\n",
              " 'abilifi chang life hope zoloft clonidin first start abilifi age zoloft depres clondin manag complet rage mod control depres hopel one second mean irat ful rage next dr prescrib mg abilifi point fel like ben cure though know bi polar disord constant batl know abilifi work tri get lost complet control emot went back golden mg x daili beter ever ben past side efect like eat lot',\n",
              " 'noth problem kepera constant shake arm amp leg amp pin amp nedl fele arm amp leg sever light headedn apetit amp etc',\n",
              " 'ben pil mani year doctor chang rx chateal efect reali help complet clear acn take month though gain extra weight develop emot health isu stope take bc start use natur method birth control start take bc hate acn came back age reali hope symptom like depres weight gain begin afect older also naturali modi may worsen thing neg mental rut today also hope push edg believ depres hopefuli l like younger',\n",
              " 'ben medic almost two wek start mg work way mg curent mg headach al far cripl migrain wek lost lb far note reali pay close atent eat lot weight lose weight lo side efect want help along much side efect word recal isu exist memori isu worst sem vision disturb ben time driven sure would ben safe god news sem wear ton energi great mod',\n",
              " 'taken anti depres year improv mostli moder sever side afect make go take cymbalta mostli pain began deplin notic major improv overnight energi beter disposit sink low low major depres ben take month fel like normal person first time ever best thing side efect',\n",
              " 'crohn resect year ago ben mostli remis sinc recent bad flare narow anastomosi ned medic found one handl asacol gave seriou bodi ach fatigu could function pentasa imedi gave heart palpit arhythmia discontinu',\n",
              " 'litl bit linger cough cold give much troubl except kep night heard god tok could get slep help tremend cough bad stomach cramp diarhea eaten anyth upset stomach reali fel like quot bug quot loke side efect delsym wish done first probabl taken work cough stil get slep due stomach isu',\n",
              " 'start nexplanon month ago minim amount contracept take due inabl take hormon use birth control tri give time one option right honestli option get remov never acn problem life imedi broke gete implant sex drive complet gone use sex boyfriend day wek complet forc even fun anymor mean birth control like sex want get pregnant take birth control take away sex unhapi hope get back time gete remov',\n",
              " 'ben take saxenda sinc juli sever nausea month got dosag sinc subsid side efect notic dri mouth make sure drink litr water day glase help weight lo wel constip ben reduc dose find comfort spot stil lose weight fel like medic work wel also fel wear fitbit reali help track fod water exercis step kep move start could bare walk length without gete wind lost lb far',\n",
              " 'drug work wel clear uti mater hr although day cours x mg daili unfortun tablet finish infect return nede nd cours curent take low dose even kep infect bay specialist test normali get everi side efect go dread take new medic form especiali horif experi ciorofloxacin side efect experienc itchi ankl fet day two last third day would cla minor side efect insignific god luck',\n",
              " 'ben take amitriptylin sinc januari diagnos fibromyalgia tri cymbalta wek dr decid sinc kept awak god fit even though reliev pain start mg wek breakthrough pain dr increas dosag mg stil dosag today first ful year never pain felt cure time went sem help control pain stil pain low manag level take around pm even avoid fele overli drowsi morn med alow fairli normal life',\n",
              " 'ben everi medicin sun sem manag hypomania mania bipolar within day start lamict tegretol someon turn light head way quot normal quot peopl think one first thing struck slep like log irit almost anger would consid normal abl focu creativ impuls thought decreas enough manag god send would pereniali state hypo mania sound great physicali emotionali exhaust libido markedli lower wonder perhap efect hypo manic take mg anxieti',\n",
              " 'ben tasigna year mg x time day tasigna work within wek ben remis basicali entir year side efect fel sick stomach tire sever leg arm pain walk long without nede break went work ful time work al tire al time hey remis aliv al reali problem nope',\n",
              " 'spring hospit pnuemonia diagnos lyme dieas ful blown aid cd count quot quot viral load number high milion could never rememb take combivir kaletra dapson st year stope work start kaletra dapson cd count rise wek agres broke al dish hous lol take vitamin suplement drink bost pluz everi day life god',\n",
              " 'insomnia horibl stori begin pcp prescrib prozac help intestin isu desper tri wek stope insomnia prescrib ativan adict rebound insomnia day hardli slep l tri doctor one time ask trazadon told god medic insomnia put mg state may figur dosag best curent take mg low rang prescrib mg high end insomnia dri mouth nasel congest live slep yeah',\n",
              " 'nexplanon job wori fre sex thing period sometim light sometim heavi sometim go away sometim show unexpect also fel somewhat depres sure nexplanon nexplanont month despit side efect efect birth control ever use plan take',\n",
              " 'live western australia disturb coment cost embrel cost ordinari prescript govern pay remaind cost chemist also go medic centr everi saturday morn dr lok prescript advis nurs administ inject also cost part nurs duti unsur countri peopl made coment refer cost nobodi administ inject lucki live australia best health system worldwid everybodi given oportun receiv proper medic help whether rich por discrimin',\n",
              " 'use cream come turn ho ha burn ring fire work tomorow go slepl night',\n",
              " 'prescrib one dose cours one day tok pil mg light lunch nausea mild stomach pain upset lie alevi discomfort threw hour later cale doctor check nede take anoth dose said bodi would absorb pil stil experienc mild stomach pain nausea mostli gone',\n",
              " 'write second review vaniqa start use februari year twice day although day time forget want say delight found totali complet chang life teribl male patern hair growth al chek chin uper lower lip start grow neck use pluck hr time everi rd day never hair fre ki anyon helo godby even pluck stubl could felt skin month im scare caught bright sunlight pluck around fortnight take around min hair come soft downi life transform',\n",
              " 'hi al son diagnos nd grade tri everyth medic tri med first one made lose weight fast second gave nasti tic thankfuli went away son stope med third work coupl year around januari last year start problem doctor recomend daytrana ben wonder son easi use handl day take get home schol patch efect last long enough homework isu weight gain slep use melatonin bed fel like wil abl shut shortag kile u',\n",
              " 'honestli ben take ativan year mg twice daili help use tol panic atack solut tri mani anti depres wel cymbalta cipralex coupl best thing talk close friend famili even psychiatrist talk peopl vent honestli best thing even though take lot wil power would love hear peopl opinion',\n",
              " 'first sufer includ splite head pain nausea vomit start use excedrin help tok right away start work wel anymor one reali bad one last hour stil throw pm throw blod went er finali got put iv hydrat ade imitrex bag son start fele side efect head felt like go pa breath becam labor felt like someon site chest said meant work two minut everyth gone got pil take home work okay fast',\n",
              " 'wek zoloft anxieti mod swing take mg morn breakfast nausea day one subsid wek went get jiter hr take folow yawn fel much beter though le angri strese',\n",
              " 'year old multipl composit spinal injuri year ago ach pain unbear start take anti inflamatori year ago start gete inject everi month toradol quot depo quot someth almost al pain med mean stil bad day function',\n",
              " 'burn control minut insert sat bath tri get stuf aw',\n",
              " 'ben take viberzi month ib hapier zero side efect thank make normal',\n",
              " 'reduc pain let live normal life',\n",
              " 'much pain last year sufer brain tumour ben lot pain point morphin everyday year brain surgeri pain pil came preti close seriou pain point black hot cold shiver sat pain fele like trape wind indigest ah take',\n",
              " 'ben morphin least year medicin sem manag pain without would bed time life',\n",
              " 'taken least time last year major problem sinc first time caus major fatigu last time tok year ago sever cramp enough time get bathrom went hospit doctor said work god enough go home second round went back next day proce energi last night even wors time gage al night sever cramp tri second dose morn start throw cale ofic said stop doctor done said evacu enough',\n",
              " 'similar experi tremor hand reali notic someon watch unl loke relief delus experienc problem ben go year anticip wil magicali disapear clariti think experi medicin reali help',\n",
              " 'prone yeast infect believ due birth control wel unprotect sex fluconazol alway clear yeast infect dose side efect',\n",
              " 'finish second wek take contrav lost lb ben interest experi drug definit apetit supres yet help control urg eat mild side efect stomach discomfort slight headach along constip al ben easili manag consid take medic plea kep mind stil ned work exercis eat right medic reali help help get motiv back exercis definit help crave eat make easi eat ned healthi use coupon give drop cost',\n",
              " 'medic chang life panic atack control bare abl leav hous within day moder chang new person year ago dosag never chang',\n",
              " 'ben take medicin due lower back troubl first tok work great al put slep',\n",
              " 'gp start venlafaxin yesterday help depres chang hour take fele sick stomach fod fluid thought kep told come side efect would get beter tok anoth one last night il stand sick sweat shake thought go pa get slep hope fel beter morn tok anoth one felt space dri mouth shake sick boke se gp make sure fele like find put wrong dose ben mg put mg right dose hope wil beter',\n",
              " 'initi test vl milion receiv med saturday day prior test establish baselin start receiv pil day hour later got blod test establish vl taken pil point vl vl wek vl wek wek wek til st eot test fel cure side efect next noth',\n",
              " 'side efect light fatigu bit headach find easier take hour diner way beter tripl threat aproach blod work indic begin stage cirhosi also hep b far like miracl fatigu noth sufer jaundic sicki symptom hep c caus busin usual',\n",
              " 'help sadn strongli counter moder urg drink stres confus time life',\n",
              " 'year old male uk normali would go everi hour even drink smal amount water drink tok medic two wek notic right away would go le often toilet much easier dispens urin unfortun stop take medic side efect outweigh benefit found would incred intens mod swing agres fel clumsi dizi al time bluri vision memori problem mind blank runi nose weakn tiredn tri betmiga let se',\n",
              " 'batl nasti uti month amp went difer antibiot til doctor finali gave one make teribl sick stomach end complet worth felt complet back normal day',\n",
              " 'hey guy ben month sinc last post want give month se go work ben trulic six month metformin hit five month period diarhea ga sulphur belch finali subsid longer side efect howev stil lost weight al think first start trulic take glimepirid one side efect weight gain think two med fight lol ben back metformin trulic wek wil se diagnos stage chronic kidney diseas ckd watch diet close',\n",
              " 'intuniv work son bounc wal take major isu cla sem work oposit',\n",
              " 'pain manag doctor put butran patch wek ago mg dose first box four lifesav agoni work abl slep two wekend two year hope bump ten mg dose son cut norco chronic pain mani year ben mani medicin includ oxycontin patch best far',\n",
              " 'got heart palpit reali bad like almost constant take mcg one puf twice day switch flovemt al wel',\n",
              " 'mother die lung cancer last hope medic within coupl month gone',\n",
              " 'abilifi mg patient diagnos disorgan schizophrenia depres schizoafect disord bipolar experienc sensit emot wel react fele reali fel normal quot sexual frustrat quot say increas decreas fel le anxiou medic semingli ea take medic hard step peopl tele actuali beter pil half life ago quot mental iln quot sudenli becom someon el weight fluxuat drug fel due stre factor outsid regular environ fel place god suround suport much beter person much hapier life routin fel like refer enlong period slep depres event suround certain time frame henc thought reaction abilifi aripiprazol instant reaction drug concern wel nervou one peopl take drug til star fade everi day last doctor al sem say thing quot medic work quot blod test go hospit freqent find anyth chart everyth alway normal vital thought consid medic work show side efect acept fel hold patienc valu care around help beter mentali virtu fel type person curbsid answer thing wonder depli gue know peopl would agr ask woman taken abilifi pregnanc wonder reaction question year old femal diagnos mental iln start start take abilifi mg present over sinc medic ben threaten fel embrac',\n",
              " 'ben uti year recent one last day far went doctor prescrib pyridium twice day hope unfortun work burn urin stil ben thre day far also discomfort al hour day may work wel other bodi acept noth go doctor usel go straight urologist',\n",
              " 'great experi far latuda start take mg nov work great wek crash dr put mg ben great ever sinc afraid though sex drive complet disapear latuda go go hate go someth work wel howev also preti high dose lexapro dr think like side efect decreas hopefuli wil work otherwis fele reali god reali afraid l go',\n",
              " 'love mouth sore ulcer like welbutrin gave complet quit smoke work',\n",
              " 'never depo supos b ideal candid first month ok bit modi fine weight gain someth chang constantli blede gete horibl hormon spot normali clear skin mod swing increas month decid taken ordeal b tricki doc remov anesthet stitch later simpli worth hasl',\n",
              " 'med year work fine great stope panic atack gave relief everi day nervousn experienc tok month side efect diminish first start take leav insomnia night sweat lack sex drive por orgasm orgasm al',\n",
              " 'put yasmin month regul cycl reduc acn flare up worst month life gain lb come easili stope pil experienc horibl mod swing heavier period acn breakout breakthrough blede nauseou al time pil sem agr peopl definit agr went femcon year stope yasmin experienc virtuali side efect',\n",
              " 'love butran patch reliev half pain know take le half pain kiler patch chang patch everi saturday mi hour pain start resid heavi drinker would advis tri patch',\n",
              " 'ben month sad say caus noth self estem becom lower gain lb fast metabol thought start slow make sen breast got smaler lost complet sex drive breast sensit anymor al like use emot even cri time thing say efect worth done bodi start break bodi face wel',\n",
              " 'birth control consid gete pregnant use type birth control pil patch etc decid get back birth control want wori take daili pil request nuvar start nuvar felt insid bodi lot cramp day later start experienc cramp strong uper stomach pain bad mise work wek finali end go er figur wrong finali ask doctor nuvar side efect',\n",
              " 'tok prepopik first colonoscopi found efect orang flavor toler bad cramp teribl side efect taken magnesium citrat night alreadi clean somewhat isu end dehydr show colonoscopi fever tri drink much fluid prep drank plenti liquid come go over would recomend prepopik side note insur cover ofic go avail recomend ask ofic avail insur cover pharmaci',\n",
              " 'hit thre month point tretinoin hapi reali depres skin first two month never bad acn cream made horibl acn knew worst part would fine inli two zit sinc left scar fine tri even scare glad worth',\n",
              " 'medicin save life wit end anti depres readi give doctor finali prescrib mani fail medic glad honestli know would without efexor xr side efect mild compar anti depres tri drowsi first coupl day toler highli recomend sever depres would also like mention peopl realiz light end tunel wil get beter never give',\n",
              " 'caus gain pound',\n",
              " 'best treatment acn use gone acutan mani face wash retinol cream form birth control form birth control make acn wors depend type progestin ned least androgen type posibl sprintec work best nearli clear skin take month fuli work work',\n",
              " 'start take zepati thre day ago side efect til would like share fel slight pain back head al l kep finger crose til finish wek updat finish rd wek treatment side efect even blod test briliant l inform finish wek updat incred st day viru undetect start take zepati viral load result neg side efect zepati work wel thank zepati',\n",
              " 'tok clomid first time last month husband tri year block falopian tube use estrogen medicin also uterin line thin doctor use hcg shot stimul ovul sinc clomid apar me ovul ocur tok hcg shot wek ago notic weird symptom day ago tok multipl pregnanc test pregnant clomid work great far yay',\n",
              " 'year old woman bloat lot pope al god',\n",
              " 'tumi tuck dec surgeri pain constip opioid surgeri bad plastic surgeon familiar treat oic cale primari care physician gave amitiza mcg tok almost two day amaz thank remain opioid thre wek amitiza work wel isu thank amitiza',\n",
              " 'experi nexplon great pregnanc yet isu caus much blede get period everi wek month month ruin sex life',\n",
              " 'mine year notic weight gain mod swing acn bodi adjust quick lost weight isu everi time boyfriend sex spot next day le wek isu love recomend al friend',\n",
              " 'awesom new boyfriend isu believ al mental bad relationship past order prescrib told wil go broke said worth orgasm everi time sometim twice wow',\n",
              " 'alway blede betwen period rsquo also gain pound skini girl rsquo notic acn rsquo got wors beter rsquo gete period experienc depres rsquo want around anyon rsquo want eat rsquo gain much weight rsquo stuck head lash peopl rsquo normal self wish found pil rid acn rsquo afect weight sex drive',\n",
              " 'hep c sinc earli cirhosi last yr tri interferon riboviron stop treatment due side efect teribl got transplant list oct receiv new liver dec reali blese hep c mision destroy new liver wek harvoni viru undetect anoth blese stil treatment wek side efect problem',\n",
              " 'review help much first start zoloft wek ago want post experi sever wek increasingli worsen panic atack work end hospit year ago psych dr switch cymbalta mod stabil thing god novemb stre work increas depend much bromazepam get day gp start mg zoloft anxieti bad also tremor wek sure would quit work cut hour monday wek amaz stil anxieti sem abl handl like confid back god luck',\n",
              " 'yo caucasian male develop m diagnos develop trigemin neuralgia last day start carbamazepin tn return constant ever sinc microvascular decompres surgeri pain ceas day surgeri return sever surgeri recoveri pain left weak disori amp le mobil neurologist chang rx carbamazepin oxcarbazepin mg twice daili day ago dep facial lancin pain remis stil burn electr jolt pain uper lip chek also take tramadol hcl mg daili sem help carbamazepin never work oxcarbazepin tramadol combo sem efect',\n",
              " 'start take slept wel night awok earli around start day hapili come drowsi nede take alreadi two hr nap awak resum day much dificulti st pm nede nap gona make work apoint went cold turkey felt much beter crash tri anti depres includ pristiqu sufer insomnia med know ned start confus resum welbutrin',\n",
              " 'ben pil year tri mirena cramp teribl side efect al time taken last month gain around lb stomach area ben nuvar wek far way beter son mirena remov weird stomach pain stope stil tri lose extra weight',\n",
              " 'mirena put almost year ago insert breze next cramp period remain heavi show sign stope gain pound acn headach backach wonder next doctor would take want remain year almost year find new doctor gete taken',\n",
              " 'drink extra oz botl water period take milk magnesia wil help stop pain hard stol constip usuali bring wil help ea releas difer amount time expect recomend dosag work best taken empti stomach fod hour help sped desir efect ben sever day sinc normali movement wil also take longer efect begin drink water much posibl diarhea ocur cut back water take prescrib dose drink lot water along sufici fiber diet becom much easier fight constant constip',\n",
              " 'take medicin without supervis endroconologist',\n",
              " 'apreci lithium although thyroid level low suplement help equal problem ben least difer medic stabil bipolar diagnosi alway want normal state mind lithium alow equali yoke mg er even mg seroquel even mg cymbalta morn set fele anxieti ad busper loranzapam',\n",
              " 'ben take oxycodon roughli year gone wekend without ran never experienc withdraw symptom work great take exactli ned exc prescrib amount take earli ben live chronic pain year complet joint replac one side anchor place side jaw surgeri help imens l stil alway pain ben take dosag mg x day year ye bodi use efect work wel work wel enough refus take higher dosag pil per day wel let face medicin scarey',\n",
              " 'husband age ben problem benign prostat hyperplasia erectil dysfunct wel gone fantast sex life one fade fast doctor put smal daili dose mg ciali holi smoke biger harder love alway power sex drive resign watch fade away clear schedul action honestli fele satisfi ladi guy slow push may much time clean hous wil smile lot',\n",
              " 'recent start medicin almost imedi relief vulvar dryne pain sure yet pain intercours wil reliev lok optimist mani month intens pain medicin sem goey even notic use reali like far',\n",
              " 'medicin absolut teribl thre month use hair falen much se scalp visibl embaras stope take consid coper iud hormon',\n",
              " 'cat bite hand ful set teth sharp hand swele red tok augmentin hour biten within day swele went redn fade year anim control ofic never injur help friend pick cat local human societi get biten oh ironi excel medicin cat bite friend tel dad got biten cat end hospit almost die infect lucki experi knew sek medic atent imedi anyon biten cat know chanc infect ned take serious l end hospit',\n",
              " 'ye first use experi ben raw constant itch seme get wors within hour apli cream ladi part talk want take chese grater itchi fire part take benadryl help itch vagin insert cream bad melt get itchi insid ladi cave speak first hour seme calm lot wait long done someth never thick discharg thought litl irit never yeast infect lord know ever want go product over work',\n",
              " 'sex th august tok plan b hour intercours goten period yet supos due th august major side efect ben experienc major amount tiredn exhaust got home work day tok pil went upstair around pm slep woke next day around pm wake extrem exhaust fet start get tire wel also bare ever hungri anymor year old unusu ten hopefuli period come son',\n",
              " 'ear ring like crazi almost start break cri read one guy experi best ring everyth went thru go thru stsrted exactli said tune caus think wors get titinu csn becom worst enemi kep read testimoni read alot peopl tok zanax seme quit ring zanax mg tok also couldnt slep next day woke slight ring day progres went complet away thank lord truli believ oh condit that relat nrevou system cure',\n",
              " 'start prozac one first anti depres md made horibl sick nauseou al day eat day time stay tri get thorough side efect stop throw everi day one day woke start violent shake last hour end hospit tachycardia horibl experi month later stil stomach heart isu new medic bad experi get anxiou take',\n",
              " 'intak efexor xr mg lorazepam depres anxieti doctor ade abilifi tok morn made fogi move berti slep beter over notic increas irit equat fele extrem angri pm daili rearang lorazepam reduc ned time also restlesn almost fel manic shal se increas crave swet',\n",
              " 'torn nuvar conveni great daili time take pil month easili mark calend put phone never fal never fel chang simpl would give nuvar base upon simplic price reali reason downsid personali first month notic side efect although low toler alcohol nuvar emot tire strung al time pil none hapen also longer period worth tri everi girl sem difer experi',\n",
              " 'year old start reali bad skin year ago mayb stre life tri everyth get rid got wors finali went dermatologist put spironolacton skin start gete beter two wek love ben take month get compliment makeup artist model hairstylist god skin anoth plu breast went smal b c decid stop take wek breast went smal skin gete litl oili go back take one day',\n",
              " 'sufer panic atack anxieti year tok paxil mani year efectiven wane hate weight gain sexual side efect came switch luvox start mg work miracl eventuali move mg last two year mg advers efect ben lifesav eventuali son diagnos panic disord certainli inherit much like inherit mother doctor tri luvox asumpt genet similar similar diagnosi might treat medicin right son live anxieti fre panic atack fre live',\n",
              " 'aw medicin worst side efect outweigh benefit headach first night leg back pain sensit skin aw pain got wors wors chang med ciproflaxcin use past hopefuli wil continu help even question doc urgent care se take cipro ofer macrobid mayb urgent care medic someth get deal stay away macrobid',\n",
              " 'ben latuda litl half year almost complet stope psychot symptom except stil hear voic mainli tri go slep delus paranoia drug take cogentin combin caus shake lot main side efect experi includ anhedonia shakin jaw clench inabl sit stil howev hapi actuali work antipsychot med tri caus endl hunger experienc drug like saphri haldol zyprexa risperd note max daili dose mg',\n",
              " 'serious ben use epiduo four day sen huge improv skin litl dri use cetaphil moistur balanc also use doxycyclin along topic treatment epiduo acn gete much beter love',\n",
              " 'cream absolut horibl wil admit cream initiali say wil get rid redn howev complet temporari around hour experi come afterward seriou rebound spent day outsid cold weather normali triger would normali warant redn came back around hour later face never felt hoter life skin burn unbeliev dep red loke held face fire last around hour use think skin nede get use result even wors threw away al sampl day',\n",
              " 'blod presur ben around doctor prescrib azor hr later read show amaz daili thank azor',\n",
              " 'ben loestrin wek half day got start take day stope period two day ago start period like normal think gain weight due sick therefor eat much normali lose weight like normali sick ben gete cramp normali get except first one two day period ben reali depres depres person mean cri stupidest thing like mom coke diner even hungri go talk doctor tomorow',\n",
              " 'far love stomach pain almost disapear atack wek side near bathrom hour take manag hopefuli continu work time wil tel',\n",
              " 'use bed time along paxil anxieti time insomnia lower dose mg becom slep aid work wel anxieti insomnia',\n",
              " 'sufer chronic pain due sever arthriti stenosi lumbar spine take vicodin nede alevi breakthrough pain e ocasion pain great usual daili mainten dose embeda er morphin naltrexon canot reliev work wel usual opioid side efect henc score',\n",
              " 'start medic april st day start se efect se take cours work far doctor start mg two time day month far side efect dryne expect',\n",
              " 'ben deal restl leg syndrom year kept fale aslep first gave flexiril noth miracl came prescrib reprinol leg twitch sinc amaz drug must say slep improv greatli',\n",
              " 'dread side efect none intraven infus thre day christma scare would flaten supos side efect like flu like symptom bone ach forth pleasantli surpris second one ten day time hopefuli wil repeat first one',\n",
              " 'god medic imo titrat dose intend wil notic subtl difer mani time thought flaten back dose symptom came roar back notic side efect help stabil wel mayb caus anxieti much tho',\n",
              " 'time skyla ben absolut breze m skyla ben togeth sinc late octob ben great must admit insert bit pain wil son forget got cramp wekaft insert noth litlw ibuprofen couldnt tackl urg anyon think skyla promis worth plea rememb pain subject mean depend person',\n",
              " 'tri paxil lexapro sent hyper panic gad give medicin acept miser anxieti fact life doctor recomend buspiron notic anxieti began taper second day tok medic real side efect speak first wek one thing deliv hope',\n",
              " 'ben sufer anxieti problem year start interfer life confid person sociali fear present huge would voic would trembl extent sound like ful cri research medic fear found propanolol doctor prescrib mg half inder propanolol despit say hesit give prescript said regularli give musician public speaker etc work wonder longer embara self fel hapi confid may stil fel nervi adrenalin kick sufer symptom take seldomli',\n",
              " 'year old son ben variou medicin adhd sinc switch focalin mg wek ago notic afternon complet system focu go tri boster dose mg afternon go talk doctor lower morn dose fel shaki tire thought would subsid focu terif wonder get result knock dose bit ade boster slep eat habit whew',\n",
              " 'tok jolivet wek went home first babi year went vacat four day forgot home vacat tok everyth fine wek later got period thought big deal mayb mi al day last day wek last day start get period everi wek everi day last day work amaz begin mese',\n",
              " 'prescrib medicin bronchiti mg day reali clear bronchiti left bad tendon right leg tele long wil go bare walk first get morn although get beter gentl exercis notic crazi dream dizin think caus make bad decis take medicin anyth condit find drug side efect unpredict come alreadi stope take miser go tri remedi review mention',\n",
              " 'ben use qsymia litl month lost pound child lose weight mater long stay gym magic pil work weight lo without diet exercis ned thing se type result wil say begin side efect aw alway felt tire push pase went away sinc gone blod presur medicin wel would recomend folow close doctor bp med though blod presur drope quick faint qsymia gete healthi fast',\n",
              " 'tri take medicin unl reali sick doctor recomend take cephalexin smal cyst eye lid decid tri antibiot one medicin believ god sick bodi ned litl help heal dosag thre mg per day day first day develop stomach cramp diarhea sure due medicin continu take cephalexin two day condit get beter stope take cephalexin ben wek sinc first tok cephalexin stil stomach cramp diarhea advis doctor ofic problem cale yet',\n",
              " 'tok avian year gain litl weight began take quickli drope lb start pay atent eat never isu iregular period acn main side efect modin tok coupl year figur becom hyperemot person much research realiz avian began pay atent mod regul mod swing help ben pil year go back birth control would chose one',\n",
              " 'put birth control lb gain lb replac got new one gain even weight bare help period anymor period last wek time bare anytim betwen break',\n",
              " 'ben medic almost ful month never fel hungri ben eat way le ever howev scale move bad heartburn ben side efect l tri one month weight lo go stop disapoint pay pocket',\n",
              " 'med caus hear intern voic auditori halucin head made paranoid anxiou scare alon tire nauseat apetit felt schizophren start mg come imedi per pdoc hope give relief sem satisfi bumer life saver',\n",
              " 'depo ben great relief pain endometriosi rd shot period spot whole month next shot due hope wil stop bodi get use shot painl side efect notic minor weight gain sex drive decreas bit okay least pain gone got scare read everyon say drug almost get glad tok chanc se quot quot react everyon difer satisfi',\n",
              " 'ben jolesa month decid tri get bad headach period even though last day day want avoid altogeth first two month great period ariv month earli blede last day mostli light alreadi pick next day pack figur tri get stil blede talk doctor anoth birth control ned jolesa work perfectli ben wonder period month recomend birth control anyon',\n",
              " 'femal earli year ago develop adult acn year rel clear skin benzyol peroxid ben miracl acn product develop contact dermat could longer use honestli could go day without new pimpl develop despit use prescript acn grade product vitamin wel expens spa treatment ben aczon month instant result cystic pimpl sinc stil get blackhead milium chin jawlin pimpl whitehead cyst speak isu dri skin product pricey wil save long run wast money other work',\n",
              " 'smoke year tri difer time product help stop alway fail doctor agr tri nicoderm cq patch reali help urg smoke day thing found red swolen itchi skin patch worn ned talk doctor ofic close wekend think could alerg want stop work',\n",
              " 'gave high price hour cough quot supres quot kidi version year old thing supres abil slep wors product ever purchas',\n",
              " 'plane put day residenti treatment folow vivitrol inject wori hear incred pain reali tri get away sub le mg ben iv ing stil think bupe dose high enough wori day friend tel clean enough elig wil make fel like milion buck extrem hope hope insight advic believ awesom chanc get life back even though afraid sword length rig use hope al goe wel plane beter veryanxiousnow',\n",
              " 'prescrib restasi ophthalmologist due sever dri eye caus acutun given card gave discount sinc privat health insur use vile day becam efect cheap use side efect first burn eye blure vision told take minimum month se benefit kept use work almost wel eye start produc tear much eye would water al time stope use product year eye improv much longer ned use although stil use regular counter eye drop systan balanc twice day nede',\n",
              " 'decreas sex drive physicali lot pain joint god woman best',\n",
              " 'start mg olanzapin last night slept felt calm coupl month dealt bipolar adhd mani year went psychiatrist told condit thing like celexa take mg night serotonin medic hype especiali night medicin take inder la mg tremor neurolog condit sinc childhod slept great last night first time long time also fel much ea gather thought focu hope continu part stay stabl',\n",
              " 'great product ben drug gave back side efect rash itch dri mouth constip headach dizin back pain etc urin averag time day everi aprox minut use patch went long hour without use restrom skin irit red beter spend whole day bathrom cant believ doctor put counter drug first spend hundr dolar prescript medic sufer yr isu urgenc frequenc miracl prais lord',\n",
              " 'esentiali mi prescrib actiq ben gete fentanyl patch cancer pain caus problem bolu dose transient overdosag build opioid toler actiq ben nearli great problem fentanyl patch patient may difer experi howev chronic cancer pain patch might consid use actiq',\n",
              " 'experi product lot difer everyon el never reali reali bad acn spot went se dermatologist prescrib gel put everi night whole face firstli everyth go fine se difer wek skin clear lok flawl howev one night put cream wake next morn skin literali burnt forehead cover litl spot teribl loke even wors make extrem bumpi stope use gel away reali bad',\n",
              " 'absolut love nexplanon ladi first super hesit get trinesa birth control caus much bloat miser wek month excit get implant review read freak proce super easi fast uncomfort part numb proce stung bit fel implant insert al bruis wek itch quit bit went away wek fairli heal far side efect felt bit modi wek headach day first got implant zero blede weight gain',\n",
              " 'w two kid second child born sufer almost daili tension migrain headach want tri mirena solut birth control posibl help headach month headach slightli beter notic side efect lb weight gain increas discharg longer period cramp sex exercis',\n",
              " 'updat skin initiali clear first wek next wek horibl lot breakout first wek skin red pain dri pele al suden everyth went away acn minim almost complet gone litl month skin fel hydrat great product',\n",
              " 'year old freshman high schol broke sever acn literali one wek skin went perfectli clear larg acn blotch chek chin neck pain touch tri everyth arsen time monocyclin benzaclin finacea etc dermatologist recomend acutan side efect ridicul chape lip dri skin face joint pain month half treatment acn gone complet skin clearer everyday thereaft depres acn medicin chang life beter never nede use take anoth acn medic folow month treatment',\n",
              " 'mg xanax work perfectli panic atack fel one come take one mg pil take away longer run panic atack',\n",
              " 'medic amaz day extrem sick start fel amaz month hapi al time depres thought al kind block sad thought work perfectli',\n",
              " 'lileta insert novemb proce over bad also numb inject help much pain coupl cramp stope period thre month weird cramp kept fele stope around month everyth great notic cloth fite anymor gain pound despit month clean diet count calori frequent exercis also start lose hair wek ago began sprout chin hair make fel depres beyond frustrat remov day',\n",
              " 'work wel',\n",
              " 'recent refer endocrinologist start trulic jardianc tri take byeta past stop made sick lost weight throw al day efect weight lo method recomend taken one dose trulic mild nausea bad switch cofe gren tea morn reali help would recomend sugar level drope significantli drope gue one wek work wonder wait bit know trulic jardianc combo manag lose pound day',\n",
              " 'ben long term sufer chronic pain fibromyalgia scoliosi sciatica arthriti migrain chronic fatigu syndrom sinc start counter med move prescript motrin day trip render numer anti depres doctor began prescrib vicodin first work month noth went back doctor told proced put work longer month make long stori short ben m contin mg x two time day mg bedtim break thru pain oxycodon mg x two say life',\n",
              " 'diagnos adult onset diabet last dec start metformin almost imedi fast glucos drope ben sinc ben bother neuropathi month tri lyrica month absolut noth pain present take gabapentin mg bedtim help slightli cost lyrica money window',\n",
              " 'geniu psychiatrist start drug fal first wek felt even wors start take fluoxetin mani month drug eventuali take mg day manic thought amp episod psychiatrist decid bi polar start seroquel rather give break nervou system adjust natur state also end take month dose retrospect wish taken either fluoxetin prozac seroquel quetiapin',\n",
              " 'tok one mg help slep howev next day felt aw like id ben druge wake last al day wont take wife hand take everi night problem',\n",
              " 'first year nexplanon problem except first got interest bled month straight light everyth fine year decid get anoth one insert sinc major problem first one went downhil gain pound becam anxiou everyth mod began chang also sever pain ovari got ultrasound make sure cyst everyth normal continu sever pain finali decid get remov everyt ben god far pain mod beter lost weight',\n",
              " 'reali glad experienc none posibl side efect four wek notic mod gete beter thing hapen life dog surgeri break hair experi gone wrong abl deal got wors felt spiral downward anxieti shot way month number two switch lexapro hope help',\n",
              " 'wrote expir pil back start actuali work ben month let tel alreadi go doctor switch sure babi part efect eventuali end cramp gone away first start acn flare like nobodi buisn headach horibl daili ben sufer depres never motiv burst cri reason get angri charact disapoint hopefuli wil find beter option',\n",
              " 'implant month problem except real bad acn breakout alway sufer acn goten bad implant real bad breakout al chek chin first thought someth ate research found implant contain progesteron caus acn plane remov implant lok breakout implant',\n",
              " 'amp use mani birth control option begin patch go pil within year md rx loestrin year ago past year prove best far over health fewer skin breakout much lighter amp shorter period frequent donat blod iron defici anem beter sex drive husband love modin bad gain lb weight canot pinpoint directli pil chosen le healthi lifestyl past year neg pil stay day cycl breakthrough blede today md chang loestrin reason',\n",
              " 'got insert year ago arm hurt one day bruis literali forgot remain time period ever never pregnant weight gain conveni form birth control ever use may way bodi react got reinsert next year got bruis bad',\n",
              " 'ben take medic year god stream prescrib doctor empti blader fuli due blader muscl tone work great year due age alway make bathrom fast enough urin go stop take se difer reach bathrom let go ful blader',\n",
              " 'first al never ben smoker copd due chronic bronchiti develop asthma ben take product five yr iln due weather decreas dramaticali previous sufer pneumonia due worsen bronchiti least twice yr averag everi thre year due consist take year round',\n",
              " 'use cardura xl sever year regularli recent want new prescript move europ howev doctor product recomend altern tamsulosin pradif provid reliev urin especiali night block switch back remain cardura xl found equival product europ cale cardura cr perfect flow day night side efect',\n",
              " 'want say take lot anti depres med one besid side efect diarhea went away wk reali chang life recomend anyon tri med work',\n",
              " 'second mirena insert day ago pain pain last around second goe smothli seizur chosen mirena interact medicin form birth control caus seizur problem mirena afect skin although curent use medic acn year like insert forget year thing found inconveni partner abl fel string gyno said men even awar',\n",
              " 'absolut best birth control ever use switch nexplanon ortho evra think highli recomend let list reason weight lo lost lb one month without even tri back weight start birth control breast stil birth control size sex drive mine ben non exist sinc went nexplanon septemb stronger ever might downsid though think skin acn predict cycl nexplanon never knew go menstruat time non isu rememb everyday',\n",
              " 'receiv spinal inject seriou car acid ben left sever pain wil anyth reliev anytim get inject give propofol inject knock within second awak minut procedur minut readi get leav abl walk function normali absolut hangov side efect',\n",
              " 'open heart surgeri doubl mastectomi span year pain nerv pain time bio freze rol definit work pain unfortun literali burn chest want anyon go thank wel everyon',\n",
              " 'rheumatologist put plaquenil uctd two day later start migrain fit cri anxieti atack irit depres fele almost convuls doctor tok medicin slept hour gete diner go back bed medicin',\n",
              " 'omg swear paid person got bad back past use suce spend al money pound eat junk fod fast fod bread rice pasta al juic fruit n vege take belviq lost nearli lb wek',\n",
              " 'endo insist switch lantu tresiba quit stabl lantu humalog year said beter ben diabet almost year hesit switch listen first wek okay beter start fele breathl fatigu tok awhil realiz tresiba switch back lantu wek ago alreadi fele beter breathlesn fatigu blod sugar wors tresiba wil take bit straighten c reali listen gut new mean beter',\n",
              " 'drug caus persist nausea user per websit peopl goe away wek al initiali also itchi litl wepi went away wek histori unusuali nausea prone ie pregnanc experi may wind persist nausea group wil switch want chain zofran otherwis work fine altern paxil fewer side efect unfortun one side efect caus preti debilit case',\n",
              " 'one dose lupron go research one side efect horibl insomnia know everi singl chang bodi blame lupron endometriosi lupron basicali put state menopaus headach insomnia sweat mod swing bad first coupl wek stomach hurt think pick chose medicin respons state chemic menopaus',\n",
              " 'yr old kid never ben pregnant almost year pil doctor decid time thing difer insert pain first one tri faulti purchas anoth one right place extrem uncomfort even advis take mg motrin boyfriend bring doctor would recomend got home place heat pad lower abdomen slept hr woke felt like complet difer person ach pain back normal would highli recomend woman rememb love',\n",
              " 'ben take zanaflex year ben wonder ankylos spondyl fibromyalgia hard time slepe night zanaflex help slep kep muscl pain',\n",
              " 'agr major review itch burn much wors imedi aplic side efect acur state wast money wil never use',\n",
              " 'medicin noth al pain glad work',\n",
              " 'hi ben use product year complet satisfi skin super dri reali reali work use face clear tri everyth noth work except aczon expens totali worth give tri',\n",
              " 'sever blede larg clot last wek finali saw doctor gave mg day day stope blede day ago love medicin reali hungri often okay unsur wil hapen stop take',\n",
              " 'ben take latuda mg day even month bipolar ben variou med throughout life depres start postpartum child child lexapro depresrion quit sometim sem run cours oh diagnos m ad piec puzel far latuda mix fele sem help focu cognit defici could m relat depres stil cri time stay head long sem agit child ativan help anxieti nede wil se psych tomorow discu',\n",
              " 'ben qysmia wek want wait wek give review slow metabol lose much first two wek upon take weight start lost lb wek cardio apetit supres dri mouth drink lot water tingl almost numbn fet time goe away shortli medic cover fre trial expens prepar gue cheaper weight lo surgeri magic pil neither like pil must eat right exercis lose weight wel take anyway',\n",
              " 'ben two month start mg work right bodi got use go wek mg wek alright time give time se next step se surgeri gastrointestin doctor say surgeri fix year constip take medic problem strain much year',\n",
              " 'much beter cream',\n",
              " 'prompt write read neg review god wish would work everyon ben around month first scan promis bone metastasi new spot previou lesion apear smaler go next scan wek fortun side efect neutrophil wil dip ye tire time el new know experienc teribl side efect want chime say everyon experi take spirulina pil sem help get neutrophil candid ibranc count lucki tri',\n",
              " 'ben victorza day bad nausea migran chang energi al slep til non one day young kid ful time job search beter answer',\n",
              " 'ben reclipsen month pro lighter period stomach cramp acn babi con mod swing teribl back pain period lower sex drive weight gain alreadi activ',\n",
              " 'f welbutrin sr mg twice day amp fel much beter tri mani difer snri past year amp al made extrem suicid thought kind given hope find someth work new psychiatrist recomend tri welbutrin first wek rough bluri vision shake amp extrem light sensit neg side efect went away wek month amp mod significantli increas amaz depres worsen significantli winter fel optimist futur sex drive beter energi amp focus fibromyalgia wel huge quit smoke',\n",
              " 'year old white male god shape alway high blod presur gues genet blod presur would run anywher doctor tri diuret noth beta blocker horibl side efect finali tri mg lisinopril wow great almost imedi brought blod presur actuali cut dose mg morn mg lunch blod presur stay perfect al day night side efect whatsoev even know take medic lower blod presur highli recomend',\n",
              " 'think notic first even realiz pil caus pil gave teribl headach day period hungri modi period period light plu stand headach fel like sinu infect take advil non stop help worth would love cramp instead headach',\n",
              " 'ben take jardianc year experienc side efect whatsoev importantli drug reduc blod sugar level averag maintain level quit incred noth el work previous name jardianc quot diabet wonder drug quot although doctor kep remind thing wonder drug disagr wonder drug thank jardianc chang life complet astonish result',\n",
              " 'take al type pain med naproxen last hour cramp come back tok one made cramp wors like forget naproxen one pil jack',\n",
              " 'sever vomit diarhoea day caus clarythromycin treat dehydr hospit clarythormycin replac doxycyclin problem sinc',\n",
              " 'love mirena due februari take year bother al get insert preti easi minor cramp got goten pregnant daughter got knew boyfriend readi anoth child top moment got period hel got period month insert ever sinc ben smoth ride period sinc definit goten pregnant gue true say everybodi take difer come februari plan gete anoth year one hapi custom',\n",
              " 'first atrial fibril crisi moth ago cardiovert doctor put metoprolol sucin er mg first month metoprolol tartrat mg',\n",
              " 'opoid chronic back pain use miralax metamucil bowel movement iregular felt like empti back tri mg empti stomach pm yesterday first time start cramp cale doc ade supositori twenti minut later masiv bm minut none morn woke withdraw cold nausea abdomin cramp horibl pain fele lousi od last pain med dose six hour get withdraw quickli morn pain med fix withdraw stil signific pain pm second pain med dose sem decreas pain reduc efect opiod',\n",
              " 'chang life complet actuali function social sete',\n",
              " 'got skyla insert month ago day last period insert uncomfort bad al sever cramp first wek insert manag ibuprofen ben spote sinc insert one wek without start period last wek ben light almost like spote anoy usuali day period go day hope spote stop son stop wear pad god luck al tri',\n",
              " 'receiv month shot two wek ago stop heavi menstrual blede prepar hysterectomi next month period start blede extrem usual relief blod pain drug experi hot flash minor headach minor night sweat nausea moder pain uper right back area wil se doctor later wek get check know earli proce disapoint tok know side efect wile go along get blede control build iron store',\n",
              " 'year old alway preti regular period mise period last month imedi went dr make sure everyth okay confirm probabl stre due numer isu list prescrib provera mg day day said would make period day next period bad day slep hour day got extrem weak slep al cramp start rapidli day tear al pain presur lower stomach back day get heat pad apetit face broken red blotch bloat fel huge mod teribl wil take anoth pil ever',\n",
              " 'pil work decid share experi unprotect sex search like crazi find solut firstli unprotect sex august th next day swear extrem anxiou nervou die tok ela hour day decid could wait stope wori becam comfort wait period finali came wek late know strugl panic pil efect dont get pregrant imidietli rememb alway protect sex case dont ela x',\n",
              " 'prescrib benzonat today third time last year wick sinu infect hack cough everi time ben prescrib benzonat god atitud quot mayb time wil work quot everi time use felt like given placebo mistak side efect al never work work today either stil hack',\n",
              " 'brief review due charact limit insert feb remov feb insert numb painl wek great arm pain wek year one constant light blede pantylin al year long year two sporad light period last month wek time period year thre sporad heavi moder period last wek avg wek period end year last month prescrib pil bc top nexplanon gt regul period wek w pil hormon period wek hormon period bad acn b c much hormon tl dr long read sporad long last period period bc work intend remov earlier b c insur remov switch pil bc',\n",
              " 'uti went kidney infect put bactrim notic side efect day later start fele depres got wors end hospit worst headach life shake throw even think anyth bactrim depres got bad end psychiatr hospit idea fele like far worst fele world came home went se therapist told go imedi ask medicin put told said lok side efect sure enough everyth list',\n",
              " 'migrain medicin ever work insur compani wil cover gue wil pay work god',\n",
              " 'stay away medic st day use impres day later rebound face burn like hel wait like day apli se hapen lost sensat lip got swolen hour rebound got wors like two wek skin stope burn stil understand product aprov fda',\n",
              " 'time ben lexapro mild side efect like yawn insomnia reali bad point slepe five hour say calm got ful efect gete back old self',\n",
              " 'dulera work preti wel ned use rescu inhal often one main downsid continu caus sinuiti caus migrain alway bad problem sinus defin reconsid continu use product',\n",
              " 'ben metoprolol er mg sinc septemb th first month great octob st rest heart rate went walk sudenli goe reason work day wek make senc go back doctor tomorow figur se al suden would make thing x wors take today se would help abl exersic without heart rate sky rocket ridicul number first medic like ever taken plu weight gain ridicul lost lb start medic le month gain al back',\n",
              " 'ben medic day day night sweat longer sever to comfort night opos mani time day sweat longer embaras e g talk cowork would without warn began get warm hot dripe sweat includ hair mod swing gone back normal love',\n",
              " 'medic journal compar triglycerid level read stager triglycerid level pancrea inflam c spent day hospit month later triglycerid estim c level ben insulin wek wek got hospit gemfibrozil job like insulin im take self gemfibrozil way mani side efect experienc dizin preti much al day proper diet excercis help conquer medic condit hopefuli everyon',\n",
              " 'start depakot mg straight year old sinc ben taken stil pay price made hungri constantli gain total pound month energi al fele hapi thought sad thought literali zombi stil se new doctor switch med al time enough noth work one help reali ned help find anywher',\n",
              " 'first start use axiron burn minut afriad would rest life nope two wek later burn stope tri testim androgel hate mesi aplic fear spread niec goe arm love worth extra dolar insur recomend',\n",
              " 'zomig get rid migrain knock take one dose slep hour afterward headach gone joint ach muscl tender touch',\n",
              " 'today first day take vyvans wow usuali sad fele want talk anyon year old coleg student today actuali made two new friend cla went lunch fel like walk rom confid bad thing mild headach around pm wore last around hour dri mouth mg dose great thing actuali felt like cla today tok page note sat front cla afraid ask question hapi found vyvans pay atent much easier highli recomend peopl ad',\n",
              " 'got st depo inject midl june start blede midl juli stop one wek nd inject one wek prior date nd inject due start blede like period blede stope part get litl bit trace noth notic two month blede worth make monthli delight end',\n",
              " 'product god problem yeast due period eat starchi product product work rapidli recomend product',\n",
              " 'began se posit result solodyn wek get ocasion zit noth like short month ago would definit recomend',\n",
              " 'wek fel litl confus morn side efect work fantast',\n",
              " 'start take jolivet month ago first al breastfed mom decreas milk supli woman suplement first babi within first month low supli low weight gain rd babi month old stil exclus breastf gain weight beautifuli alway afect milk supli taken difer bc pil alway sufer sever anxieti depres start period wori start anoth pil problem yet first month pil heavi period anoth one sinc preti hapi pil',\n",
              " 'yr old daughter ben deal medic yr gete readi surgeri ben wete bed night also gete blodi nose normal medic lost ned help babi idk doctor say think medic reali think',\n",
              " 'nexplanon implant sinc earli rare ever experienc spote mayb time whole time never period pregnanc scare due remov earli next year sinc wil year mark last wek start notic brown quot old blod quot intercours much point notic blod intercours pute moment l schedul apoint doctor son',\n",
              " 'year old ben take year year ago lb miser husband ben diet exercis past year half gain weight never lost finali went doctor folow symptom tire al time even hour slep mod swing efect relationship depres sadn reason cri weight gain inabl lose weight bad skin al symptom also peopl thyroid isu wel get thyroid test past wek normal read review bam gete imedi reali upset read soner',\n",
              " 'love alev make al lower back pain disapear fel like new person',\n",
              " 'tylenol codein work cough due bronchiti tok med prescrib two wek never work',\n",
              " 'suicid mani month self harm adit extrem anxieti taken prozac year earlier work al almost elimin depres fel hapier year downsid gain lb lowest weight consid healthi someon athlet despit clean eat exercis blown lb year noth sem get weight ben neg side efect chose mental health bodi imag although also eat disord bd',\n",
              " 'ben victoza day lost lb also ben folow low carb diet maintain g carb daili basi also work mildli time wek far fele great lot energi side efect nausea first day mild constip',\n",
              " 'drug efect except strang tast mouth stope take wek low dose wil go specialist son discu',\n",
              " 'first day use felt teribl sick folow day didnt even notic wear patch ben use fow two year wonder',\n",
              " 'birthcontrol teribl year old given sinc diagnos pco tok wek stope nd wek blede bad cramp clote wel asum bodi gete use got bad bloat point blader presur felt ful urgenc fele uti horibl depres anxieti wel anxiou depres person drove nut stope take tok day get system fel back normal zit wel beter al crazi stuf',\n",
              " 'father start treatment month ago viru blod low howev side efect teribl father fel wors treatment cognit problem problem speak lost interest everyth magnet reson brain found tumor probabl link medicin father transplant tri figur cant treatment solv tumor',\n",
              " 'work far would recomend anyon sufer depres',\n",
              " 'ben med two half wek alreadi lost eight pound start take contrav lose weight impos med make gain weight tend bing eat make healthi choic portion half use fel ful sometim notic bad side efect over efect medic ben great le depres motiv even light workout beter fel pump se cours treatment bring lose weight pricel fati liver diseas high blod presur back injuri al would lot beter lost weight far god',\n",
              " 'wil third wek pristiq mg far fele quit posit fre depres fele howev get god night slep tri one temazapam work wel third day build system make fel fatigu',\n",
              " 'save life say',\n",
              " 'like celebrex viox caus blod presur spurt along dizin weakn side efect danger take high would send blod presur within hour take',\n",
              " 'let tel read review worth stre sum bf unprotect sex feb pule sinc forgot bout precum claim nede take precaut take plan b bought pil tok aprox hr litl symptom first day litl fatigu apetit increas much research turn work either tok late alreadi taken bodi regul pil read senior high schol lot plan futur period came today mother list',\n",
              " 'implanon litl year noth problem heavi blede constantli sinc rd wek insert mayb like day al togeth ben wil say one nice thing rememb day ever wori chang',\n",
              " 'ben use mobic reliev pain spinal fusion march previous bextra discontinu find medic work god bextra',\n",
              " 'also taken evoxac year first ask opthomologist prescrib pilocarpin would tele se ent physcian felt mani side efect type drug get rx pilocarpin switch evoxac first could perceiv benefit drug tel dose everi eight hour worn also think sufer side efect drug',\n",
              " 'drug preti great depres howev seriou anxieti exacerb fel agit lot insati hunger caus gain pound also ben sexual side efect made sex litl chaleng',\n",
              " 'cale pharmaci today thing work asthma atack use breath machin ned recal',\n",
              " 'side efect light period rd month weight gain bit long period first month sinc ben perfect gripe new crazi expens month even health insur',\n",
              " 'prescrib gabapentin two year ago help night sweat coincidentali notic alway mild moder anxieti much calmer becam anxiou result problem crisi recent iln nausea lo apetit stope al medic wek anxieti went rof panic atack almost constantli sinc found stope gabapentin abruptli tok one mg last night fel like old self alreadi night slep wek insomnia think gabapentin work extrem wel side efect hope dr ever want stop take know gradual proce',\n",
              " 'best migrain medic fel difer individu ben suces complet abort migrain time type take repeat dose get result nede continu normal day',\n",
              " 'sever depres sinc ten ben antidepres mani year fortun benefici efect sever year efect treatment date ben combin welbutrin cymbalta tok combin ten year unfortun recent start slipe downward increas depres fele control prescrib fetzima transit cymbalta complet starter pack benefit increas energi dr increas doseag mg ben mg two wek never felt lack beter word crazi life ben ireti angri depres unreason fele',\n",
              " 'tok yaz litl year around age gain litl bit weight much extrem hard lose also experienc mod swing frequent sometim gete extrem upset fele ned cri reason stope take yaz start get extrem bad migrain headach headach would come frequent would say averag around day wek migrain run famili funi thing never experienc pil also noth would help headach tok everyth tylenol excedrin migrain noth help hope help god luck',\n",
              " 'found genit hsv month ago never sen sore bump kind experienc burn compar cut literali doctor found lesion vagin open loke like litl paper cut apar anyhow mg valtrex time daili start help wek weird nerv like sensat experienc al gone wek neg side efect fatigu take dose',\n",
              " 'ben wonder medicin absces teth ye hit one time pain within hour take could se big difer le pain decreas swele day pain swele',\n",
              " 'help pule hair stil anxieti',\n",
              " 'unprotect sex ejacul complet insid hour later tok pil fod water expect period wek day throughout whole time wait period absolut zero side afect reali reali wori wek tok finali got period never hapi much pain',\n",
              " 'help reliev pain temporarili worth use night help reliev pain abl slep',\n",
              " 'aw put one time treatment around pm intens itch burn sensat life bought antibiot take gave yi complet teribl want scratch vag never',\n",
              " 'ben vyvans almost year major symptom dri mouth preti much subsid lose lb quot weigh lb bad thing adhd start medicin almost almost reali great experi son ad daughter adhd test acept gift program year younger signific improv grade behavior would recomend',\n",
              " 'ben victoza le wek alreadi huge difer level prior victoza mg metform mg onglyza folow low carb diet brought level averag fast sinc victoza highest read far incred wait se wil next month focus weight lo moment hapen awesom concern sugar side efect mild nausea al',\n",
              " 'day take major anxieti slight depres mg daili anxieti lift fel much control calm side symptom slight whezi tire fele tok last night pm aslep pm first time year fel aslep without race thought wori',\n",
              " 'spinal cord injuri year year thing fel waist nerv pain reali bad fet neurontin take cymbalta togeth abl function nerv pain help cant take gener gabapentin',\n",
              " 'dr agr se pute qsymia watch devotedli pursu everyth el avail ben wek drope lb go al patienc world long se progr get tire miday laydown ten minut get get constip take probiot gumi sem help crave swet noth reali sound god plan start walk mile daili',\n",
              " 'year age ben sufer migrain sinc think tri everi medic avail uk maxalt thing ever work pain usuali gone minut tok maxalt could bed day role around agoni side efect tiredn strang make sneze son taken maxalt complet chang life fortun live uk get fre nation health prescript',\n",
              " 'start last night zero apetit posibl love fod reali fel like eat al today grape sandwich lunchbox apetit side efect far start dose quot pen quot reali easi use compar intramuscular testosteron howev drug ridicul expens even god insur would pay almost month fortun anoth seriou iln push pocket anual file script due polit may insur next year anyway far god victoza',\n",
              " 'wonder experi ziana acn medic dri skin use thought would never god experi acn medic ziana smoth moistur acn medic leav skin fele great coupl day redn swele acn went significantli se ever use anoth acn medic',\n",
              " 'ben take mg pristiq wek start take mg coupl day ago yr old ben antidepres yr tri mani sri lexapro sever yr never felt much beter al remain depres began tri acept life would finali month ago dr ofic began genet test guid medicin bodi wil respond best pristiq think mod lift somewhat reali hope wil improv even studi show ful benefit take wek',\n",
              " 'past use babi diaper rash time tri lot varieti destin nystatin neosporin none work tri past reali god',\n",
              " 'ben vibryd mg month major depres anxieti tok prozac felt like stope work vibryd work wel god day fel sedat posit function far side efect get upset stomach eat take tok right bed one time reali vivid nightmar tri take earli day mi dose fel withdraw prozac over efect care avoid side efect',\n",
              " 'ben wek serious notic difer year traumat event ben sufer quot sever depres quot alway pain alway ben tire anyth lay bed cri say hapi finali hapi rememb time ever like motiv activ enjoy life work quick howev mild headach everyday multipl nightmar everi night told wil subsid pricey reali think worth god luck everyon',\n",
              " 'ben take zoloft wek day panic atack gener anxieti disord wek felt like carel toward thing mater abl go work social day felt strang panic atack though day think might get sometim wait month l get ful efect zoloft hopefuli l back normal son',\n",
              " 'hapi take zanaflex originali put migrain major car acid tri put soma caus side efect went back zanaflex never loke back',\n",
              " 'tok pil acn birth control side efect peopl hair lo scalp big amount hair would come would shower realiz hapen previou birth control wel want note other precaut got extrem bloat medic flat tumi loke like pregnant pain anoy also gave back system never get got extrem nauseou modi heartburn anxieti depres pro breast grew cup size complain ben pil thre day al symptom gone',\n",
              " 'ben great medic made fel much beter take much one time upset stomach',\n",
              " 'went last year pmd like sever pm fine first month sure sudenli period wek long instead one also sever cramp start think isu might alreadi estrogen domin lack ovul made even wors ovul mean progesteron help period lighter also zero sex drive serious dish ben apeal late made mod isu improv though fel nearli depres take',\n",
              " 'finish first pack two day ago wil take begin fine symptom fele god ben month tel place recogn everi litl thing boyfriend get upset constantli cri paranoid never want get bed depres miser hope within next day l fel normal',\n",
              " 'strugl ad sinc grade schol although diagnos mother pute medic said strugl reali bad graduat amp ben almost ad adhd medic think kep short amp swet concerta amp focalin work hour turn horibl person around extrem mod swing agres agit reali easili anoy amp hostil doctor decid put ader xr mg tablet amp let tel save life last al day focus heart rate jump extrem like focalin actuali make relax amp enjoy around',\n",
              " 'lileta year insert bad noth handl sinc use aw cramp sinc remain around weight skin stay clear much lighter period use neg random spote previou birth control wel highli recomend lileta',\n",
              " 'stuf teribl burn badli thought could wait spent two hour bed read review made fel beter slepe go tri push probabl spend night ice pack betwen leg ask diflucan tomorow worth expens al around bad dont use havet yet',\n",
              " 'bydureon month reali notic lo apetit lost swet toth weight came blod sugar level drope reali hapi medicin known side efect start show nausea hapen aprox wek fourth wek take medicin bloat indigest lot pase wind acidi burp also felt bump itchi fele around inject area whenev inject sort side efect would reali fantast peopl type diabet reali reluct stop horibl nausea beat',\n",
              " 'tok day wek compres fractur help constant arthriti lower back also tok year ago know gener name asoci vicodin shingl noth short heroin elimin shingl pain preti god job without sign physic depend wil request continu prescript arthriti',\n",
              " 'ocd anxieti adhd also pick cuticl everyday ofici name dermatilomania close relat pule hair ben pick cuticl year never ben time pick degr tri hide frequent make bled take mg welbutrin xl mg paxil cute pil daili start paxil almost month ago anxieti help lot anxieti even incred cuticl almost perfect one tini blemish nail long time loke like sinc start year old plea hide finger',\n",
              " 'year batl ib prescrib efexor xr problem chang gener mise dose name brand could take next dose gener mise would aw withdraw one manufactur zydu mg last hour found manufactur grenston wil last hour curent pharmaci make sure avail pharmaci abl get certain manufactur ben abl live normal life medic efexor xr gener grenston ib stre anxieti never know would hit thank',\n",
              " 'tri sampl dr sent home gave worst stomach ach life go bathrom anymor normali hate medic made fel much wors',\n",
              " 'tok bontril mg month start lb went buy new cloth size depres start bontril mg noth bump stop drink cold drink water even drink tea ate high protein diet bef jerki chese yogurt told calori felt impos exercis first month slack second lost pound total month gain apetit back got al way pound medicin absolut amaz ben year start gain weight back due depo shot wil definalti go back bont',\n",
              " 'thyroid suplement reali hard stomach amp rsquo take long found lactos levothroid rsquo lactos intoler digest problem would highli recomend tri levothroid go year il efect',\n",
              " 'previous gener onset symptom name brand stil transit aptiom efect control symptom hope name brand work',\n",
              " 'start take doxci mg day acn year old femal never acn ten age okay began pil got wors got beter tok month wek se improv til like th wek use derm prescrib doxci mg twice day much beter along tretinoin cream everi night help much one big tip give guy stre acn know hard strese wil make wors think one day wil go away ben day new prescrib doxci finali acn',\n",
              " 'start adipex p mg march th militari singl mom two work go schol ful time hard work everyday even though supos never reali troubl lose weight start work night shift may would eat one meal day sinc late gain weight weigh lb put pil first day tok right doctor apoint pm eaten one piec ham bought salad tok pil tri eat got home urg want eat wednesday lost lb alreadi',\n",
              " 'within wek saw blod glucos half god level sen year literali major side efect felt sick twice within day two first dose apart al ok inject fati tisu stomach hardli pain wel design devic nedl almost painl would recomend gone max oral med ned extra help reali magic bulet handl wekli inject daili much imho',\n",
              " 'tok five month lost pound love stop cover insur could longer handl month would definit love know medic pil supres apetit could take alon would take could aford',\n",
              " 'quickest relief ever antibiot alway give yeast infect vagin cream slow yucki fluconazol work quickli complet',\n",
              " 'like go slep litl kid tire bed felt delici',\n",
              " 'state take contrav wek ago lost lb far rsquo fel hungri eat x day low carb protein fiber drink plenti water sometim fel nauseou rsquo like take medic tri continu take sem like rsquo work read review confid rsquo ben think major side efect contrav one report far god luck everyon weight lo journey',\n",
              " 'like lip loke like sandpap month life otherwis work',\n",
              " 'work great back pain non narcot fel wozi',\n",
              " 'ben type diabet yr tri victoza may today sept th lost pound metformin day c great side efect minim mainli sour stomach control mostli diet low starch fod help alot glad tri newer med found victoza',\n",
              " 'frustrat lack efectiven medic ben given condit includ elidel stil experienc extrem itchin oze pele crack skin year area bodi afect condit pain unsightli',\n",
              " 'med help take edg enough pain toler take hcl mg one everi hour compar hydrocodon much beter faster relief care take',\n",
              " 'ben birth control due horend cramp exces heavi cycl alway ben anti kid ladi hey work end switch nuva ring love mirena go complain pain al difer honest reali teribl litl discomfort mirena litl year gain pound chang diet absolut energi anyth work go schol ful time recent mari sex drive first mirena god send period pil hasl wori count day evil thing gone',\n",
              " 'use monistat day far ok first fel litl uncomfort minut goe away sen everyon bad result one day thre day mayb stronger seven day hope seven day work god today first day use wish aplic litl comfort',\n",
              " 'start take bc pil month wek ago first got nauseou start gete migrain intens depres horibl emot stupid thing got second pack tok pm woke felt fine around felt bad weak move sweat cold arm went numb felt like hang wors eye hurt also gete pil gete switch difer kind first bc pil ever use',\n",
              " 'reali help rl al life rl wors yr ben almost year believ may gete side efect late tire sem think straight sometim realiz could thing go talk doctor next visit god send slept night',\n",
              " 'first al start take birth control start regul lighten period tok yaz year problem turn insur drope went woman clinic given six month ortho ben take four month pack gone done side efect horibl drive sex modi cri constantli period heavi unpredict also last forev goten pregnant use condom wel though plu relationship stake pil',\n",
              " 'year old prior start pump daili andro gel month ago level low energi almost sex drive plu often could maintain erect coupl wek big turnaround god erect libido age notic bit agres rd month thing went downhil thing back preti much andro gel present await result test se level stand',\n",
              " 'face clear gain pound vomit iregular mod swing also period precis bad thing super decreas limbo care anymor sem',\n",
              " 'al side efect',\n",
              " 'slow steadi definit win race skeptic go birth control fix ongo acn batl especiali sinc sexuali activ ben month grate acn clear expect closer next pack hard patient month wonder would work hapi first notic swele tendern chest subsid wek bodi got bit use pound weight gain sinc come may ben water weight',\n",
              " 'although think might kidney stone instead uti due vast amount blod urin pain urin side efect nausea say actuali help symptom stil side beli pain day one person might one side efect alerg reaction mean next person wil everyon bodi difer work one person might work',\n",
              " 'ben take metronidazol day day stil agoni tri mani painkil noth help right side face agoni eat drink anyth hot cold cold air hurt gum also anyon advic',\n",
              " 'worst experi medic go lithium gave hypothyroid diabet insipidu geodon replac given geodon lowest dose two wek okay experienc bit random anxieti dose upe panic atack life within hr sever day later er suicid thought first time year far gener efectiven goe dosag increas sent everyth haywir got depres right away totali lithium reali help anyway suicid thought anxieti gone within hr stope take',\n",
              " 'ben sufer teribl alergi due hay fever alergi caus horibl headach doctor gave prescript butalbit fioricet help much take excedrin migrain howev kepe night everyon sufer must tri inexpens compar migrain medic',\n",
              " 'one thing learn avoid dairi product much fat wek day period help lot reduc bloat cramp stil use medic control cramp dairi make huge difer',\n",
              " 'rate definit perfect birth control method howev enjoy like depo provera shot get everi month great wori birth control betwen shot swalow insert anyth wori take time also stop period number reason love number reason efect prevent pregnanc got first depo provera shot stop period kept blede spote told would eventuali go away nd rd shot bother',\n",
              " 'diagnos idiopath hypersomnia month fale aslep day earli night much afect life make fel overwhelm unabl complet normal person abl put nuvigil hour take first pil began fel jiteri last coupl hour fele left got migrain migrain last day day felt absolut awesom slept fine night ampl energi get day next day felt tire drage last day tire depres cri al day medic',\n",
              " 'avelox promptli clear bronchiti sinus ankl swolen could wear lose fite housesho day treatment time made fel jiteri caus abdomin cramp',\n",
              " 'best pain medic ben start one cheapest long act major problem destroy teth make fel high normal howev dificult medic stop take would give methadon treatment especiali suboxon',\n",
              " 'love celebrex degen disk diseas bulg disk degen hip doctor tri learn toler ibupropen day ben beter far daili pain thing exercis could due pain take homeopath anti inflamatori suplement wel year old photograph pilat student teacher live pain year wonder relief',\n",
              " 'drug phenomen migrain long catch earli',\n",
              " 'prescrib headach eye irit alergi ben take month improv chang symptom dr ofic said take day help symptom pharmacist said take wek build system gener cheap month chang know med work mi diagnosi',\n",
              " 'disgust tast made sick retail price threw away',\n",
              " 'year old pound sever paranoia stimul welbutrin cafein wel nowher el turn start stratera mg twice day efect first hour felt manic ish slep patern disrupt cola color urin stain toilet bowl flush smoke desir enhanc wek later dosag focus use togeth ocasionali anti psychot anti anxieti panic atack manicn paranoia begin ocur studi time increas comprehens enhanc distract minim recomend medicin mg side efect stimul',\n",
              " 'ben lexapro sever year say initi side efect overwhelm stick wil help u train overcom sexual side efect weight gain control proper exercis diet activ person remind hit gym sever time wek wil greatli posit afect mod wel pretend like choic go also plea rememb quot magic pil quot take respons hapin includ lot take antidepres hope help',\n",
              " 'okay pneumonia viral left post viral bacteri bronchiti infect ben given doxycyclin sandoz tablet taken six tablet doctor also notic also quiet sever acn scare explain medicin said skin start clear let know get experi far amaz reason one break first day brought ugli big pimpl left bruis day later almost gone face sore top daili routin sometim take bio zinic tablet dep cleanser niva real u cream afect area clean face day wek',\n",
              " 'taken lot medic prescrib latuda wasnt god experi even sit watch movi without fele jiteri nede go bed time leg restl slep would lay bed kick leg non stop l never take',\n",
              " 'ben anastozol year half tamoxifen year gone menopaus fit year old alway horibl tast mouth strugl get walk especiali bed joint pain strugl grip lost stere whel wek nearli shot road fuzi head hot sweat think made decis come hope best',\n",
              " 'start linz age yr ago go bathrom everi wek eventuali lax necesari stil go mayb time month experienc sever stomach pain left bed hour time daili eventuali end er within hour start linz went bathrom ye first day diarhea within first wek regular bowel movement ben day sinc stomach pain disapear huge ga ye al time diarhea take late day increas hunger ye obvious stomach empti worth bilion percent',\n",
              " 'wil personali atest year ago tenag came home schol one day teribl sore throat squirt quit bit chlorasept throat swalow within hour fel describ al year later coma like state awaren god major rest wek finali began come state day later never discus doctor chalk freak natur without doubt asur phenol ingredi caus neg reaction swalow chlorasept',\n",
              " 'ben nexplanon year half decid go form bc forget pil option honestli ben one frustrat experi ever first got insert arm notic period practicali everyday went month went back gynecologist said complet normal stop wel al everyday spote goten point wear tampon everi day everi time sex alway blod everywher hard explain alway period partner made self consciou',\n",
              " 'prescrib via psychiatrist sever panic atack year take dosag late forget take withdraw symptom kick gnaw physic pain breathlesn disorient time dificulti word find speak sever muscl pain stifn nausea labil emot panic',\n",
              " 'ben pute colonoscopi year due fear prep despit fact mother colon cancer put longer say suprep great folow doctor kit instruct exactli work within min dose done use bathrom within hour tip eat lightli day prior eat mainli soft fod hydrat sever day prior also make sure get lot extra fluid electrolyt drink much right dose get al solut water comfort drink much fluid betwen dose stay hydrat relax posit atitud goe along way would definit use product',\n",
              " 'ben durages patch mcg everi day litl year chronic pain due fail lumbar fusion surgeri go patch take loritab day tore gastrointestin system apart patch godsend norco break med usuali take get litl activ reason rate side efect sweat constip wors gain beat easi',\n",
              " 'sufer anxieti depres month side efect tok citalopram prozac worsen side efect finali doctor gave mirtazapin almost overnight seme improv first ful slep month felt like eat slowli cours wek al side efect left within wek le medicin month later lead old life sufer slep lost apetit due anxieti give go god luck',\n",
              " 'ben torment anxieti sinc childhod year old ben lot life ben diagnos depres bipolar disord anxieti panic atack ad ben medic life wel anxieti got bad high schol home schole wake morn fele like heart wil explod apar reason get intens irat fear intens impuls harm take get frustrat start throw break thing stand alon lot time xanax work fast calm without knock depend sever atack take mg le mg',\n",
              " 'work wek stope',\n",
              " 'ok girl read scare u think ur pregnant understand plan b sadli unprotect sex bf birth control stupid stil scare even tho cum insid tok plan b anyway wek sex unprotect time cume insid scare even tho birth control tok plan b hour later aw side afect dizin nauseou headach ben kile wek supos get period last night night start gete reali scare tonight finali got big relief plan b work wori',\n",
              " 'stope symptom heartburn reflux imedi complet side efect wonder pil',\n",
              " 'start take saxenda april th side efect nausea headach even hope subsid longer ben lost lb amaz acomplish ben abl lose lb mater diet tri get ful fast eat use eat meal slepe great experienc great deal fatigu especiali late afternon even wil continu hope weight lo continu doctor gave month sampl wast money agr',\n",
              " 'medic briliant complet got rid depres social phobia take mg day sri reali work lay bed al day think suicid death start nardil life complet chang thank godn medic',\n",
              " 'medic help pain increas apetit end hospit side efect includ iregular heart rate low potasium level',\n",
              " 'femal last night tok first pil hep c sinc loke pil long time tok sem god true afraid side efect stil morn stil fel ever would nice continu way wil make treatment wil get cure',\n",
              " 'break neck back car acid given mg oxycontin mg oxycodon ir per day period month efectiven decreas introduc opana work x beter without euphor fele major due cost switch opana er x mg per day gener oxymorphon x mg per day although gener last long opana brand take x per day everi hour work wel rare level pain use take medicin could take everi think would ned take mani ir pil',\n",
              " 'work ben mg day four month one mg one mg patch testosteron slightli patch today right',\n",
              " 'get headach often bad take excedrin gone minut',\n",
              " 'bad one point anxiey depres ocd al work togeth horibl disgust thought ocd drive constant panic atack anxieti rof drove stay dor avoid triger push dep dep depres ben zoloft month low dose mg fel much beter abl go get job excel got thre rais month felt bit anxieti ocd poke may ned rais dose al med chang life far rut give regain life back',\n",
              " 'alerg antibiot includ amoxicilin erythromycin upon reach th month pregnanc famili al came bronchiti unfortun caught wel doctor prescrib z pack within hour felt tremend beter say lot consid much pain could hardli even function tok away bodi ach hot cold sweat fever supres cough antibiot abl z pack alway wil first choic never ceas amaz quickli efect work whole famili swear highli recomend two thumb ocasion side efect worth',\n",
              " 'larg pedunctul fibroid tumor uteru shot administ found fibroid got larger month partial hysterectomi remov could sit drive sex without uncomfort blede everi side efect miser extrem hair lo thine stil tri grow back drug work ben year',\n",
              " 'year old kid got aubra birth control pil plane parenthod first wek fantast second wek notic acn rash forehead end second wek spread al face chest',\n",
              " 'tri patch ring sever pil recomend levora doctor made flow lighter period shorter sensit difer birth control doctor said probabl adit went plane parenthod levora cari exact brand time gave chateal tri problem pil clinic adit sometim worth pay name brand pharmaci get discount card make le expens wori tri anoth brand point',\n",
              " 'month first period implanon wk later expect last wk long sinc al period come within wk would expect period ben shorter length wel lighter usuali day blede reali notic day spote lok forward day day spote le far side efect go mayb one bad headach everi month notic weight gain recent probabl due holiday implanon lot acn especiali chest despit neg like',\n",
              " 'iud insert august cramp initiali hour insert start fele cramp noth advil warm towel didnt help period iud maximum day light iud period day long heavi blede day super tampon pad could help over satisfi product everyon bodi difer let other review turn away give product shot doesnt work could alway remov',\n",
              " 'given levaquin urinari tract infect first tri bactrim work reali wori use levaquin read alot bad review howev efect felt spedi first day tok subsequ day problem made sure take morn afect slep cure infect wonderfuli upset stomach yeast infect efect thre month later got anoth urinari tract infect levaquin trick reali like antibiot',\n",
              " 'originali prescrib someth el somehow got switch guild fe bad gete headach everyday insur sent blisovi fe sinc ben take blisovi period increas length cramp intens heavin blede includ clot im hungri almost al time bra longer fit complet size pil thing pil efect kepe gete pregnant scare get pregnant never mise pil tok time everyday told make efect switch iud son canot kep take dif bc brand without warn',\n",
              " 'nausea rd day disorient dizin th day nervousn shakin day kil bacteria wel though',\n",
              " 'ben wek lose pound side efect apetit gue god thing l kep litl longer se l work point litl discourag',\n",
              " 'medicin work great counter sinus breath beter one dose side efect almost unbear nausea dizin headach lighthead dri mouth constip dizin lightheadedn kick hour take pil last hour dificult function normali tri work take medicin',\n",
              " 'although love fact drug alow fewer period howev afect extrem mod swing decreas sex drive personailti apetit astronom',\n",
              " 'type diabet high blod sugar level use sufer yeast infect least twice year friend told acidophilu pil forev grate take mouth coupl time month prevent yeast infect ever fel one come generali fel kind irit wil break pil half wet bit comfort insert afect area definit ned get comfort worth complet break might come back coupl day work take mani mouth gave litl bloat ga l take pain infect hope help',\n",
              " 'start medicin day ago pound alreadi curb apetit snack eat like use also notic energi kep move throughout day want walk get home far god also fel focus think energi help bost metabol',\n",
              " 'diagnos pco start take metformin serious late also prediabet jump start desir serious lose weight canot speak blod sugar level recheck goten cycl back also signific amount weight lose first definit experi upset stomach preti intens diarhea howev sem hapen watch carb sugar intak eat sensibl litl isu side efect depart lose weight move hope one day ned medic anymor',\n",
              " 'symptom bv went doctor found yeast infect use cream day day dosag major reaction bad vagin pain could bare slep went back doctor say reaction posibl herp pain isu anyth cream posibl herp wait result pray fact reaction horibl cream',\n",
              " 'helo al share want reasur everyon drug job extrem wel recent gone pil sex month due long term partner split decid get back togeth sex howev unprotect sperm go insid almost posit fertil day day later take plan b pregnant tok within two hour unprotect sex lot breast tendern swele mod swing right experienc heavi cramp want ea peopl mind medicin highli efect reliev readi bab',\n",
              " 'never side efect medic apart ocasion spote switch due one cari move over hapi product',\n",
              " 'mirena thre month insert pain measur uteru smal girl pound could pain cramp day heat pilow solv zero spote insert period sinc though chest grown one size noth complain blemish start apear waist becom curvi sex drive intens altogeth absolut love',\n",
              " 'second time tri saphri throughout first experi work great sever depres caus gain pound short time frame increas weight acept batl bulimia wel second time around year later high hope medic virtuali wipe depres past take precautionari measur ade efexor medic regimen help counteract side efect increas hunger weight gain efexor help decreas apetit howev antidepres efect nearli strong reason may even worsen depres symptom',\n",
              " 'prescrib augmfnyin twice day sever sinu infect two pil one day could se light end dark stufi congest tunel began fele much beter almost imedi side efect almost subway hapen antibiot got yeast infect doctor told comon antibiot job kil bacteria al whether god bad includ bacteri naturali ocur normal vagin tract doctor usuali prescrib someth yeast infect taken fod side efect fel much beter amaz quickli work miser day hapi',\n",
              " 'half year never period got januari stil today period ben month',\n",
              " 'medicin extrem horibl experi doctor prescrib anxieti day one sent edg felt anxieti atack medic made fel fifti time wors felt like drank milion miligram cofe pin nedl hour read review hate afect major hate anxieti se take anoth one pil ever',\n",
              " 'peopl wori take tamiflu vomit wors symptom ned wori vomit doctor prescrib lesen chanc basicali extermin chanc vomit snack meal fel thing wil fel like take regular medicin',\n",
              " 'ben reluctantli two year first work tri other went back originali mg sex drive extrem tiredn cut half deal mild thought ocur neg sex drive modest normal mg slight everyth abl function think problem instead react horibl',\n",
              " 'take trazodon help balanc efect cymbalta slep help depres experi ben wonder help fal aslep slep restfuli togeth cymbalta trazodon complet erad depres',\n",
              " 'use parasomnia bph bp kind silver bulet new doc tri give brand name extend releas much expens take night dizin hasnt ben isu sem work wel bph med tri bp also ben reason sem make slepwalk infrequ tri',\n",
              " 'husband test posit flu nd day symptom dr prescrib tamiflu sinc slept bed sick one day later start fel symptom wel ach chil amp fever imedi start tamiflu amp comis ful day tamiflu amaz start earli enough',\n",
              " 'thyroid remov year ago ben variou suplement sinc synthroid levothyroxin tirosint continu complain fatigu fogin wt gain achin shortn breath exercis finali switch doctor indian doctor would tri armour new nurs practition loke lab high nonexist switch back synthroid decreas dosag ade first time cytomel within day notic huge difer hapi stil know time test fog lift energi level increas slepe wel hapi hope continu notic slight headach first bad wil continu cautious excit someth',\n",
              " 'medicin great daytim anxieti anxieti insomnia doctor give way much mg mg etc non manic patient much smaler dosag wil work use half tablet mg slep late use tablet one morn one afternon lower base anxieti level ned knock get relief anxieti',\n",
              " 'curent iud close four year march love warn though caus heavier period first month mine went thre day wek long wil cramp pain day never cramp begin new get first month best form birth control alway recomend ladi friend',\n",
              " 'tri gener version ciali mayb real thing would work beter noth except slight thicken peni would fine take drug recreationali actuali ned help regularli take kamagra gener viagra work viagra beter get away half dose use kamagra stil cost time much slight difer viagra swel peni litl posibl numb litl make last longer reli ciali would sex life efect must least inefect peopl mani peopl swear',\n",
              " 'ben nexplanon sinc non stop period sinc two wek insert',\n",
              " 'hideou fungu al toenail sinc age life chang sinc adolesc even today hiden toe sufer ridicul embaras question ben take drug mth write miracl big toenail clear beautifuli al nail beter tast impact minimali temporari liver function normal',\n",
              " 'headach',\n",
              " 'initi use info review litl dizi nausea first day far blod sugar read drope around c loke forward drope number next c read mid juli advers afect far quot anti spam quot verif ridicul',\n",
              " 'new gp ben recomend valium year chronic mid back facet joint paint intermit neck pain bad disk c c sciatica torn labrum right hip resist recomend chronic back pain flare everi night often wake forc bed take sever hour pain reced everi morn demor thre night ago start take mg valium bedtim morn awaken le le pain hardli take pain medic day finger crose continu take dose bedtim testimoni websit give hope might case halelujah',\n",
              " 'first implanon got nexplanon period first month one sinc due remov next year notic spote sometim day honestli usuali coincid strese weight gain also far best bc al year plan tri babi next year wil back',\n",
              " 'taken medicin year gain lot weight weight watcher diet lost lb far hapi mg bad restl leg reduc mg slep great hour intoler insomnia entir life wonder would hapen reduc mg also ade mg prozac daytim energi work great',\n",
              " 'binder made lactat god stomach dark blue pil work best',\n",
              " 'also kne pain shoulder pain elbow hand finger pain norco sem work best kne pain',\n",
              " 'ben orsythia month start second wek second month gue notic earlier start get slight headach fel wel physicali mentali help cramp period much acn beter worst part orsythia mod swing sweat sweat lot even cold l start light sweat gro mod swing worst start fele hapen talk one friend blew reason later start fel reali bad mentali cri figur cri recomend',\n",
              " 'receiv first lupron shot coupl wek ago past two wek notic pain bad often shot side mod swing hot flash thought wek start experienc side efect gue know next six month go rough way se ben sufer five year alreadi six month hel help make al go away opinion lupron shot worth',\n",
              " 'began take qsymia june one year later lost pound low dose experi side efect stil supres urg overeat use fitn pal track calori day menu sugar crave last wek diminish dosag time wek aproach mainten weight goal weight lo ben easi figur q help maintain lo',\n",
              " 'day use horibl itch prevent slepe itch tok wek discontinu use subsid',\n",
              " 'experi quit alarm never experienc reali harsh side efect depres suicid thought bad side efect ben take concerta ever sinc taken concerta actuali went hil lost lot friend control thought day dream mod swing perform job declin rapidli point almost lost got back concerta super hapi organ mind',\n",
              " 'ft lb ben ocela ish year originali yaz yasmin ocela came switch experi normal modi period noth new big decreas acn think switch stronger birth control even though ben ocela long love product think bodi ned chang medic becom litl irit first year nipl especiali tender period never hapen time chang over great product would like se decreas acn weight gain pregnanc scare depres modin part god older ten',\n",
              " 'function without year old turn life around thing gave heart palpit easili curabl lower dose take mg go tri mg much make stay age',\n",
              " 'drug work mildli wel stimul medic like ader unforton mildli bost concentr motiv sever increas anxieti heart rate tremor stimul medic actuali decreas natur tremor pupil alway dialat wel drug stimul like super cafein medic stimul',\n",
              " 'skyla insert never ever ben pregnant time insert insert pain insert pain last min slight pain day major bloat spote everi day month enough wear panti liner eventuali spote stope period iregular get one would bled day alway dark thick tisu bled sever cramp period randomli sever pain devic remov prevent pregnanc minim side efect prolong blede pain unpredict gete period made chose remov',\n",
              " 'ben strugl weight time decid speak internist se would give script someth would curb apetit swet amp fast fod prescrib contrav honestli never heard drug research amp read everyon coment honestli frighten mani side efect desper lose weight start first dose today tok pil around morn begin fel nauseat around non sinc sugest said drink water help nausea found ate saltin cracker nausea went away came slight headach fine god luck everyon',\n",
              " 'long stori short never ben abl take bcp caus dibilit side efect believ year tri mani difer birth control method includ combin pil al kind ring one would teribl nausea intract vomit eventuali migran first doctor told nede stick longer wel pul ten minut drive highway vomit way work decid anymor recent got new midwif sugest hapi ben wek absolut zero side efect cal crazi think libido mod actuali elev',\n",
              " 'got epiduo sumer th grade bc acn horibl noth seme clear went dermatologist gave epiduo facial wash time sumer clear skin although tok kick long consist everi night wil se result also use night cream bc made face dri use counter one work fine',\n",
              " 'wek wek treatment interferon ribavarin sovaldi nd time around treatment first interferon ribavirin victr relaps first time il entir month treatment sovaldi cake walk side efect minim compar last time il weak insomnia bone pain fever wek mean cure thank sovaldi hesit start treatment glad insur cover sovaldi cover difer per month thank',\n",
              " 'sufer low back pain surgeri spinal fusion wel procedur rod spine screw secur fail fusion ben norco two year tri go oxycodon percocet found norco much help switch back',\n",
              " 'istart take sertralin month ago due anxieti caus major life trauma problem work tipe edg felt like unabl smile fuction talk walk day horibl fele went doctor start treament side efect wek black cloud lift life cant tel briliant fel im generali hapi calm react anymor plan come medic al year old',\n",
              " 'work everi time',\n",
              " 'neg side efect wit birth control tri ten difer kind birth control pil tri depo al pil made emot me complaint depo gain weight period crazi emot',\n",
              " 'ben use depo year notic first year would spot lightli usuali got period cramp went away first year period preti much went away part howev ocasionali get spote last wek come random time past year recal hapen thre time stil beat gete reglar period taken away horibl cramp deal pil alway made sick mater brand tri anoth plu depo everyon difer everyon wil react difer',\n",
              " 'brachytherapi help pe much heavier stream stil fel like pe al time end',\n",
              " 'orthotricyclen reali clear skin new doctor decid switch bc trinesa ben gete typic one two chek never break forehead start trinesa trinesa horibl help acn',\n",
              " 'horibl side efect even hrt worth hot flash joint pain mod swing depres long term efect bone worth reali wish doctor would stop tri give harm endometriosi help excis skile surgeon wil last year plea stop gete doctor postpon proper treatment',\n",
              " 'got nexplanon august month nd son period septemb wek hate part octob period go take pregnanc test case hope birth control caus start yet love form birth control wil definit get hive stil get noth manag enough give bad rap',\n",
              " 'ben take seroquel mg year bipolar disord year take antidepres figur work reali bad manic episod would last day wek stay day time spend money extrem ocd anxieti mod swing spine control fail mother start therapi seroquel notic imedi difer manic episod insomnia gain weight first sinc lost cours year take ader day back coleg work ful time acount abl relax night famili',\n",
              " 'start use testim up down stunk like bad perfum chang androgel like smel dri reali wel level go backward think go back testim',\n",
              " 'alway get nausea vomit anesthesia even take anti nausea med given emend prior galblad remov woke absolut nausea work great',\n",
              " 'methylphenid chang life depres almost nonexist also stope dwele problem take mg methylphenid xr along mg efexor xr',\n",
              " 'like topamax becam paranoid anxiou sinc ben stil mild side efect god experi glad work',\n",
              " 'year old femal alway ben melanchol person given famili histori anxieti anger isu younger ben abl experi hapin got older two kid got wors would get angri sad drop hat would sink depres also becam dificult manag stre anxieti began se therapist sugest get physic primari care physician ask get prescript anti depres put mg lexapro first day light head grogi awar everi sensat bodi also thirsti wek felt benefit fel hapi',\n",
              " 'get cold sore outbreak mouth walk run nearest medic practition give prescript acyclovir usuali outbreak would last wek use counter cream medic mouth back normal day',\n",
              " 'sever bloat abdomin pain work get diarhea along cramp actuali think made constip',\n",
              " 'made jiteri could slep lost weight side efect bad doctor switch belviq se hapen insur coverag yet stil fight',\n",
              " 'third round orthovisc great fear pain inject wel got first round last monday first kne kiler kne use lidocain type medicin orthovisc easi peazi eager get back bike ride winter give choic stay indor grate orthovisc year suce although recomend wait year betwen treatment bad decis',\n",
              " 'hr old start take flomax bph complet block sinu ask someth difer urologist prescrib rapaflo block sinu even wors cost pil horibl medicin avoid al cost',\n",
              " 'ben ambien mani year stope work dr tri med far noth sem work ben elavil wek sem take sugar pil work wish work wel other',\n",
              " 'start medic gastroparesi month abl kep anyth notic help first two dose excit aw side efect start drowsin point function sever stomach back pain bowel isu stop day order abl take care famili disapoint',\n",
              " 'sufer gout coupl time year indomethacin drug choic combin omeprazol protect stomach although often make drowsi slightli upset stomach pain relief quick inflam would ea quickli alway continu take prescrib dose flare complet clear time came back vengen point indo efect colchicin instead hour efect relief pain agoni gp never thought pray new drug begin work son two night without slep kep take indomethacin everyth gone start anapurirnol asap',\n",
              " 'review insert goten paragard today never child iud prepar worst realiti second discomfort folow hour light cramp actual pain insert acompani blede',\n",
              " 'get motion sickn got day cruis ben fight nausea dizin wek doctor said normal sufer cruis read review went bought bonin tok one pil fel great sure wish research wek ago',\n",
              " 'ben heavi opiat user year year stay quot clean quot use soboxon got divorc becam depres relaps adict tok end use iv heroin point tri go back use soboxon stay clean impos tok overdos day treatment make decis get inject save life best drug world know peopl fear break bone sever pain long last opiat blocker paramed opiat narcot wil block vivitrol tel al doc paramed know fear never ben hapier',\n",
              " 'tok antibiot second time uti quantiti pil meant take cours day would prescrib pil th pil uti symptom never stope tok th pil imedi broke hive rash al bodi stope take antibiot rash violent itchi go emerg rom gave iv salin benadryl steriod help alerg reaction mani peopl alerg reaction antibiot want overdos plea beg research antibiot could life threaten',\n",
              " 'ben medic month experi one side efect much beter shot wil se later efect say',\n",
              " 'want share everyon given mediat year ago lot problem like fibromyalgia migrain depres insomnia ib c taken lot difer med al problem noth work first put medic mg could slep first time year wake morn refresh hapi notic month later migrain often normali would time went nede med increas take mg drug life saver fibromyalgia pain le migrain le anxieti way le also improv ib c symptom would recomend medic anyon problem',\n",
              " 'welbutrin significantli improv over concentr al el first time mani year ben abl actuali sit read content without mind wonder wish medic graduat univers grade would probabl ben much beter take combin cipralex side efect medic',\n",
              " 'thought shot would easi due fact take everi thre month compar pil take everyday shot work bodi ben blede month go back pil',\n",
              " 'usuali day without isu wel tri day boy itch irit super intens day merci l go back day futur lol',\n",
              " 'taken lamotrigin year ben efect graduali side efect review ben help thought problem creat sun humid alergi time sporadicali nausea chil lot itch scratch itch al skin turn bright red spread along itch itch horibl day mg increas al side efect plu sweat chil flu like symptom extrem strang dream nightmar side efect first start medicin start graduali think time lok difer medicin',\n",
              " 'ye efect birth control contracept side efect lo sex drive modin weight gain iregular menstrual cycl stope take pack pil end januari yet menstrual cycl someth right',\n",
              " 'spina bifida hydrocephalu complic intern bodi structur ben tire read side efect believ take nitrofurantoin whole caus thre day last day take drug resid england born insur nh patient',\n",
              " 'ben take klonopin mani year start weird fele like go die kept end er doctor kept tele anxieti understand anxieti would make fel way anxieti would kick literali thought die heart would race bodi would get tingl would fel chokingn scari stil tri mani mani anxieti medicin paxil efexor xanax lamict geodon mani none work way klonopin work klonopin fel safe get jiteri fele grate medic actuali work mi dose wil get sever anxieti panic atack',\n",
              " 'ben self medic year tramadol sufer anxieti panic atack depres take way much tramadol cope life spend money buy miracl drug work great point al slep dodg al thing social day alreadi fel pre depres return oh also take vistaril panic anxieri reali hit taken mg lexapro one mg vistir morn fel great give euphor fele tram much beter almost fel normal fel great alreadi imagin much beter l get',\n",
              " 'thre year period one everi six month left horibl cramp arm stil sometim hurt insert great think get birth control',\n",
              " 'wek pregnant end first uti prescrib macrobid alerg sulfa antibiot land hospit year back upon read review incred terifi take medic choic l consid lucki far found macrobid actuali quit toler ben bit tire achi usual mild nausea noth sever found take ful meal critic drink ton fluid water gatorad help side efect reali remind take review grain salt reali idea bodi wil react tri',\n",
              " 'tri brand first time previou option make drowsi back point thing robitusin done caus ga random bowel movement help intend propos',\n",
              " 'pro slep night amp apetit come back con al want eat swet amp eat normal prescrib mirtazapin psychiatrist wake everi thre hour night never gete true rest slep slep night nightmar anoth reason prescrib gain weight alway ben skini batl anorexia past recent due lack apetit lost pound alreadi pound much lose begin got apetit back fel like botoml pit want swet anyth fel like eat much start medic',\n",
              " 'migrain sinc yr old child sufer al time late fiorin answer help ben coupl other rememb name imitrex came work find relief even adit percocet maxalt came thank heaven mostli day per month learn quickli first sign slice pain imedi take maxalt within half hour gone ben fortun medicin coverag privat employ insur reason copay otherwis would afect abil suport take med per day interact',\n",
              " 'ortho tri cyclen lo month continu due side efect teribl hormon want eat everyth sight cri al time everyth made upset modi time quot lb made gain weight go lb troubl gete rid hope help',\n",
              " 'c normal rang lost lb al lab great due weight lo ben mcg year last c god last time doctor want decreas mcg ben sever dermatologist last year tri figur hair lo unhealthi hair chang textur never want atribut byeta although hair lo start month began take desper stop hair lo consid stope byeta decid would wors bald gain back pound would reali love know person recent post hair regrowth stope byeta',\n",
              " 'product work take ful month show ful efect truli one year longer acn al ever gone regular breakout sinc tenag age finali enough itchi lump bump sometim spot would come head time linger wek face lok dirti dul often felt sore either squez spot prescrib epiduo gp australia although initi redn soren pele skin quickli adjust first time sinc year old skin clear everyday al year round breakout wish given tri year ago',\n",
              " 'past year think sufer anxieti reali put finger thanksgiv day everyth fine hit rememb fele like futur dome concentr felt like complet lost like lose grasp everi aspect life cri thought lose saniti scariest thing ever experienc se doctor medicin prescrib either help mayb anxieti got best finali mom made go er gave celexa side efect preti bad stuck must say almost wek fele back',\n",
              " 'colaz complet rid al crohn symptom year sufer wori yr symptom fre ned kidney transplant wil stil abl use get flare',\n",
              " 'year old male diagnos ib c age product literatur linz say lax oper like lax take empti stomach work hour caus sort wateri stol mag cit finish trip rather doctor say mag cit wil caus kidney damag linz tok amitiza intermit year mcg time usuali similar result notion linz caus le cramp buildup calm colon sem like market jive wish came tablet could cut think standard dose strong',\n",
              " 'ben take plu year migrain use fiorin fiorin work side efect al',\n",
              " 'averag satisfi symptom continu',\n",
              " 'rsquo ben take yasmin year isu switch cheaper brand similar yasmin coupl month start get multipl blader infect switch back yasmin stil problem decreas libido',\n",
              " 'year amp month exact first month horibl iregular period amp alway felt like pregnant month went past period becam regular amp alway forget arm efect reali prevent pregnanc concern time come sen mani video hard come',\n",
              " 'start rd month contav curent lb notic chang apetit wek figur take diner eat le even eat use eat problem teribl coton mouth joli rancher becom best friend',\n",
              " 'born midl wi england post traumat stre disord also sexuali asault age yr came state age al went downhil major depres ben prozac mani mani year also ben take klonopin mani year given kind normal life use get tremor bad ambul peopl thought grand mal seizur atack stil get atack help klonopin actuali calm back normal state cal wonder medicin certainli help',\n",
              " 'quit god restoril dalman right',\n",
              " 'knew riski take antidepres given symptom troubl daili life nede help began take welbutrin xl mg first wek felt increas suicid thought tremor psychomotor agit felt like go die wek psychiatrist ade klonopin help control side efect sinc improv qualiti life al ask',\n",
              " 'tok lopresor year work wel lower blod presur even calm anxieti late work wel gue doctor wil chang',\n",
              " 'mani peopl unreason scare klonopin bad withdraw drama wel true pain proce get away klonopin stepe comfort zone want say would rather fel relax comfort strugl unecesari anxieti caus neurotransmit unbal medic truli gave fredom fear agit get back life',\n",
              " 'start medic stop take oral work wonder switch transderm shortli start patch constant dul headach thought mayb bodi nede adjust continu second wek headach continu joint start bother progres bodi ach fele like flu also stomach isu exces burp ga energi emotionali fele blah tok patch se symptom would improv overnight achi bodi gone stil mild headach stomach isu far medicin cheap even insur contact pharmaci se return day supli',\n",
              " 'year old mother readi give life start take mg lexapro eventuali increas mg ben take year half although stil deal side efect insomnia weight gain wake headach lexapro truli save life kind mother wife famili deserv',\n",
              " 'complet suport first review insomnia mani year tri everyth herb drug could help provid god rest night alreadi taken medic year mg enough get hour dream slep',\n",
              " 'ben birth control year ben great job thought id write review se mani write up gener version mylan ben brand name gener year switch gener price purpos ben least year start gener highschol reali uncomfort heavi day period also long term relationship coleg switch gener version chang side efect period rare get period pound weight gain atribut pil skin clear never got pregnant',\n",
              " 'stepson year old ben mg dosag abilifi year discov saw comerci studi involv autist child agres tendenc sinc behavior improv home schol side efect mention other weight gain say take activ role kid diet forc exercis wil ofset side efect stil reap benefit',\n",
              " 'drink lot water go everi morn like clock work due surgeri take pain kiler abl go day friend take regularli due celiac diseas caus lot stomach isu brought pack use told water key true tok one read review freak ned one tok pil pm two botl ml water start fel litl cramp amp light bodi ach bowel movement anoth one min later third hour later smoth clean bowel movement time drink water pil',\n",
              " 'great birth control heavi period doctor prescrib birth control pil sex husband one told stop period',\n",
              " 'start take sinu infect day thre sear ear pain gone totali facial swele gone acn reali improv reali funi tast mouth notic got beter drink lot water great experi over',\n",
              " 'pain al life fibromyalgia cymbalta work wel pain electr zape sensat howev much expens efect anxieti depres',\n",
              " 'best antibiot use never problem alway get rid problem',\n",
              " 'work great miracl smoke year ben smoke fre year',\n",
              " 'love nuvar much easier pil make fel safer lot harder me problem reali expens',\n",
              " 'ben use avian almost year would say side efect notic skin ben litl bit oili get day spote regular period doctor make switch ortho tri cycen lo hopefuli run problem even want switch love avian',\n",
              " 'th day dosag sinc day one take start vomit coupl hour dose ben like ever sinc vomit diarhea al day today start eat yogurt take recomend pharmacist help cut sever frequenc vomit diarhea elimin wait reach day done cale doctor thing said kep take admit hospit screw l deal stomach isu god luck prescrib tri yogurt help btw pepto wil make imedi puke tri take bactrim duno person experi bewar',\n",
              " 'prescrib treat sinu infect ben almost two day fel slightli beter nausea upset stomach much eaten yogurt rice take stil get sick also make everyth eat sem extrem salti even breath tast salt cale doctor chang antibiot someth el apar one make potasium level rise high',\n",
              " 'year old first time birth control although loke option decid want babi miscariag month ago want babi close nede b c method go forget pil go regularli depo sem like god fit insert pain last minut felt like sharp pinch poke fel cramp bad spote read woman went period stil period moder last day get cramp blede wil updat afect period cramp continu day',\n",
              " 'hope experi help someon year old unprotect sex boyfriend one wek period end technicali sugar pil wek howev mise pil month knew fuli protect morn experienc bright red blede fear may ben implant blede unlik panick tok plan b hour period one wek late came one month tok plan b experienc extrem tiredn swolen breast increas cup size crave light cramp al similar pregnanc symptom panic alow bodi adjust great chanc pregnant',\n",
              " 'tok wek condit got wors worth side efect dri eye mouth skin letharg slepi go time night sometim time lunch',\n",
              " 'help stop cri daili basi fibromyalgia pain stil pain beter atitud',\n",
              " 'sixten year old ye prevent pregnanc make fel protect experi mod swing depres anyth emot wise gain pound say complain lol although honestli hate doctor ask come get period never got period got nasti discharg went back obgyn gave pil quot fix period patern quot made worst tok al pil stil period everyday heavi recomend recomend birth control al forget sex worth regret al',\n",
              " 'year old put kepra complex partial seizur except initi tiredn first two wek side efect take mg twice day even age group mile race two wek ago competit socer team socer tournament wekend thank goal score notic difer schol work person thank medicin daughter continu activ life seizur fre',\n",
              " 'horibl anxieti problem much make physicali nauseou vomit stomach wil turn apetit take hydroxyzin mg time day nausea gone fel like life back lose weight much nede nutrient noth help like',\n",
              " 'start month ago enter rd month today say go okay far consid tri birth control aw far two period ben light betwen day light cramp plu also fel tire ben slepe extra hour birth control sem work go kep tri se kep work acn start birth control blackhead whitehead would get pimpl chang much day notic face lok cleaner le acn other never reali lot acn',\n",
              " 'tok one wek help get slep al first night awak al night long second night finali fel aslep start back seroquel get slep al stope take rozerem th night aw headach tonight night two without rozerem hope time wake tomorow wil system headach wil gone',\n",
              " 'within day minor kne surgeri seriou lose stol sever time day four month',\n",
              " 'stomach cramp everi day night',\n",
              " 'sever psoriat arthriti sinc ben remicad almost year almost pain joint get litl stif close infus miracl drug owe life would cripl without',\n",
              " 'proton pump inhibitor constant headach use aciphex reliev symptom perciev side efect great drug ben year evid esophag eros ben diagnos biopsi baret esophagu eat anyth',\n",
              " 'dr prescrib mg nexium stope work wek dexil stope aw flatul abdomin pain start hr take glad get valid other similar problem sinc patient info say hapen smal amount user',\n",
              " 'tok pristiq month one pil day curent taper caus folow efect lo emot uncontrol shake inabl fel hungri ful amp inabl fel pain anti depres gp thought god idea prescrib think l ever take anoth anti depres rather fel everyth noth',\n",
              " 'ben med year md diagnos biplar thre year ago seroquel work start mg q psychot break mg plu mg lithium think rsquo gete close right cocktail includ ader atavin requir weight gain eat bing make slepi rsquo ok sher gut cofe thank medicin',\n",
              " 'diagnos colagen coliti microscop coliti octob go thru difer steroid quot diet quot tri improv leaki gut proven best yet ben sinc novemb packet day weari first take wel studi day diarhea wek cramp went away stil ned watch eat much dairi wheat etc make least enjoy meal without run bathrom time day say quot flare up quot betwen start even near bad without medicin',\n",
              " 'ben take medicin year side efect efect get rid pain way adict anyth bad say medicin help back pain great deal take oxycodon year spine specialist put medic love tire thing without even get bed exager promis done wonder back lyrica done wonder nerv pain leg',\n",
              " 'medicin joke want take percocet hydrocodon put medicin supos longer act rsquo rather take six percocet mg day one mg four wek rsquo help pain whatsoev',\n",
              " 'year young femal ben take metoprolol tartrat year pvc prematur ventricular contract heart also tachycardia take mg morn mg hour later medicin stope pvc also slow heart rate first start take metoprorlol tartrat made tire wek bodi got use fine',\n",
              " 'hopefuli wil cure ulcer torn stomach caus antibiot due infect kiten bite side efect aw tire burp insomnia fever headach lo apetit belch bloat fatigu drowsin tire fele stomach upset medit depres wors slepe fele wel ad sure conect mani canker sore tongu throat hurt',\n",
              " 'diagnos cml start tasigna handl horibl side efect went sprycel horibl side efect glevec back lower dose sprycel sen mild skin irit breast hurt noth becom acustom worst part joint pain al cml aslep undetect blod today wil take joint pain long',\n",
              " 'alway read review alway paranoid everi time take plan b taken probabl much god reason wel birth control pil alway relationship sinc pil ben efect weigh recomend weight sex fertil day medic profesion take lot vitamin c parsley get period earli ea stre work relax',\n",
              " 'ben pil day gain lb breast tendern low libido apathi irit agres exhaust clumsin l tri month hope side efect go away',\n",
              " 'zofran save life literali morn sickn horend thing made fel great',\n",
              " 'would like lodg complaint came surgeri told anesthesiologist want memori block drug told would given propofol fine god result woke recoveri rom isu blure vision doubl vision sensat spine lo balanc husband state hapen propofol told given vers memori block drug told procedur went wel know side efect induc drug administ sent home unsteadi fet sensat spine lo balanc believ safe discharg condit ind husband cale son help get hous al fel trust violat wish folow vuner posit greatli concern next time ned request husband stay complet procedur protect staf',\n",
              " 'use pil twice boyfriend ben havjng unprotect sex yr usuali use condom sometim without one first time tok pil sure came tok next morn symptom al got period time second time take plan b tok min sex wek later im gete worst cramp ever hope work strese',\n",
              " 'alerg cafein spici fod give al kind urinari infect howev one cipro pil make pain disapear known side efect cipro cipro simpl awesom',\n",
              " 'tok plan b definit work pain afterward teribl pain start coupl wek right period pain stomach pain never felt even eat son swalow fod pain eat day gue complain work rather babi',\n",
              " 'ben take zoloft year take mg daili found al symptom diminish time real stre take extra pil al say none previou drug tok help al depres post traumat stre disord age stil react anyth sound like gunfir spent year work govern armi rest law enforc found isu deal countri lose prescript backpack horibl two friend take pil even bed side efect al found zoloft god send',\n",
              " 'take mg time day help pain take someth break pain work would start lower dose amp stay lower dose long could',\n",
              " 'develop rosacea pregnant first child age never skin isu even tenag finali went doctor diagnos papulopustular rosacea acn plu redn doctor prescrib monodox work wonder within wek almost al pimpl bump gone gone hope finish medic day al come back downsid cost thankfuli doctor gave discount card manufactur alow buy per month otherwis day supli',\n",
              " 'ben m patient sinc ben use avonex year hapi result take go bed night wekend also take coupl tylenol codein usuali slight headach wake morn get lot migrain know anyth medic fact multipl sclerosi avonex work wonder usuali m atack averag everi year usuali sever relaps remit m would recomend avonex anyon newli diagnos chang life',\n",
              " 'skyla place month ago doc said would experi slight cramp insert light cramp throughout even child amp tilt uteru od favor doctor clamp uteru pule straight alow placement amp manuali dilat cervix anoth tol pain excruci miser hold breath acidentali amp nearli pase told take ibuprofen pain bawl eye min drive home tok ibuprofen help cale md back said quot okay quot sinc tilt uteru never child bad answer ben month amp cramp rare amp toler',\n",
              " 'disc replac l laminectomi plu rod screw insert pain unbear take vicodin finali prescrib mg oxycodon time day thing ben abl year excel taken prescrib',\n",
              " 'plan b definit help gete pregnant emot level teribl react super bad hormon ben nightmar',\n",
              " 'diagnos ad seven think behavior isu second grade cla drove teacher nut constant distract lack focu litl thing like smal talk exces nois triger symptom put ritalin la eight ritalin aw slep wel al period insomnia would slep prolong hour slep gete finali coupl year sufer ritalin talk doctor tri new medicin cale focalin xr almost focalin xr ben reali wonder focu beter caus diarhea mod swing',\n",
              " 'ben use ale year first bc pil prescrib hesit use hormon contracept mod swing spote howev ale experienc neither side efect say made skin clearer sever acn clear pimpl one side efect experi weight gain normali pound pil gain pound fel bloat howev stop pil temporarili wek period go back regular weight realiz could manag watch eat exercis bit over preti satisfi ale',\n",
              " 'sinc diagnos epilepsi put pil prevent seizur help also put loestrin fe far seizur believ relat hormon imbal birth control definit help bad symptom al nausea mod swing tri everi singl birth control could think one like far plan stay anoth month tri babi',\n",
              " 'sertralin year develop strang phobia sever anxieti suicid thought major depres medic probabl save life howev brought back halfway stil depres stil sufer anxieti atack much coupl year believ stope work even increas dose stope take',\n",
              " 'thing say loestrin fe awesom ben pil yr begin period last day time went decreas even went hr period later chang came hr today period al know yr love pil downfal even though come stil mod swing irit moment fele strang headach etc time period would ben end everyth goe away use wori begin complet stope period know way pil bodi',\n",
              " 'year old found shorter fuse normal finish anyth energi focu went talk doctor test found adhd canot tel shock said bad enough warant mg start point start thursday sunday lost lb alreadi like lose much way hapen ben nauseat day bad fel like crash night also nauseat night stil canot take anymor wil actuali go back way wil kep son mg day absolut fantast',\n",
              " 'continu experienc breast tendern slight breast growth complain curent second pack experienc side efect al hapi medic impres wel work despit al neg review let review frighten everyon bodi difer tri god luck',\n",
              " 'chose mirena heavi period sever cramp along teribl acn pm symptom year old never child nervou procedur read mani teribl review first placement pain experi thu far even exager got high pain toler thought go pa left ofic seriou pain cramp continu day spote wek along minor cramp ben month spote cramp period mod beter first time year acn breakout also zero weight gain love mirena best choic ever',\n",
              " 'make impos situat posibl control violenc rage temper anger toward other post traumat stre disord panic atack kep calm best',\n",
              " 'put medic along low dose ace inhibitor control blod presur imdur er use alevi chest pain done complet one singl flair al sinc start fal headach go cal cardiologist today se take anyth stil give even headach chest pain wors headach',\n",
              " 'amaz mani symptom come anxieti chest pain chest squez dizin light head fele fele faint sweat nausea heart palpit could go xanax practicali miracl drug stop symptom cold minut take fel beter lok back one hour ago bewild stre anxieti caus fel badli',\n",
              " 'take chantix smoke cesat fel spiral sever egrav presion fel like leav home go work gain pound felt life hopel alway felt like extrovert trape intravert bodi stumbl upon valium husband gave one muscl cramp efect amaz longer felt trape prison isol miseri word caution though drug adict taken smal amount withdraw done slowli medic supervis shame valium bad rap',\n",
              " 'ben constip wek tri eat everyth posibl wil help go even mexican fod stil noth tri miralax go tri chocol lax noth tri dulcolax supositori beyond nauseat beter cramp stil fel constip even though went litl least dulcolax help go within minut glad toilet hapen',\n",
              " 'use day monistat intens itch burn son use aplic worst pain ever felt hel monistat tri use cale doctor diflucan stuf aw',\n",
              " 'diagnos gad pd given gener brand lexapro sinc drug potent sri reli efici work quickli litl side efect tok mg everi morn first two wek notic improv mod fele drowsi side efect made lack energi fel fogi head third wek experienc increas anxieti extrem mod fluctuat stronger fele fear lack apetit symptom panic atack talk therapist day continu tortur advis quit lexapro everyon experi sri difer kep loke',\n",
              " 'switch necon nortrel say quot quot within first wek knew bad bodi acn got wors hurt doctor said help acn get beter sinc start month ago nortrel dri eye hard time se far away eye doctor said due dri eye sinc vision necon year upset switch stope pil complet wori side efect go worth dri eye bad side efect disapoint',\n",
              " 'stop pain',\n",
              " 'pil finish breast fede lot problem break blede everi month lo ovral year prior babi experi problem loestrin',\n",
              " 'help go slep relax got headach seme increas day trial like wil get',\n",
              " 'hapi concerta year old start take month ago tok lot troubl schol pay atent focus tok notic imedi difer much easier focu pay atent anoth reali posit fedback concerta help engag convers focus interupt peopl like use also help think thing',\n",
              " 'start bydueron wek ago fine first wek wek becam extrem il vomit explos diarhea ga pain bloat like never long flatul everi minut embaras sulfur tast belch like roten eg endo dr said med went primari doctor sure viru al test came back neg third wek thing decid take inject notifi endo told stop metformin resum shot last wek shot condit worsen finali told stop inject ben four wek sufer worth stuf poison',\n",
              " 'take risperidon month reliev panic fear irat thought asoci ptsd encount litl relief gain weight gain lb month chang eat habit voic concern doctor taken medic withdraw efect month time lost lb exercis eat healthier low glycem index diet',\n",
              " 'ptsd ocd sever bipolar sever borderlin person disord along sever panic atack constant anxieti taken mg xanax taken four time day year enabl live quot normal quot life prescrib klonopin instead help tremend panic anxieti anyway xanax work much beter slew med disord coment klonopin',\n",
              " 'first implanon got nexplanon period first month one sinc due remov next year notic spote sometim day honestli usuali coincid strese weight gain also far best bc al year plan tri babi next year wil back',\n",
              " 'sprintec month first birth control ever over like shorter period le cramp great skin cheap never spote skipe period purpos spote wek later wek problem gain pound breast got huge mine alreadi big kept grow switch lower dose would definit recomend birth control anyon',\n",
              " 'would one take medic abdomin pain one side efect abdomin pain',\n",
              " 'ben form birth control le wek far god first form pil taken fel normal ever nice wori creat litl human al time sinc sexuali activ mari al take everi day want ad lot review say take night fel horibl al night next morn mayb take night cours know say take pil bed rest anyth mayb l kep ya l updat anyth bad hapen far lovin',\n",
              " 'take risperd treat schizophrenia also sufer paranoia know risperd use directli treat paranoia done noth schizophrenia either voic halucin stil promin',\n",
              " 'ben take ocela month far everyth go great fel normal period come time everi month period heavi ocasionali fel nauseou around period side efect ocur without birth control would recomend oral contracept anyon betwen late ten earli twenti',\n",
              " 'start augmentin thursday morn typhoid doctor insist wil clear make fel beter sinc thursday experi extrem diarhea nausea bodi pain wake time night vomit stol hapen simultan morn fourth day fel like might never get beter go stop strength even puke sit lie beli back either two side ach serious due constant suport',\n",
              " 'tok quasens year first two year love tri least birth control oral contracept form one first finali work howev within past year aw thing hapen obgyn think due estrogen pil weight gain pound within wek amp half time exercis amp bare eat tri get back normal weight howev continu gain weight much hair lo year amp distinct bald spot crazi mod swing period month straight amp extrem tire today iud quot skyla quot insert hope everyth improv son',\n",
              " 'year strugl weight super seriou got relationship gain nearli kg year heaviest kg se person trainer go zumba thought eat wel noth help shed weight got test thyroid isu pco neither explain inabl shed kg start drug day ago start weight kg weigh kg complet chang view fod crave made realis whilst fod previous eat god fod eat far much bodi forgoten recognis true hunger excit worth money',\n",
              " 'ben patch month amp aw fel nauseou al time amp get headach dizin come along period heavi amp pain cramp betwen blede',\n",
              " 'ladi plea smart use bc condom plan b stop pregnanc eg fertil ocur recent tok plan b hour sex late plan b unfortun work take imedi suspect might pregnant wait importantli use al method bc',\n",
              " 'wel ben day sinc taken first shot simponi start saturday august also stope take prednison day fel real god go doctor rd septemb would like start cute back methotrex wil updat next month',\n",
              " 'teribl case chronic prostat caus enterococu al antibiot bacteria sensit would enter protast gland properli doctor prescrib other antibiot avelox thank god avelox kile nasti infect take wek second wek fele normal month fight magic litl red pil',\n",
              " 'year astound result supartz mi inject due obamacar polici acept ortho md month medicar acept return semi anual inject seri wherein told sen slightli beter result euflexa first inject notic signific swele asoci increas pain zero second inject swele increas pain worsen inabl climb stair third inject folow steroid help reduc swele infect rule schedul mri supartz work euflexa',\n",
              " 'amaz product strongli recomend tri truli must tri',\n",
              " 'miracl put germani go insur sufer depres anxieti often would find stuck daydream world al thing go life includ partner year would energi fel low finali insur put mg day fel much beter fel like handl life set goal fel anxieti sit think neg focu posit life fun interact son liter save life know',\n",
              " 'migrain atack tok dramamin help slep ye pack walop drowsi depart make litl drowsi interest migrain went quot quot quot quot pain scale start get migrain symptom take excedrin dramamin combin work tremend',\n",
              " 'day take got blure vision',\n",
              " 'wait start today sinc work today never ben prescript outsid antibiot cold flu etc fel anyth around hour throat got extrem dri insati thirst drank gla gla water least two hour also use restrom everi min concern day work drive long distanc work second hour crazi burst energi start dep clean entir hous finish felt tire laid bed min could go slep got ate two piza slice normal gue take apetit supres',\n",
              " 'strugl symptom pmd finali doctor put avian regul hormon level thu mod avian made breast larger increas acn oili skin like crazi made depres emot normali clear skin acn horibl ask switch ortho tri cyclen lo sinc taken otc lo month notic skin clear although stil minor acn compar pil help mod swing tremend although bit pricey copay hapi improv mod otc lo given much beter gain compar minor acn stil experienc',\n",
              " 'ben medicin almost month experienc side efect start saw al coment nearli scare doctor asur felt side efect birth control pil would fine right imagin obvious yet period wil se goe anoth month loestrin fe one start work period anymor far problem seasoniqu',\n",
              " 'ibuprofen default pain relief earli experi ankylos spondyl reduc inflam made pain discomfort stifn manag experi side efect constip folow diarhea due blockag stomach pain etc pain manag help make bearabl manag year fusion made pain wors',\n",
              " 'diagnos sever pain silent migrain month ago neurologist said like sufer silent migrain entir life way recent start gete pain imitrex first medic put excit start fele beter imitrex made fel aw sufer extrem nausea migrain complet life ruin tri imitrex mani time hope finali work everi time take get horibl burn throat migrain would worsen help nausea aura pain migrain symptom sufer recent ben put anoth medic l hopefuli work',\n",
              " 'prior child endometriosi amp told mirena best option implement proce hel worst pain ever ben faint amp friend pick left month within month gain pound fot tal person horibl modi worst cramp hair lo acn horibl headach apetit sumo wrestler amp want anyth felt lazi borderlin depres tel side efect obviou reason yesterday finali remov traumat put made sick nerv remov quick painl alreadi fel like',\n",
              " 'take opiat everi day side efect sever constip would often go wek without bowel movement go pain requir lot work time tri solut miralax best far tok one cap ful everi day second day smal bowel movement kept take next day first normal bowel movement year cramp strain pain canot recomend miralax enough gentl yet work wel sufer constip sufer anymor tri miralax',\n",
              " 'read lot review pil agr review reflect neg side efect believ everi woman difer chemistri work wel pil ben five month wait switch note breast tendern weird cramp sever mod swing laugh cri time watch comerci od period ocur normal cycl time gain signific amount weight probabl work wel woman',\n",
              " 'fast act chronic pain downsid shorter time period relief pain medic',\n",
              " 'year old non smoker drink often exercis regularli aka poster child health coleg athlet wel even caviti recent got diagnos dvt blod clot leg pulmonari embol junel fe doctor saw said due birth control take know consid quot rare quot side efect hapen easili apar rare thought medic costli may blod thiner rest life care',\n",
              " 'went doctor help clonidin taper clonidin prescrib methadon withdraw along valium got methadon preti easi consid mese stuck physic clonidin adict month prescrib propranolol day time control rebound high blod presur withdraw anxieti far work amazingli fel like could talk front peopl flinch fear propranolol withdraw long like clonidin least time awar posibl rather blindli take medic',\n",
              " 'loestrin fe month never problem emotionali howev gain pound acn never ben bad becam extrem sever slowli go away',\n",
              " 'wel ben take orlistat day thre time day alreadi lost kg although headach slightli constip hapi found someth work',\n",
              " 'ben copaxon year symptom goten worst gue reason side efect make apeal everyon doctor finali chang anoth medicin unfortun due sever liver side efect much pain fatigu everyday lost much life job social life tri overcom monster',\n",
              " 'ben take celebrex litl day year old sufer chronic arthriti pain year two ankl surgeri leav fel like relief last surgeri year ago provid relief complet sinc ben celebrex honestli say ben blese disguis went day wek pain discomfort virtuali none',\n",
              " 'ben take xanax lexapro gener anxieti disord xanax mg made zombi atarax mg time day work wel abl function work wel sed efect wore day',\n",
              " 'ben take anti anxieti medic long time due sever anxieti panic atack disord last resort tri other take klonopin mg time day start take medic notic bad side efect slowli start nightmar night teror even tok smal cat nap absolut horibl stand think klonopin caus stope work anxieti went back xanax start work beter al suden night teror disapear longer afraid fal aslep gone away ever sinc stope klonopin',\n",
              " 'tok two pil along teaspon castor oil hour ago stil wait hope screw bad take two dulcolax pil wil se',\n",
              " 'ben pil month god except extrem nausea caus want eat sometim lost weight except bob actuali stay normal c cup anxieti anxieti atack like know hormon birth control make frequent',\n",
              " 'gave first inject use pen earlier wek inject automat prese skin push buton mechan click inject made finish mechan click withdrew nedl almost painl wil repeat two wek get blod test month se work',\n",
              " 'ben junel fe month first thre month experienc nausea ocasion mod swing help make period lighter regularli time first month fine upon month experienc extrem mod swing depres would pick fight smalest thing felt crazi becam reali depres hit month could figur go finali friend sugest gete junel fe sen imedi chang mod even day pil work',\n",
              " 'gete shot lower back back got torn apart tok surgeri pain unexplain pain like pain pm doctor put methadon mg x daili oxycodon mg x daili strongest pain med pain level big improv methadon help lot first put fentanyl mcg patch along oxi pain stil much pain gete switch methadon oxi huge difer methadon best painkil ever tri ty methadon',\n",
              " 'pil work thre day start notic sever mod swing mostli betwen irat anger despond perfectli clear skin also start breakout could never fel satiat necesarili hungri stil snack al time unabl fal aslep horibl constip went pil wek later stil side efect although insomnia improv definit everyon hope wil get system son',\n",
              " 'implant year today hope taken tonight reali major problem implant period wek everi month fine howev put weight get al go gym eat healthi end pute weight also ever sinc implant thrush yeast infect time doctor say implant howev certain alway constantli modi never even want sex hope one put long put hapi modi year go',\n",
              " 'help ton post partum sufer depres long babi born insomnia comon tok slep aid first year tini disturb take recomend worst ever felt quot brain zap quot like special kind tortur apetit simpli non exist god someon alreadi weight save long time choic come heavili weigh withdraw symptom sufer wek later anxieti gete beter physicali much chang',\n",
              " 'twice woke separ procedur colonoscopi doctor tri forc air drug way mild',\n",
              " 'rd mirena replac everi year everi insert ben excruciatingli pain last time dare say wors teari eye breath also scream intermit dr inch place whatev reason felt pain right side fuli expect spote amp cramp day wek later cramp spote almost daili cramp right side pain insert never problem use mirena year amp alway love turn wonder bodi respond difer due hormon fluctuat come age',\n",
              " 'yr old mother ben depres al life never ben hapi wek time tire difer me real chang would also self medic alcohol least wek would get drunk would black probabl figur caus lot problem start taken brentelix moth ago never ben hapi entir life love reali chang life beter drink al hapi famili also sen chang hapi',\n",
              " 'problem first great sex drive day period cramp light headach mod chang like birth control pil pil expens lot yeast infect everi month time period stope take sugar got high blod presur high diabet high blod presur monitor doctor pil everi bodi difer',\n",
              " 'love birth control spote betwen period litl emot birth control mod swing last birth control made bled constantli everi month stope take got pregnant went birth control could hapier wish expens',\n",
              " 'ben lexapro celexa citolopram past year mayb coupl fabul year half ago stope work tri welbutrin l c c horibl like want hide corner desk paranoia doctor sugest vibryd l c c stope work far god atest gi problem know night time isu slep like log singl one tel go slepe slep isu relat vibryd found vibryd help anxieti anger isu doctor sugest ade l theanin help ton',\n",
              " 'smoke year smoke pack australia le hr went champix wek non smoker side efect normali claw wal hous cigaret hour cigaret adict compar eat chocol like go without also adhd make smoke lot pleasur lot adict',\n",
              " 'prescrib via psychiatrist sever panic atack year take dosag late forget take withdraw symptom kick gnaw physic pain breathlesn disorient time dificulti word find speak sever muscl pain stifn nausea labil emot panic',\n",
              " 'love think birth control twice month easi use said six month use realiz notic anxiou depres emot problem anxieti frequent panic atack rapid heartbeat tight chest find hard fal aslep night hard get bed morn mayb worst part low libido wil time desir sex bodi respond ten quickli otherwis think intercours nearli much use',\n",
              " 'tempor lobe w mesial tempor sclerosi use wek sometim headach dizi frequent minor muscl tremor twitch shorten menstrual cycl sensit mod alway tire product slep went monthli day blackout seizur bing day recoveri far minor convuls consciou mostli ful recoveri morn major improv',\n",
              " 'posibl strep throat first day tok fever rose shake chil rash blod presur high blod presur pul fele wel al cale doctor next morn switch amoxicilin hope work beter skin rash al itch gue alerg one',\n",
              " 'medic complet chang life beter also thyroid autoimun diseas menopaus wors bad endocrin quot cocktail quot almost year brought kne kne buckl hot flash episod day caus much joint limb pain walk sever depres nearli bedriden lack energi episod almost anxieti atack never within wek take femhrt nearli al ceas got life back',\n",
              " 'year old femal highest weight lb activ work time wek least sufer hashimoto thyroid along ib c ben hand specialist cours year use run hour day kep weight stabl doctor recent ade regular levothyroxin everyday notic energi weight stil clung start two wek trial qsymia tri get aprov insur compani first day felt fogi thirsti day drope lb stil work never much apetit eat mani fati fod loke medic',\n",
              " 'violent sick take sure reliev constip one point debat whether ned product bisacodyl usp mg market cv brand woman gentl lax midl age femal lb health prob yesterday tok one tablet afternon pm felt nauseou abdomin rumbl pm vomit hard actuali wet folow wave wave violent abdomin pain sweat heavili stripe al cloth weak laid bathrom flor miseri vomit diarhea midnight finali recov around nightmar would never take',\n",
              " 'alway help lower back pain',\n",
              " 'ben contrav wek quot pound think lost pound work person trainer x wek usuali take long walk day trainer doctor recomend prescript sit desk hour day typicali hungri unabl stop snack far stil crave fod sure apetit supres part wil kick stil done notic much difer wil give litl time finish entir botl supli ask dr chang someth el',\n",
              " 'nuvar work great side efect experi lot nausea could starv smel fod disgust',\n",
              " 'ben prescrib med time day day fel horibl tast mouth nasti urin dark bowel movement lok gren funi anyon experienc',\n",
              " 'girlfriend sex fertil period condom broke realiz tok pil around hour later work got period read journal pil may work fertil period care anyhow u work',\n",
              " 'stil felt nauseou given drug surgeri woke extrem sick vomit third drug given help combat efect know ben given heart start race concern nurs staf concern made anxiou scare paranoid hapen later found al drug end flush system',\n",
              " 'ben use nucynta coupl day far work wel minim side efect chronic sciatica ben low hydrocodon coupl year ben take mg nucynta time day sem work almost wel pain sem easier bodi make bit quot lopi quot litl grogi hydrocodon also notic hungri necesarili bad thing wil interest se work time whether continu work wel period time',\n",
              " 'tok medic day side afect sex day',\n",
              " 'use medic one month time face broke acn ben abl get acn go away year',\n",
              " 'excruci lower back pain along sciatica shot hip hr ago pain almost gone stil litl sciatica take day heal dr also prescrib vicodin think wil ned tonight could bare walk dr visit much beter drug work everyon worth tri hope al fel beter',\n",
              " 'sign gastric sleve procedur done cancel day prior want tri lose weight pound march th start phentermin shortli curent lb juli nd hapi result glad oper even would skiner risk scari go would love get lb go kep chuge along',\n",
              " 'alway taken bactrim uti alway work zero side efect tok two everi hour ten day perfectli fine',\n",
              " 'start efexor oct start fele fantast besid dri mouth bit nausea doctor mg novemb felt like whole difer person got life back due side efect drug caus constip facial twitch lower lip bodi jolt doctor tri wen mg take one pil everi second day fast son wow wel done cold turkey brain zap cri fele lost bodi scare tremor ben almost wek efexor got vertigo felt like go die today start take mg today alreadi fel difer could drug huge difer mod zape gone dri mouth back live',\n",
              " 'great experi medic go al medic wil ask resum doctor gave concerta think anyth felt calmer way fel wel rest vacat al difer felt co worker start compliment work say much beter one sugest get test adhd',\n",
              " 'mother second time round use implanon first time much like time round period weight gain kg kg mod swing migrain sure whole packag say ladi alway read inform quot insid pack quot tel might experi preti much everyon state may might get truli know tri',\n",
              " 'save life went level pain daili almost pain first infus cri talk medic given whole new lea life literali save life pain bad wrist anyth anymor serious think suicid cute hand save thank remicad',\n",
              " 'take c dif medicin stope diarhea day medicin made sick fel nauseou al time sensit light wel day supli day tast horibl gage sever time would get stuck throat babi come take pil definit ben worst experi hope al clear go folow visit year old femal blodi mucu stol made finali go doctor previous taken antibiot sinu infect like caus c dif',\n",
              " 'without medicin could slep pain',\n",
              " 'rheumatoid arthriti take medic find antibiot treat infect easi mani side efect medicin tok doctor prescrib upset stomach though first infect show definit improv within first hr',\n",
              " 'bad doctor freak adict behavior point wile let peopl sufer valium low dose work junk may work even result use test rat sen state low result resent person reali ned help acut condit given kind low perform medic',\n",
              " 'year prostat problem mani biopsi psa acut urinari retent catheris gete cathet blede put duodart slight improv nocturn ten time time dizi',\n",
              " 'year strugl sever sometim even depli cystic acn face shoulder dermatologist finali convinc tri acutan ben least difer topic oral medic beforehand noth help al went month acutan regimen get litl wors get beter last month clear wonder howev medicin reali dri especiali lip eye plu wear contact ned apli lip balm almost constantli worth end also arm dri red flaki wek drugstor lotion clear quickli would highli recomend acutan anyon',\n",
              " 'start take armour novemb first coupl day felt tire day tire throughout day lost lb month start refil al weight came right back posibl whole batch bad bodi regul dose',\n",
              " 'drug plaquenil use faithfuli thre month treatment sarcoidosi scalp oze flake overwhelm hyperpig lesion hair aproxim inch length due sever outbreak scalp heal hair inch long plaquenil alow scalp resum normal hair growth',\n",
              " 'left eye destroy bromstick fight doctor gave percocet joke stil agoni opana er trick',\n",
              " 'medic great sed loke euphor make slepi caus gain pound le month get depres loke miror doctor say make hungri gain weight amount weight gain short time unatur',\n",
              " 'never receiv relief sure even work folow direct aw product',\n",
              " 'ben long enough control diarhea pain told new diagnosi irit bowl syndrom along crohn diseas stope infus se pain side efect al know far hope help litl',\n",
              " 'ben take first pack lo loestrin fe must say reali work litl nervou first first time take birth control heard al neg side efect take birth control spote brown ish color thre wek period normal first month breast tendern mod swing everi expect first month yet experienc weight gain far satisfi wish expens',\n",
              " 'medic far worst antidepres taken first month seme wel year hit rock botom mentali caus teribl symptom benefici weird brain zap left bed day slep disturb atent seke behavior wel ocd never experienc previous tok forev get teribl drug cal teribl drug brain bodi get physicali adict way stret drug would mi day start sever withdraw sweat extrem brain zap fele touch w realiti strang thought month efexor al bad stuf stope',\n",
              " 'endoscopi colonoscopi today use propofol felt briefli drowsi woke recoveri alert slightli unsteadi drese pase quickli got car fine would definit drug use next time',\n",
              " 'put tri chantix thre year fear al horibl side efect doctor convinc give tri start fel weird could stop take said wel wait depres nightmar start quit smoke cigaret start tast funi first wek second wek five six midl third wek went smoke fre first time twenti six year dream vivid scari depres thrile non smoker dri mouth constip reali side efect notic tri let someon el bad experi stop save life',\n",
              " 'ben take opiat year take tablet day start take suboxon today take two mg pil day first go gue im reali excit pil believ fel god withdrawl symptom energi abl actuali stuf without take mani pil',\n",
              " 'taken variou dose trazodon fibromyalgia insomnia fal aslep wake hr later take mg fal back slep finali rest slep ah',\n",
              " 'friend taken ambien year without problem whatev reason episod tok pil rememb noth polic station drank thre ber know al frig proced drive end crash anoth park car scarey stuf eh work wonderfuli sure want blackout end drive cla action suit drug heard stori walk nake winter cold eat slepe friend experi',\n",
              " 'ben use mirapex two year sever rl mine show sudenli without warn honestli bare slept two month went numer doctor tri everi type slepe pil includ ambien stil slep ambien actuali got car drove much memori hit back anoth car finali place mirapex miracl drug literali fele suicid prescrib reali ned taken earli even problem take awhil take efect',\n",
              " 'bad atack ic could get blader irig day tok uribel ea pain went normal swim could catch breath brachycardia stope take med day fele abl breath properli wori day sinc stope take swam situat even wors tagamet medicin done kep strugl even site home get enough breath wish medicin would stop afect loke onlin se brachycardia list side efect wonder get back normal',\n",
              " 'write behalf partner use nasal spray reliev block nose within two day use experienc sever flu like symptom alongsid sore threat light headedn dizin product work short period time return nose back block self',\n",
              " 'chronic uti spread kidney time septic uti per month last year bactrim never work told use frequent gram neg bacteria finali univers hospit lab found gram neg e coli esbl bactrim usuali efect esbl',\n",
              " 'lo lo estrin fe start ok first month period best thing ever sinc period nightmar shortli month saw difer bodi weigh lb heavier along weight gain also sufer horibl sporad cramp reali bad acn worst birth control ever chang asap',\n",
              " 'recomend stay away shot',\n",
              " 'ben use propranolol year esenti tremor right hand take mg twice day howev shortn breath fatigu isu wonder shake worth deal v shortn breath fatigu read take pil difer time day make chang someth may tri quit bit present work find help anxieti stre gete front peopl question side afect wel weight gain walk thre mile day believ hard breath fenc question condit shake dificulti breath fatigu',\n",
              " 'rocephin like miracl alway gete sick ear infect strep throat one shot al take hour fel much beter',\n",
              " 'weight lo glucos reduct insulin take oral',\n",
              " 'switch birth control depo fine til like rd shot start bled cramp heavi usual noth stope switch birth control far everyth god til hid rd month mark start spot later bled stil point time ben whole month rate think want birth control al anymor al bled',\n",
              " 'ben medic month take mg day start low dose first wek experienc sever dri skin lip especiali nose eye even first wek skin broke wors begin start gete sever back pain wek skin setl tini bit beter al blackhead disapear skin stil drier usual actuali improv lip fine long apli vaselin time day signific side efect stil back bone joint pain far hapi achiev blackhead expect thing kep improv',\n",
              " 'mg day month relief fibromyalgia symptom kile libido entir troubl slepe',\n",
              " 'friend told told cut shet quarter forgot mention last post anyway take quarter shet today fel great withdraw thought want pain pil actuali tok lortab work yesterday case suboxon work comfort flush toilet morn thank suboxon life alreadi beter sure wil get beter side efect dificult go slep last night suboxon life saver would recomend anybodi',\n",
              " 'start saxenda thursday first dose doctor ofic weigh got headach imedi went away even today saturday administ morn side efect far except litl energi weigh self today way earli judg crave starch sugar gone fod start lok tast weird fod portion intak definit le almost strugl eat wil updat wek',\n",
              " 'one first side efect drug spote ok first two month experi horibl cramp way wors cramp usual period literali felt like uteru go explod hurt bad along also came side efect burn vagina uncomfort wors last point want sex also wek depres drug caus extra sensit everyth along th month take start get hive al forehead teribl itchi noth made go away even stope take tok month go away',\n",
              " 'start trulic month ago mg begin queasi amp complet lo apetit great thing also belch amp heartburn sour stomach notic month efect wore doctor put mg x per wek plu mg x per wek none side efect return apetit back queasin weight lo stope wel sour stomach belch wonder anyon el experienc efect medicin wear wel sure stil point also take mg metformin x daili amp invokana',\n",
              " 'whenev pain go medic back shoulder neck fot injuri right medicin chronic pain right take rare work nede avoid toler work abl deal pain howev go back work wil like go medic similar one ful time thing like fact mani narcot pain medic contain tylenol asperin ibuprofin make kidney liver organ go unecesari strese prefer oxycodon ned synergi tylenol ad',\n",
              " 'sebac hyperplasia one chang thrile got rid al sebac hyperplasia enlarg oil gland bump within first wek start gete hard bump year ago day ago around hairlin chin forehead chek chest start get super bumpi today day acutan singl bump acn far acn definit flare fel like al blackhead push skin fel bumpi day ago blot anymor go day without wash hair',\n",
              " 'boyfriend sex around pm condom broke scare pul fuli acidentali finish insid last time got period want purchas plan b get pil next day around pm day take pil blede day super light wait wait period come noth hapen gete impati reali nervou actuali pregnant went bought pregnanc test came neg finali got period today around pm could hapier pil work ladi relax',\n",
              " 'ben diabet sinc goten wors year c ben climb steadili take metformin mg per day march dr start januvia also believ difer c went month also surpris side efect sem mani med bother problem new health insur cover januvia jan yuck',\n",
              " 'asthma ever sinc quit smoke quit twice time year asthma kick bad tri everyth dulera help tremend insur cover one inhal found pan onlin take care cost pan would abl take dulera howev sever month med teth start rote quickli dentist said se kind deterior chemo patient someon brush year two teth pule alreadi anoth schedul pule also start thrush day ago today bare move tongu ye ben rins',\n",
              " 'everyon react drug difer way howev wil never take bactrim start fele tire got bad headach second day take night even wors felt nauseou head hurt even wors al could cri felt like even bodi medicin definit mese head worst fele ever know never take bactrim sulfur drug',\n",
              " 'diagnos major depres disord depres come cycl take medic everi day zoloft year gain pound tire al time discourag sexual side efect top everyth research discov welbutrin peopl said stimul sexual side efect ask doctor could switch start taper zoloft start mg welbutrin doctor upe dose mg never ben hapier drasticali chang life lost weight get morn without total grouch gave cost',\n",
              " 'life livabl side efect stay awar posibl abus care count pil throughout month give urin sampl everi coupl month pain clinic ben dose mg everi hour aprox year canot go back life place medicin ben alway wil peopl wil abus pain medicin understand doctor afraid prescrib someon stand treat peopl like get bed face day',\n",
              " 'ben pil month half pharmaci gave cale say gave wrong pil junel fe said manufactur chang birth control manufactur india month half gain pound athlet eat plant base diet work sit job made gain weight like amanoy work month lose pound gain weight reason cri al time reason self doubt por boyfriend love break got birth control first place',\n",
              " 'heart atack becam depres ben lexapro zoloft xanax ativan welbutrin buspar none work atempt suicid major depes anxieti disord take coment stride right drug along intens therapi switch efexor xr quot funi farm quot typic wait period kick tel new man loke life like use save life famili done much anxieti first month sever quot episod quot seroquel ben switch clonazepam isu plea consult proper medic person',\n",
              " 'cymbalta ind work given fair shake know result sen read coment peopl quit use cymbalta never gave quot real quot chanc work properli peopl cymbalta start work quickli may take wek get ful efect',\n",
              " 'ben doxycyclin hyclat day month work wonder first take empti stomach like recomend found gave extrem nausea stomach pain start take hour meal stomach pain stope taken bodi get use medic month acn start go away month mark al acn gone take time work wonder',\n",
              " 'wek broke hive prednison also take lamict tok know med caus isu start itch get dr right away',\n",
              " 'ben butran patch microgram hour last month tok anti sickn tablet sick fele side efect al ben godsend patch pain notic day ireland fel fractur back place sever pain back spasm left slepe chair month sinc came patch back bed patch best ever opinion anyway hope help one year old girl ireland',\n",
              " 'let start say year old problem lose nede big diet pil litl hesit first wek fre trial help decid give tri first wek lost pound lost total pound medicin kept year recomend far sever friend go lose weight equal suce cut back fod intak exercis highli recomend',\n",
              " 'gete read internet wori take know internet tend dramat thing ben take year stil work amazingli knock minut reliabl kep god hour never felt hangov efect whatsoev fact quit oposit use gete decent night rest damn right l fel great everyon difer compat simpli test al internet horor stori drug inaplic case problem doctor stingi deal adequ amount due depend ye adict adict slep',\n",
              " 'start schpel doc experi headach prepar huge headach non tok headach non reali tire bodi ach could cold wel abl function al day though weight thursday saturday weight learn hunger mental physic mental crave stil present actuali fele hungri stop bite noth reali tast god quot hungri mind quot definit becom awar triger wait se result mo',\n",
              " 'day one think start work write medicin sting like crazi type open sore take hour calm work great',\n",
              " 'diagnos month ago rheumatoid arthriti doctor start plaquenil wek ago mg x day stop take wek upset stomach caus vomit nausea extrem diarhea doctor tri lower dose mg x day avail hope put someth wil work beter ben extrem pain year year old',\n",
              " 'year ben pil great pil hate period everi month lot difer bodi like pil anymor main con heavi blede zero sex drive con take pil st year pain sex due vagin dryne slight nausea tok morn con end amp stope year hair lo hair come would brush pe break breakthrough blede cramp amp spote climax amp spote vigor workout pro never got pregnant stabl mod breakout hair thiner arm amp leg never spote betwen pack gain weight amp preti sedentari',\n",
              " 'excel clear al symtom hour',\n",
              " 'ben use ful day notic much longer pain eye wateri stil red botom botom lid wil continu use se hapen',\n",
              " 'first episod month side efect get decreas apetit forget minor thing amp headach tel wrong time age year old nd episod slep found crawl parent rom walk talk corectli went hospit diagnos epilepsi caus seizur enlarg blod vesel right side brain start mg levetiracetam episod mise day medicin wil year old april amp take mg levetiracetam lower dose get older',\n",
              " 'honestli wish go childbirth least give ton drug pain unbear wish worst enemi want itch bad fel like dog',\n",
              " 'got iud place today honestli terifi go put year quickest least pain procedur dr pace local anesthet fel thing',\n",
              " 'let start say ned wait birth control moder acn take pil nede get back birth control figur yaz would god bet wel reali zero side efect yaz hapi stil sex drive get headach bitchin stomach ach over great pil read review pil go notic peopl initi first break period gete beter month true first two month hel teribl breakout would say worst life month four hardli break wait wil pay',\n",
              " 'nd time ben pil first time lost lb wel start lost lb tend lose lb wek past workout time go start gym wek weigh stand goal weight first night could slep slepe like babi fele refresh morn take pil son wake',\n",
              " 'found medicin clear eczema temporarili howev find lot burn sensat around face specificali eye fel warm use',\n",
              " 'ed ben take ciali turn back clock take mg hr later readi action efect last hr make love wife hr straight orgasm meantim wife orgasm rest go al sort posit wife kep bege orgasm hold finali wek make love like decid orgasm intens long u hapi ciali rock',\n",
              " 'similar antipsychot efect seroquel yet far le sed flaten efect psych great altern medic similar aplic',\n",
              " 'work quickli head lot yawn wek drowsi morn minut drive work start take got work beter societi gener sometim restl slep said lot neg thought life notic dwel reali god minor side efect much hapier le irit famili recogn easili genuin hapi thankfuli nasti side efect thu far',\n",
              " 'first got nexplanon may arm preti bruis expect pain otherwis period except light spote twice last le hour weight gain mod swing first wek felt tire apathet exhaust reason never adjust eat slepe habit noth atribut implant juli month first ful blown period wek later anoth wek start spote sept marathon period stil hapen saw gyno ben take estadiol daili slightli help gona give thru month',\n",
              " 'yr old femal hate signific side efect vyvas mg hate invuniv love patch alow control medic usuali take hour pute alow slep night focu work wel signific drop realiz canot blow dri hair go tane would get big burst medic sometim hard time slepe take earli',\n",
              " 'take cymbalta depres anxieti read coment sound like peopl may serotonin syndrom hapen past prior doct pay atent med plea safe cymbalta help lot went yr go back',\n",
              " 'help supr cough cold gave diarhea diarhea sem hapen al similar medicin',\n",
              " 'medicin help stop drink almost imedi start mg everi hr mg everi hr miracl pil advis alcohol tri',\n",
              " 'prescrib medicin day ago high blod presur rune averag high blod presur stroke run famili day two thre sever tempor headach itchi throat cale doctor sugest sinu medic time take mg day',\n",
              " 'use halobetasol propion yr moder plaqu psoriasi daili routin draw back notic area treat thin skine also run use day psoriasi becom quot angri quot itch becom unbear inflam aw redn plu spread becom biger pain plaqu tri lot otc medicin none help lot money spent',\n",
              " 'intermit chronic fatigu syndrom cf sinc present viral like symptom id dr found local reknown univers treat cf anti viral decid give shot tok month work moment curent month remis unpreced longest remis previou month stil fear symptom may one day return moment lok like valtrex kepe bay cf sufer test posit hsv hv ebv etc would recomend ask dr medicin',\n",
              " 'nasal spray ben life chang sufer alergi problem al year round year constant sneze runi nose itchi eye headach al symptom complet stope short miracl drug',\n",
              " 'start take belviq march ben wek would sugest go day fre trial consid purchas product work al fact almost fel like take placebo notic chang apetit hungri hungrier reali sure supos work know work purchas day supli go kep take finish al medic doubt serious l reorder mayb miracl someth wil hapen wek disapoint reali want lose weight want surgeri',\n",
              " 'hand sweati whenev thought late ben think al time caus wori shake hand leav sweati mark whenev touch someth got reali bad went se doctor told tri drysol work great first actuali made hand sweat even probabl caus strese gona work start work apli twice day day doc told last time use like night ago palm ben dri sinc use hand cream yeah unbeliev dont give fast wil work god luck',\n",
              " 'write calm nerv constant internet search uncertainti period betwen take plan b wait period sex day ovul day condom broke realiz til finish start freak sinc knew plan b work delay ovul though calendar said would ovul next day certain alreadi ovul finish ovul tok plan b hour intercours ask pharmacist would work ovul pharmacist told recomend time cycl experienc headach bloat nausea breast tendern swele pre ovul discharg til got period',\n",
              " 'tok start mg caus sever restlesn lack slep felt like tachycardia go switch mg without doctor consent get restl fele chest bad ben litl wek wish beter idea work',\n",
              " 'tok recomend dose horibl constip cramp bloat noth stomach gurgl ocur entir day take anoth dose even around pm stil noth bedtim get relief around next morn point afraid move leav toilet tok ful hour emerg bathrom trip uh oh get run kind get al',\n",
              " 'imedi began blede rectum take medic pain rush emerg rom recomend anyon take medic',\n",
              " 'found product help shrink nasal pasag reliev presur headach build caus consid includ acetometophin sp pain built presur caus adit take alavert also take tylenol pain order get relief even take alavert presur releas pain subsid unl take someth',\n",
              " 'love cymbalta felt wonder ach pain depres life back pay month supli hapen co pay went month supli want cri obvious aford got switch venlafaxin constant slight headach make nauseou anxieti back dr switch prozac yesterday shal se would give cymbalta back',\n",
              " 'love medicin also ra take mx shot rasuvo shot starter pack last wek walk barefot play sport kid orencia wore month humeria like take water side efect thu far one hapi mom',\n",
              " 'prescrib rexulti daili depres med began longer work start work almost instantli ben rexulti along daili med ben fele beter ever',\n",
              " 'third trimest hemorhoid ben horibl bed wek tri ever otc cream plu home remedi ob proscrib proctofoam ben life saver thing work',\n",
              " 'ben zoloft month initiali sufer side efect shiver lo apetit drowsin insomnia symptom last thre day scare first plane tri anoth medic anxieti howev cale cousin nurs told tri cute pil half tok cousin advic cut pil half take mg day work reali wel lb longer sufer anxieti take zoloft realiz sufer depres zoloft alevi anxieti greatli help depres fel hapi motiv thing right away without procrastin life changer',\n",
              " 'first seizur whilst drive found epilepsi neurologist put kepra far best drug take initiali pain alway angri depres lost drive licenc tire al time al want slep howev tok medic month side efect wore gete back old self hapi al forgot take tablet day seizur bigest mistak made alway rememb take tablet fit fre plea take tablet help',\n",
              " 'start take ali day ago al readi lost lb whop hapi',\n",
              " 'found medicin help anyth el ever tri',\n",
              " 'tok medic twice day day infect sinus adenoid first thre day stomach hurt headach remaind day side efect day stope take develop diarhea sever stomach cramp go away day stope med posit c dif even tok probiot entir cours med gete mari wek thank lot cefdinir want everyon awar',\n",
              " 'ben tramadol minor headach isu iliotibi band syndrom arthriti basicali sinc control lot harder obtain doctor also consid new quot painkil quot er doctor ofic unl broken bone al honesti help leg let focu work tri norco vicodin e also lyrica gabapentin fan dislik nausea fele grogin time everyon difer peopl stand medic peopl canot would recomend le major pain nt ned al time',\n",
              " 'great medicin take morn low dosag bit uper help brain work beter faster probabl god bipolar high energi side therapeut unlik lithium work al time take night someth wind help side efect besid lunchtim headach litl extra clumsin mix word sometim speak type',\n",
              " 'start use cream month ago moder acn start use everyday wash face went bed first month face becam dri red irit use moistur combat dryne irit use old acid face wash stung bad acn also got wors first thre month lot whitehead bump never fuli emerg push thank review month thing start loke face mostli clear scar begin fade irit dryne improv bit al strugl kep',\n",
              " 'given medic famili doctor muscl pule back even day stil pain done noth',\n",
              " 'year ago bicycl acid broke left shoulder month later start se orthoped surgeon go pain clinic ben take mg morphin ir year great suce two shoulder replac first one fail damag around joint sever nd one gave usag back amaz howev stil excruci pain without pain medic morphin ben take godsend stil focus alert abl everyday thing ned also exceptionali help love husband help physic therapi anyth el ned help work',\n",
              " 'start humira begin month l take fourth shot next wek say impres psoriasi sinc almost elbow leg fet scalp first starter dose elbow complet clear spot leg fet proce fade anxiou se improv month side efect notic much tire muscl achi much rather deal day psoriasi strongli sugest tri medicin strugl psoriasi honestli option tri everyth el noth ever work tri',\n",
              " 'drug sem work wel flush bout first month last al minut drug ben sinc diagnos',\n",
              " 'amaz ye cours side efect felt tire bit nauseou hour take pil counter take quot even quot pil night bed would fine vivid dream noth crazi medicin work reali want quit smoke magic put efort cours wil cranki bit anxiou normal brain idea deal stre without smoke none reason tri pack day smoker year smoke wek zero desir truli miracl medicin',\n",
              " 'ben belviq wek must say got sick right away felt aw day combin gete cold cough take belviq believ side afect ben gone two day fel great fod even lok god eat someth easi eat half third normali would like other said wilpow botl wil updat month',\n",
              " 'son ben patch year start mg move mg far ben best adhd medicin tri preti minim skin irit isu over sometim back patch hard pel second frezer solv problem far favorit adhd medicin',\n",
              " 'midrin epidrin isomethepten dichloralphenazon acetaminophen isometh dich apap whatev variat name dispens best migrain treatment must administ earli headach much le efect downsid one manag deal sucesfuli mani year take capsul onset one tablet hour nede usuali total thre capsul enough side afect make slepi went two year tri variou rx shot treatment doctor tri midrin got life back dificulti gete late jump hop price skyrocket worth',\n",
              " 'ben escitalopram month take mild panic atack sem knock part side benefit ocd h preti much ben elimin reali realiz ocd gue alway noth sever remot cel phone similar item point work use make sure everyth certain order al tol line specif way think habit scrambl put someth order notic sure dosag experienc neg side efect think hope al benefit',\n",
              " 'medic goten rid al symptom zyprexa zydi one best tri tri al literali notic munchi regular zyprexa tab none zyprexa zydi actuali lost weight gave rate stil symptom schizoafect disord high enough rate give kudo compar drug',\n",
              " 'use lot problem bi polar self medic marijuana start take zoloft thing work wel although major manic episod lost al money ouch',\n",
              " 'best anti acn solut read review se peopl use corectli dermatologist scotland put duac mg g mg g gel explain use sparingli e rub al face wil burn dri skin turn wil caus sebaci gland activ moisturis skin lead get acn infect also make system resist antibiot import apli pimpl individu slightli around area al face back sinc ben given anoth tube duac romania weaker mg g mg g amp found stil work might beter',\n",
              " 'never felt pain like upon skyla insert step proce second step pain say difer everyon apar pain threshold much lower woman sharp pain cramp caus imedi tear smal yelp imedi becam pale lighthead use restrom could hardli sit bathrom lighthead nausea caus vomit weak honestli want lie flor began sweat minut abl stand drive home cramp nausea remain sever next morn ibuprofen heat pad help slep night',\n",
              " 'insert today due extrem heavi blede period chose get iud previou review freak insert hurt second felt cramp bit heavier period bad review state mayb told expect moder cramp day bodi adjust light blede month hope wil worth',\n",
              " 'say never ever taken apli medic cold sore efect valtrex mean ben deal viru forev tri everyth doctor gave prescript hand wek ago afraid ask pharmaci day ago though woke infam tingl ran file mese dosag caught reali began disapear mid nd day practicali flat typicali swel badli day back normal thank god valtrex tri',\n",
              " 'tri heat pad freze pad gel tablet reali plea saw advertis tv tri expect al surpris work neck pain hip pain back pain complaint worth give go may suitabl everyon work',\n",
              " 'lay weigh benefit claw insid vagina v continu let medicin take efect wish anyth never insert devil cream insid bodi first place night one go tough yi use ever anoth night mild itch noth compar itch sandpap near would use repeatedli insid fel heart beat vagina pain fele',\n",
              " 'dont know',\n",
              " 'tok almost twenti four hour work decid take two rather bed read drink lot eat help reduc stomach cramp read horor stori nausea projectil vomit cramp wors give birth brace ned reali al ye felt litl sick stomach becam bloat throughout day went bed terifi go wake cripl agoni noth woke folow morn stomach felt like wash machin folow diarhoea al morn cope shot kind hurt one cramp sweat fele faintn',\n",
              " 'day take doxycyclin chlamydia infect went away aw side efect doxycyclin though stil day final dose',\n",
              " 'fyi al medic diarhea way bodi get rid toxin know antibiot o work side efect nausea heartburn mangabl diarhea actuali god sign end near wil fele beter get much dehydr think stope medic would recomend medic help al indic infect',\n",
              " 'work wel regular use',\n",
              " 'yr old femal acn sinc notic bump al forehead year along larg cystic pimpl coupl time year wek ago dermatologist prescrib aczon along antibiot oral topic solodyn ziana ben perfect trifecta treatment forehead ben clear sinc kid skin significantli le greasi highli recomend',\n",
              " 'ben qd pil mani year without problem year insur chang pharmaci isu sharobel place thought fine sinc exact amount norethindron wow wrong luckili got thre month supli quit pil two half month pil period blede everi day blede get whole deal cramp lower back pain hunger crave crankin bloat skin broken ben super irit modi understand side efect extrem previous qd long experienc none thing',\n",
              " 'stope cough sever diarhea figur hapen twice',\n",
              " 'start take bc pil yr old began use sprintec mayb either way hapi bodi cycl get period usuali time everi wek day cramp lighter oc never ben pregnant knowledg say remot god take time everi day sprintec reliabl opinion would recomend someon interest loke bc',\n",
              " 'alerg morphin demerol sever pain medic tok toradol sever neck shoulder pain work litl upset stomach tok antacid went away work beter alerg pain medic also work wonder surgeri taken day use caution kidney liver diseas use caution use blod thiner also make drowsi fast heart rate dizi',\n",
              " 'packag horibl take page vagifem work deliveri',\n",
              " 'ben decent definit sen cut back oil product acn neck howev ben gete breakout chek forehead never reali se much difer le oil acn locat preti much reloc',\n",
              " 'start birth control month ago right left coleg august read review ifi ob promis everyon bodi difer tri first month okay hapi ever coleg got horibl cramp got first period period reali iregular figur nede adjust come late octob novemb decemb ben worst month life cri everi day lost boyfriend plane start therapi want go back schol noth make hapi want noth al time everybodi bodi difer depres even worth risk take',\n",
              " 'side efect reali heavi period two day take extrem hot flash make extrem warm cold day last hapen head soak sweat',\n",
              " 'glad finali read review pil peopl lie say worst recent found vertigo deal thought vertigo symptom much longer doctor said would last symptom pil vertigo extrem similar constantli light head almost everyday sometim point even drive make nauseou focu work think peopl said give mod swing dramat anxieti atack regular basi definit gain weight sen acn get wors take pil',\n",
              " 'pulmonari function test best ben year sinc switch advair disku alvesco fel much beter',\n",
              " 'al life typic night would start hour lay bed fale aslep wake sever time troubl gete back slep bedrom light block curtain plu white nois machin stil troubl gete five hour slep doctor prescrib ambien cr rozerem sonata restoril trazadon tri benadryl melatonin valerian pil noth work wel long term tri quetiapin take mg minut bedtim slep god hour daili vivid dream nightmar year lo efectiven weight gain god dose morn cafein linger grogin either',\n",
              " 'prozac literali save life twice first birth son mg strugl ob compuls disord depres sever anxieti prozac along therapi made abl live normal life almost year recent horibl bought anxieti finali come nightmar lot life stresor brought anxieti caus break much tri come dr increas dose mg ben mg exactli wek today excit cautiou say woke morn heart beat chest ben abl enjoy day',\n",
              " 'ben orsythia month start second wek second month gue notic earlier start get slight headach fel wel physicali mentali help cramp period much acn beter worst part orsythia mod swing sweat sweat lot even cold l start light sweat gro mod swing worst start fele hapen talk one friend blew reason later start fel reali bad mentali cri figur cri recomend',\n",
              " 'nilstat clear white spot mouth within day throat le sore could start eat solid fod first time sinc radiat treatment wek third botl fuli clear al thrush throat chemo radiat heap antibiot hard case',\n",
              " 'caus thing rememb afterward would cautiou first take medic',\n",
              " 'never ben upset embaras outburst anger day scream daughter water park wel por son airport believ agres behavior gete',\n",
              " 'wel use mg per day togeth rexetin paroxetin fluonxol sometim xanax use much medicin manic depres tendenc self harm slep disord like medicin kind dream slep normali dislik low libido boyfriend think someth wrong even say side efect medicin take sem like quot must quot action without pasion strang difer great sex drive',\n",
              " 'unprotect sex day start ovul tok morn pil hour sex hour take pil cramp blede felt reali tire next wek breast tendern sometim felt like cramp advic take asap panic read plan b horor stori go plane parenthod talk someon ned peac mind chat someon onlin help lot got period two day earli slightli heavier normal tri relax let pil take day day go okay whatev hapen go okay',\n",
              " 'diarhea side efect',\n",
              " 'slep apnea stand mask without drug wake constantli stope breath take mg diph hour want go slep coupl puf indica night time pot legal work like charm stay aslep hr long time litl grogi wake goe away coupl puf sativa day time pot ben toker yr god lot use doctor say agr pot easier bodi mind prescript drug anxieti insomnia depres pain lo apetit make edibl gum etc hate smoke',\n",
              " 'ben take neupogen low wbc prior chemo gete sever mosquito bite heal hemorhoid go away four day acid diarhea cycl oncologist decid tri neulasta hemorhoid le pain acid diarhea sem gone away experienc daili ach larg bone thigh hip sternum lower spine tylenol help know count til next wek',\n",
              " 'first reali like nuvar super easi use nice abl forget wek could fel everi uncomfort one month end worst acn back chest ever life acn bad almost thought reaction tok nuvar within wek skin clear side efect besid acn acn someth deal switch back pil',\n",
              " 'tok first time today migrain made sick stomach sever nausea crampi stomach pain wil take',\n",
              " 'sufer year migrain use imigran work finali decid use nasal spray migrain reali work wel want sometim migrain reali bad anyth get bad side efect swolen toung reali sore sensit mouth would rather migrain god over',\n",
              " 'start pil coupl month turn turn year notic weight gain quit smoke time reali know caus period exist anymor doctor told skip placebo never bled stil spot random time year usuali twice year light wear anyth notic mod swing gete preti bad certain time over pil work great isu yet',\n",
              " 'ben take day side efect except alway thirsti se posit forc drink water al day long get litl hungri meal time get ful fast eat smal amount fod make gren smothi breakfast totali fine lunch yesterday yogurt honeydew melon work day pm ate snack chese stick coupl piec turkey al coupl piec turkey hungri usuali snack lot eat much biger meal weigh yet wait til saturday wek weigh last saturday',\n",
              " 'love product year old acn long rememb stuf reali work ben use two wek best skin ever ben highli recomend',\n",
              " 'wonder experi mirena zero side efect ben great cant believ mani neg review everyon difer someth work everybodi sister didnt like mirena taken paragard absolut love honestli cant say anyth bad iud think awesom pil old news new gener woman cant take control bodi chose readi babi',\n",
              " 'cramp get daili headach truli believ patch wil finish month mayb go minastrin le estrogen decid yet would love natur famili plane side efect worth',\n",
              " 'first two day take medicin experienc bodi ach al headach thu tok aspirin even tri alevi pain third day beyond felt fel energ headach backach mental clariti reliev say give medicin time kick get system thank',\n",
              " 'caus anxieti panic atack',\n",
              " 'birth control seme fine first day start fele like bad mod swing fele breathl wind even site blod presur would spike reason felt extrem slugish one day even mild heart atack symptom bodi definit react wel medic',\n",
              " 'got skyla insert thre wek got mari virgin pute skyla fast easili pain experi entir life sound like someon shote ruber band gun fel like someon shot uteru cramp worst cramp entir life focu tear reali pain experi ever cramp pain blede stop two month period stil extrem pain bad mod swing get depres al time libido definit decreas husband also fel wire sometim pain pregnant work sure worth side efect',\n",
              " 'yr old male fortun never acn kid throughout coleg year around th birthday start break initiali bad thought stre grow deal adult isu howev kept gete wors tri al otc med wast hundr dolar went dermatologist put diferin great first wek rough thought quit lot stuck face clear main thing new user know wil work overnight wil prob get wors get beter stay',\n",
              " 'hour take boniva mg start experienc sever flu like symptom fever extrem pain bone joint',\n",
              " 'prescrib infect kne love hate relationship drug sure trick clear acn wel side efect horibl everi singl night would stabe fele back chest would last hour caus lose slep would recomend absolut necesari',\n",
              " 'birth control year proces painl bare get period cramp notic iv ben gain weight ben hard lose iv ben lot mod swing alway fele angri depres crazi sex drive',\n",
              " 'love take pil scare birth control due side efect weight gain mod swing absolut symptom al pil definit recomend sinc given neg side efect al long stay efect wil continu use loestrin glad found reliabl birth control',\n",
              " 'paragard iud twice first time around month remov due pain sex everi time love though hormon regular period end gete place year later time around amaz pain sex honestli even fel almost none exist period heavier first day crampier first day far ben fav bcm al reali recomend',\n",
              " 'second year thre acn problem litl weight gain pound iregular period noth new best thing rememb think birth control got pregnant',\n",
              " 'life saver chronic sinu problem ocur twice year slight stomach isu initi dose knock brain fog best night slep month alway take fod wil isu made fel beter hour initi dosag use flonas open pasag help get al thing work sinu problem',\n",
              " 'medic gave worst experi life made slepi ye time sped mental discomfort made muscl jump similar restl leg syndrom throughout entir bodi bad revers benadryl alevi symptom finali gave mixtur valium demerol put twilight state pase medic alergi even mild would strongli advis medic',\n",
              " 'arm bruis gete implant wek period came whenev want stay day time month period complet gone away horibl hormon chang mod chang gain almost pound quickli gete implant insert birth control year two half year got pregnant knew worn lost weight felt like find pregnant made apoint get implant remov could normal pregnanc end miscariag implant could get remov big weight lift shoulder gete remov',\n",
              " 'constip day tri citrat magnesia made move tini bal noth el tri prune oatmeal prune blend oatmeal fig newton bran mufin drink glase water min apart walk noth gete impact consid take enema point tri mom instead tok two ful dose equal eight tbsp sugest nurs know previou situat one ful dose work upon impact drank two ful glase water folow probiot read doctor tel someon folow mom probiot healthtrap tok hour glase water slep',\n",
              " 'prescrib rheumatologist fibromyalgia mg day ben two wek take night cymbalta help lesen pain dramaticali improv mod hapier much relax two side efect far constip troubl slepe hardli slept al first night two stil slepe hour wake earli like posit efect enough weather con least',\n",
              " 'zoloft year year ago social anxieti work great decid get slowli al symptom came back also got depres got back zoloft month ago fel great get night guard dentist chipe two teth crack molar grind teth mg daili',\n",
              " 'take topamax thre year help start gete eye pain behind left eye eye would throb like bird peck went sever doctor u l dr figur topamax caus problem med litl pain behind eye',\n",
              " 'weight lo experi phentermin suces earli doctor would refil agrement would stop everi thre four wek blod presur check sinc blod presur never isu everyth el god continu daili time releas capsul mg tok day get use al god six month lost pound grate slow steadi weigh pound fel god exercis eat lot veget tri kep carb minimum mind portion size phentermin work highli recomend',\n",
              " 'ben wek side afect watch eat stay away carb sugar wil gete mari june ben tri lose weight sinc last sumer folow so diet strictli go gym time wek much chang far lb wek one hope first time long time',\n",
              " 'got implant march right decid stop use shot birth control method first month love side efect bother get period use shot reason decemb got period last day ye day straight day heavi spote light blede rest day heavi amp pain also ben break nonstop sinc christma acn never ben aw readi take implant arm go back shot sad hope stay year worth al breakout never end period',\n",
              " 'take morn sickn fel like given life back lost lb day due nausea vomit sick anyth todler home tel start wear hr nausea come right back l take back litl drowsi side efect alow eat kep thing present famili life never thought hapi take medic thank zofran',\n",
              " 'plan b one step lifesav boyfriend un protect sex within hour incid tok pil paranoid hel sure whether pil would work first time take also young experienc mild cramp head ach nausea five day period came time key stay calm let pil job',\n",
              " 'pil made extrem emot anxiou',\n",
              " 'develop sever case psoriasi son th birthday bodi cover year tri everyth sun includ steroid puva al topic embrel humira methotrex thing ever help metho tri go would unabl leav hous month end live excruci pain ben metho year resign life wekli nausea chronic lethargi new doctor sugest stelara tri posit would fail like everyth el tri life began ben year part complet clear ben miracl',\n",
              " 'solodyn great start work fast side efect',\n",
              " 'jardianc gave back pain dehydr decid drink one gla coconut water everyday reliev pain work',\n",
              " 'ben anxiolyt longer amp fel work best control panic atack',\n",
              " 'pro lighter period cramp much le pregnanc scare litl nausea first wek migrain con horibl modin depres anxieti fele insecur weight gain though le user pain intercours year pil went month due insur coverag isu notic imedi improv mod energi go back depres mod swing start back notic extrem drop libido though experi horibl neg other wil loke anoth birth control',\n",
              " 'surgeri scoliosi spinal fusion year ago sinc neck lower back without fusion ben colaps curv ben diagnos degen disc diseas pain began extend hip shoulder becam impos function dificulti gete move around dificulti basic daili chore woman child wonder right ha ha anyway doctor prescrib ultram er mg year ago given relief part last year think ned increas dosag know back wors pain gete wors howev ultram ben life saver',\n",
              " 'medic ben life saver year old femal diagnos irit bowel syndrom year ago year ago primari care doctor sugest medic find suce anoth patient mg day bedtim ib symptom fre use bowel motion day regular life difer medic start medic extrem dri mouth went away coupl month sometim becom constip someth never life',\n",
              " 'side efect bit anoy sometim work l put side note take adit welbutrin cymbalta al rsd intermit pain extrem mild comparison combin',\n",
              " 'boyfriend unprotect sex day ovul although tok plan b hour later stil super paranoid next wek half tok pregnanc test calm nerv thought go stil get pregnant due time cycl sex howev pil work perfectli side efect whatsoev two wek later got period read review onlin plan b situat like mine calm nerv anyon know stuf reali work wori unecesarili',\n",
              " 'wish tast sucralos obviou wait drink get water chaser start bathrom hr later hour problem slepe pm til extrem cold chil tripl blanket stil shiver take nd dose pay prep',\n",
              " 'throat stil reali sore stil fel reali sick tire day al dose finish sever burn itch vagina sinus stil fel inflam',\n",
              " 'start take synthroid mrg oct thyroid cancer thyroid remov friend told tri armour thyroid wil fil alot beter tok advic gave mw name dr wil perscrid armour thyroid ben take mrg amour thyroid fil great tel difer tok first pil energi level high dont ned nap day',\n",
              " 'year old coleg student got prescrib vyvans day ago take mainli fel relax sometim excit never ben stimul ad medic main concern lose weight medicin quot weigh lb eat lot stil fairli skini alway wori weight last thing want get skinier',\n",
              " 'start vyvans mg year ago stil day extrem concentr motiv throughout entir day medic save life loke back everi sinc plu lose weight plu',\n",
              " 'ben birth control year start pil depo shot year back pil seasoniqu okay switch gyno help copay recomend jolesa tri ben almost month ben pm ing sinc start breast constantli sore sever mod swing headach mention pound weight gain alway exercis eat right definit switch',\n",
              " 'strang gave smoke year help efexor',\n",
              " 'stil flare up day time skin complet fre redn especiali hour apli lose efectiven hr tube open tri stretch past day efect god tube first open found rememb take wek first start use along topic cream night skin start chang script ran went without wek hate skin burn hurt stope use time although complet elimin system sure help wil go day without',\n",
              " 'ben patch month absolut love first form birth control personali gag take pil within first month use patch lost pound sex drive high breast got litl larger slightli cramp wek patch mind rather cramp period entir month recomend patch anyon want form birth control want gain weight',\n",
              " 'spinal stenosi level lumbar spine bulg protrud disc could hardli sit walk month hope surgeri ea pain drive longer minut exercis like use could hardli work doctor put cymbalta wek ago within day almost al pain gone stil numbn lower leg fot longer take percocet wean morphin night time cymbalta gave back life hope continu thank wonder medicin',\n",
              " 'product efect',\n",
              " 'start methadon day ago oh gosh ben amaz felt beter last day last coupl year chronic pain ben almost al opiat fel opiat adict think methadon god send would sugest methadon anyon batl chronic pain isu',\n",
              " 'bump chin everyday sinc tri everyth includ clarison expens face wash cream etc thankfuli dermatologist prescrib atralin skin practicali perfect initi break wek half sudenli skin perfect bump smoth make face rather shini use sinc dri skin hapi product nice wake everi morn great skin worth price tag wash face nightli bobi brown quot extra balm rins quot use gel apli heavi moistur get atralin wil chang life',\n",
              " 'horibl experi w loryna tok acn rd wek skin bad mirena iud give teribl anxieti mod swing acn kile',\n",
              " 'tok year ned insur wont pay medicin month want crestor',\n",
              " 'bad experi time tri ben ambien mani year dr want tri someth el rozerem made extrem anxiou oposit nede heart beat fast fele nervousn anxiousn tri time al mayb alerg',\n",
              " 'nexplanon put arm virtuali pain fre bruis tendern around inject site symptom first month mayb headach start blede though ben everi day day enough ful blown period pain cramp first day normal period optimist tho hope wil eventuali period',\n",
              " 'first birth control ever ben ben pil go two year job field prevent pregnanc thing dislik get modi time skip pil doubl next night get real bad headach experienc weight gain wel girl care like al say everi one difer',\n",
              " 'ben take mg ciali daili last six month say enough much help erectil dysfunct erect firm last long enough two orgasm discov someth el take ciali ben deal symptom depres sever year tri sever anti depres medic teribl side efect mention made perform isu wors sinc take ciali notic depres al disapear research discov studi report ciali help depres men got life back fel great',\n",
              " 'ben medic coupl day heal stomach line scratch acid reflux esophagogastroduodenoscopi edg done medic heal stomach made heal wel protect ever come back rsquo told doctor thing notic far medic give dri mouth dri throat alway best kep mouth clean ice water help lot thing go walmart buy bioten dri mouth moistur spray work excel brush rins mouth also use lip moistur irit lip also find drink lot water yo',\n",
              " 'month chang total wast',\n",
              " 'best bc tri take one month minim side efect breast slightli increas size weight gain acn take night know headach nausea day love',\n",
              " 'daughter ben take medicin sever month treatment urticaria efect',\n",
              " 'went water park coupl day later got yeast infect like previou year finali decid damn water park notic one seriou swolen itch hurt cri husband al day went go pil would take time day reali help much got cream insert scare know slowli put cream insid slowli push al aplic even minut went itch burn unbear instantli got shower tri wash water help lot got felt lot beter go thru relief',\n",
              " 'pil nightmar random hot flash would last hour would ned lay imedi go quiet place sit get air also random lo apetit would super hungri order huge meal bom hunger gone pute last pack fire',\n",
              " 'use cure uti spread kidney infect side efect absolut horif deal much longer supos take mg x day day cute short l day day alreadi want stop side efect bul al day long nausea bul extrem constip bul abdomin cramp pain ga trape constip bul difuctli flactuat bul apetit whatsoev everi fod sound disgust hard eat bul anxieti fear mix dep sadn bul fatigu weak bul fele like slowli die tri make day day day bul dehabilit hardli want go anyth ned sit lot',\n",
              " 'worst birth control ever ben got juli first love period anyth start gete bad migrain go away mod al mese along gain lb stretch mark everywher arm stomach side hip pase kne everywher acn ever alway tire insomnia point go day hour slep almost fit anyth afraid wear short anyth caus al stretch mark get itchi rod stop ben want awhil wait monday',\n",
              " 'year ben sufer sever muscl pain finish household chore doctor prescrib medicin reali say reali work pain gone thank soma',\n",
              " 'miracl pil worst panic atack noth compar efectiven xanax',\n",
              " 'start trulic far side efect im use drink lot water im bother dri mouth hope help doesnt give kidney damag il kep u post',\n",
              " 'ben use patch year ben buy mexico sinc usa get month one time ran month al love easi rememb side efect got pregnant year ben mari period sinc regular know exactli come use long heavi lot cramp last day max day regular blede rest light get day cramp heaviest day get sensit sore heavi bob period come came sensit sore bob bodi crazi',\n",
              " 'ben experienc dramat weight lo buspar read last coment preti much spot get hungri anymor quot femal weigh lb lb two month medicin also notic sem sever ocd thought take medicin begin al smoth sail sem like work go tri anoth medicin',\n",
              " 'wish around back high schol strugl acn whole ten adult life taken yaz year skin never lok beter yaz doc tok last year gete headach concern estrogen pil caus year mini pil frequenc headach ade teriblen dep cystic acn hapili back yaz alreadi se improv skin complaint mainli husband slightli lower sex drive',\n",
              " 'work okay back pain time first start take got reali bad sore throat u mobic would ben abl get bed throat felt bad could hardli talk eat drink take mobic tok pain away hour take anoth therefor bad sore throat inflamatori condit tri mobic se help',\n",
              " 'neupro patch bomb rl bother even day neupro slow releas patch leg jiter awesom say enough provid ben give sampl pay yet hope expens would hate abl continu use due pocket cost',\n",
              " 'dont reali use lax life felt bit constip tok two pil thought wil enough due size got reali bad cramp lot regret lax worth pain way tok hour pil kick way shorter interv time expect',\n",
              " 'pristiq god job reduc symptom dramaticali howev gave much return made life complic mean lb weight gain year kep grow everi month also canot slep night could se vivid dream nightmar almost everi night make wake fele tire adit withdraw symptom forgot take dose vertigo nausea headach absolut could function',\n",
              " 'unreal difer side efect minimum mg day one stop shope teribl acn cyst everywher month almost complet gone',\n",
              " 'prescrib anxieti instead threw worst ful blown panic atack ever totali mind',\n",
              " 'caus breath problem',\n",
              " 'ben birth control month first experienc modin emot stil sometim whenev start new pack howev period much lighter last wednesday sunday come somewher nightmar period heavi blede would mi schol great plu skin also clear tremend face control would alway get back acn break back anymor also gone two cup size definit complain also job prevent pregnanc',\n",
              " 'wel yesterday found genit herp oral sex boyfriend cold sore honestli thought mater thought heal notic symptom itch burn shok thought yeast infect next day swele hapen sore slep gyno perscrib valacyclovir far ben work litl bit stil burn go bathrom first day provid relief though none fel alon definit rememb stay posit kep head suck also rememb one litl mistak hurt real bad',\n",
              " 'start take medicin work take presur heart caus arthriti kne hand fet pain time hand develop arthriti thumb fet toe tri anoth astra zeneca product cale atacand work beter expens aford buy',\n",
              " 'year diagnos narcolepsi exces daytim slepin someon knew narcolepsi wel recomend ask doctor xyrem glad wek take start fele normal stil quot bad quot day beter best day prior take xyrem thing like list side efect unclear stomach isu lo apetit signific weight lo begin think someth wrong side efect list websit state search forum find other type symptom',\n",
              " 'love medicin help much arthrit pain side efect eye check up everi six month give tri',\n",
              " 'ben medicin aproxim one half wek improv coliti imens far think continu use cost',\n",
              " 'alway ben smal person lb overweight nd go around thought would tri ali instead go get prescript time cost plu ben use wek absolut noth help curb apetit anyth seme eat thought would tri take sugest wel noth either wil report side efect iln anyth like read post ali big wast money wil go get prescript work ali substitut prescript diet pil mater state',\n",
              " 'use medic year ago migrain sinc time husband join armi move sever time etc time start al migrain treatment hemi paleg migrain would give eye teth one doctor let take stadol n work wel mainli even nauseat would stil quot kep quot medic nasal spray form medicin wonder drug oh wish could',\n",
              " 'yow guy test april vl major fever event start earli treatment insur isu nede year signor insur co apli hiv treatment one year later number jan vl cd start atripla year later test april vl time higher diagnos cd wek take atrilpla number vl preti amaz drop cd preti hapi result dr expect becom undectet ask continu two month se progr absolut side efect except fele bit high first wek',\n",
              " 'tingl itch numbn hand sleplesn lead insomnia higher glucos number mater diet near diabet',\n",
              " 'start saxenda lost pound increas dosag wek start mg dosag constantli felt nauseat fortun stope side efect weigh wil let doctor end month',\n",
              " 'sufer sever headach two day start yaz headach continu almost everi day pil year finali switch longer headach',\n",
              " 'excel control atrial fibril significantli improv qualiti life',\n",
              " 'excel medic bipolar disord although reaction',\n",
              " 'hate drug wil alow slep dri eye nose cri make zombi',\n",
              " 'ben colonoscopi prep year foulest tast stuf ever encount',\n",
              " 'helo everyon wrote review retin two month ago month mark back litl month mark stil plea skin gete beter slowli stil use wear medium ful coverag foundat wear thin layer tint moistur satisfi around time month get big pimpl definit notic tretinoin limit number amp size amp recoveri time acn hopefuli christma month mark birthday month wil clear skin god luck felow tretinoin retin user',\n",
              " 'year old male benefit medic schol ad wel known back diagnos hyper dyslexia alway thought strang se leter backward acept oficiali diagnos ad mid taken medicin option past year includ concerta stratera ader ritalin ritalin la slep concerta mind stratera ader like pope cafein pil ritalin high mainten neutral hour found ritalin la magic bulet best found far cost x gener worth',\n",
              " 'year old son sever adhd od anxieti start vyvans mg depakot twice day kapvay even last wek wori talk much like sped ran around hous loke paper bok pen write never sat stil pleasant start vyvans howev alway say sorus blurt plea thank unheard start vyvans notic around vyvans wear agres whine came back vengeanc ade anoth mg kapvay schol depakot result amaz pleasant al day long',\n",
              " 'diagnos bipolar disord year ago share tri difer medic get control multipl trial medicin doctor finali found right combin lexapro lithium depakot sexual side efect synthroid trazodon night multivitamin b vitamin combin work great get mod swing control mod swing control start extrem anxieti atack diagnos anxieti disord wel doctor prescrib mg klonopin time day nede lifesav klonopin knock anxieti within min ben take yr great result',\n",
              " 'start liquid prozac due sever medicin sensit ben lifesav curent mg fel much beter doctor would like get mg wil wil slowli one size fit al far dosag goe sensit medicin think liquid prozac easier control dosag minim side efect wonder',\n",
              " 'ben take loestrin almost year first reali problem love use period ful day straight reali heavi get day super light amaz side efect hate though get emot easili anoth absolut sex drive went al time twice month fel bad alway get period day start brown pil month goten want reasur gete least day freak think pregnant',\n",
              " 'take least wek kick reli tablet make sure drink lot water god fod notic chese make acn reali bad taken tablet year help extent get bad side efect reason make ned toilet time night make wonder tri help blader tablet bodi confus also get bad headach toward end day say sever migrain come go skin specialist instead worth headach',\n",
              " 'one sen handl mani symptom becam complet difer person longer al made mani mani horibl decis afect famili friend busin etc adopt whole new set valu anymor finali decid go spent month withdraw symptom splite capsul everi day graduali reduc amount grain',\n",
              " 'clonazepam drasticali improv life use afraid go slep serious injur slep adit harm other one night teror requir surgeri decid time se slep physician smal dose clonazepam slep great highli recomend',\n",
              " 'wisdom teth impact sever caviti wait surgeri doctor prescrib vicodin pain work wel long continu take everi hour tel medic wear jaw start throb',\n",
              " 'mg zoloft chang life',\n",
              " 'absolut teribl stuf first colonoscopi experi wil make sure never stuf entir life first dose tok long time choke stay second dose easi tok god quit long period time tast medic overwhelm vomit sen recomend suck lemon betwen sip use straw bm preti much think al fine procedur hour rate efectiven everi aspect complet unbear',\n",
              " 'yr old femal medicin greatli improv atent abl complet task work organ work home problem heart would beat rapidli night kepe awak stope take blod presur increas significantli',\n",
              " 'ben pil month first month ok fel difer besid slight water gain first period come th day placebo pil nd month nipl tendern everi singl day suck hurt work period come rd day placebo pil would say god contracept besid nipl tendern side efect like switch difer contracept due nipl tendern',\n",
              " 'help back pain',\n",
              " 'unfortun experienc bad side efect implanon month ben blede non stop sex drive whatsoev gain lb made apoint get remov take blede weight gain depres bad anxieti god thing goten pregnant birth control',\n",
              " 'work never slep downfal take long kick woke hour later fele fine',\n",
              " 'everytim tok frova end rebound migrain day afterward simpli worth went back imitrex caus rebound migrain',\n",
              " 'tok mg cozar x daili day bad dream lighthead dizi start nosebl stope take cale doctor today',\n",
              " 'complet work birth control even forgot take coupl day never pregnanc past year start break badli would fel pain open vagina sex literali felt like cut certain spot check imedi gynecologist figur stope sex month se someth nede heal never went away pain would almost cri everi time made scare sex never thought could pil recent stope take take break pain went away wek also got pregnant within month stope',\n",
              " 'work great wil never use anyth el nd time third plane babi also breastfed',\n",
              " 'sufer sever anxieti gad take klonopin time went sensit medic tri mani difer sri snri year horibl side efect finali dna test se would respond result pristiq start sever month ago smal dose split pil even though say within day anxieti literali went away abl cut klonopin two month period first wek two extrem tire pase side efect get time time migrain stil amaz anxieti disapear longer kep klonopin pocket',\n",
              " 'start belviq fre day prescript day lost pound decid get day prescript sinc belviq save card think wil tri month two se goe reali experienc side afect blod sugar way lower normal god thing although reali sure fel eat much day sem get fuler quicker normal eat stil get hungri ever wil gete back regular exercis son hope wil help gave quot quot se goe finger crose',\n",
              " 'prescrib medic u virgin island uti doctor prescrib day worth two pil day ben take prescrib dose felt much beter except one ful day yesterday back state continu take medic sinc start take antibiot unl doctor tel go go famili doctor tomorow figur pe blod smal blodi deposit urin',\n",
              " 'great medicin tri ton treatment last option mg start work side efect besid increas apetit litl tire first lifesav',\n",
              " 'ben duloxetin wek mg first day teribl diarhea felt grogi almost dream like state first wek prescrib cymbalta migrain gener anxieti wek start fel normal anxieti wors expect wek notic migrain le frequent toler pain beter also start fele hapier le anxiou wek anxieti almost gone n migrain gone daili mayb everi day le sever worth first two wek fele crapi',\n",
              " 'stil earli stage take xyrem wek chang life almost never take nap narcolept episod significantli reduc get around hour slep everi night stay awak isu al day sometim morn fel litl grogi get back slep sure medicin wear goe away shortli get',\n",
              " 'depres got wors caus mi work ben difer antidepres year pristiq help al headach fogi nausea also shaki time',\n",
              " 'wene efexor mg mg past wek start cymbalta mg day ago stil horibl advers efect come efexor efexor work great anxieti sever pmd make extrem slugish also chronic back pain past year doctor want switch cymbalta wel transit withdraw ben teribl lot cri panick reason crawl skin etc tok one vistaril found help dr prescrib vistaril mg everi hour nede ben god send help anxieti transit also ben help son anxieti wel',\n",
              " 'ben mg lithium day day l mg graduali go sufer bi polar amp depres year ben difer antidepres antipsychot mod stabil noth seme even stabil past month goten bad thought suicid constantli depres easili irit cri litlest thing lithium far save fel best felt long time side efect yet mind complet clear neg thought although ben day hope thing wil kep gete beter glad tri lithium',\n",
              " 'al say ugh taken birth control year decid smart go back ben apri wek totali fel sad depres also random cri spel apetit increas al skin broken skin ben super itchi al sinc ben ben gete stomach pain headach birth control work difer everyon definit plan switch new birth control pack finish',\n",
              " 'day side efect reali kick nauseou point think pregnant vomit headach increas one day think hang over symptom bv gone medicin make sick',\n",
              " 'hey tok elaon h condom slipe cost euro first day side efect except major sickn think nervou could eat anyth dont wori devast horifi two whole wek work hapi wori gona okay first day skin got bad lot cramp hey worth got period wek late al ok',\n",
              " 'first put abilifi efect ben use medic develop galston fati liver high triglycerid definit diet vegan year strict eat get galblad remov think take psychiatr drug year wel note abilifi caus galston fati liver high triglycerid ben constant pain thre month year take abilifi may discontinu use start someth new over mod disord highli efect use treat bipolar depres',\n",
              " 'doc switch due isu morphin sulphat er mg thre time day put hysingla er mg day oxi mg x breakthru pain ben two day constant pain level med bad day disapoint mention cost doubl know dose two low consid long ben pain med gue could ask mg se work mg hack al tire govern stick nose health',\n",
              " 'ben sprintec two month doctor told want skip period could skip white jump right next pack decid ben blede past wek unexpectedli throughout day never acn ben sprintec forehead ben spote also breast becom larger believ sore touch almost everyday gain lb sex drive gone halfway activ also ben fele bloat totali satisfi product totali disatisfi sinc obvious work debat go though',\n",
              " 'tok year throat swele fele like someth wrape around neck swalow isu hoarsen blame oper remov cyst neck symptom procedur acord ent stope use two year copd worsen doc put back bang symptom came right back tudorza beter without side efect',\n",
              " 'diagnos chronic myelogen leukemia octob prescrib unit tasinga per day pm remis day thank god medicar get help co pay psi mild nausea first take pil mild constip shortn breath also copd ben take tasinga yr start notic hair thine told take life thank god everyday medicin wil gladli endur minor side efort exchang longer life',\n",
              " 'unprotect sex two day period tok plan b one step le hour later low behold work even got symptom pil wek later blede like period day tok home pregnanc test al lightli came back posit cale plan b number box report experi tok inform pul number box let tel peopl plea use condom found yesterday pregnant me plea safe reli partner safe thought obviou nede pul sorus graphic honest dont think plan b even work',\n",
              " 'develop eczema turn start dupix initi dose day ago day thought work itch subsid howev sad say condit flare wil continu treatment month reas far depli disapoint',\n",
              " 'ativan great medicin glad psychiatrist prescrib mg time day though use wel klonopin ativan get slep sometim klonopin kep aslep over believ god send',\n",
              " 'phenomen put weight fast start se fel result quickli motiv fele gain pound far sinc late march earli april quot start goal weight think wil give ful figur curvi lok want seriou weight solut god luck',\n",
              " 'got implant put decemb today januari last period period mainli spote agr wek half discharg brown discharg head ach stil head ach also gain weight pound far like would refer anyon want kid next year',\n",
              " 'weigh med first start wonder drug point wil either ned wil sufer toler withdraw justifi horor stori drug take wek two problem wek hard get ben wean month',\n",
              " 'alway hurt take statin refus yr take wek side efect pain ach memori lo heart doctor famili doctor push take repatha cholesterol septemb tri first inject ok side efect son tok third ben pain experienc life everi joint tendon muscl neck toe decemb pain increas instead decreas lay sit hardli move get back never problem hand kne fel like could fal walk hand fel numb tingl pain',\n",
              " 'stil hard consecut daili dose',\n",
              " 'alway ben vulner bronchiti pneumonia antibiot thing work leav bad tast mouth ye know day wil done beter prescrib would often take day antibiot order get beter',\n",
              " 'life strugl sever panic atack gener anxieti ptsd amp moder depres ben med twice felt beter amp would stop take last time ben close year ben sufer decid reluctantli go back med tri celexa work kinda okay past time made improv saw doc switch prozac al say wow best yet fel like old hapi self month mg first wek second mg last two give time work amp patient might make fel bit amp beter first miracl drug bad fele wil pa hang',\n",
              " 'work wel far second inject le hasl regular inject gel wori transfer girlfriend',\n",
              " 'tri everyth depres venlafaxin one drug help depres jump build suicid atempt wound paralyz whelchair venlafaxin tok work moth first tok mg much reach mg felt true efect drug strong antidepres efect mind clear fele warm glow al day depres anxieti gone even though parapleg hapi wish gave drug long time ago would whelchair reali patient find right dose ab one day l wake fel great',\n",
              " 'ben everi antidepres known mankind aw either side efect bad turn complet zombi point work question dr said would tri one cale prozac reason prescrib tok wek reach ful efect other tok le half time start take mg alway ben sensit antidepres side efect first wek experi light anxieti finali wek pase stil noth finali wek mediat fel like santa claus steroid save life',\n",
              " 'went bp sever year ago lower eat standard american diet year ago start eat whole fod diet limit proces fod take medicin would becom faint stand fast forward trip vega march went bu fel back standard american diet long ago stope regularli monitor bp four day ago woke headach cale parent inform make turkey day diner stil pil remain tok mg day sinc along day fast eat whole fod four day ago reduc',\n",
              " 'diagnos gener anxieti disord surpris alway anxieti panic atack unabl function time take celexa daili take month reali kick anxieti gone fel far beyond felt forev zoloft prozac work know truli gear toward anxieti high recomend mg fele beter',\n",
              " 'worst decis ever got depo shot wk postpartum think conveni birth control method oh wrong got start blede month stil blede limit sex due period blede preti teribl mod swing increas crave swet junk fod dizin tire slepi wel horor stori go back nd shot way wil never get anoth shot medicin transform non stop blede witch',\n",
              " 'start victoza today mg felt undeni uterli unwel canot imagin even tri second day sumari sever low blod sugar symptom raven hungri also prescrib weight lo wel diabet headach energi gener fele wel short recomend anyon',\n",
              " 'doctor gave wek abilifi mg sampl take adit mg welbutrin made extrem dizi dificulti drive safe due',\n",
              " 'year untreat depres anxieti panic atack decid finali ask help came form mg citalopram first wek mg anoth month bost mg next month time noth bad side efect instead fele depres sad got grumpi mad troubl sex drive perform insomnia ridicul partner told chang sinc start medic sinc come al medic live hapili without',\n",
              " 'sever skin infect use medic isu told overdos take medicin close togeth altogeth posit experi pricey though downfal',\n",
              " 'reason give instead side efect otherwis patch work reali wel overnight two day fish trip least experi thought gete cold fele sick get fish boat throat gete dri dryer dryer time awar one side efect dri mouth throat asid fel anyth anymor coupl day l use next fish trip l opt dri throat vers gete sick boat',\n",
              " 'work wel tsh supres',\n",
              " 'epiduo amaz tri al sort acn cream one like blese went dermatologist gave use second wek pimpl ea gone impres product wil kep use',\n",
              " 'supos inject skin muscl transvers mylyti diagnos w relaps m ben gete shot reason stope today ben day',\n",
              " 'read mani thing know believ post traumat stre disord taken slep aid health fod store left vertigo fele wel usual side efect ambien leav refresh howev one weird side efect sure first ambien usuali person cold like heat goten heat sick sever time live nyc air constantli heat wave made sensit heat super sensit usuali side efect get reali anyth except heat exhaust mean sweat etc',\n",
              " 'two year ago slep doctor gave al type slep med noth work med work take mg everi night year side efect',\n",
              " 'curent take minocyclin got face pel wek ago day face pel face stil improv wel start use epiduo cream face almost complet clear made face dri burn preti bad lotion bad al impres sure medic face pel made impact face epiduo help lot skeptic use product sinc read acn wil get wors get beter hapen',\n",
              " 'sem work gener anxieti taken larg dose twice day anyway sem caus weight gain though',\n",
              " 'start take zoloft wek ago extrem strese sufer ptsd due bad car acid wk reali notic difer strese anymor fel bit zombi like also problem memori focus also reali tire night over right gue worth trade also intestin isu hope wil go away',\n",
              " 'work fine eat first take pil min gone doesnt make slepi',\n",
              " 'birth control month straight went curent back absolut love weight gain acn lighter shorter period thing first start take spote month normal love',\n",
              " 'curent start take kepra last wek half experienc numbn tingl throughout whole bodi along fel like electr impuls shock tire al time troubl slepe hope side efect wil ceas side efect make fel reali bad way dilantin take',\n",
              " 'joint pain energi enthusiasm social life tiredn weakn low apetit femara extend life know sinc ben remis year take femara breast cancer start right breast year ago chemo radiat therapi stope year year ago matastas lung bone oncologist prescrib femara quot golden quot year widow year determin find relief pain relief depres hapi enjoy life',\n",
              " 'start take medic year ago doctor told non narcot non habit form time never adict drug alcohol unfortun depend drug slep howev work wel side efect wake fele refresh',\n",
              " 'skyla year far favorit form birth control background info never kid birth control afect mod greatli skyla afect mod slightest also experi weight gain downsid period longer day heavi experi cramp noth midol fix even rememb pain insert proce got period slight discomfort coupl day worth next year birth control',\n",
              " 'helo start psoriasi cover rheumothogist start methotrex shot wek wel folic acid everyday day shot curent day skin stope form layer stil red smal patch time got shot felt low energi low apetit seriou side efect must ad go methotrex start eat healthier detox bodi best month prior go methotrex harm god imun system go slep mode got load junk bad bacteria left wil take',\n",
              " 'take medic regul period scare read side efect especiali hair lo weight gain know everyon difer nd month experienc lo apetit stomach ach nausea vomit actuali lost pound awesom neasea vomit wek bad hungri anymor help make beter choic eat first month hormon howev think bodi goten use hormon far period hasnt ben long enough tel regul',\n",
              " 'nexplanon year absolut love isu period iregular big deal get period wek period fre month wil return problem plan use birth control method year love',\n",
              " 'literali chang life wear color shirt without wori sweat stain work first aplic doctor said experi quot mild itch quot wish would ben truth said quot practicali unbear itch quot longer use medicin le itch itch al anymor put use daili get dri pain rash underarm use everi everi day',\n",
              " 'born asthma ben hospit sinc birth old enough use judgement inhal decid tri primaten mist use year ned use mayb time month noth doctor gave ever work primaten mist kep hospit home famili',\n",
              " 'work abs toth side efect bad nausea fatigu sever diarhea malais',\n",
              " 'unbeliev god',\n",
              " 'ben testim month huge improv mod physic statur start work fel great strong sexi wife like libido increas reaction femal incred lost lb prior start se ab energi awesom motiv group busin part time love smel aplic daili chore worth',\n",
              " 'receiv pharmaci coupl difer time time fuli expect work like ale use work ale past would quel endometriosi pain amp bloat wonderfuli lutera time use pufe amp bloat much swear ingredi ale felt like totali difer god aw pil felt like perpetuali pm mode bloat highli uncomfort level someth ami pil whether even levenorgestrel debat ned scrutin level estrogen sinc gener exact horibl side efect avian sem work much beter',\n",
              " 'start tegretol day ago conjunct cipralex clonazapam taken last two mention year month ago never side efect know side efect tegretol apetit nausea sever migrain definit make hope le suicid le impuls hope physic symptom go away son never ben tegretol',\n",
              " 'fel aslep easili stay aslep al night hangov',\n",
              " 'ben jolivet month daughter born first al month old entir time ben period except day light spote fel like go bled forev heavi stop also made milk supli low suplement formula never acn bad life entir face cover stope use pil imedi would rather use condom deal nonsens use anyway sinc take pil time everyday alway forget wana get back pil l take normal one month done breast fede',\n",
              " 'ben orsythia year half regular cycl twice get earli last day brown true period recent start get bad acn everyon mention pimpl chin forehead never elimin breast tendern cramp though stray unpredict chang anoth birth control recomend',\n",
              " 'medicin made unabl breath went urgent care apeas boyfriend hound take med prescrib even though felt intuit urg son tok one minut later came cough episod hel throat close thought mayb cold air tok anoth one thing time chest tightn burn went anoth urgent care gave breath treatment z pack suspect bacteri bronchiti came home told man think side efect med said let take one ben cough litl let se work minut later migrain hel fever take trash',\n",
              " 'today third day flagyl bv weird tast mouth brush teth eat prevent yeast infect eat yogurt take probiot powder packet fizi mix water like emergen c packet also wear long drese nightgown around hous without undi help air flow heal prevent yeast infect health go comando take flagyl drink water dilut concentr urin al ben help stope side efect',\n",
              " 'eye red everyon think ben smoke wed bad lok hurt light sensit go ask chang someth el deal',\n",
              " 'litl two year due job chang move sufer mani anxieti panic atack one land er diagnos depres put pristiq time start work tok medic month slowli went like depend medic main reason go sex drive limit take antidepres start fel like slipe depres wil probabl start pristiq work wonder',\n",
              " 'tok around pm fel right slep problem kep al woke blew nose medicin work clear nose blew howev tast disgust stil cough',\n",
              " 'ben azor day also start mg cymbalta night sever headach time get time go bed also diarhea time time day azor stop pulsat heartbeat sound ear wil se dr day discu hapen continu medic previous cymbalta side efect believ symptom medic',\n",
              " 'start take year ago chose easi use rememb take everi day big plu downsid gain weight also experienc mod swing last sumer sun spot face never go stop use son tire mod swing',\n",
              " 'torn hip ligament due fal work find relief voltaren either oral mg x per day patch',\n",
              " 'decid use birth control constantli chang oral contracept aw mod swing gain pound month ben best birth control rsquo ben weight gain period mod swing get acn around time period month also pregnanc rsquo god skeptic use birth control read review rsquo ben best thing recomend anyon girl friend',\n",
              " 'bent lower back went left shoulder alreadi hurt month diagnosi doctor start mobic pt back pain gone one month shoulder pain slep al lot wheze start rune fever reason think may quit take',\n",
              " 'wrape wek pristiq first depres treatment atempt therefor unabl compar similar drug notabl elev mod headach slepin confus por cordin decreas apetit consist sex drive posit efect drug definit outweigh set back thank pristiq everyon difer therefor two peopl expect react',\n",
              " 'start take humira methotrex becam efect would never take humira entir life began headach got wors everi time tok humira energi level went noth help ra al drug given sever eczema hand fet underarm crotch ear canal never ben miser entir life help eczema al gone humira month flare stil eczema tel might life take drug rather ra pain al debilit side efect funi never said word',\n",
              " 'major side efect med amp help anxieti amp depres ben take month titrat mg med help mod diarhea temporari put mg mg work fine stil get diarhea everi amp wherea start vibryd someth peculiar sem sinc start vibryd gut intoler vegi ate fine start med letuc even organ groceri spray w preserv coke cauliflow etc run right comon pl afect w med never sensit sure corel crampi stay vibryd',\n",
              " 'think use pute perfum gel reali stupid mani peopl alerg also someon like cancer sore nauseat spend money made sick wash time hand skin stil smel strong gave headach made nausea wors ned perfum mention toxic unecesari ingredi wil never use wil sure let everyon clinic know',\n",
              " 'yr old femal start take mg twelv day ago first wek reali god felt calmer softer le agit fel depres experi minor gi isu noth deal wek fel slow tire unexcit go gym anymor fel depres crepe back cale doctor today ask could tri go mg hope get back track',\n",
              " 'fetzima coupl month depres stil reali bad doctor kept increas dose sign improv eventuali blod presur pul high come',\n",
              " 'first birth control brand experi brand compar isu heavi two wek long period pil sometim even longer think would eventuali level stay year never nedl say enough also pil felt paranoid thing never wori kept think someth aw would hapen whenev left hous switch band hope symptom stop especiali paranoia anxieti plu skin never loke beter period long minim cramp',\n",
              " 'tri prozac zoloft celexa none work wel would work mayb month depres crept back life start take vibryd recomend doctor trust friend life chang dramaticali beter wipe fele sex drive stay medicin ben god send fight get insur cover ben worth',\n",
              " 'bipolar medic mani mani reali help bipolar work almost instantan first went gain weight tri recov anorexia strugl stay bipolar gain weight eat ton god metabol zyprexa bring medicali ideal weight',\n",
              " 'start take child age first side efect minimum got lot weird bump al hand loke like wart doctor said either wait stop pil month finali went away tok year husband tri last month get pregnant turn al suden infertil alreadi one babi link necon',\n",
              " 'take mg seroquel xr month best part abl get god night rsquo slep ben gete hr rest night mind would race strugl stay bed would get start clean aditionali would spend hour creat plan organ life actuali folow plan depres tok latuda short period made inabl slep wors rsquo switch seroquel love way help fel normal bad gain lb month ask taken start take geodon canot slep go ask go back seroquel xr focu folow healthi diet',\n",
              " 'expens work neg side efect',\n",
              " 'tok sporanox aproxim seven month cure complet infest toenail fungu fet al toe sporanox start clear al ran capsul oversea unabl get refil stope medic period time fungu return previou state upon return u pursu anoth rx due concern liver damag liver healthi take extend period time sporanox sem efect cure much faster topic med use sinc although like said son stope take sporanox fungal infect return previou state',\n",
              " 'get shot got shot ago first everyth alright got period forev wil go away get worst headach ever last al day get everyday fel sick also start fel super modi sad bodi get achey start gain weight definit wil gete shot worth',\n",
              " 'sugest chil suprep fridg chil water soda gatorad great advic ye use straw put lifesavor pepermint mouth prepar suprep nasti tast ade cold water ginger ale fil line cup provid use straw hold nose quickli drank supra pepermint lifesav betwen gum chek betwen sip abl get nasti tast mouth mint lifesav pepermint reali help aftertast rd colonoscopi time actuali abl get without gage stuf ye like metal grape drink',\n",
              " 'mg day take sertralin mirtazapin think anyth doctor say know got bi polar schizophrenia lol u get honest stop wek thought noth never felt il life cold turkey anyon el mg',\n",
              " 'recov alcohol crucial find non narcot treatment persev pain chronic pancreat fele bit hopel repeat prescript pain med cours ofer temporari relief danger use gi prescrib gabapentin med ben incred suces mitig pain also give huge energi consist runer factor welcom alow move forward sobrieti give four star though realiz like anyth everyon said god luck al find work',\n",
              " 'expens worth uric acid rang sever sever gout atack everi year tri alopurinol work start ulor mg month ago minor atack first month sinc eat drink anyth caus flash doctor ofic cale uric acid level',\n",
              " 'hapi find review read got idea expect rd colonoscopi first time prep far much easier other canot chug drink smal amount chile prep use straw bit orang wedg everi sip even know prep tast like bite orang everi drink went fast',\n",
              " 'geneticali cur acn year young ten strugl acn forehead chek tri everi potion cleanser avail went physic doctor notic bad acn prescrib clindamycin gel boy work wonder sensit skin yet sem make thing wors ocasion breakout skin lok absolut fantast month use',\n",
              " 'medic absolut noth went back usual daili imodium one miser wek quot go quot almost nonstop even though usel say tri al difer best wish u al',\n",
              " 'year old male go seriou bout anxieti depres luckili place cale fredom fear staten island abl counsel fre charg afili columbia univers doctor prescrib new drug aprov avail prozac tok eight month recov much help deal tragedi mother die year later ye medicin save life reason right tok medicin eight month slowli got year later totali fine',\n",
              " 'stuf great nerv pain herniat disc lower back neck along pinch nerv take away neck pain narcot pain reliev muscl relax combin take alon caus drowsin',\n",
              " 'medic stop nausea vomit migrain tri everyth life saver',\n",
              " 'work amaz life saver',\n",
              " 'ben birth control year problem al great recent put bodi acn medic lower efectiven brand reason switch zovia hope god',\n",
              " 'over bad mild nausea diarhea first two thre day drank kefir help imens sure take direct fod ned whole meal eat yogurt etc highli recomend kefir augmentin therapi began clear infect second day rememb peopl litl side efect medic tend read internet neg bias',\n",
              " 'stop taken medicin due gete yelow skin fever nightmar sever headach dizin hot flash restlesn nausea etc medicin fine day began fel wors even hard breath may one select react way folow everyth told exactli',\n",
              " 'love medicin work great le side efect regular suboxon also discount program save hapi dr told',\n",
              " 'end vibryd wek start fel normal began wek mg nausea ondancetron med reali help work headach wek new symptom griti fele eye think dri eye bought god tear drop sem lot beter wil kep use switch cold turkey mg lexapro start new antidepres alway take wekend never workwek might make slep al day quot quot usuali adjust period go thru bad doctor alway let patient know expect',\n",
              " 'celexa mg ful year due anxieti panic atack medicin work great switch doctor new one sugest tri lexapro said cleaner beter medicin celexa said ok l tri ben two wek side efect al ben great glad switch take mg lexapro mg celexa',\n",
              " 'tri pil ben mani other ben prescrib femcon fe loestrin ortho lo yaz ocela pil caus teribl stomach pain go nauseou period al throughout day recur dizin finali decid speak doctor switch ale howev went pharmaci learn ale longer avail u given gener avian al birth control tri one ben toler eat normali without deal recur stomach upset almost everi meal wori deal cripl stomach pain',\n",
              " 'got skyla insert month ago ben nightmar sinc kid friend got mirena said amaz figur tri insert preti pain cramp wek went back got ultrasound check placement inform irit cyst would go away month later everi wek get insan cramp wek long period skyla day long period cramp told month im stil pain gete obvious bodi go adjust worth pain also gain lb first month notic zit anxieti hormon crazi',\n",
              " 'year old al thre shot understand peopl make shot big deal bare hurt got even care shot go help long run never bad side efect recomend woman like proactiv',\n",
              " 'start avastin novemb spinal cord tumor start grow diagnos brain cancer februari tumor spinal cord brain efect right leg make weak surgeri went radiat chemo april tumor shrink al sumer start grow novemb start avastin adit exist chemo cale temodar son start avastin tumor start shrink symptom got way wors shrink tumor side efect wors',\n",
              " 'put half mg wek titrat mg everyth col rd th wk start fele overhwelm ridicul tire kep eye open progrogres ful blown anxieti pov never thought could rexulti finali saw doc tok straight away se anxiou hardli deal son life sadli calm nois lot energi around exascerb anxieti ben complet day wonder long wil anxiou hope wek doc said kep live al anxieti tiredn want cri al time',\n",
              " 'prescrib pil iregular period ben wek rather deal blede month straight side efect alreadi experienc extrem bloat coupl pain pimpl pop face chest sore swolen breast increas apetit lb gain weight worst al zero sex drive psycho bitch husband deserv treat like throw rest straight garbag',\n",
              " 'mani year chronic bloat constip finali tri linz take miralax daili sometim twice day year stil relief horibl bloat eat half apl move belt buckl litl month linz longer bloat go everi day fel much beter side efect al learn take fod result diarhea help fel constip wil tri ever ned',\n",
              " 'fel like medic ok minu weight gain fel like put lot weight hard lose',\n",
              " 'ben contracept month experienc weight gain weight lo pant size altough great everyth also ben sick stomach least wek period stop extrem heavi also jump around lot month one pregnant went doctor get put medic restart period al al think decent',\n",
              " 'experi pil ben okay period last longer day also spot betwen anoy also take pil time everyday think l stay pil much longer',\n",
              " 'ben take toprol xl year doctor put mg twice day total mg day aprov insur compani work side efect blod presur steadi',\n",
              " 'side efect intoler efect minim blader spasm result leakag incontin',\n",
              " 'everyon el teribl problem sweat wear black shirt tank top start use year ago asid burn soren great howev went refil prescript told longer manufactur went mani pharmaci told thing understand',\n",
              " 'honestli felt beter hour bege treatment infect abces toth surprisingli quick consid amount pain downsid least sem slight nausea dizin taken ibuprofen earlier due pain meant bad time front toilet care med may upset stomach',\n",
              " 'folow instruct corectli kind work first stope back zero overblo beli unsetl fele al day use',\n",
              " 'get bad reaction adhes redn stay wek itch bad clean area aceton remov adhes residu clean alcohol hope guy wil creat one sensit adhes like sensit bandag product help overact blader hope itch redn wil go away ben use patch month',\n",
              " 'son diagnos ader finali came rescu eventuali work long enough give wake dose mg ir xr dose pm ir dose help aftercar homework continu work year tri intuniv od impuls lead threat suspend schol day realiz bp lower low pa wek react peopl longer calm side emot everyth impuls defiant al decid take least say tri work son may other',\n",
              " 'medicin godsend literali felt like grew help much bi polar disord use walk stret wonder pase car thought wonder thought walk sili weird true month medic life chang focus mod swing sever al use mod swing would last four sometim six month time medicin chang life fel though efect life chang even stope take medic stil felt afect felt recomend stope take medic though mod swing wil graduali find way back life',\n",
              " 'start take medic son diagnos inherit seizur disord although seizur ever sinc began take medic god med work side efect horibl would often fel disori saw great amount weight lo may apli everyon everyon difer experi medic',\n",
              " 'love medicin sweat anymor armpit stain wear whatev want without wori sweat exces sweat tri product',\n",
              " 'rd wek improv increas pain swele fever exponentiali increas quot core quot temp quot hot joint quot decreas energi frequent headach increas depres know thing could get wors alreadi hang mine everi singl joint quot unrel quot reali flare cuz mine constant daili nightli pain swele fever',\n",
              " 'sufer sever pain year folow motorcycl acid time tri everi sort pain relief avail mainli narcot drug found bad pain earlier year prescrib lyrica far pain relief goe fantast month x mg cap per day experienc total confus unabl perform daili task work home becom agit experienc suicid thought thing return normal wek take lyrica work wel tempt give anoth go god fel pain anymor',\n",
              " 'son wife came bad case flu start experi extrem chest tightn cough fever five day later tok first dose tamiflu hour experienc symptom within hour fele beter within hour beter side efect simpli miracl drug everyon box medicin cabinet',\n",
              " 'tok top take sam e depres fatigu l put god first suplement amaz make fel much confid much le sociali anxiou abl asert fatigu interest thing fel joy loke mountain start increas facial twitch sam e also ritalin brought sjw fel kind like drug like ritalin much lower got say fel preti god take take mg morn doubl dose singl dose around sometim wil take anoth dose around p fel like ned sam e anymor highli recomend',\n",
              " 'year old third pack posibl fourth rememb sure birth control first two month great notic side efect period normal past month though start notic lot nausea headach recent depres anxieti increas tenfold gone rof stop cri everyth me al time time stop bc make life live hel',\n",
              " 'switch rythmol topor check heart done quot afib quot type thing horibl metal tast wish would go away outsid sem ok far let know thought year old male',\n",
              " 'efect',\n",
              " 'back surgeri lumbar fusion given dilaudid work instantli reliev pain downsid last long',\n",
              " 'clear absc also kept gete bacteri vagin year straight swear bacteri vagin clear actuali work clear also thought bacteri vagin isu stuck forev',\n",
              " 'work god slep chronic insomnia due sever anxieti major depres take yesterday bare slept god hate drowsi fele make day go away pil made birthday fine day made day outsid fele ok',\n",
              " 'background esenti tremor social anxieti ib naturali hapi mo escitalopram mg mo vibryd mg upe mg vibryd two hour panic atack tremor went back mg mo heavi depres episod around pm til pm tok pil apear also gave bad diarhea eat fod cold turkey could escitalopram would panic shake depres take abus til switch back escitalopram mg thankfuli calm vibryd withdraw fel right drug hapi peopl anxieti unecesari anti depres chang anxieti improv',\n",
              " 'ben drink sinc relaps hard wek ago manag work suspect ben drink work fire spent al money left bank tri drink death fre ride law schol lost play big role depres drink got hospit began go withdraw sedat gave librium prescript pound male bf strong otherwis healthi guy four mg first day taper second day decreas day pil stil pil night exercis control cn excit vivid dream save',\n",
              " 'ben take ocela month month experienc weight lo wel clearer skin howev also found absolut sex drive take ocela enough sex drive peopl noth',\n",
              " 'tok wek caus horibl headach borderlin migrain would start minut take pil would go away went slep naseou dizi constantli would warm hot also caus heart burn someth never take pil also zero interest sex',\n",
              " 'product work wel athlet pre ten daughter began get involv sport lot sweat acn came use duac acn clear control face oili like coupl blemish noth al like',\n",
              " 'suplement levothyroxin ben night day difer longer slep al time think clearli actuali want thing',\n",
              " 'work great husband gave cold use medicin somewhat reliev extrem uncomfort ga diarhea thought wors strain viru tok medicin next day within min stomach problem quit night return vengeanc dextromethorphan ingredi use without reaction unl new red dye alergi never take anyth ingredi',\n",
              " 'tri almost everyth sun relat acn medicin thing work aczon ben use day face clear fast never sen skin lok god last year irit skin goe light absorb right highli highli recomend',\n",
              " 'thyroid test show activ dr increas levothyroxin mcg taken two hour empti stomach eat guestion pharmacist confirm two hour wate dificult wait hour take sever medic',\n",
              " 'use voltaren gel sore joint teni elbow work wel anyth ever tri sometim get kiler tension headach first build back neck felt one come use gel back neck shoulder headach never develop experi would take ibuprofen one headach hope best gel standard treatment headach',\n",
              " 'start vibryd mg day year ago go thru prolong low like alot folk tri mani difer thing year gone thru rolercoast titrat titrat stuf work stop work etc surpris vibryd help though diarhea forth super anoy first graduali abat unlik anti depres could fel efect within first wek two even titrat graduali recent went mg mod brighter help clear brain fog variou efect bodi deper slep intens dream increas sex drive almost anoy wel gi stuf far god',\n",
              " 'second day sick diagnos rapid test strep put medic day worsen symptom start cough blod diagnos pneumonia taken put levofloxacin day later lung blede pneumonia almost gone would recomend noth alow someth caught earli worsen caught late',\n",
              " 'ben paliperidon year side efect get alot nightmar bad dream never alot rock backward forward everi time sit reali upset anoy alot restlesn find dificult setl thing term slep medic god energi least tri medic side efect wel medic reduc eventuali wil antipsychot drug sick side efect clozapin made sick al time slepi anoth medic blure vision sick side efect rather take risk relaps',\n",
              " 'got nexplanon insert month janauri pain period probabl month spote litl wek think emot chang preti much far nexplanon done wonder period spote today',\n",
              " 'back pain almost year sometim point tear due simpl action like walk bend put medic dose daili pain reliev actual mod focu increas work previou evalu review averag put treatment last two review increas averag take efect quit quickli last direct amount time prescript con medic afect neg way intercours found medic climax take time long al time quit frustrat',\n",
              " ...]"
            ]
          },
          "execution_count": 11,
          "metadata": {},
          "output_type": "execute_result"
        }
      ],
      "source": [
        "corpus_cleaned"
      ]
    },
    {
      "cell_type": "markdown",
      "source": [
        "## **Representing words using vectors: Word Embedding**\n",
        "### Using Bag of Words to give a dense representation instead of one hot encoding which is not feasible for such a large number of words."
      ],
      "metadata": {
        "id": "-rR0kU1UD4-Q"
      }
    },
    {
      "cell_type": "code",
      "execution_count": null,
      "metadata": {
        "colab": {
          "base_uri": "https://localhost:8080/"
        },
        "id": "KrK9ay6xYPLa",
        "outputId": "172b1282-5e9c-4685-b169-cdb061c9bf88"
      },
      "outputs": [
        {
          "output_type": "stream",
          "name": "stdout",
          "text": [
            "               Review 1  Review 2  Review 3  Review 4  Review 5  Review 6  \\\n",
            "ab                    0         0         0         0         0         0   \n",
            "abad                  0         0         0         0         0         0   \n",
            "abal                  0         0         0         0         0         0   \n",
            "abat                  0         0         0         0         0         0   \n",
            "abc                   0         0         0         0         0         0   \n",
            "abces                 0         0         0         0         0         0   \n",
            "abd                   0         0         0         0         0         0   \n",
            "abdomen               0         0         0         0         0         0   \n",
            "abdomin               0         0         0         0         0         0   \n",
            "abil                  0         0         0         0         0         0   \n",
            "abilifi               0         0         0         0         0         0   \n",
            "abl                   0         0         0         0         0         0   \n",
            "ablut                 0         0         0         0         0         0   \n",
            "abnorm                0         0         0         0         0         0   \n",
            "abnormali             0         0         0         0         0         0   \n",
            "abort                 0         0         0         0         0         0   \n",
            "abreva                0         0         0         0         0         0   \n",
            "abruptli              0         0         0         0         0         0   \n",
            "abs                   0         0         0         0         0         0   \n",
            "absc                  0         0         0         0         0         0   \n",
            "absces                0         0         0         0         0         0   \n",
            "absent                0         0         0         0         0         0   \n",
            "absolut               0         0         0         0         0         0   \n",
            "absorb                0         0         0         0         0         0   \n",
            "absorpt               0         0         0         0         0         0   \n",
            "abstain               0         0         0         0         0         0   \n",
            "abstin                0         0         0         0         0         0   \n",
            "abt                   0         0         0         0         0         0   \n",
            "abus                  0         0         0         0         1         0   \n",
            "acanya                0         0         0         0         0         0   \n",
            "ace                   0         0         0         0         0         0   \n",
            "acebutolol            0         0         0         0         0         0   \n",
            "acept                 0         0         0         0         0         0   \n",
            "acetaminophen         0         0         0         0         0         0   \n",
            "acetometophin         0         0         0         0         0         0   \n",
            "aceton                0         0         0         0         0         0   \n",
            "acetylcystein         0         0         0         0         0         0   \n",
            "ach                   0         0         0         0         0         1   \n",
            "achey                 0         0         0         0         0         0   \n",
            "achi                  0         0         0         0         0         0   \n",
            "achiev                0         0         0         0         0         0   \n",
            "achin                 0         0         0         0         0         0   \n",
            "acid                  0         0         0         0         0         0   \n",
            "acident               0         0         0         0         0         0   \n",
            "acidentali            0         0         0         0         0         0   \n",
            "acidi                 0         0         0         0         0         0   \n",
            "acidophilu            0         0         0         0         0         0   \n",
            "aciphex               0         0         0         0         0         0   \n",
            "acknowledg            0         0         0         0         0         0   \n",
            "aclim                 0         0         0         0         0         0   \n",
            "\n",
            "               Review 7  Review 8  Review 9  Review 10  ...  Review 4991  \\\n",
            "ab                    0         0         0          0  ...            0   \n",
            "abad                  0         0         0          0  ...            0   \n",
            "abal                  0         0         0          0  ...            0   \n",
            "abat                  0         0         0          0  ...            0   \n",
            "abc                   0         0         0          0  ...            0   \n",
            "abces                 0         0         0          0  ...            0   \n",
            "abd                   0         0         0          0  ...            0   \n",
            "abdomen               0         0         0          0  ...            0   \n",
            "abdomin               0         0         0          0  ...            0   \n",
            "abil                  0         0         0          0  ...            0   \n",
            "abilifi               0         4         0          0  ...            0   \n",
            "abl                   0         0         0          0  ...            0   \n",
            "ablut                 0         0         0          0  ...            0   \n",
            "abnorm                0         0         0          0  ...            0   \n",
            "abnormali             0         0         0          0  ...            0   \n",
            "abort                 0         0         0          0  ...            0   \n",
            "abreva                0         0         0          0  ...            0   \n",
            "abruptli              0         0         0          0  ...            0   \n",
            "abs                   0         0         0          0  ...            0   \n",
            "absc                  0         0         0          0  ...            0   \n",
            "absces                0         0         0          0  ...            0   \n",
            "absent                0         0         0          0  ...            0   \n",
            "absolut               0         0         0          0  ...            0   \n",
            "absorb                0         0         0          0  ...            0   \n",
            "absorpt               0         0         0          0  ...            0   \n",
            "abstain               0         0         0          0  ...            0   \n",
            "abstin                0         0         0          0  ...            0   \n",
            "abt                   0         0         0          0  ...            0   \n",
            "abus                  0         0         0          0  ...            0   \n",
            "acanya                0         0         0          0  ...            0   \n",
            "ace                   0         0         0          0  ...            0   \n",
            "acebutolol            0         0         0          0  ...            0   \n",
            "acept                 0         0         0          0  ...            0   \n",
            "acetaminophen         0         0         0          0  ...            0   \n",
            "acetometophin         0         0         0          0  ...            0   \n",
            "aceton                0         0         0          0  ...            0   \n",
            "acetylcystein         0         0         0          0  ...            0   \n",
            "ach                   0         0         0          0  ...            0   \n",
            "achey                 0         0         0          0  ...            0   \n",
            "achi                  0         0         0          0  ...            0   \n",
            "achiev                0         0         0          0  ...            0   \n",
            "achin                 0         0         0          0  ...            0   \n",
            "acid                  0         0         0          0  ...            0   \n",
            "acident               0         0         0          0  ...            0   \n",
            "acidentali            0         0         0          0  ...            0   \n",
            "acidi                 0         0         0          0  ...            0   \n",
            "acidophilu            0         0         0          0  ...            0   \n",
            "aciphex               0         0         0          0  ...            0   \n",
            "acknowledg            0         0         0          0  ...            0   \n",
            "aclim                 0         0         0          0  ...            0   \n",
            "\n",
            "               Review 4992  Review 4993  Review 4994  Review 4995  \\\n",
            "ab                       0            0            0            0   \n",
            "abad                     0            0            0            0   \n",
            "abal                     0            0            0            0   \n",
            "abat                     0            0            0            0   \n",
            "abc                      0            0            0            0   \n",
            "abces                    0            0            0            0   \n",
            "abd                      0            0            0            0   \n",
            "abdomen                  0            0            0            0   \n",
            "abdomin                  0            0            0            0   \n",
            "abil                     0            0            0            0   \n",
            "abilifi                  0            0            0            0   \n",
            "abl                      0            0            0            0   \n",
            "ablut                    0            0            0            0   \n",
            "abnorm                   0            0            0            0   \n",
            "abnormali                0            0            0            0   \n",
            "abort                    0            0            0            0   \n",
            "abreva                   0            0            0            0   \n",
            "abruptli                 0            0            0            0   \n",
            "abs                      0            0            0            0   \n",
            "absc                     0            0            0            0   \n",
            "absces                   0            0            0            0   \n",
            "absent                   0            0            0            0   \n",
            "absolut                  0            0            0            0   \n",
            "absorb                   0            0            0            0   \n",
            "absorpt                  0            0            0            0   \n",
            "abstain                  0            0            0            0   \n",
            "abstin                   0            0            0            0   \n",
            "abt                      0            0            0            0   \n",
            "abus                     0            0            0            0   \n",
            "acanya                   0            0            0            0   \n",
            "ace                      0            0            0            0   \n",
            "acebutolol               0            0            0            0   \n",
            "acept                    0            0            0            0   \n",
            "acetaminophen            0            0            0            0   \n",
            "acetometophin            0            0            0            0   \n",
            "aceton                   0            0            0            0   \n",
            "acetylcystein            0            0            0            0   \n",
            "ach                      1            0            0            0   \n",
            "achey                    0            0            0            0   \n",
            "achi                     0            0            0            0   \n",
            "achiev                   0            0            0            0   \n",
            "achin                    0            0            0            0   \n",
            "acid                     0            0            0            0   \n",
            "acident                  0            0            0            0   \n",
            "acidentali               0            0            0            0   \n",
            "acidi                    0            0            0            0   \n",
            "acidophilu               0            0            0            0   \n",
            "aciphex                  0            0            0            0   \n",
            "acknowledg               0            0            0            0   \n",
            "aclim                    0            0            0            0   \n",
            "\n",
            "               Review 4996  Review 4997  Review 4998  Review 4999  Review 5000  \n",
            "ab                       0            0            0            0            0  \n",
            "abad                     0            0            0            0            0  \n",
            "abal                     0            0            0            0            0  \n",
            "abat                     0            0            0            0            0  \n",
            "abc                      0            0            0            0            0  \n",
            "abces                    0            0            0            0            0  \n",
            "abd                      0            0            0            0            0  \n",
            "abdomen                  0            0            0            0            0  \n",
            "abdomin                  0            0            0            0            0  \n",
            "abil                     0            0            0            0            0  \n",
            "abilifi                  0            0            0            0            0  \n",
            "abl                      0            0            0            0            0  \n",
            "ablut                    0            0            0            0            0  \n",
            "abnorm                   0            0            0            0            0  \n",
            "abnormali                0            0            0            0            0  \n",
            "abort                    0            0            0            0            0  \n",
            "abreva                   0            0            0            0            0  \n",
            "abruptli                 0            0            0            0            0  \n",
            "abs                      0            0            0            0            0  \n",
            "absc                     0            0            0            0            0  \n",
            "absces                   0            0            0            0            0  \n",
            "absent                   0            0            0            0            0  \n",
            "absolut                  0            0            0            0            0  \n",
            "absorb                   0            0            0            0            0  \n",
            "absorpt                  0            0            0            0            0  \n",
            "abstain                  0            0            0            0            0  \n",
            "abstin                   0            0            0            0            0  \n",
            "abt                      0            0            0            0            0  \n",
            "abus                     0            0            0            0            0  \n",
            "acanya                   0            0            0            0            0  \n",
            "ace                      0            0            0            0            0  \n",
            "acebutolol               0            0            0            0            0  \n",
            "acept                    0            0            0            0            0  \n",
            "acetaminophen            0            0            0            0            0  \n",
            "acetometophin            0            0            0            0            0  \n",
            "aceton                   0            0            0            0            0  \n",
            "acetylcystein            0            0            0            0            0  \n",
            "ach                      0            0            0            0            0  \n",
            "achey                    0            0            0            0            0  \n",
            "achi                     0            0            0            0            0  \n",
            "achiev                   0            0            0            0            0  \n",
            "achin                    0            0            0            0            0  \n",
            "acid                     0            0            0            0            0  \n",
            "acident                  0            0            0            0            0  \n",
            "acidentali               0            0            0            0            0  \n",
            "acidi                    0            0            0            0            0  \n",
            "acidophilu               0            0            0            0            0  \n",
            "aciphex                  0            0            0            0            0  \n",
            "acknowledg               0            0            0            0            0  \n",
            "aclim                    0            0            0            0            0  \n",
            "\n",
            "[50 rows x 5000 columns]\n"
          ]
        }
      ],
      "source": [
        "from sklearn.feature_extraction.text import CountVectorizer\n",
        "cv = CountVectorizer() \n",
        "corpus2 = cv.fit_transform(corpus_cleaned)\n",
        "bow = pd.DataFrame(corpus2.todense()) #shape is (5000, 8105)- rows indicate each review and columns indicate terms\n",
        "bow.columns = cv.get_feature_names() #words/terms\n",
        "bow_matrix = bow.T #rows will be all the unique terms\n",
        "bow_matrix.columns = ['Review '+str(i) for i in range(1, bow.shape[0]+1)] #columns will be the documents/reviews \n",
        "print(bow_matrix.head(50))"
      ]
    },
    {
      "cell_type": "code",
      "execution_count": null,
      "metadata": {
        "colab": {
          "base_uri": "https://localhost:8080/"
        },
        "id": "1UA9ufXdZNjO",
        "outputId": "99ff262a-3498-4162-84d8-5f806c2ae6d5"
      },
      "outputs": [
        {
          "data": {
            "text/plain": [
              "lightend         1\n",
              "lumpectomi       1\n",
              "lunchbox         1\n",
              "lunchtim         1\n",
              "lusciou          1\n",
              "              ... \n",
              "year          2044\n",
              "month         2075\n",
              "ben           2405\n",
              "take          2974\n",
              "day           3037\n",
              "Length: 8105, dtype: int64"
            ]
          },
          "execution_count": 13,
          "metadata": {},
          "output_type": "execute_result"
        }
      ],
      "source": [
        "column_sum=bow_matrix.sum(axis=1)\n",
        "column_sum.sort_values()  #occurence of each word in the documents"
      ]
    },
    {
      "cell_type": "code",
      "execution_count": null,
      "metadata": {
        "colab": {
          "base_uri": "https://localhost:8080/"
        },
        "id": "D2MpabO6ZTIc",
        "outputId": "0ddd14ba-631c-4b0a-ae6d-03c2a109870c"
      },
      "outputs": [
        {
          "data": {
            "text/plain": [
              "Review 1903      1\n",
              "Review 3272      1\n",
              "Review 4322      1\n",
              "Review 982       1\n",
              "Review 2650      1\n",
              "              ... \n",
              "Review 1633    120\n",
              "Review 2331    129\n",
              "Review 4810    161\n",
              "Review 1610    166\n",
              "Review 55      186\n",
              "Length: 5000, dtype: int64"
            ]
          },
          "execution_count": 14,
          "metadata": {},
          "output_type": "execute_result"
        }
      ],
      "source": [
        "row_sum=bow_matrix.sum(axis=0)\n",
        "row_sum.sort_values()  # words in each document/review"
      ]
    },
    {
      "cell_type": "code",
      "execution_count": null,
      "metadata": {
        "colab": {
          "base_uri": "https://localhost:8080/",
          "height": 485
        },
        "id": "WaYo9ZVFZbWe",
        "outputId": "570ec706-bdb7-4f22-bae9-fa4b99b015f6"
      },
      "outputs": [
        {
          "output_type": "execute_result",
          "data": {
            "text/plain": [
              "         Review 1  Review 2  Review 3  Review 4  Review 5  Review 6  Review 7  \\\n",
              "ab            0.0       0.0       0.0       0.0       0.0       0.0       0.0   \n",
              "abad          0.0       0.0       0.0       0.0       0.0       0.0       0.0   \n",
              "abal          0.0       0.0       0.0       0.0       0.0       0.0       0.0   \n",
              "abat          0.0       0.0       0.0       0.0       0.0       0.0       0.0   \n",
              "abc           0.0       0.0       0.0       0.0       0.0       0.0       0.0   \n",
              "...           ...       ...       ...       ...       ...       ...       ...   \n",
              "zydi          0.0       0.0       0.0       0.0       0.0       0.0       0.0   \n",
              "zydu          0.0       0.0       0.0       0.0       0.0       0.0       0.0   \n",
              "zyprexa       0.0       0.0       0.0       0.0       0.0       0.0       0.0   \n",
              "zyrtec        0.0       0.0       0.0       0.0       0.0       0.0       0.0   \n",
              "zyvox         0.0       0.0       0.0       0.0       0.0       0.0       0.0   \n",
              "\n",
              "         Review 8  Review 9  Review 10  ...  Review 4991  Review 4992  \\\n",
              "ab            0.0       0.0        0.0  ...          0.0          0.0   \n",
              "abad          0.0       0.0        0.0  ...          0.0          0.0   \n",
              "abal          0.0       0.0        0.0  ...          0.0          0.0   \n",
              "abat          0.0       0.0        0.0  ...          0.0          0.0   \n",
              "abc           0.0       0.0        0.0  ...          0.0          0.0   \n",
              "...           ...       ...        ...  ...          ...          ...   \n",
              "zydi          0.0       0.0        0.0  ...          0.0          0.0   \n",
              "zydu          0.0       0.0        0.0  ...          0.0          0.0   \n",
              "zyprexa       0.0       0.0        0.0  ...          0.0          0.0   \n",
              "zyrtec        0.0       0.0        0.0  ...          0.0          0.0   \n",
              "zyvox         0.0       0.0        0.0  ...          0.0          0.0   \n",
              "\n",
              "         Review 4993  Review 4994  Review 4995  Review 4996  Review 4997  \\\n",
              "ab               0.0          0.0          0.0          0.0          0.0   \n",
              "abad             0.0          0.0          0.0          0.0          0.0   \n",
              "abal             0.0          0.0          0.0          0.0          0.0   \n",
              "abat             0.0          0.0          0.0          0.0          0.0   \n",
              "abc              0.0          0.0          0.0          0.0          0.0   \n",
              "...              ...          ...          ...          ...          ...   \n",
              "zydi             0.0          0.0          0.0          0.0          0.0   \n",
              "zydu             0.0          0.0          0.0          0.0          0.0   \n",
              "zyprexa          0.0          0.0          0.0          0.0          0.0   \n",
              "zyrtec           0.0          0.0          0.0          0.0          0.0   \n",
              "zyvox            0.0          0.0          0.0          0.0          0.0   \n",
              "\n",
              "         Review 4998  Review 4999  Review 5000  \n",
              "ab               0.0          0.0          0.0  \n",
              "abad             0.0          0.0          0.0  \n",
              "abal             0.0          0.0          0.0  \n",
              "abat             0.0          0.0          0.0  \n",
              "abc              0.0          0.0          0.0  \n",
              "...              ...          ...          ...  \n",
              "zydi             0.0          0.0          0.0  \n",
              "zydu             0.0          0.0          0.0  \n",
              "zyprexa          0.0          0.0          0.0  \n",
              "zyrtec           0.0          0.0          0.0  \n",
              "zyvox            0.0          0.0          0.0  \n",
              "\n",
              "[8105 rows x 5000 columns]"
            ],
            "text/html": [
              "\n",
              "  <div id=\"df-108429ee-ad15-4757-bada-c2f195e934ed\">\n",
              "    <div class=\"colab-df-container\">\n",
              "      <div>\n",
              "<style scoped>\n",
              "    .dataframe tbody tr th:only-of-type {\n",
              "        vertical-align: middle;\n",
              "    }\n",
              "\n",
              "    .dataframe tbody tr th {\n",
              "        vertical-align: top;\n",
              "    }\n",
              "\n",
              "    .dataframe thead th {\n",
              "        text-align: right;\n",
              "    }\n",
              "</style>\n",
              "<table border=\"1\" class=\"dataframe\">\n",
              "  <thead>\n",
              "    <tr style=\"text-align: right;\">\n",
              "      <th></th>\n",
              "      <th>Review 1</th>\n",
              "      <th>Review 2</th>\n",
              "      <th>Review 3</th>\n",
              "      <th>Review 4</th>\n",
              "      <th>Review 5</th>\n",
              "      <th>Review 6</th>\n",
              "      <th>Review 7</th>\n",
              "      <th>Review 8</th>\n",
              "      <th>Review 9</th>\n",
              "      <th>Review 10</th>\n",
              "      <th>...</th>\n",
              "      <th>Review 4991</th>\n",
              "      <th>Review 4992</th>\n",
              "      <th>Review 4993</th>\n",
              "      <th>Review 4994</th>\n",
              "      <th>Review 4995</th>\n",
              "      <th>Review 4996</th>\n",
              "      <th>Review 4997</th>\n",
              "      <th>Review 4998</th>\n",
              "      <th>Review 4999</th>\n",
              "      <th>Review 5000</th>\n",
              "    </tr>\n",
              "  </thead>\n",
              "  <tbody>\n",
              "    <tr>\n",
              "      <th>ab</th>\n",
              "      <td>0.0</td>\n",
              "      <td>0.0</td>\n",
              "      <td>0.0</td>\n",
              "      <td>0.0</td>\n",
              "      <td>0.0</td>\n",
              "      <td>0.0</td>\n",
              "      <td>0.0</td>\n",
              "      <td>0.0</td>\n",
              "      <td>0.0</td>\n",
              "      <td>0.0</td>\n",
              "      <td>...</td>\n",
              "      <td>0.0</td>\n",
              "      <td>0.0</td>\n",
              "      <td>0.0</td>\n",
              "      <td>0.0</td>\n",
              "      <td>0.0</td>\n",
              "      <td>0.0</td>\n",
              "      <td>0.0</td>\n",
              "      <td>0.0</td>\n",
              "      <td>0.0</td>\n",
              "      <td>0.0</td>\n",
              "    </tr>\n",
              "    <tr>\n",
              "      <th>abad</th>\n",
              "      <td>0.0</td>\n",
              "      <td>0.0</td>\n",
              "      <td>0.0</td>\n",
              "      <td>0.0</td>\n",
              "      <td>0.0</td>\n",
              "      <td>0.0</td>\n",
              "      <td>0.0</td>\n",
              "      <td>0.0</td>\n",
              "      <td>0.0</td>\n",
              "      <td>0.0</td>\n",
              "      <td>...</td>\n",
              "      <td>0.0</td>\n",
              "      <td>0.0</td>\n",
              "      <td>0.0</td>\n",
              "      <td>0.0</td>\n",
              "      <td>0.0</td>\n",
              "      <td>0.0</td>\n",
              "      <td>0.0</td>\n",
              "      <td>0.0</td>\n",
              "      <td>0.0</td>\n",
              "      <td>0.0</td>\n",
              "    </tr>\n",
              "    <tr>\n",
              "      <th>abal</th>\n",
              "      <td>0.0</td>\n",
              "      <td>0.0</td>\n",
              "      <td>0.0</td>\n",
              "      <td>0.0</td>\n",
              "      <td>0.0</td>\n",
              "      <td>0.0</td>\n",
              "      <td>0.0</td>\n",
              "      <td>0.0</td>\n",
              "      <td>0.0</td>\n",
              "      <td>0.0</td>\n",
              "      <td>...</td>\n",
              "      <td>0.0</td>\n",
              "      <td>0.0</td>\n",
              "      <td>0.0</td>\n",
              "      <td>0.0</td>\n",
              "      <td>0.0</td>\n",
              "      <td>0.0</td>\n",
              "      <td>0.0</td>\n",
              "      <td>0.0</td>\n",
              "      <td>0.0</td>\n",
              "      <td>0.0</td>\n",
              "    </tr>\n",
              "    <tr>\n",
              "      <th>abat</th>\n",
              "      <td>0.0</td>\n",
              "      <td>0.0</td>\n",
              "      <td>0.0</td>\n",
              "      <td>0.0</td>\n",
              "      <td>0.0</td>\n",
              "      <td>0.0</td>\n",
              "      <td>0.0</td>\n",
              "      <td>0.0</td>\n",
              "      <td>0.0</td>\n",
              "      <td>0.0</td>\n",
              "      <td>...</td>\n",
              "      <td>0.0</td>\n",
              "      <td>0.0</td>\n",
              "      <td>0.0</td>\n",
              "      <td>0.0</td>\n",
              "      <td>0.0</td>\n",
              "      <td>0.0</td>\n",
              "      <td>0.0</td>\n",
              "      <td>0.0</td>\n",
              "      <td>0.0</td>\n",
              "      <td>0.0</td>\n",
              "    </tr>\n",
              "    <tr>\n",
              "      <th>abc</th>\n",
              "      <td>0.0</td>\n",
              "      <td>0.0</td>\n",
              "      <td>0.0</td>\n",
              "      <td>0.0</td>\n",
              "      <td>0.0</td>\n",
              "      <td>0.0</td>\n",
              "      <td>0.0</td>\n",
              "      <td>0.0</td>\n",
              "      <td>0.0</td>\n",
              "      <td>0.0</td>\n",
              "      <td>...</td>\n",
              "      <td>0.0</td>\n",
              "      <td>0.0</td>\n",
              "      <td>0.0</td>\n",
              "      <td>0.0</td>\n",
              "      <td>0.0</td>\n",
              "      <td>0.0</td>\n",
              "      <td>0.0</td>\n",
              "      <td>0.0</td>\n",
              "      <td>0.0</td>\n",
              "      <td>0.0</td>\n",
              "    </tr>\n",
              "    <tr>\n",
              "      <th>...</th>\n",
              "      <td>...</td>\n",
              "      <td>...</td>\n",
              "      <td>...</td>\n",
              "      <td>...</td>\n",
              "      <td>...</td>\n",
              "      <td>...</td>\n",
              "      <td>...</td>\n",
              "      <td>...</td>\n",
              "      <td>...</td>\n",
              "      <td>...</td>\n",
              "      <td>...</td>\n",
              "      <td>...</td>\n",
              "      <td>...</td>\n",
              "      <td>...</td>\n",
              "      <td>...</td>\n",
              "      <td>...</td>\n",
              "      <td>...</td>\n",
              "      <td>...</td>\n",
              "      <td>...</td>\n",
              "      <td>...</td>\n",
              "      <td>...</td>\n",
              "    </tr>\n",
              "    <tr>\n",
              "      <th>zydi</th>\n",
              "      <td>0.0</td>\n",
              "      <td>0.0</td>\n",
              "      <td>0.0</td>\n",
              "      <td>0.0</td>\n",
              "      <td>0.0</td>\n",
              "      <td>0.0</td>\n",
              "      <td>0.0</td>\n",
              "      <td>0.0</td>\n",
              "      <td>0.0</td>\n",
              "      <td>0.0</td>\n",
              "      <td>...</td>\n",
              "      <td>0.0</td>\n",
              "      <td>0.0</td>\n",
              "      <td>0.0</td>\n",
              "      <td>0.0</td>\n",
              "      <td>0.0</td>\n",
              "      <td>0.0</td>\n",
              "      <td>0.0</td>\n",
              "      <td>0.0</td>\n",
              "      <td>0.0</td>\n",
              "      <td>0.0</td>\n",
              "    </tr>\n",
              "    <tr>\n",
              "      <th>zydu</th>\n",
              "      <td>0.0</td>\n",
              "      <td>0.0</td>\n",
              "      <td>0.0</td>\n",
              "      <td>0.0</td>\n",
              "      <td>0.0</td>\n",
              "      <td>0.0</td>\n",
              "      <td>0.0</td>\n",
              "      <td>0.0</td>\n",
              "      <td>0.0</td>\n",
              "      <td>0.0</td>\n",
              "      <td>...</td>\n",
              "      <td>0.0</td>\n",
              "      <td>0.0</td>\n",
              "      <td>0.0</td>\n",
              "      <td>0.0</td>\n",
              "      <td>0.0</td>\n",
              "      <td>0.0</td>\n",
              "      <td>0.0</td>\n",
              "      <td>0.0</td>\n",
              "      <td>0.0</td>\n",
              "      <td>0.0</td>\n",
              "    </tr>\n",
              "    <tr>\n",
              "      <th>zyprexa</th>\n",
              "      <td>0.0</td>\n",
              "      <td>0.0</td>\n",
              "      <td>0.0</td>\n",
              "      <td>0.0</td>\n",
              "      <td>0.0</td>\n",
              "      <td>0.0</td>\n",
              "      <td>0.0</td>\n",
              "      <td>0.0</td>\n",
              "      <td>0.0</td>\n",
              "      <td>0.0</td>\n",
              "      <td>...</td>\n",
              "      <td>0.0</td>\n",
              "      <td>0.0</td>\n",
              "      <td>0.0</td>\n",
              "      <td>0.0</td>\n",
              "      <td>0.0</td>\n",
              "      <td>0.0</td>\n",
              "      <td>0.0</td>\n",
              "      <td>0.0</td>\n",
              "      <td>0.0</td>\n",
              "      <td>0.0</td>\n",
              "    </tr>\n",
              "    <tr>\n",
              "      <th>zyrtec</th>\n",
              "      <td>0.0</td>\n",
              "      <td>0.0</td>\n",
              "      <td>0.0</td>\n",
              "      <td>0.0</td>\n",
              "      <td>0.0</td>\n",
              "      <td>0.0</td>\n",
              "      <td>0.0</td>\n",
              "      <td>0.0</td>\n",
              "      <td>0.0</td>\n",
              "      <td>0.0</td>\n",
              "      <td>...</td>\n",
              "      <td>0.0</td>\n",
              "      <td>0.0</td>\n",
              "      <td>0.0</td>\n",
              "      <td>0.0</td>\n",
              "      <td>0.0</td>\n",
              "      <td>0.0</td>\n",
              "      <td>0.0</td>\n",
              "      <td>0.0</td>\n",
              "      <td>0.0</td>\n",
              "      <td>0.0</td>\n",
              "    </tr>\n",
              "    <tr>\n",
              "      <th>zyvox</th>\n",
              "      <td>0.0</td>\n",
              "      <td>0.0</td>\n",
              "      <td>0.0</td>\n",
              "      <td>0.0</td>\n",
              "      <td>0.0</td>\n",
              "      <td>0.0</td>\n",
              "      <td>0.0</td>\n",
              "      <td>0.0</td>\n",
              "      <td>0.0</td>\n",
              "      <td>0.0</td>\n",
              "      <td>...</td>\n",
              "      <td>0.0</td>\n",
              "      <td>0.0</td>\n",
              "      <td>0.0</td>\n",
              "      <td>0.0</td>\n",
              "      <td>0.0</td>\n",
              "      <td>0.0</td>\n",
              "      <td>0.0</td>\n",
              "      <td>0.0</td>\n",
              "      <td>0.0</td>\n",
              "      <td>0.0</td>\n",
              "    </tr>\n",
              "  </tbody>\n",
              "</table>\n",
              "<p>8105 rows × 5000 columns</p>\n",
              "</div>\n",
              "      <button class=\"colab-df-convert\" onclick=\"convertToInteractive('df-108429ee-ad15-4757-bada-c2f195e934ed')\"\n",
              "              title=\"Convert this dataframe to an interactive table.\"\n",
              "              style=\"display:none;\">\n",
              "        \n",
              "  <svg xmlns=\"http://www.w3.org/2000/svg\" height=\"24px\"viewBox=\"0 0 24 24\"\n",
              "       width=\"24px\">\n",
              "    <path d=\"M0 0h24v24H0V0z\" fill=\"none\"/>\n",
              "    <path d=\"M18.56 5.44l.94 2.06.94-2.06 2.06-.94-2.06-.94-.94-2.06-.94 2.06-2.06.94zm-11 1L8.5 8.5l.94-2.06 2.06-.94-2.06-.94L8.5 2.5l-.94 2.06-2.06.94zm10 10l.94 2.06.94-2.06 2.06-.94-2.06-.94-.94-2.06-.94 2.06-2.06.94z\"/><path d=\"M17.41 7.96l-1.37-1.37c-.4-.4-.92-.59-1.43-.59-.52 0-1.04.2-1.43.59L10.3 9.45l-7.72 7.72c-.78.78-.78 2.05 0 2.83L4 21.41c.39.39.9.59 1.41.59.51 0 1.02-.2 1.41-.59l7.78-7.78 2.81-2.81c.8-.78.8-2.07 0-2.86zM5.41 20L4 18.59l7.72-7.72 1.47 1.35L5.41 20z\"/>\n",
              "  </svg>\n",
              "      </button>\n",
              "      \n",
              "  <style>\n",
              "    .colab-df-container {\n",
              "      display:flex;\n",
              "      flex-wrap:wrap;\n",
              "      gap: 12px;\n",
              "    }\n",
              "\n",
              "    .colab-df-convert {\n",
              "      background-color: #E8F0FE;\n",
              "      border: none;\n",
              "      border-radius: 50%;\n",
              "      cursor: pointer;\n",
              "      display: none;\n",
              "      fill: #1967D2;\n",
              "      height: 32px;\n",
              "      padding: 0 0 0 0;\n",
              "      width: 32px;\n",
              "    }\n",
              "\n",
              "    .colab-df-convert:hover {\n",
              "      background-color: #E2EBFA;\n",
              "      box-shadow: 0px 1px 2px rgba(60, 64, 67, 0.3), 0px 1px 3px 1px rgba(60, 64, 67, 0.15);\n",
              "      fill: #174EA6;\n",
              "    }\n",
              "\n",
              "    [theme=dark] .colab-df-convert {\n",
              "      background-color: #3B4455;\n",
              "      fill: #D2E3FC;\n",
              "    }\n",
              "\n",
              "    [theme=dark] .colab-df-convert:hover {\n",
              "      background-color: #434B5C;\n",
              "      box-shadow: 0px 1px 3px 1px rgba(0, 0, 0, 0.15);\n",
              "      filter: drop-shadow(0px 1px 2px rgba(0, 0, 0, 0.3));\n",
              "      fill: #FFFFFF;\n",
              "    }\n",
              "  </style>\n",
              "\n",
              "      <script>\n",
              "        const buttonEl =\n",
              "          document.querySelector('#df-108429ee-ad15-4757-bada-c2f195e934ed button.colab-df-convert');\n",
              "        buttonEl.style.display =\n",
              "          google.colab.kernel.accessAllowed ? 'block' : 'none';\n",
              "\n",
              "        async function convertToInteractive(key) {\n",
              "          const element = document.querySelector('#df-108429ee-ad15-4757-bada-c2f195e934ed');\n",
              "          const dataTable =\n",
              "            await google.colab.kernel.invokeFunction('convertToInteractive',\n",
              "                                                     [key], {});\n",
              "          if (!dataTable) return;\n",
              "\n",
              "          const docLinkHtml = 'Like what you see? Visit the ' +\n",
              "            '<a target=\"_blank\" href=https://colab.research.google.com/notebooks/data_table.ipynb>data table notebook</a>'\n",
              "            + ' to learn more about interactive tables.';\n",
              "          element.innerHTML = '';\n",
              "          dataTable['output_type'] = 'display_data';\n",
              "          await google.colab.output.renderOutput(dataTable, element);\n",
              "          const docLink = document.createElement('div');\n",
              "          docLink.innerHTML = docLinkHtml;\n",
              "          element.appendChild(docLink);\n",
              "        }\n",
              "      </script>\n",
              "    </div>\n",
              "  </div>\n",
              "  "
            ]
          },
          "metadata": {},
          "execution_count": 43
        }
      ],
      "source": [
        "#TF/IDF\n",
        "from sklearn.feature_extraction.text import TfidfTransformer\n",
        "\n",
        "tfidf_transformer=TfidfTransformer(smooth_idf=True) #creating instance; setting smooth idf as True to prevent division by zero\n",
        "tfidf_transformer.fit(corpus2) #fitting on term document matrix\n",
        "tf_idf2=tfidf_transformer.transform(corpus2)\n",
        "feature_names = cv.get_feature_names()\n",
        "tf_idf3=tf_idf2.todense()\n",
        "df_tf_idf= pd.DataFrame(tf_idf2.T.todense(), index=feature_names) #index/rows represent unique words\n",
        "df_tf_idf.columns = ['Review '+str(i) for i in range(1, corpus2.shape[0]+1)] #columns will be the reviews or documents\n",
        "df_tf_idf #importance of each word in the documents"
      ]
    },
    {
      "cell_type": "code",
      "execution_count": null,
      "metadata": {
        "colab": {
          "base_uri": "https://localhost:8080/"
        },
        "id": "Qm4JSzpPZ1Bj",
        "outputId": "949c7212-7e6a-4472-e193-9aede02614ad"
      },
      "outputs": [
        {
          "output_type": "execute_result",
          "data": {
            "text/plain": [
              "difuctli      0.100807\n",
              "flactuat      0.100807\n",
              "virtu         0.103872\n",
              "freqent       0.103872\n",
              "enlong        0.103872\n",
              "               ...    \n",
              "month       142.208067\n",
              "ben         153.066827\n",
              "work        158.946037\n",
              "take        177.921730\n",
              "day         179.525255\n",
              "Length: 8105, dtype: float64"
            ]
          },
          "metadata": {},
          "execution_count": 14
        }
      ],
      "source": [
        "col_sum1=df_tf_idf.sum(axis=1)\n",
        "col_sum1.sort_values() #tf/idf for each term"
      ]
    },
    {
      "cell_type": "code",
      "execution_count": null,
      "metadata": {
        "id": "-WMSbLfWawhi"
      },
      "outputs": [],
      "source": [
        "# from tensorflow.keras.preprocessing import sequence\n",
        "# tokenizer=keras.preprocessing.text.Tokenizer() \n",
        "# tokenizer.fit_on_texts(corpus1.review) #maps each word to unique id\n",
        "# sequences = tokenizer.texts_to_sequences(corpus1.review)\n",
        "# sequences_matrix = sequence.pad_sequences(sequences,maxlen=500)\n",
        "# sequences_matrix\n",
        "#tokenizer.sequences_to_matrix(sequences, mode='binary' )"
      ]
    },
    {
      "cell_type": "code",
      "execution_count": null,
      "metadata": {
        "colab": {
          "base_uri": "https://localhost:8080/",
          "height": 206
        },
        "id": "oN4T8u_1cwMS",
        "outputId": "fd851276-fb78-4ced-df03-1465186d81b1"
      },
      "outputs": [
        {
          "output_type": "execute_result",
          "data": {
            "text/plain": [
              "                           drugName                     condition  \\\n",
              "0  206461                 Valsartan  Left Ventricular Dysfunction   \n",
              "1   95260                Guanfacine                          ADHD   \n",
              "2   92703                    Lybrel                 Birth Control   \n",
              "3  138000                Ortho Evra                 Birth Control   \n",
              "4   35696  Buprenorphine / naloxone             Opiate Dependence   \n",
              "\n",
              "                                              review  rating            date  \\\n",
              "0  \"It has no side effect, I take it in combinati...       9       20-May-12   \n",
              "1  \"My son is halfway through his fourth week of ...       8  April 27, 2010   \n",
              "2  \"I used to take another oral contraceptive, wh...       5       14-Dec-09   \n",
              "3  \"This is my first time using any form of birth...       8       03-Nov-15   \n",
              "4  \"Suboxone has completely turned my life around...       9       27-Nov-16   \n",
              "\n",
              "   usefulCount  effectiveness  \n",
              "0         27.0              5  \n",
              "1        192.0              4  \n",
              "2         17.0              3  \n",
              "3         10.0              4  \n",
              "4         37.0              5  "
            ],
            "text/html": [
              "\n",
              "  <div id=\"df-5818338a-f7b7-4ffe-a7c4-806f84a18013\">\n",
              "    <div class=\"colab-df-container\">\n",
              "      <div>\n",
              "<style scoped>\n",
              "    .dataframe tbody tr th:only-of-type {\n",
              "        vertical-align: middle;\n",
              "    }\n",
              "\n",
              "    .dataframe tbody tr th {\n",
              "        vertical-align: top;\n",
              "    }\n",
              "\n",
              "    .dataframe thead th {\n",
              "        text-align: right;\n",
              "    }\n",
              "</style>\n",
              "<table border=\"1\" class=\"dataframe\">\n",
              "  <thead>\n",
              "    <tr style=\"text-align: right;\">\n",
              "      <th></th>\n",
              "      <th></th>\n",
              "      <th>drugName</th>\n",
              "      <th>condition</th>\n",
              "      <th>review</th>\n",
              "      <th>rating</th>\n",
              "      <th>date</th>\n",
              "      <th>usefulCount</th>\n",
              "      <th>effectiveness</th>\n",
              "    </tr>\n",
              "  </thead>\n",
              "  <tbody>\n",
              "    <tr>\n",
              "      <th>0</th>\n",
              "      <td>206461</td>\n",
              "      <td>Valsartan</td>\n",
              "      <td>Left Ventricular Dysfunction</td>\n",
              "      <td>\"It has no side effect, I take it in combinati...</td>\n",
              "      <td>9</td>\n",
              "      <td>20-May-12</td>\n",
              "      <td>27.0</td>\n",
              "      <td>5</td>\n",
              "    </tr>\n",
              "    <tr>\n",
              "      <th>1</th>\n",
              "      <td>95260</td>\n",
              "      <td>Guanfacine</td>\n",
              "      <td>ADHD</td>\n",
              "      <td>\"My son is halfway through his fourth week of ...</td>\n",
              "      <td>8</td>\n",
              "      <td>April 27, 2010</td>\n",
              "      <td>192.0</td>\n",
              "      <td>4</td>\n",
              "    </tr>\n",
              "    <tr>\n",
              "      <th>2</th>\n",
              "      <td>92703</td>\n",
              "      <td>Lybrel</td>\n",
              "      <td>Birth Control</td>\n",
              "      <td>\"I used to take another oral contraceptive, wh...</td>\n",
              "      <td>5</td>\n",
              "      <td>14-Dec-09</td>\n",
              "      <td>17.0</td>\n",
              "      <td>3</td>\n",
              "    </tr>\n",
              "    <tr>\n",
              "      <th>3</th>\n",
              "      <td>138000</td>\n",
              "      <td>Ortho Evra</td>\n",
              "      <td>Birth Control</td>\n",
              "      <td>\"This is my first time using any form of birth...</td>\n",
              "      <td>8</td>\n",
              "      <td>03-Nov-15</td>\n",
              "      <td>10.0</td>\n",
              "      <td>4</td>\n",
              "    </tr>\n",
              "    <tr>\n",
              "      <th>4</th>\n",
              "      <td>35696</td>\n",
              "      <td>Buprenorphine / naloxone</td>\n",
              "      <td>Opiate Dependence</td>\n",
              "      <td>\"Suboxone has completely turned my life around...</td>\n",
              "      <td>9</td>\n",
              "      <td>27-Nov-16</td>\n",
              "      <td>37.0</td>\n",
              "      <td>5</td>\n",
              "    </tr>\n",
              "  </tbody>\n",
              "</table>\n",
              "</div>\n",
              "      <button class=\"colab-df-convert\" onclick=\"convertToInteractive('df-5818338a-f7b7-4ffe-a7c4-806f84a18013')\"\n",
              "              title=\"Convert this dataframe to an interactive table.\"\n",
              "              style=\"display:none;\">\n",
              "        \n",
              "  <svg xmlns=\"http://www.w3.org/2000/svg\" height=\"24px\"viewBox=\"0 0 24 24\"\n",
              "       width=\"24px\">\n",
              "    <path d=\"M0 0h24v24H0V0z\" fill=\"none\"/>\n",
              "    <path d=\"M18.56 5.44l.94 2.06.94-2.06 2.06-.94-2.06-.94-.94-2.06-.94 2.06-2.06.94zm-11 1L8.5 8.5l.94-2.06 2.06-.94-2.06-.94L8.5 2.5l-.94 2.06-2.06.94zm10 10l.94 2.06.94-2.06 2.06-.94-2.06-.94-.94-2.06-.94 2.06-2.06.94z\"/><path d=\"M17.41 7.96l-1.37-1.37c-.4-.4-.92-.59-1.43-.59-.52 0-1.04.2-1.43.59L10.3 9.45l-7.72 7.72c-.78.78-.78 2.05 0 2.83L4 21.41c.39.39.9.59 1.41.59.51 0 1.02-.2 1.41-.59l7.78-7.78 2.81-2.81c.8-.78.8-2.07 0-2.86zM5.41 20L4 18.59l7.72-7.72 1.47 1.35L5.41 20z\"/>\n",
              "  </svg>\n",
              "      </button>\n",
              "      \n",
              "  <style>\n",
              "    .colab-df-container {\n",
              "      display:flex;\n",
              "      flex-wrap:wrap;\n",
              "      gap: 12px;\n",
              "    }\n",
              "\n",
              "    .colab-df-convert {\n",
              "      background-color: #E8F0FE;\n",
              "      border: none;\n",
              "      border-radius: 50%;\n",
              "      cursor: pointer;\n",
              "      display: none;\n",
              "      fill: #1967D2;\n",
              "      height: 32px;\n",
              "      padding: 0 0 0 0;\n",
              "      width: 32px;\n",
              "    }\n",
              "\n",
              "    .colab-df-convert:hover {\n",
              "      background-color: #E2EBFA;\n",
              "      box-shadow: 0px 1px 2px rgba(60, 64, 67, 0.3), 0px 1px 3px 1px rgba(60, 64, 67, 0.15);\n",
              "      fill: #174EA6;\n",
              "    }\n",
              "\n",
              "    [theme=dark] .colab-df-convert {\n",
              "      background-color: #3B4455;\n",
              "      fill: #D2E3FC;\n",
              "    }\n",
              "\n",
              "    [theme=dark] .colab-df-convert:hover {\n",
              "      background-color: #434B5C;\n",
              "      box-shadow: 0px 1px 3px 1px rgba(0, 0, 0, 0.15);\n",
              "      filter: drop-shadow(0px 1px 2px rgba(0, 0, 0, 0.3));\n",
              "      fill: #FFFFFF;\n",
              "    }\n",
              "  </style>\n",
              "\n",
              "      <script>\n",
              "        const buttonEl =\n",
              "          document.querySelector('#df-5818338a-f7b7-4ffe-a7c4-806f84a18013 button.colab-df-convert');\n",
              "        buttonEl.style.display =\n",
              "          google.colab.kernel.accessAllowed ? 'block' : 'none';\n",
              "\n",
              "        async function convertToInteractive(key) {\n",
              "          const element = document.querySelector('#df-5818338a-f7b7-4ffe-a7c4-806f84a18013');\n",
              "          const dataTable =\n",
              "            await google.colab.kernel.invokeFunction('convertToInteractive',\n",
              "                                                     [key], {});\n",
              "          if (!dataTable) return;\n",
              "\n",
              "          const docLinkHtml = 'Like what you see? Visit the ' +\n",
              "            '<a target=\"_blank\" href=https://colab.research.google.com/notebooks/data_table.ipynb>data table notebook</a>'\n",
              "            + ' to learn more about interactive tables.';\n",
              "          element.innerHTML = '';\n",
              "          dataTable['output_type'] = 'display_data';\n",
              "          await google.colab.output.renderOutput(dataTable, element);\n",
              "          const docLink = document.createElement('div');\n",
              "          docLink.innerHTML = docLinkHtml;\n",
              "          element.appendChild(docLink);\n",
              "        }\n",
              "      </script>\n",
              "    </div>\n",
              "  </div>\n",
              "  "
            ]
          },
          "metadata": {},
          "execution_count": 44
        }
      ],
      "source": [
        "categories=[]\n",
        "corpus1.rating=corpus1.rating.astype(int)\n",
        "for i in corpus1.rating:\n",
        "  if i <=2:\n",
        "    categories.append(1)#\"Ineffective\"\n",
        "  elif (i >2) & (i<=4):\n",
        "    categories.append(2)#\"Slightly effective\"\n",
        "  elif (i >4) & (i<=6):\n",
        "    categories.append(3)#\"Moderately effective\"\n",
        "  elif (i >6) & (i<=8):\n",
        "    categories.append(4)#\"Considerably effective\"\n",
        "  elif (i>8):\n",
        "    categories.append(5)#\"Highly effective\"\n",
        "corpus1['effectiveness']=categories\n",
        "corpus1.head()"
      ]
    },
    {
      "cell_type": "code",
      "execution_count": null,
      "metadata": {
        "colab": {
          "base_uri": "https://localhost:8080/"
        },
        "id": "LlxQx2_Ajx17",
        "outputId": "c10247bb-6f2d-4eba-e27a-56e4881b9877"
      },
      "outputs": [
        {
          "data": {
            "text/plain": [
              "array([1, 2, 3, 4, 5])"
            ]
          },
          "execution_count": 18,
          "metadata": {},
          "output_type": "execute_result"
        }
      ],
      "source": [
        "np.unique(corpus1['effectiveness']) #5 classes"
      ]
    },
    {
      "cell_type": "code",
      "execution_count": null,
      "metadata": {
        "id": "R3UXmc_Me4t0"
      },
      "outputs": [],
      "source": [
        "#Train-validation-test split\n",
        "X=tf_idf3\n",
        "y=corpus1.effectiveness\n",
        "from sklearn.model_selection import train_test_split\n",
        "X_train_full, X_test, y_train_full, y_test = train_test_split(X, y, test_size=0.2, random_state=43, stratify=y)\n",
        "#USing validation data since we will be tuning hyperparameters\n",
        "X_train,X_valid=X_train_full[:3600],X_train_full[3600:]\n",
        "y_train, y_valid = y_train_full[:3600], y_train_full[3600:]"
      ]
    },
    {
      "cell_type": "code",
      "execution_count": null,
      "metadata": {
        "id": "L3ETWVbtgQJf"
      },
      "outputs": [],
      "source": [
        "#One hot encoding for target variable\n",
        "from keras.utils.np_utils import to_categorical\n",
        "Y_train = to_categorical(y_train)\n",
        "Y_train=Y_train[:,1:6]\n",
        "Y_test=to_categorical(y_test)\n",
        "Y_test=Y_test[:,1:6]\n",
        "Y_valid=to_categorical(y_valid)\n",
        "Y_valid=Y_valid[:,1:6]"
      ]
    },
    {
      "cell_type": "code",
      "execution_count": null,
      "metadata": {
        "colab": {
          "base_uri": "https://localhost:8080/",
          "height": 515
        },
        "id": "eqpReabDkGnx",
        "outputId": "79ba83fb-81e6-417c-b949-f45b624e293f"
      },
      "outputs": [
        {
          "output_type": "display_data",
          "data": {
            "text/plain": [
              "<Figure size 432x288 with 1 Axes>"
            ],
            "image/png": "[encoded data removed]"
          },
          "metadata": {
            "needs_background": "light"
          }
        },
        {
          "output_type": "display_data",
          "data": {
            "text/plain": [
              "<Figure size 432x288 with 1 Axes>"
            ],
            "image/png": "[encoded data removed]"
          },
          "metadata": {
            "needs_background": "light"
          }
        }
      ],
      "source": [
        "import matplotlib.pyplot as plt\n",
        "class1, freq1 = np.unique(y_train, return_counts=True) #unique classes in data and their corresponding frequency\n",
        "class2, freq2 = np.unique(y_test, return_counts=True)\n",
        "plt.subplot(2,1,1)\n",
        "plt.bar(class1,freq1,color=\"grey\")\n",
        "plt.title(\"Class wise frequency:train data and test data respectively\")\n",
        "plt.ylabel(\"Frequency\")\n",
        "plt.ylim(0,2000)\n",
        "xlabels=['Ineffective','Slightly_effective','Moderately_effective','Considerable effective','Highly effective']\n",
        "plt.xticks(ticks = range(1,6),labels=xlabels, color='black', rotation=90, fontsize='10')\n",
        "plt.show()\n",
        "plt.subplot(2,1,2)\n",
        "plt.bar(class2,freq2,color=\"grey\")\n",
        "plt.xlabel(\"Class\")\n",
        "plt.ylabel(\"Frequency\")\n",
        "plt.ylim(0,600)\n",
        "plt.xticks(ticks = range(1,6),labels=xlabels, color='black', rotation=90, fontsize='10')\n",
        "plt.show()"
      ]
    },
    {
      "cell_type": "code",
      "execution_count": null,
      "metadata": {
        "colab": {
          "base_uri": "https://localhost:8080/",
          "height": 325
        },
        "id": "2s7gRL8J_XXu",
        "outputId": "39856100-dd9a-40ec-f9fc-a6fe6c03b9ec"
      },
      "outputs": [
        {
          "data": {
            "image/png": "[encoded data removed]",
            "text/plain": [
              "<Figure size 432x288 with 1 Axes>"
            ]
          },
          "metadata": {},
          "output_type": "display_data"
        },
        {
          "data": {
            "image/png": "[encoded data removed]",
            "text/plain": [
              "<Figure size 432x288 with 1 Axes>"
            ]
          },
          "metadata": {},
          "output_type": "display_data"
        }
      ],
      "source": [
        "X2=bow\n",
        "y2=corpus1.effectiveness\n",
        "\n",
        "X_train2, X_test2, y_train2, y_test2 = train_test_split(X2, y2, test_size=0.2, random_state=43)\n",
        "\n",
        "count=[] \n",
        "count2=[]\n",
        "for i in X_train2:\n",
        "     count.append(len(i))\n",
        "for i in X_test2:\n",
        "     count2.append(len(i))\n",
        "plt.subplot(2,1,1)\n",
        "plt.hist(count,color=\"grey\", edgecolor='black')\n",
        "plt.title(\"Count of words in train and test sets\")\n",
        "plt.xlabel(\"Word count\")\n",
        "plt.ylabel(\"Number of samples\")\n",
        "plt.ylim(0,4000)\n",
        "plt.show()\n",
        "\n",
        "plt.subplot(2,1,1)\n",
        "plt.hist(count2,color=\"grey\", edgecolor='black')\n",
        "plt.xlabel(\"Word count\")\n",
        "plt.ylabel(\"Number of samples\")\n",
        "plt.ylim(0,4000)\n",
        "plt.show()\n",
        "\n",
        "#Most words occurd 4 to 7 times in the train and test data."
      ]
    },
    {
      "cell_type": "code",
      "execution_count": null,
      "metadata": {
        "colab": {
          "base_uri": "https://localhost:8080/"
        },
        "id": "kKPxEMkMCEYo",
        "outputId": "136381db-4f27-4538-b853-7da4839f5166"
      },
      "outputs": [
        {
          "name": "stdout",
          "output_type": "stream",
          "text": [
            "Topic 0:  ['day', 'take', 'ben', 'month', 'work', 'efect', 'wek', 'year', 'pain', 'period']\n",
            "Topic 1:  ['period', 'birth', 'month', 'control', 'pil', 'cramp', 'gain', 'weight', 'blede', 'acn']\n",
            "Topic 2:  ['pain', 'cramp', 'day', 'insert', 'back', 'hour', 'relief', 'period', 'got', 'blede']\n",
            "Topic 3:  ['work', 'efect', 'side', 'great', 'wel', 'pain', 'use', 'medicin', 'birth', 'control']\n",
            "Topic 4:  ['pain', 'help', 'year', 'life', 'gain', 'ben', 'weight', 'depres', 'control', 'anxieti']\n",
            "Topic 5:  ['efect', 'side', 'pain', 'day', 'headach', 'wek', 'nausea', 'weight', 'lb', 'experienc']\n",
            "Topic 6:  ['period', 'anxieti', 'mg', 'work', 'panic', 'control', 'depres', 'pil', 'atack', 'birth']\n",
            "Topic 7:  ['weight', 'lb', 'gain', 'work', 'lost', 'pound', 'eat', 'pain', 'lose', 'wek']\n",
            "Topic 8:  ['pil', 'help', 'take', 'slep', 'control', 'birth', 'night', 'hour', 'medicin', 'make']\n",
            "Topic 9:  ['mg', 'take', 'control', 'birth', 'ben', 'pil', 'acn', 'night', 'year', 'month']\n"
          ]
        }
      ],
      "source": [
        "#LSA for the purpose of visualizations\n",
        "from sklearn.decomposition import TruncatedSVD\n",
        "num_components=10 #10 topics \n",
        "lsa = TruncatedSVD(n_components=num_components, n_iter=100, random_state=43) #this will give 3 matrices (term-topic matrix,topic-topic matrix and topic-document matrix)\n",
        "lsa.fit_transform(tf_idf3) #fitting on data\n",
        "sigma = lsa.singular_values_ #for each topic\n",
        "V_transpose = lsa.components_.T #term-topic matrix\n",
        "terms = cv.get_feature_names() #unique terms\n",
        "topics=['time','menstruation','pain','side effects','anxiety','birth control','pills','weight gain','insomnia','dose']\n",
        "for index, component in enumerate(lsa.components_):\n",
        "    zipped = zip(terms, component)\n",
        "    top_terms_key=sorted(zipped, key = lambda t: t[1], reverse=True)[:10] #printing top 10 words associated with each of the 10 topics\n",
        "    top_terms_list=list(dict(top_terms_key).keys())\n",
        "    print(\"Topic \"+str(index)+\": \",top_terms_list)"
      ]
    },
    {
      "cell_type": "code",
      "execution_count": null,
      "metadata": {
        "colab": {
          "base_uri": "https://localhost:8080/",
          "height": 282
        },
        "id": "3RKkJd3oCc7N",
        "outputId": "9340b0ce-fa07-4a69-b095-3661424f087f"
      },
      "outputs": [
        {
          "data": {
            "text/plain": [
              "<matplotlib.axes._subplots.AxesSubplot at 0x7fefa4b32610>"
            ]
          },
          "execution_count": 64,
          "metadata": {},
          "output_type": "execute_result"
        },
        {
          "data": {
            "image/png": "[encoded data removed]",
            "text/plain": [
              "<Figure size 432x288 with 1 Axes>"
            ]
          },
          "metadata": {},
          "output_type": "display_data"
        }
      ],
      "source": [
        "import seaborn as sns\n",
        "sns.barplot(x=list(range(len(sigma))), y = sigma) #how much each component/topic explains the variance in the data\n",
        "#Topic 1 explains highest variance in data"
      ]
    },
    {
      "cell_type": "code",
      "execution_count": null,
      "metadata": {
        "colab": {
          "base_uri": "https://localhost:8080/",
          "height": 298
        },
        "id": "BMZDW-LECoHJ",
        "outputId": "fdf4456c-b9bf-4f92-ced5-68842f1905c9"
      },
      "outputs": [
        {
          "data": {
            "text/plain": [
              "<matplotlib.axes._subplots.AxesSubplot at 0x7fefa33c3350>"
            ]
          },
          "execution_count": 71,
          "metadata": {},
          "output_type": "execute_result"
        },
        {
          "data": {
            "image/png": "[encoded data removed]",
            "text/plain": [
              "<Figure size 432x288 with 1 Axes>"
            ]
          },
          "metadata": {},
          "output_type": "display_data"
        }
      ],
      "source": [
        "import matplotlib.pyplot as plt\n",
        "term_topic=pd.DataFrame(V_transpose,index=cv.get_feature_names()) #converting term-document matrix into dataframe; rows are the unique terms\n",
        "term_topic.columns=['Topic '+str(i) for i in range(0, 10)] #10 topics\n",
        "topic1 = term_topic['Topic 1']\n",
        "topic1 = topic1.sort_values(ascending=False)\n",
        "top_5 = topic1[:5]\n",
        "plt.title('Top terms in component 1: time') #Top 5 terms in document 1 based on term-document matrix\n",
        "sns.barplot(x= top_5.values, y=top_5.index)"
      ]
    },
    {
      "cell_type": "code",
      "execution_count": null,
      "metadata": {
        "colab": {
          "base_uri": "https://localhost:8080/",
          "height": 298
        },
        "id": "CZcNjbpLFCMa",
        "outputId": "9e46636e-fcee-44ec-8f47-3f90ca5d5f48"
      },
      "outputs": [
        {
          "data": {
            "text/plain": [
              "<matplotlib.axes._subplots.AxesSubplot at 0x7fefa332ba10>"
            ]
          },
          "execution_count": 72,
          "metadata": {},
          "output_type": "execute_result"
        },
        {
          "data": {
            "image/png": "[encoded data removed]",
            "text/plain": [
              "<Figure size 432x288 with 1 Axes>"
            ]
          },
          "metadata": {},
          "output_type": "display_data"
        }
      ],
      "source": [
        "bottom_5 = topic1[-5:]\n",
        "plt.title('Bottom terms in component 1: time')\n",
        "sns.barplot(x= bottom_5.values, y=bottom_5.index)#Bottom 5 terms in document 1 based on term-document matrix"
      ]
    },
    {
      "cell_type": "code",
      "execution_count": null,
      "metadata": {
        "colab": {
          "base_uri": "https://localhost:8080/"
        },
        "id": "iTuPfxI4FJZS",
        "outputId": "355b99f4-5217-4c93-9f02-3c49460fcbdd"
      },
      "outputs": [
        {
          "name": "stdout",
          "output_type": "stream",
          "text": [
            "[(0, '0.407*\"drugName\" + 0.407*\"date\" + 0.037*\"condition\" + 0.037*\"review\" + 0.037*\"rating\" + 0.037*\"usefulCount\" + 0.037*\"effectiveness\"'), (1, '0.407*\"condition\" + 0.407*\"usefulCount\" + 0.037*\"drugName\" + 0.037*\"review\" + 0.037*\"rating\" + 0.037*\"date\" + 0.037*\"effectiveness\"'), (2, '0.143*\"drugName\" + 0.143*\"condition\" + 0.143*\"date\" + 0.143*\"usefulCount\" + 0.143*\"review\" + 0.143*\"rating\" + 0.143*\"effectiveness\"'), (3, '0.143*\"drugName\" + 0.143*\"condition\" + 0.143*\"date\" + 0.143*\"usefulCount\" + 0.143*\"review\" + 0.143*\"rating\" + 0.143*\"effectiveness\"'), (4, '0.143*\"drugName\" + 0.143*\"condition\" + 0.143*\"date\" + 0.143*\"usefulCount\" + 0.143*\"review\" + 0.143*\"rating\" + 0.143*\"effectiveness\"'), (5, '0.143*\"drugName\" + 0.143*\"condition\" + 0.143*\"date\" + 0.143*\"usefulCount\" + 0.143*\"review\" + 0.143*\"rating\" + 0.143*\"effectiveness\"'), (6, '0.647*\"rating\" + 0.059*\"drugName\" + 0.059*\"condition\" + 0.059*\"review\" + 0.059*\"date\" + 0.059*\"usefulCount\" + 0.059*\"effectiveness\"'), (7, '0.143*\"drugName\" + 0.143*\"condition\" + 0.143*\"date\" + 0.143*\"usefulCount\" + 0.143*\"review\" + 0.143*\"rating\" + 0.143*\"effectiveness\"'), (8, '0.647*\"review\" + 0.059*\"drugName\" + 0.059*\"condition\" + 0.059*\"rating\" + 0.059*\"date\" + 0.059*\"usefulCount\" + 0.059*\"effectiveness\"'), (9, '0.647*\"effectiveness\" + 0.059*\"drugName\" + 0.059*\"condition\" + 0.059*\"review\" + 0.059*\"rating\" + 0.059*\"date\" + 0.059*\"usefulCount\"')]\n"
          ]
        }
      ],
      "source": [
        "#LDA\n",
        "import gensim\n",
        "from gensim import corpora, models\n",
        "from nltk.tokenize import RegexpTokenizer\n",
        "tokenizer = RegexpTokenizer(r'\\w+')\n",
        "corpus4=[]\n",
        "for i in corpus1: #tokenizing preprocessed data\n",
        "    corpus4.append(tokenizer.tokenize(i))\n",
        "    \n",
        "dictionary = corpora.Dictionary(corpus4) #dictonary for our tokenized data\n",
        "corpus5 = [dictionary.doc2bow(i) for i in corpus4] #word id and frequency\n",
        "\n",
        "ldamodel = gensim.models.ldamodel.LdaModel(corpus5, num_topics=10, id2word = dictionary, passes=100,random_state=42)\n",
        "print(ldamodel.print_topics())"
      ]
    },
    {
      "cell_type": "code",
      "execution_count": null,
      "metadata": {
        "colab": {
          "base_uri": "https://localhost:8080/",
          "height": 399
        },
        "id": "DCSvgJ3ZFvP7",
        "outputId": "de44abc6-bb5f-4364-a47a-282bc6f96991"
      },
      "outputs": [
        {
          "data": {
            "image/png": "[encoded data removed]",
            "text/plain": [
              "<Figure size 720x720 with 10 Axes>"
            ]
          },
          "metadata": {},
          "output_type": "display_data"
        }
      ],
      "source": [
        "#Visualizing lda results using word cloud \n",
        "from wordcloud import WordCloud\n",
        "\n",
        "cloud = WordCloud(background_color='white',width=2500,height=1800,colormap='tab10') #word cloud specifications\n",
        "topics_lda = ldamodel.show_topics(formatted=False) #all topics, formatted=False gives only words and their weightage\n",
        "fig, axes = plt.subplots(2,5, figsize=(10,10), sharex=True, sharey=True)\n",
        "\n",
        "for i, ax in enumerate(axes.flatten()):\n",
        "    fig.add_subplot(ax)\n",
        "    keyword_freq = dict(topics_lda[i][1]) #keyword frequencies under each topic\n",
        "    cloud.generate_from_frequencies(keyword_freq, max_font_size=400) #creating word cloud from the computed frequencies\n",
        "    plt.imshow(cloud)\n",
        "    ax.set_title('Topic ' + str(i))\n",
        "    plt.axis('off')\n",
        "\n",
        "\n",
        "plt.subplots_adjust(wspace=0, hspace=0)\n",
        "plt.axis('off') #no box around word cloud\n",
        "plt.show()"
      ]
    },
    {
      "cell_type": "markdown",
      "metadata": {
        "id": "QRw1hp5RnE_V"
      },
      "source": [
        "### **MLP-** **1 hidden layer**\n"
      ]
    },
    {
      "cell_type": "code",
      "execution_count": null,
      "metadata": {
        "id": "ei6jL6lQk092"
      },
      "outputs": [],
      "source": [
        "#Simple MLP with 1 hidden layer\n",
        "#Relu activation function in hidden layer\n",
        "#Softmax activation in output layer\n",
        "#Adam optimizer\n",
        "#Early stopping, checkpoint callbacks\n",
        "\n",
        "#Step 1:Build model\n",
        "model=keras.models.Sequential() \n",
        "model.add(keras.layers.Dense(100,activation=\"relu\",input_shape=[8105,])) \n",
        "model.add(keras.layers.Dense(5,activation=\"softmax\")) #5 output classes"
      ]
    },
    {
      "cell_type": "code",
      "execution_count": null,
      "metadata": {
        "colab": {
          "base_uri": "https://localhost:8080/"
        },
        "id": "15x1bT2TkmEK",
        "outputId": "3e8e8069-5a0e-40df-9966-2c3cd3bf5b41"
      },
      "outputs": [
        {
          "name": "stdout",
          "output_type": "stream",
          "text": [
            "Model: \"sequential\"\n",
            "_________________________________________________________________\n",
            " Layer (type)                Output Shape              Param #   \n",
            "=================================================================\n",
            " dense (Dense)               (None, 100)               810600    \n",
            "                                                                 \n",
            " dense_1 (Dense)             (None, 5)                 505       \n",
            "                                                                 \n",
            "=================================================================\n",
            "Total params: 811,105\n",
            "Trainable params: 811,105\n",
            "Non-trainable params: 0\n",
            "_________________________________________________________________\n"
          ]
        }
      ],
      "source": [
        "model.summary() #name of each layer, its shape and number of parameters"
      ]
    },
    {
      "cell_type": "code",
      "execution_count": null,
      "metadata": {
        "colab": {
          "base_uri": "https://localhost:8080/"
        },
        "id": "zCVmv-lPkrgs",
        "outputId": "11fdbf7f-bcb4-40bf-c123-4a144ff5627f"
      },
      "outputs": [
        {
          "data": {
            "text/plain": [
              "[<keras.layers.core.dense.Dense at 0x7fefbb3087d0>,\n",
              " <keras.layers.core.dense.Dense at 0x7fefbb21bad0>]"
            ]
          },
          "execution_count": 24,
          "metadata": {},
          "output_type": "execute_result"
        }
      ],
      "source": [
        "model.layers #layers in the model "
      ]
    },
    {
      "cell_type": "code",
      "execution_count": null,
      "metadata": {
        "colab": {
          "base_uri": "https://localhost:8080/"
        },
        "id": "OUFF3thak_aH",
        "outputId": "5f1b217d-a3de-49bf-f10f-d22626de7400"
      },
      "outputs": [
        {
          "data": {
            "text/plain": [
              "array([[ 0.13145964, -0.10310251,  0.06780918, -0.03825469,  0.12361713],\n",
              "       [ 0.11778064, -0.09830023,  0.0567167 ,  0.05300258,  0.04366116],\n",
              "       [-0.19693905, -0.22888052, -0.10319261, -0.23102915, -0.00689091],\n",
              "       [-0.0459998 ,  0.07510604,  0.13189666,  0.01902743,  0.17959432],\n",
              "       [ 0.00748619,  0.00082219,  0.23303233,  0.05072834,  0.20880316],\n",
              "       [ 0.1654699 ,  0.02829506, -0.02234814,  0.2254097 ,  0.1554446 ],\n",
              "       [-0.22968583,  0.0718299 , -0.09345053, -0.03871343,  0.09005021],\n",
              "       [-0.01389305,  0.19133247,  0.23226021, -0.04367147,  0.13898818],\n",
              "       [-0.1544353 ,  0.13533224, -0.02887969,  0.06000198, -0.20677552],\n",
              "       [ 0.0128506 ,  0.05116685,  0.23561727, -0.03163542,  0.10928704],\n",
              "       [ 0.18179046,  0.05510698,  0.07242246,  0.10594009,  0.19305162],\n",
              "       [-0.00892362,  0.11490251,  0.14091612,  0.02122252,  0.03909014],\n",
              "       [-0.22030547, -0.17341562,  0.14421277, -0.21067184, -0.17529878],\n",
              "       [ 0.1252261 , -0.11376481, -0.2217034 , -0.00928968, -0.04762501],\n",
              "       [-0.2317623 , -0.01845016, -0.00606604,  0.13451786,  0.06748341],\n",
              "       [-0.10807839, -0.04718536,  0.11147501,  0.04800995,  0.05712448],\n",
              "       [ 0.04711385, -0.07919899,  0.1909809 ,  0.09213246, -0.18504798],\n",
              "       [ 0.15647613,  0.205072  , -0.07851747,  0.21270524,  0.09470268],\n",
              "       [-0.10098739,  0.01857828, -0.06718847, -0.15285832,  0.21534653],\n",
              "       [-0.22871046, -0.08393487, -0.00747342, -0.10417962, -0.07287517],\n",
              "       [-0.01286177, -0.1693742 , -0.15076713,  0.12077014, -0.21675676],\n",
              "       [ 0.05941297, -0.15764311, -0.20390221, -0.16857031,  0.1350628 ],\n",
              "       [-0.23738204,  0.13356136, -0.17729092,  0.13855486, -0.08303034],\n",
              "       [-0.14873466, -0.21739878,  0.02948336,  0.15438779,  0.10011272],\n",
              "       [ 0.09771256,  0.15941934,  0.21545498, -0.08252424,  0.21811365],\n",
              "       [ 0.16292812,  0.08516626, -0.11357075,  0.09652866, -0.07010548],\n",
              "       [ 0.05497049,  0.20142372, -0.16763493,  0.09558205,  0.08724053],\n",
              "       [-0.22525656, -0.08953488, -0.2055117 ,  0.2141368 ,  0.01934324],\n",
              "       [-0.01967345, -0.02286546,  0.01630096,  0.00329646, -0.1355283 ],\n",
              "       [ 0.05685355, -0.19429594, -0.18492955, -0.18509205, -0.10753526],\n",
              "       [ 0.08911063, -0.05437537, -0.1924149 ,  0.18147431,  0.0885758 ],\n",
              "       [ 0.1471764 , -0.2117326 , -0.08954999, -0.18454856,  0.1520228 ],\n",
              "       [ 0.07654397, -0.11530516,  0.18154041,  0.01040931,  0.08746429],\n",
              "       [-0.03922772, -0.06056748,  0.10932113, -0.02007827,  0.16430716],\n",
              "       [-0.1927881 , -0.22866395,  0.1766539 , -0.14985542, -0.10768515],\n",
              "       [-0.13922481,  0.02381267, -0.07635076,  0.18719245, -0.11300749],\n",
              "       [-0.09441052, -0.2163607 , -0.09206155,  0.10645033, -0.11062393],\n",
              "       [ 0.09115519,  0.05919357, -0.03727971,  0.20168276, -0.01776448],\n",
              "       [-0.14011776,  0.14741503,  0.02081697,  0.18685804,  0.09402366],\n",
              "       [ 0.08716927,  0.13648887,  0.08072846, -0.06741552, -0.08386129],\n",
              "       [-0.10477725,  0.05112912, -0.12168723,  0.02081166, -0.20017625],\n",
              "       [ 0.03640281,  0.06888042, -0.16576478, -0.18236972,  0.10887955],\n",
              "       [ 0.04022403, -0.11388347, -0.0024748 ,  0.11870785, -0.18344188],\n",
              "       [ 0.0978566 , -0.09834422,  0.13808267,  0.22780605, -0.04086724],\n",
              "       [ 0.07452352,  0.15347932,  0.07682027, -0.16157135, -0.1806544 ],\n",
              "       [ 0.1939667 ,  0.02014033, -0.14472747, -0.11763059, -0.17936362],\n",
              "       [-0.05453302, -0.07910912, -0.1708723 ,  0.10553651,  0.18559484],\n",
              "       [-0.16399023,  0.16055737, -0.1698845 ,  0.21810202,  0.11262034],\n",
              "       [-0.20631474,  0.0328175 ,  0.09637694, -0.11220765, -0.17783126],\n",
              "       [-0.04398818,  0.20602904, -0.11104755,  0.07184689,  0.12498255],\n",
              "       [ 0.1141596 , -0.16725668,  0.23246075,  0.12780969,  0.16123913],\n",
              "       [-0.1492008 , -0.14851215, -0.2365916 , -0.13703959,  0.21748792],\n",
              "       [ 0.0711769 ,  0.2150607 ,  0.23622082, -0.23327884, -0.13211995],\n",
              "       [ 0.04811664,  0.16106085, -0.07270224, -0.03808172, -0.01672816],\n",
              "       [ 0.17960049, -0.15324958, -0.18443692, -0.2128472 , -0.20354277],\n",
              "       [ 0.09742184, -0.1101685 ,  0.06886469, -0.11545687, -0.17859143],\n",
              "       [ 0.16974334, -0.12122564, -0.00851525,  0.16399361,  0.23127188],\n",
              "       [-0.13856831,  0.09761836, -0.14488113, -0.15926257, -0.04577178],\n",
              "       [ 0.10970299,  0.10059328, -0.01706745, -0.08405069,  0.09995212],\n",
              "       [-0.10701759,  0.12153547,  0.21966065,  0.19981177,  0.04341088],\n",
              "       [ 0.04738154, -0.0714834 , -0.04783429,  0.15348719,  0.1349475 ],\n",
              "       [-0.12258116, -0.13918492, -0.21679124,  0.07210754, -0.22955008],\n",
              "       [ 0.23490252,  0.01814999, -0.2170028 , -0.21499419,  0.18659858],\n",
              "       [-0.05829033, -0.0181323 ,  0.1323485 , -0.11498765, -0.01369603],\n",
              "       [ 0.12105848,  0.22792475,  0.04126211,  0.17807491,  0.2382273 ],\n",
              "       [ 0.20377605, -0.11943378,  0.11662312, -0.04463311,  0.23389654],\n",
              "       [-0.154313  ,  0.14063127,  0.23239277,  0.11468013, -0.00278462],\n",
              "       [ 0.13050933, -0.06520186, -0.0382804 ,  0.18309091,  0.13479458],\n",
              "       [ 0.08239134,  0.17146684, -0.10446025, -0.07085739,  0.22044118],\n",
              "       [ 0.10078849, -0.09418289,  0.06691627,  0.10285954, -0.09242254],\n",
              "       [-0.06389318, -0.01395249, -0.19113569,  0.03573082, -0.07322368],\n",
              "       [ 0.15093897, -0.19242863,  0.2358015 ,  0.01933731, -0.16833213],\n",
              "       [ 0.07748543,  0.20655717, -0.11940734,  0.17640866,  0.08118121],\n",
              "       [ 0.16960092, -0.0861156 ,  0.09591307, -0.14966536, -0.019107  ],\n",
              "       [ 0.13207771,  0.15976639, -0.00177726, -0.23095751, -0.21639058],\n",
              "       [-0.02671213, -0.05182979, -0.07735185, -0.16845614, -0.17657514],\n",
              "       [-0.09320535,  0.04142697, -0.15363838, -0.02822684, -0.23855376],\n",
              "       [-0.21786806, -0.0494823 , -0.1436544 , -0.09498689, -0.18591855],\n",
              "       [ 0.17328195,  0.08414616, -0.21385644, -0.00927354,  0.18097715],\n",
              "       [ 0.02755176, -0.00912686, -0.01774862, -0.03921257,  0.16225316],\n",
              "       [ 0.10777558,  0.12098409,  0.14683999,  0.13277788,  0.15602742],\n",
              "       [ 0.19913875,  0.04076202, -0.01739606,  0.14390405, -0.01395985],\n",
              "       [-0.12252057, -0.08256903,  0.1232131 ,  0.12829317,  0.10154404],\n",
              "       [ 0.10613532, -0.15387091,  0.08193682, -0.04922509,  0.11905016],\n",
              "       [-0.0188605 ,  0.01923443, -0.00390242, -0.01505691, -0.05384488],\n",
              "       [ 0.01046266, -0.11431582,  0.10462855,  0.11363269, -0.13066065],\n",
              "       [ 0.08356516,  0.07096766,  0.07235669,  0.00915638, -0.09788464],\n",
              "       [-0.06650689,  0.21975611, -0.10711995, -0.14512855,  0.12402599],\n",
              "       [-0.1674912 ,  0.14282586, -0.18829818,  0.0116661 , -0.05138552],\n",
              "       [ 0.14665197,  0.00203122, -0.10953861,  0.19909076,  0.19388275],\n",
              "       [ 0.12262477,  0.22317518,  0.04600675,  0.07200317, -0.05140285],\n",
              "       [ 0.09336345, -0.04090337, -0.08855245,  0.17194156,  0.21492757],\n",
              "       [ 0.0718848 ,  0.11727791,  0.21129791,  0.14922838,  0.06824614],\n",
              "       [ 0.07027639,  0.23033224,  0.12583517, -0.00317855,  0.23103304],\n",
              "       [-0.15319839,  0.09364139,  0.021394  ,  0.0921361 ,  0.06277664],\n",
              "       [ 0.2269028 ,  0.0111628 ,  0.03751947,  0.22101168,  0.16691785],\n",
              "       [-0.10281128, -0.15000781,  0.13250448,  0.05413242,  0.09101199],\n",
              "       [ 0.05367155,  0.22922032,  0.17841966,  0.1265596 , -0.12139371],\n",
              "       [ 0.14621727,  0.04131003,  0.19392191,  0.00239284, -0.07552916],\n",
              "       [ 0.2236581 ,  0.130071  ,  0.08864199, -0.07774749,  0.21615781]],\n",
              "      dtype=float32)"
            ]
          },
          "execution_count": 25,
          "metadata": {},
          "output_type": "execute_result"
        }
      ],
      "source": [
        "hidden=model.layers[1] #layer 1 (dense layer)\n",
        "weight,bias=hidden.get_weights()\n",
        "weight #connection weights at hidden layer1"
      ]
    },
    {
      "cell_type": "code",
      "execution_count": null,
      "metadata": {
        "id": "nOalfW-Tlfk5"
      },
      "outputs": [],
      "source": [
        "checkpoint_callback=keras.callbacks.ModelCheckpoint('model.h5') #save at end of every epoch\n",
        "early_stopping_cb = keras.callbacks.EarlyStopping(patience=5,restore_best_weights=True) #early stopping used to stop training when there is no improvement on validation set for 5 epochs\n",
        "\n",
        "#Step 2: Compile model\n",
        "from keras import optimizers\n",
        "model.compile(loss=\"categorical_crossentropy\",optimizer='adam',metrics=[\"accuracy\"]) #using categorical crossentropy since data is one hot encoded"
      ]
    },
    {
      "cell_type": "code",
      "execution_count": null,
      "metadata": {
        "colab": {
          "base_uri": "https://localhost:8080/"
        },
        "id": "4bCaUP1vljVM",
        "outputId": "d4de7c92-fc10-449e-c4fb-e4ef5ea31931"
      },
      "outputs": [
        {
          "output_type": "stream",
          "name": "stdout",
          "text": [
            "Epoch 1/10\n",
            "225/225 [==============================] - 2s 8ms/step - loss: 1.3430 - accuracy: 0.4939 - val_loss: 1.1893 - val_accuracy: 0.5425\n",
            "Epoch 2/10\n",
            "225/225 [==============================] - 1s 5ms/step - loss: 1.0513 - accuracy: 0.5911 - val_loss: 1.0540 - val_accuracy: 0.6112\n",
            "Epoch 3/10\n",
            "225/225 [==============================] - 1s 6ms/step - loss: 0.8048 - accuracy: 0.7069 - val_loss: 1.0489 - val_accuracy: 0.6075\n",
            "Epoch 4/10\n",
            "225/225 [==============================] - 1s 6ms/step - loss: 0.5953 - accuracy: 0.8140 - val_loss: 1.0979 - val_accuracy: 0.6050\n",
            "Epoch 5/10\n",
            "225/225 [==============================] - 1s 6ms/step - loss: 0.4329 - accuracy: 0.8828 - val_loss: 1.1653 - val_accuracy: 0.5950\n",
            "Epoch 6/10\n",
            "225/225 [==============================] - 1s 6ms/step - loss: 0.3130 - accuracy: 0.9257 - val_loss: 1.2608 - val_accuracy: 0.5738\n",
            "Epoch 7/10\n",
            "225/225 [==============================] - 1s 6ms/step - loss: 0.2275 - accuracy: 0.9503 - val_loss: 1.3565 - val_accuracy: 0.5775\n",
            "Epoch 8/10\n",
            "225/225 [==============================] - 1s 5ms/step - loss: 0.1663 - accuracy: 0.9696 - val_loss: 1.4457 - val_accuracy: 0.5738\n"
          ]
        }
      ],
      "source": [
        "#Step 3: Fit model on training data\n",
        "history=model.fit(X_train,Y_train,epochs=10,validation_data=(X_valid,Y_valid),callbacks=[checkpoint_callback,early_stopping_cb]) #train and validation loss, accuracy"
      ]
    },
    {
      "cell_type": "code",
      "execution_count": null,
      "metadata": {
        "colab": {
          "base_uri": "https://localhost:8080/",
          "height": 279
        },
        "id": "EwT8vjLklzfH",
        "outputId": "c99a4304-de28-4878-8e8e-196c8471d478"
      },
      "outputs": [
        {
          "output_type": "display_data",
          "data": {
            "text/plain": [
              "<Figure size 432x288 with 1 Axes>"
            ],
            "image/png": "[encoded data removed]"
          },
          "metadata": {
            "needs_background": "light"
          }
        }
      ],
      "source": [
        "#Learning curve\n",
        "def eval_metric(history, metric_name):\n",
        "    metric = history.history[metric_name]\n",
        "    val_metric = history.history['val_' + metric_name]\n",
        "\n",
        "    epoch = range(1, 8 + 1)\n",
        "\n",
        "    plt.plot(epoch, metric, color=\"black\",marker='.', label='Train ' + metric_name)\n",
        "    plt.plot(epoch, val_metric, color=\"black\",marker='.', linestyle='dashed',label='Validation ' + metric_name)\n",
        "    plt.xlabel('Epochs')\n",
        "    plt.ylabel('Loss')\n",
        "    plt.legend()\n",
        "    plt.show()\n",
        "eval_metric(history,'loss')\n",
        "# pd.DataFrame(history.history).plot(figsize=(5,5))#train and validation loss and accuracy across all epochs\n",
        "# plt.title(\"Learning curve\")\n",
        "# plt.xlabel(\"Epochs\")\n",
        "# plt.ylabel(\"Loss and acuracy\")"
      ]
    },
    {
      "cell_type": "code",
      "source": [
        "eval_metric(history,'accuracy')"
      ],
      "metadata": {
        "colab": {
          "base_uri": "https://localhost:8080/",
          "height": 283
        },
        "id": "MddFk4L3upvU",
        "outputId": "f8b32350-112f-4a87-98cb-0b8fc256f574"
      },
      "execution_count": null,
      "outputs": [
        {
          "output_type": "display_data",
          "data": {
            "text/plain": [
              "<Figure size 432x288 with 1 Axes>"
            ],
            "image/png": "[encoded data removed]"
          },
          "metadata": {
            "needs_background": "light"
          }
        }
      ]
    },
    {
      "cell_type": "code",
      "execution_count": null,
      "metadata": {
        "colab": {
          "base_uri": "https://localhost:8080/"
        },
        "id": "keX5WRGnmkBk",
        "outputId": "a5d21c10-56d6-4c01-8683-7bf7d86b12db"
      },
      "outputs": [
        {
          "output_type": "stream",
          "name": "stdout",
          "text": [
            "63/63 [==============================] - 0s 3ms/step - loss: 1.1878 - accuracy: 0.5280\n"
          ]
        },
        {
          "output_type": "execute_result",
          "data": {
            "text/plain": [
              "[1.1878052949905396, 0.527999997138977]"
            ]
          },
          "metadata": {},
          "execution_count": 31
        }
      ],
      "source": [
        "#Step 5: evaluating model \n",
        "model.evaluate(X_test,Y_test) #accuracy on test set is 52.10%"
      ]
    },
    {
      "cell_type": "markdown",
      "metadata": {
        "id": "7MzvZGq5uYRL"
      },
      "source": [
        "### **MLP- 1 hidden layer without Early stopping**"
      ]
    },
    {
      "cell_type": "code",
      "execution_count": null,
      "metadata": {
        "colab": {
          "base_uri": "https://localhost:8080/"
        },
        "id": "TmoTDM-Iua7S",
        "outputId": "c558febc-b679-4ab8-f049-89f88137b647"
      },
      "outputs": [
        {
          "output_type": "stream",
          "name": "stdout",
          "text": [
            "63/63 [==============================] - 0s 3ms/step - loss: 1.9688 - accuracy: 0.4895\n"
          ]
        },
        {
          "output_type": "execute_result",
          "data": {
            "text/plain": [
              "[1.9688386917114258, 0.4894999861717224]"
            ]
          },
          "metadata": {},
          "execution_count": 32
        }
      ],
      "source": [
        "modela=keras.models.Sequential() \n",
        "modela.add(keras.layers.Dense(100,activation=\"relu\",input_shape=[8105,])) \n",
        "modela.add(keras.layers.Dense(5,activation=\"softmax\")) #5 output classes\n",
        "\n",
        "modela.compile(loss=\"categorical_crossentropy\",optimizer='adam',metrics=[\"accuracy\"])\n",
        "historya=modela.fit(X_train,Y_train,epochs=10,validation_data=(X_valid,Y_valid),verbose=0)\n",
        "modela.evaluate(X_test,Y_test) #accuracy on test set is 51.90%"
      ]
    },
    {
      "cell_type": "markdown",
      "metadata": {
        "id": "hopZS3kknC28"
      },
      "source": [
        "### **MLP-** **2 hidden** **layers** "
      ]
    },
    {
      "cell_type": "code",
      "execution_count": null,
      "metadata": {
        "colab": {
          "base_uri": "https://localhost:8080/"
        },
        "id": "nWDBeZYxnNUb",
        "outputId": "770ca381-ff7b-4974-f9c5-ba716ca68d55"
      },
      "outputs": [
        {
          "output_type": "stream",
          "name": "stdout",
          "text": [
            "Epoch 1/10\n",
            "113/113 [==============================] - 2s 13ms/step - loss: 1.3688 - accuracy: 0.4867 - val_loss: 1.2143 - val_accuracy: 0.5525\n",
            "Epoch 2/10\n",
            "113/113 [==============================] - 1s 6ms/step - loss: 0.9963 - accuracy: 0.6108 - val_loss: 1.0758 - val_accuracy: 0.5950\n",
            "Epoch 3/10\n",
            "113/113 [==============================] - 0s 4ms/step - loss: 0.6117 - accuracy: 0.7847 - val_loss: 1.2514 - val_accuracy: 0.5650\n",
            "Epoch 4/10\n",
            "113/113 [==============================] - 1s 4ms/step - loss: 0.2970 - accuracy: 0.9267 - val_loss: 1.4829 - val_accuracy: 0.5225\n",
            "Epoch 5/10\n",
            "113/113 [==============================] - 0s 4ms/step - loss: 0.1080 - accuracy: 0.9806 - val_loss: 1.7798 - val_accuracy: 0.5000\n",
            "Epoch 6/10\n",
            "113/113 [==============================] - 0s 4ms/step - loss: 0.0394 - accuracy: 0.9967 - val_loss: 2.0027 - val_accuracy: 0.5175\n",
            "Epoch 7/10\n",
            "113/113 [==============================] - 0s 4ms/step - loss: 0.0175 - accuracy: 0.9986 - val_loss: 2.1593 - val_accuracy: 0.5150\n"
          ]
        }
      ],
      "source": [
        "model2=keras.models.Sequential() \n",
        "model2.add(keras.layers.Dense(100,activation=\"relu\",input_shape=[8105,])) \n",
        "model2.add(keras.layers.Dense(100,activation=\"relu\")) \n",
        "model2.add(keras.layers.Dense(5,activation=\"softmax\"))\n",
        "\n",
        "model2.compile(loss=\"categorical_crossentropy\",optimizer='adam',metrics=[\"accuracy\"])\n",
        "\n",
        "checkpoint_callback2=keras.callbacks.ModelCheckpoint('model2.h5') #save at end of every epoch\n",
        "history2=model2.fit(X_train,Y_train,epochs=10,validation_data=(X_valid,Y_valid),callbacks=[checkpoint_callback2,early_stopping_cb])"
      ]
    },
    {
      "cell_type": "code",
      "execution_count": null,
      "metadata": {
        "colab": {
          "base_uri": "https://localhost:8080/",
          "height": 279
        },
        "id": "Nm_HaWRcogl5",
        "outputId": "baedb3db-7b77-409f-a636-fb0c4ae37701"
      },
      "outputs": [
        {
          "output_type": "display_data",
          "data": {
            "text/plain": [
              "<Figure size 432x288 with 1 Axes>"
            ],
            "image/png": "[encoded data removed]"
          },
          "metadata": {
            "needs_background": "light"
          }
        }
      ],
      "source": [
        "#Learning curve\n",
        "# pd.DataFrame(history2.history).plot(figsize=(5,5))#train and validation loss and accuracy across all epochs\n",
        "# plt.title(\"Learning curve\")\n",
        "# plt.xlabel(\"Epochs\")\n",
        "# plt.ylabel(\"Loss and acuracy\")\n",
        "def eval_metric2(history, metric_name):\n",
        "    metric = history.history[metric_name]\n",
        "    val_metric = history.history['val_' + metric_name]\n",
        "\n",
        "    epoch = range(1, 7 + 1)\n",
        "\n",
        "    plt.plot(epoch, metric, color=\"black\",marker='.', label='Train ' + metric_name)\n",
        "    plt.plot(epoch, val_metric, color=\"black\",marker='.', linestyle='dashed',label='Validation ' + metric_name)\n",
        "    plt.xlabel('Epochs')\n",
        "    plt.ylabel('Loss')\n",
        "    plt.legend()\n",
        "    plt.show()\n",
        "eval_metric2(history2,'loss')"
      ]
    },
    {
      "cell_type": "code",
      "source": [
        "eval_metric2(history2,'accuracy')"
      ],
      "metadata": {
        "colab": {
          "base_uri": "https://localhost:8080/",
          "height": 279
        },
        "id": "Nn1_EvdRvX0B",
        "outputId": "fe669811-4bbd-47fb-a34d-a466caa5c6cc"
      },
      "execution_count": null,
      "outputs": [
        {
          "output_type": "display_data",
          "data": {
            "text/plain": [
              "<Figure size 432x288 with 1 Axes>"
            ],
            "image/png": "[encoded data removed]"
          },
          "metadata": {
            "needs_background": "light"
          }
        }
      ]
    },
    {
      "cell_type": "code",
      "execution_count": null,
      "metadata": {
        "colab": {
          "base_uri": "https://localhost:8080/"
        },
        "id": "3Oy9U6Mwnopz",
        "outputId": "1167593f-0721-4251-d3a7-97ada4c2d91d"
      },
      "outputs": [
        {
          "name": "stdout",
          "output_type": "stream",
          "text": [
            "32/32 [==============================] - 0s 3ms/step - loss: 1.1876 - accuracy: 0.5400\n"
          ]
        },
        {
          "data": {
            "text/plain": [
              "[1.1876261234283447, 0.5400000214576721]"
            ]
          },
          "execution_count": 33,
          "metadata": {},
          "output_type": "execute_result"
        }
      ],
      "source": [
        "model2.evaluate(X_test,Y_test) #accuracy on test set is 54.40%"
      ]
    },
    {
      "cell_type": "markdown",
      "metadata": {
        "id": "7Ev2yV7-vCXx"
      },
      "source": [
        "### **MLP- 2 hidden layers without Early stopping**"
      ]
    },
    {
      "cell_type": "code",
      "execution_count": null,
      "metadata": {
        "colab": {
          "base_uri": "https://localhost:8080/"
        },
        "id": "r47IJW2lvIcJ",
        "outputId": "31f1efb7-cc0c-4efb-c274-ec01d5102811"
      },
      "outputs": [
        {
          "name": "stdout",
          "output_type": "stream",
          "text": [
            "32/32 [==============================] - 0s 3ms/step - loss: 2.6396 - accuracy: 0.5030\n"
          ]
        },
        {
          "data": {
            "text/plain": [
              "[2.6396234035491943, 0.503000020980835]"
            ]
          },
          "execution_count": 34,
          "metadata": {},
          "output_type": "execute_result"
        }
      ],
      "source": [
        "model2a=keras.models.Sequential() \n",
        "model2a.add(keras.layers.Dense(100,activation=\"relu\",input_shape=[8105,])) \n",
        "model2a.add(keras.layers.Dense(100,activation=\"relu\"))\n",
        "model2a.add(keras.layers.Dense(5,activation=\"softmax\")) #5 output classes\n",
        "\n",
        "model2a.compile(loss=\"categorical_crossentropy\",optimizer='adam',metrics=[\"accuracy\"])\n",
        "history2a=model2a.fit(X_train,Y_train,epochs=10,validation_data=(X_valid,Y_valid),verbose=0)\n",
        "model2a.evaluate(X_test,Y_test) #accuracy on test set is 49.5%"
      ]
    },
    {
      "cell_type": "markdown",
      "metadata": {
        "id": "g8J86vdLoN9h"
      },
      "source": [
        "### **MLP-** **3 hidden layers**"
      ]
    },
    {
      "cell_type": "code",
      "execution_count": null,
      "metadata": {
        "colab": {
          "base_uri": "https://localhost:8080/"
        },
        "id": "ulssT6n2oVW8",
        "outputId": "9700af76-64c6-44ab-cd5e-0186cc811371"
      },
      "outputs": [
        {
          "output_type": "stream",
          "name": "stdout",
          "text": [
            "Epoch 1/10\n",
            "113/113 [==============================] - 1s 5ms/step - loss: 1.3589 - accuracy: 0.4844 - val_loss: 1.1941 - val_accuracy: 0.5200\n",
            "Epoch 2/10\n",
            "113/113 [==============================] - 0s 4ms/step - loss: 0.9764 - accuracy: 0.6150 - val_loss: 1.1014 - val_accuracy: 0.5875\n",
            "Epoch 3/10\n",
            "113/113 [==============================] - 0s 4ms/step - loss: 0.5661 - accuracy: 0.7911 - val_loss: 1.4024 - val_accuracy: 0.5325\n",
            "Epoch 4/10\n",
            "113/113 [==============================] - 1s 4ms/step - loss: 0.2492 - accuracy: 0.9306 - val_loss: 1.9005 - val_accuracy: 0.5300\n",
            "Epoch 5/10\n",
            "113/113 [==============================] - 0s 4ms/step - loss: 0.0813 - accuracy: 0.9825 - val_loss: 2.3004 - val_accuracy: 0.4975\n",
            "Epoch 6/10\n",
            "113/113 [==============================] - 0s 4ms/step - loss: 0.0247 - accuracy: 0.9958 - val_loss: 2.6239 - val_accuracy: 0.5300\n",
            "Epoch 7/10\n",
            "113/113 [==============================] - 0s 4ms/step - loss: 0.0095 - accuracy: 0.9986 - val_loss: 2.8430 - val_accuracy: 0.5075\n"
          ]
        }
      ],
      "source": [
        "model3=keras.models.Sequential() \n",
        "model3.add(keras.layers.Dense(100,activation=\"relu\",input_shape=[8105,])) \n",
        "model3.add(keras.layers.Dense(100,activation=\"relu\")) \n",
        "model3.add(keras.layers.Dense(100,activation=\"relu\")) \n",
        "model3.add(keras.layers.Dense(5,activation=\"softmax\"))\n",
        "\n",
        "model3.compile(loss=\"categorical_crossentropy\",optimizer='adam',metrics=[\"accuracy\"])\n",
        "\n",
        "checkpoint_callback3=keras.callbacks.ModelCheckpoint('model3.h5') #save at end of every epoch\n",
        "history3=model3.fit(X_train,Y_train,epochs=10,validation_data=(X_valid,Y_valid),callbacks=[checkpoint_callback3,early_stopping_cb])"
      ]
    },
    {
      "cell_type": "code",
      "execution_count": null,
      "metadata": {
        "colab": {
          "base_uri": "https://localhost:8080/",
          "height": 279
        },
        "id": "8i02zTTronv3",
        "outputId": "cb897e82-f0d2-4293-ee26-484d82410015"
      },
      "outputs": [
        {
          "output_type": "display_data",
          "data": {
            "text/plain": [
              "<Figure size 432x288 with 1 Axes>"
            ],
            "image/png": "[encoded data removed]"
          },
          "metadata": {
            "needs_background": "light"
          }
        }
      ],
      "source": [
        "#Learning curve\n",
        "# pd.DataFrame(history3.history).plot(figsize=(5,5))#train and validation loss and accuracy across all epochs\n",
        "# plt.title(\"Learning curve\")\n",
        "# plt.xlabel(\"Epochs\")\n",
        "# plt.ylabel(\"Loss and acuracy\")\n",
        "eval_metric2(history3,'loss')"
      ]
    },
    {
      "cell_type": "code",
      "source": [
        "eval_metric2(history3,'accuracy')"
      ],
      "metadata": {
        "colab": {
          "base_uri": "https://localhost:8080/",
          "height": 279
        },
        "id": "evglm3Ghvjau",
        "outputId": "89deae5b-9b1b-41c6-cff5-a391ec387171"
      },
      "execution_count": null,
      "outputs": [
        {
          "output_type": "display_data",
          "data": {
            "text/plain": [
              "<Figure size 432x288 with 1 Axes>"
            ],
            "image/png": "[encoded data removed]"
          },
          "metadata": {
            "needs_background": "light"
          }
        }
      ]
    },
    {
      "cell_type": "code",
      "execution_count": null,
      "metadata": {
        "colab": {
          "base_uri": "https://localhost:8080/"
        },
        "id": "IFQpQkLKoaVY",
        "outputId": "10cd986c-5504-48d2-b6e5-1190effe3e00"
      },
      "outputs": [
        {
          "name": "stdout",
          "output_type": "stream",
          "text": [
            "32/32 [==============================] - 0s 3ms/step - loss: 1.2790 - accuracy: 0.4910\n"
          ]
        },
        {
          "data": {
            "text/plain": [
              "[1.2789980173110962, 0.4909999966621399]"
            ]
          },
          "execution_count": 37,
          "metadata": {},
          "output_type": "execute_result"
        }
      ],
      "source": [
        "model3.evaluate(X_test,Y_test) #accuracy on test set is 54.10%"
      ]
    },
    {
      "cell_type": "markdown",
      "metadata": {
        "id": "kqMBnLV_vXRc"
      },
      "source": [
        "### **MLP- 3 hidden layers without Early stopping**\n"
      ]
    },
    {
      "cell_type": "code",
      "execution_count": null,
      "metadata": {
        "colab": {
          "base_uri": "https://localhost:8080/"
        },
        "id": "RO_3VuuRvdlW",
        "outputId": "861fe94f-8deb-4710-d54e-4f0614d1aff4"
      },
      "outputs": [
        {
          "name": "stdout",
          "output_type": "stream",
          "text": [
            "32/32 [==============================] - 0s 3ms/step - loss: 3.7317 - accuracy: 0.4890\n"
          ]
        },
        {
          "data": {
            "text/plain": [
              "[3.7316577434539795, 0.48899999260902405]"
            ]
          },
          "execution_count": 38,
          "metadata": {},
          "output_type": "execute_result"
        }
      ],
      "source": [
        "model3a=keras.models.Sequential() \n",
        "model3a.add(keras.layers.Dense(100,activation=\"relu\",input_shape=[8105,])) \n",
        "model3a.add(keras.layers.Dense(100,activation=\"relu\")) \n",
        "model3a.add(keras.layers.Dense(100,activation=\"relu\")) \n",
        "model3a.add(keras.layers.Dense(5,activation=\"softmax\"))\n",
        "\n",
        "model3a.compile(loss=\"categorical_crossentropy\",optimizer='adam',metrics=[\"accuracy\"])\n",
        "\n",
        "history3a=model3a.fit(X_train,Y_train,epochs=10,validation_data=(X_valid,Y_valid),verbose=0)\n",
        "model3a.evaluate(X_test,Y_test) #49.30%"
      ]
    },
    {
      "cell_type": "markdown",
      "metadata": {
        "id": "uS4JMcHRrdYG"
      },
      "source": [
        "### **MLP-** **4 hidden layers**\n"
      ]
    },
    {
      "cell_type": "code",
      "execution_count": null,
      "metadata": {
        "colab": {
          "base_uri": "https://localhost:8080/"
        },
        "id": "YPScJ3wkrhzB",
        "outputId": "699e8c6e-7eae-4dbc-89a0-7b20fce7cac6"
      },
      "outputs": [
        {
          "output_type": "stream",
          "name": "stdout",
          "text": [
            "Epoch 1/10\n",
            "113/113 [==============================] - 1s 5ms/step - loss: 1.3477 - accuracy: 0.4861 - val_loss: 1.2003 - val_accuracy: 0.5475\n",
            "Epoch 2/10\n",
            "113/113 [==============================] - 0s 4ms/step - loss: 1.0213 - accuracy: 0.6072 - val_loss: 1.1721 - val_accuracy: 0.5825\n",
            "Epoch 3/10\n",
            "113/113 [==============================] - 0s 4ms/step - loss: 0.6794 - accuracy: 0.7206 - val_loss: 1.3579 - val_accuracy: 0.5675\n",
            "Epoch 4/10\n",
            "113/113 [==============================] - 0s 4ms/step - loss: 0.3482 - accuracy: 0.8686 - val_loss: 1.8213 - val_accuracy: 0.5000\n",
            "Epoch 5/10\n",
            "113/113 [==============================] - 1s 4ms/step - loss: 0.1412 - accuracy: 0.9550 - val_loss: 2.5209 - val_accuracy: 0.5025\n",
            "Epoch 6/10\n",
            "113/113 [==============================] - 0s 4ms/step - loss: 0.0499 - accuracy: 0.9864 - val_loss: 2.9802 - val_accuracy: 0.5000\n",
            "Epoch 7/10\n",
            "113/113 [==============================] - 1s 5ms/step - loss: 0.0144 - accuracy: 0.9978 - val_loss: 3.3083 - val_accuracy: 0.5250\n"
          ]
        }
      ],
      "source": [
        "model3b=keras.models.Sequential() \n",
        "model3b.add(keras.layers.Dense(100,activation=\"relu\",input_shape=[8105,])) \n",
        "model3b.add(keras.layers.Dense(100,activation=\"relu\")) \n",
        "model3b.add(keras.layers.Dense(100,activation=\"relu\")) \n",
        "model3b.add(keras.layers.Dense(100,activation=\"relu\")) \n",
        "model3b.add(keras.layers.Dense(5,activation=\"softmax\"))\n",
        "\n",
        "model3b.compile(loss=\"categorical_crossentropy\",optimizer='adam',metrics=[\"accuracy\"])\n",
        "\n",
        "checkpoint_callback3b=keras.callbacks.ModelCheckpoint('model3b.h5') #save at end of every epoch\n",
        "history3b=model3b.fit(X_train,Y_train,epochs=10,validation_data=(X_valid,Y_valid),callbacks=[checkpoint_callback3b,early_stopping_cb])"
      ]
    },
    {
      "cell_type": "code",
      "execution_count": null,
      "metadata": {
        "colab": {
          "base_uri": "https://localhost:8080/",
          "height": 279
        },
        "id": "OHnqO3QrrpXW",
        "outputId": "2eb697c7-68fe-4b7f-9575-568285b15d29"
      },
      "outputs": [
        {
          "output_type": "display_data",
          "data": {
            "text/plain": [
              "<Figure size 432x288 with 1 Axes>"
            ],
            "image/png": "[encoded data removed]"
          },
          "metadata": {
            "needs_background": "light"
          }
        }
      ],
      "source": [
        "#Learning curve\n",
        "# pd.DataFrame(history3b.history).plot(figsize=(5,5))#train and validation loss and accuracy across all epochs\n",
        "# plt.title(\"Learning curve\")\n",
        "# plt.xlabel(\"Epochs\")\n",
        "# plt.ylabel(\"Loss and acuracy\")\n",
        "eval_metric2(history3b,'loss')"
      ]
    },
    {
      "cell_type": "code",
      "source": [
        "eval_metric2(history2,'accuracy')"
      ],
      "metadata": {
        "colab": {
          "base_uri": "https://localhost:8080/",
          "height": 279
        },
        "id": "9mzHpLvxvuN4",
        "outputId": "ab36a5b1-70f9-4d80-d5c3-8c8f7d0462be"
      },
      "execution_count": null,
      "outputs": [
        {
          "output_type": "display_data",
          "data": {
            "text/plain": [
              "<Figure size 432x288 with 1 Axes>"
            ],
            "image/png": "[encoded data removed]"
          },
          "metadata": {
            "needs_background": "light"
          }
        }
      ]
    },
    {
      "cell_type": "code",
      "execution_count": null,
      "metadata": {
        "colab": {
          "base_uri": "https://localhost:8080/"
        },
        "id": "oXVDa8kkrw5q",
        "outputId": "c8c81b63-16ba-432e-a0c9-78e2073a5f58"
      },
      "outputs": [
        {
          "name": "stdout",
          "output_type": "stream",
          "text": [
            "32/32 [==============================] - 0s 3ms/step - loss: 1.2552 - accuracy: 0.5330\n"
          ]
        },
        {
          "data": {
            "text/plain": [
              "[1.2552311420440674, 0.5329999923706055]"
            ]
          },
          "execution_count": 41,
          "metadata": {},
          "output_type": "execute_result"
        }
      ],
      "source": [
        "model3b.evaluate(X_test,Y_test) #accuracy on test set is 52.30%"
      ]
    },
    {
      "cell_type": "markdown",
      "metadata": {
        "id": "WinKwveav0sb"
      },
      "source": [
        "### **MLP- 4 hidden layers without Early stopping**"
      ]
    },
    {
      "cell_type": "code",
      "execution_count": null,
      "metadata": {
        "colab": {
          "base_uri": "https://localhost:8080/"
        },
        "id": "aKuTOmZ3v5ES",
        "outputId": "3a83bac5-7dd2-40fd-9549-ec499bf4b271"
      },
      "outputs": [
        {
          "name": "stdout",
          "output_type": "stream",
          "text": [
            "32/32 [==============================] - 0s 3ms/step - loss: 5.3042 - accuracy: 0.4820\n"
          ]
        },
        {
          "data": {
            "text/plain": [
              "[5.304185390472412, 0.4819999933242798]"
            ]
          },
          "execution_count": 42,
          "metadata": {},
          "output_type": "execute_result"
        }
      ],
      "source": [
        "model3ba=keras.models.Sequential() \n",
        "model3ba.add(keras.layers.Dense(100,activation=\"relu\",input_shape=[8105,])) \n",
        "model3ba.add(keras.layers.Dense(100,activation=\"relu\")) \n",
        "model3ba.add(keras.layers.Dense(100,activation=\"relu\")) \n",
        "model3ba.add(keras.layers.Dense(100,activation=\"relu\")) \n",
        "model3ba.add(keras.layers.Dense(5,activation=\"softmax\"))\n",
        "\n",
        "model3ba.compile(loss=\"categorical_crossentropy\",optimizer='adam',metrics=[\"accuracy\"])\n",
        "\n",
        "history3ba=model3ba.fit(X_train,Y_train,epochs=10,validation_data=(X_valid,Y_valid),verbose=0)\n",
        "model3ba.evaluate(X_test,Y_test) #45.70%"
      ]
    },
    {
      "cell_type": "code",
      "execution_count": null,
      "metadata": {
        "id": "fKHZ5aLjr2Z3"
      },
      "outputs": [],
      "source": [
        "#Highest accuracy for 2 and 3 hidden layer MLPs.\n",
        "#In general, accuracy of test data is higher when early stopping is used as it helps minimize overfitting."
      ]
    },
    {
      "cell_type": "code",
      "execution_count": null,
      "metadata": {
        "colab": {
          "base_uri": "https://localhost:8080/"
        },
        "id": "4iNZOpsBo3k5",
        "outputId": "ad85f55f-1479-4c57-a2a0-478761280679"
      },
      "outputs": [
        {
          "data": {
            "text/plain": [
              "array(['Considerable effective', 'Highly effective', 'Ineffective',\n",
              "       'Highly effective', 'Highly effective', 'Considerable effective',\n",
              "       'Highly effective', 'Considerable effective', 'Highly effective',\n",
              "       'Highly effective'], dtype='<U22')"
            ]
          },
          "execution_count": 44,
          "metadata": {},
          "output_type": "execute_result"
        }
      ],
      "source": [
        "#making predictions using for first 10 test reviews (2 hidden layer MLP with early stopping)- gave best accuracy so far\n",
        "prob=model2.predict(X_test[:10]) #probability per class\n",
        "labels=np.argmax(prob,axis=1)\n",
        "labels #predicted class labels\n",
        "np.array(xlabels)[labels] #predicted classes "
      ]
    },
    {
      "cell_type": "code",
      "execution_count": null,
      "metadata": {
        "colab": {
          "base_uri": "https://localhost:8080/"
        },
        "id": "KCV1AWCsppbR",
        "outputId": "6625387c-8557-4103-a05d-f8ccda3f8ae2"
      },
      "outputs": [
        {
          "name": "stdout",
          "output_type": "stream",
          "text": [
            "Activation function: tanh\n",
            "32/32 [==============================] - 0s 3ms/step - loss: 1.1932 - accuracy: 0.5470\n",
            "Activation function: elu\n",
            "32/32 [==============================] - 0s 3ms/step - loss: 1.1963 - accuracy: 0.5450\n",
            "Activation function: relu\n",
            "32/32 [==============================] - 0s 3ms/step - loss: 1.2014 - accuracy: 0.5530\n",
            "Activation function: sigmoid\n",
            "32/32 [==============================] - 0s 3ms/step - loss: 1.2098 - accuracy: 0.5430\n",
            "Activation function: softplus\n",
            "32/32 [==============================] - 0s 3ms/step - loss: 1.1721 - accuracy: 0.5590\n"
          ]
        }
      ],
      "source": [
        "#Trying different activation functions for hidden layers\n",
        "act=['tanh','elu','relu','sigmoid','softplus']\n",
        "for i in act:\n",
        "  model4=keras.models.Sequential() \n",
        "  model4.add(keras.layers.Dense(100,activation=i,input_shape=[8105,])) \n",
        "  model4.add(keras.layers.Dense(100,activation=i)) \n",
        "  model4.add(keras.layers.Dense(5,activation=\"softmax\"))\n",
        "\n",
        "  model4.compile(loss=\"categorical_crossentropy\",optimizer='adam',metrics=[\"accuracy\"])\n",
        "\n",
        "  history4=model4.fit(X_train,Y_train,epochs=10,validation_data=(X_valid,Y_valid),verbose=0,callbacks=[early_stopping_cb])\n",
        "  print(\"Activation function:\",i)\n",
        "  model4.evaluate(X_test,Y_test)\n",
        "  \n",
        "#Highest accuracy by sigmoid and relu activation functions"
      ]
    },
    {
      "cell_type": "markdown",
      "metadata": {
        "id": "sgciIFuDGdxK"
      },
      "source": [
        "## **Batch Normalization**"
      ]
    },
    {
      "cell_type": "code",
      "execution_count": null,
      "metadata": {
        "colab": {
          "base_uri": "https://localhost:8080/"
        },
        "id": "fNHxYhZRGB6K",
        "outputId": "87ac38f3-9b6e-4970-8724-d7135ea265eb"
      },
      "outputs": [
        {
          "output_type": "stream",
          "name": "stdout",
          "text": [
            "Epoch 1/10\n",
            "113/113 [==============================] - 1s 6ms/step - loss: 1.5526 - accuracy: 0.3950 - val_loss: 1.3695 - val_accuracy: 0.5125\n",
            "Epoch 2/10\n",
            "113/113 [==============================] - 1s 5ms/step - loss: 0.4101 - accuracy: 0.9008 - val_loss: 1.3607 - val_accuracy: 0.5125\n",
            "Epoch 3/10\n",
            "113/113 [==============================] - 1s 5ms/step - loss: 0.1045 - accuracy: 0.9903 - val_loss: 1.3860 - val_accuracy: 0.5125\n",
            "Epoch 4/10\n",
            "113/113 [==============================] - 1s 5ms/step - loss: 0.0376 - accuracy: 0.9978 - val_loss: 1.3556 - val_accuracy: 0.5325\n",
            "Epoch 5/10\n",
            "113/113 [==============================] - 1s 5ms/step - loss: 0.0197 - accuracy: 0.9989 - val_loss: 1.3186 - val_accuracy: 0.5500\n",
            "Epoch 6/10\n",
            "113/113 [==============================] - 1s 5ms/step - loss: 0.0146 - accuracy: 0.9989 - val_loss: 1.4125 - val_accuracy: 0.5350\n",
            "Epoch 7/10\n",
            "113/113 [==============================] - 1s 5ms/step - loss: 0.0101 - accuracy: 0.9989 - val_loss: 1.5517 - val_accuracy: 0.5350\n",
            "Epoch 8/10\n",
            "113/113 [==============================] - 1s 5ms/step - loss: 0.0095 - accuracy: 0.9989 - val_loss: 1.6629 - val_accuracy: 0.5400\n",
            "Epoch 9/10\n",
            "113/113 [==============================] - 1s 5ms/step - loss: 0.0076 - accuracy: 0.9986 - val_loss: 1.7184 - val_accuracy: 0.5275\n",
            "Epoch 10/10\n",
            "113/113 [==============================] - 1s 5ms/step - loss: 0.0084 - accuracy: 0.9994 - val_loss: 1.7638 - val_accuracy: 0.5325\n"
          ]
        }
      ],
      "source": [
        "#Best model so far- MLP with 2 layers and early stopping\n",
        "#Adding batch normalization \n",
        "model5=keras.models.Sequential() \n",
        "model5.add(keras.layers.Dense(100,activation=\"relu\",input_shape=[8105,])) \n",
        "model5.add(keras.layers.BatchNormalization())\n",
        "model5.add(keras.layers.Dense(100,activation=\"relu\")) \n",
        "model5.add(keras.layers.BatchNormalization())\n",
        "model5.add(keras.layers.Dense(5,activation=\"softmax\"))\n",
        "\n",
        "model5.compile(loss=\"categorical_crossentropy\",optimizer='adam',metrics=[\"accuracy\"])\n",
        "\n",
        "checkpoint_callback5=keras.callbacks.ModelCheckpoint('model5.h5') #save at end of every epoch\n",
        "history5=model5.fit(X_train,Y_train,epochs=10,validation_data=(X_valid,Y_valid),callbacks=[checkpoint_callback5,early_stopping_cb])"
      ]
    },
    {
      "cell_type": "code",
      "execution_count": null,
      "metadata": {
        "colab": {
          "base_uri": "https://localhost:8080/",
          "height": 279
        },
        "id": "RaKA3LPgHBRh",
        "outputId": "731241cf-4658-4286-a997-ce1878739653"
      },
      "outputs": [
        {
          "output_type": "display_data",
          "data": {
            "text/plain": [
              "<Figure size 432x288 with 1 Axes>"
            ],
            "image/png": "[encoded data removed]"
          },
          "metadata": {
            "needs_background": "light"
          }
        }
      ],
      "source": [
        "#Learning curve\n",
        "# pd.DataFrame(history5.history).plot(figsize=(5,5))#train and validation loss and accuracy across all epochs\n",
        "# plt.title(\"Learning curve\")\n",
        "# plt.xlabel(\"Epochs\")\n",
        "# plt.ylabel(\"Loss and acuracy\")\n",
        "def eval_metric3(history, metric_name):\n",
        "    metric = history.history[metric_name]\n",
        "    val_metric = history.history['val_' + metric_name]\n",
        "\n",
        "    epoch = range(1, 10 + 1)\n",
        "\n",
        "    plt.plot(epoch, metric, color=\"black\",marker='.', label='Train ' + metric_name)\n",
        "    plt.plot(epoch, val_metric, color=\"black\",marker='.', linestyle='dashed',label='Validation ' + metric_name)\n",
        "    plt.xlabel('Epochs')\n",
        "    plt.ylabel('Loss')\n",
        "    plt.legend()\n",
        "    plt.show()\n",
        "\n",
        "eval_metric3(history5,'loss')"
      ]
    },
    {
      "cell_type": "code",
      "source": [
        "eval_metric3(history5,'accuracy')"
      ],
      "metadata": {
        "colab": {
          "base_uri": "https://localhost:8080/",
          "height": 279
        },
        "id": "MHbGLcSJwGCN",
        "outputId": "7f57c309-5982-4fe2-e8c2-c3a3b9ccd381"
      },
      "execution_count": null,
      "outputs": [
        {
          "output_type": "display_data",
          "data": {
            "text/plain": [
              "<Figure size 432x288 with 1 Axes>"
            ],
            "image/png": "[encoded data removed]"
          },
          "metadata": {
            "needs_background": "light"
          }
        }
      ]
    },
    {
      "cell_type": "code",
      "execution_count": null,
      "metadata": {
        "colab": {
          "base_uri": "https://localhost:8080/"
        },
        "id": "XvOHzD2pHE-B",
        "outputId": "6874f237-1295-4191-d0f0-41ad18995999"
      },
      "outputs": [
        {
          "name": "stdout",
          "output_type": "stream",
          "text": [
            "32/32 [==============================] - 0s 3ms/step - loss: 1.9397 - accuracy: 0.5210\n"
          ]
        },
        {
          "data": {
            "text/plain": [
              "[1.9397153854370117, 0.5210000276565552]"
            ]
          },
          "execution_count": 82,
          "metadata": {},
          "output_type": "execute_result"
        }
      ],
      "source": [
        "model5.evaluate(X_test,Y_test) #52.21%\n",
        "#comparable accuracy with and without batch normalization\n",
        "#decrease in train and validation loss when Batch Normalization was used."
      ]
    },
    {
      "cell_type": "markdown",
      "metadata": {
        "id": "lOXYwlshJP3z"
      },
      "source": [
        "## **Learning rate scheduling**\n",
        "#### **Piecewise constant scheduling** "
      ]
    },
    {
      "cell_type": "code",
      "execution_count": null,
      "metadata": {
        "colab": {
          "base_uri": "https://localhost:8080/"
        },
        "id": "IS53fQlPJXvq",
        "outputId": "47925c72-373a-4fca-c9d9-453464e72410"
      },
      "outputs": [
        {
          "name": "stdout",
          "output_type": "stream",
          "text": [
            "32/32 [==============================] - 0s 3ms/step - loss: 3.1784 - accuracy: 0.5050\n"
          ]
        },
        {
          "data": {
            "text/plain": [
              "[3.1784467697143555, 0.5049999952316284]"
            ]
          },
          "execution_count": 84,
          "metadata": {},
          "output_type": "execute_result"
        }
      ],
      "source": [
        "#MLP with 2 layers, BN and early stopping\n",
        "\n",
        "model6=keras.models.Sequential() \n",
        "model6.add(keras.layers.Dense(100,activation=\"relu\",input_shape=[8105,])) \n",
        "model6.add(keras.layers.BatchNormalization())\n",
        "model6.add(keras.layers.Dense(100,activation=\"relu\")) \n",
        "model6.add(keras.layers.BatchNormalization())\n",
        "model6.add(keras.layers.Dense(5,activation=\"softmax\"))\n",
        "\n",
        "#Piecewise contant learning rate scheduler- lr is reduced after specified number of epochs\n",
        "def piecewise_constant(epoch):\n",
        "  if epoch<5:\n",
        "    return 0.01\n",
        "  elif epoch<8:\n",
        "    return 0.005\n",
        "  else:\n",
        "    return 0.001\n",
        "\n",
        "\n",
        "lr_scheduler=keras.callbacks.LearningRateScheduler(piecewise_constant )\n",
        "\n",
        "model6.compile(loss=\"categorical_crossentropy\",optimizer='adam',metrics=[\"accuracy\"])\n",
        "\n",
        "checkpoint_callback6=keras.callbacks.ModelCheckpoint('model6.h5') #save at end of every epoch\n",
        "history6=model6.fit(X_train,Y_train,epochs=10,validation_data=(X_valid,Y_valid),callbacks=[checkpoint_callback6,early_stopping_cb,lr_scheduler],verbose=0)\n",
        "model6.evaluate(X_test,Y_test) #50.50%"
      ]
    },
    {
      "cell_type": "markdown",
      "metadata": {
        "id": "gd5fPmvaJ7_D"
      },
      "source": [
        "#### **Power scheduling**"
      ]
    },
    {
      "cell_type": "code",
      "execution_count": null,
      "metadata": {
        "colab": {
          "base_uri": "https://localhost:8080/"
        },
        "id": "5hKdmGVvKCC9",
        "outputId": "31f47d83-9661-4ec3-e6c1-8e4038d68922"
      },
      "outputs": [
        {
          "name": "stdout",
          "output_type": "stream",
          "text": [
            "32/32 [==============================] - 0s 3ms/step - loss: 1.9001 - accuracy: 0.5100\n"
          ]
        },
        {
          "data": {
            "text/plain": [
              "[1.9001015424728394, 0.5099999904632568]"
            ]
          },
          "execution_count": 88,
          "metadata": {},
          "output_type": "execute_result"
        }
      ],
      "source": [
        "model7=keras.models.Sequential() \n",
        "model7.add(keras.layers.Dense(100,activation=\"relu\",input_shape=[8105,])) \n",
        "model7.add(keras.layers.BatchNormalization())\n",
        "model7.add(keras.layers.Dense(100,activation=\"relu\")) \n",
        "model7.add(keras.layers.BatchNormalization())\n",
        "model7.add(keras.layers.Dense(5,activation=\"softmax\"))\n",
        "\n",
        "#power scheduling by setting decay hyperparameter\n",
        "model7.compile(loss=\"categorical_crossentropy\",optimizer= tf.keras.optimizers.Adam(lr=0.001,decay=1e-4),metrics=[\"accuracy\"])  \n",
        "\n",
        "checkpoint_callback7=keras.callbacks.ModelCheckpoint('model7.h5') #save at end of every epoch\n",
        "history7=model7.fit(X_train,Y_train,epochs=10,validation_data=(X_valid,Y_valid),callbacks=[checkpoint_callback7,early_stopping_cb],verbose=0)\n",
        "model7.evaluate(X_test,Y_test) #51.00%"
      ]
    },
    {
      "cell_type": "markdown",
      "metadata": {
        "id": "xepa1qO6LX89"
      },
      "source": [
        "### **Exponential scheduling**"
      ]
    },
    {
      "cell_type": "code",
      "execution_count": null,
      "metadata": {
        "colab": {
          "base_uri": "https://localhost:8080/"
        },
        "id": "Jq2XkW2HK1lG",
        "outputId": "b00b1d0e-a379-4b5d-edf9-e8013845f796"
      },
      "outputs": [
        {
          "name": "stdout",
          "output_type": "stream",
          "text": [
            "32/32 [==============================] - 0s 4ms/step - loss: 1.4607 - accuracy: 0.5100\n"
          ]
        },
        {
          "data": {
            "text/plain": [
              "[1.4607338905334473, 0.5099999904632568]"
            ]
          },
          "execution_count": 89,
          "metadata": {},
          "output_type": "execute_result"
        }
      ],
      "source": [
        "model8=keras.models.Sequential() \n",
        "model8.add(keras.layers.Dense(100,activation=\"relu\",input_shape=[8105,])) \n",
        "model8.add(keras.layers.BatchNormalization())\n",
        "model8.add(keras.layers.Dense(100,activation=\"relu\")) \n",
        "model8.add(keras.layers.BatchNormalization())\n",
        "model8.add(keras.layers.Dense(5,activation=\"softmax\"))\n",
        "\n",
        "\n",
        "model8.compile(loss=\"categorical_crossentropy\",optimizer= 'Adam',metrics=[\"accuracy\"])  \n",
        "\n",
        "def exponential_decay(epoch):\n",
        "  return 0.001*0.1**(epoch/5) #initial learning rate=0.001; decay rate=0.1; learning rate will drop after every 5 steps (decay steps)\n",
        "\n",
        "lr_scheduler2=keras.callbacks.LearningRateScheduler(exponential_decay)\n",
        "checkpoint_callback8=keras.callbacks.ModelCheckpoint('model8.h5') #save at end of every epoch\n",
        "history8=model8.fit(X_train,Y_train,epochs=10,validation_data=(X_valid,Y_valid),callbacks=[checkpoint_callback8,early_stopping_cb,lr_scheduler2],verbose=0)\n",
        "model8.evaluate(X_test,Y_test) #51.00%"
      ]
    },
    {
      "cell_type": "markdown",
      "metadata": {
        "id": "ftgfnwzNMHD9"
      },
      "source": [
        "### **Performance scheduling**"
      ]
    },
    {
      "cell_type": "code",
      "execution_count": null,
      "metadata": {
        "colab": {
          "base_uri": "https://localhost:8080/"
        },
        "id": "xfU2lY60Lc-p",
        "outputId": "343b5245-0ac1-48b4-df6a-6c76544dab73"
      },
      "outputs": [
        {
          "name": "stdout",
          "output_type": "stream",
          "text": [
            "32/32 [==============================] - 0s 3ms/step - loss: 1.9199 - accuracy: 0.5240\n"
          ]
        },
        {
          "data": {
            "text/plain": [
              "[1.9199318885803223, 0.5239999890327454]"
            ]
          },
          "execution_count": 91,
          "metadata": {},
          "output_type": "execute_result"
        }
      ],
      "source": [
        "from keras.callbacks import ReduceLROnPlateau\n",
        "model9=keras.models.Sequential() \n",
        "model9.add(keras.layers.Dense(100,activation=\"relu\",input_shape=[8105,])) \n",
        "model9.add(keras.layers.BatchNormalization())\n",
        "model9.add(keras.layers.Dense(100,activation=\"relu\")) \n",
        "model9.add(keras.layers.BatchNormalization())\n",
        "model9.add(keras.layers.Dense(5,activation=\"softmax\"))\n",
        "\n",
        "\n",
        "model9.compile(loss=\"categorical_crossentropy\",optimizer= 'Adam',metrics=[\"accuracy\"])  \n",
        "\n",
        "#Performance scheduling-lr reduced if no improvement seen for n epochs\n",
        "lr_scheduler3 = ReduceLROnPlateau(monitor='loss', factor=0.5, patience=5, min_lr=0.0001) #lr reduced by factor of 0.5 if train loss does not reduce for 5 epochs; lower bound of learning rate is 0.0001\n",
        "\n",
        "checkpoint_callback9=keras.callbacks.ModelCheckpoint('model9.h5') #save at end of every epoch\n",
        "history9=model9.fit(X_train,Y_train,epochs=10,validation_data=(X_valid,Y_valid),callbacks=[checkpoint_callback9,early_stopping_cb,lr_scheduler3],verbose=0)\n",
        "model9.evaluate(X_test,Y_test) #52.40%"
      ]
    },
    {
      "cell_type": "markdown",
      "metadata": {
        "id": "Lm0V29bmNocK"
      },
      "source": [
        "### **1cycle scheduling**"
      ]
    },
    {
      "cell_type": "code",
      "execution_count": null,
      "metadata": {
        "colab": {
          "base_uri": "https://localhost:8080/"
        },
        "id": "536u-bwrMR4J",
        "outputId": "87b8b9da-c0b2-4ef5-bd70-aedbae775b6a"
      },
      "outputs": [
        {
          "name": "stdout",
          "output_type": "stream",
          "text": [
            "Requirement already satisfied: tensorflow-addons==0.16.1 in /usr/local/lib/python3.7/dist-packages (0.16.1)\n",
            "Requirement already satisfied: typeguard>=2.7 in /usr/local/lib/python3.7/dist-packages (from tensorflow-addons==0.16.1) (2.7.1)\n",
            "32/32 [==============================] - 0s 7ms/step - loss: 2.0211 - accuracy: 0.4990\n"
          ]
        },
        {
          "data": {
            "text/plain": [
              "[2.0210859775543213, 0.49900001287460327]"
            ]
          },
          "execution_count": 95,
          "metadata": {},
          "output_type": "execute_result"
        }
      ],
      "source": [
        "!pip install tensorflow-addons==0.16.1\n",
        "import tensorflow_addons as tfa\n",
        "model10=keras.models.Sequential() \n",
        "model10.add(keras.layers.Dense(100,activation=\"relu\",input_shape=[8105,])) \n",
        "model10.add(keras.layers.BatchNormalization())\n",
        "model10.add(keras.layers.Dense(100,activation=\"relu\")) \n",
        "model10.add(keras.layers.BatchNormalization())\n",
        "model10.add(keras.layers.Dense(5,activation=\"softmax\"))\n",
        "\n",
        "\n",
        "#1cycle scheduling- lr first increases and then decreases\n",
        "lr_scheduler4= tfa.optimizers.CyclicalLearningRate(initial_learning_rate=0.001, #specifying lower and upper bound of lr\n",
        "    maximal_learning_rate=0.006,\n",
        "    scale_fn=lambda x: 1/(2.**(x-1)), #to scale lr up and down\n",
        "    step_size=2\n",
        ")\n",
        "\n",
        "model10.compile(loss=\"categorical_crossentropy\",optimizer=tf.keras.optimizers.Adam(lr_scheduler4),metrics=[\"accuracy\"])  \n",
        "\n",
        "checkpoint_callback10=keras.callbacks.ModelCheckpoint('model10.h5') #save at end of every epoch\n",
        "history10=model10.fit(X_train,Y_train,epochs=10,validation_data=(X_valid,Y_valid),callbacks=[checkpoint_callback10,early_stopping_cb],verbose=0)\n",
        "model10.evaluate(X_test,Y_test) #49.90%"
      ]
    },
    {
      "cell_type": "markdown",
      "metadata": {
        "id": "8d3VYc3wOWcX"
      },
      "source": [
        "### Best performance when performance lr scheduler was used."
      ]
    },
    {
      "cell_type": "markdown",
      "metadata": {
        "id": "xkPJscXsSWFF"
      },
      "source": [
        "## **Regularization**\n",
        "#### **Dropout regularization**"
      ]
    },
    {
      "cell_type": "markdown",
      "metadata": {
        "id": "5sXsnRSmObOp"
      },
      "source": [
        "#### **Trying different dropout rates**"
      ]
    },
    {
      "cell_type": "code",
      "execution_count": null,
      "metadata": {
        "colab": {
          "base_uri": "https://localhost:8080/"
        },
        "id": "Av71E6FGRUOa",
        "outputId": "b108ab39-0725-4393-c16a-ff65937fa998"
      },
      "outputs": [
        {
          "name": "stdout",
          "output_type": "stream",
          "text": [
            "32/32 [==============================] - 0s 5ms/step - loss: 1.5695 - accuracy: 0.5420\n"
          ]
        },
        {
          "data": {
            "text/plain": [
              "[1.5694575309753418, 0.5419999957084656]"
            ]
          },
          "execution_count": 97,
          "metadata": {},
          "output_type": "execute_result"
        }
      ],
      "source": [
        "#MLP- 2 hidden layers, BN, performance scheduling, dropout, early stopping, performance scheduling\n",
        "model11=keras.models.Sequential() \n",
        "model11.add(keras.layers.Dense(100,activation=\"relu\",input_shape=[8105,])) \n",
        "model11.add(keras.layers.Dropout(0.5)) #50% dropout rate\n",
        "model11.add(keras.layers.BatchNormalization())\n",
        "model11.add(keras.layers.Dense(100,activation=\"relu\"))\n",
        "model11.add(keras.layers.Dropout(0.5)) #50% dropout rate \n",
        "model11.add(keras.layers.BatchNormalization())\n",
        "model11.add(keras.layers.Dense(5,activation=\"softmax\"))\n",
        "\n",
        "\n",
        "model11.compile(loss=\"categorical_crossentropy\",optimizer= 'Adam',metrics=[\"accuracy\"])  \n",
        "\n",
        "#Performance scheduling-lr reduced if no improvement seen for n epochs\n",
        "lr_scheduler3 = ReduceLROnPlateau(monitor='loss', factor=0.5, patience=5, min_lr=0.0001) #lr reduced by factor of 0.5 if train loss does not reduce for 5 epochs; lower bound of learning rate is 0.0001\n",
        "\n",
        "checkpoint_callback11=keras.callbacks.ModelCheckpoint('model11.h5') #save at end of every epoch\n",
        "history11=model11.fit(X_train,Y_train,epochs=10,validation_data=(X_valid,Y_valid),callbacks=[checkpoint_callback11,early_stopping_cb,lr_scheduler3],verbose=0)\n",
        "model11.evaluate(X_test,Y_test) #54.20%"
      ]
    },
    {
      "cell_type": "code",
      "execution_count": null,
      "metadata": {
        "colab": {
          "base_uri": "https://localhost:8080/"
        },
        "id": "V1igVrxgNq7O",
        "outputId": "65d7243f-52dd-43d2-b49d-c70953c304a7"
      },
      "outputs": [
        {
          "name": "stdout",
          "output_type": "stream",
          "text": [
            "Dropout rate: 0.2\n",
            "32/32 [==============================] - 0s 4ms/step - loss: 1.3029 - accuracy: 0.5060\n",
            "Dropout rate: 0.3\n",
            "32/32 [==============================] - 0s 3ms/step - loss: 1.3467 - accuracy: 0.4990\n",
            "Dropout rate: 0.5\n",
            "32/32 [==============================] - 0s 4ms/step - loss: 1.2314 - accuracy: 0.5260\n"
          ]
        }
      ],
      "source": [
        "for i in [0.2,0.3,0.5]:\n",
        "  model11b=keras.models.Sequential() \n",
        "  model11b.add(keras.layers.Dense(100,activation=\"relu\",input_shape=[8105,])) \n",
        "  model11b.add(keras.layers.Dropout(i)) \n",
        "  model11b.add(keras.layers.BatchNormalization())\n",
        "  model11b.add(keras.layers.Dense(100,activation=\"relu\"))\n",
        "  model11b.add(keras.layers.Dropout(i))  \n",
        "  model11b.add(keras.layers.BatchNormalization())\n",
        "  model11b.add(keras.layers.Dense(5,activation=\"softmax\"))\n",
        "\n",
        "\n",
        "  model11b.compile(loss=\"categorical_crossentropy\",optimizer= 'Adam',metrics=[\"accuracy\"])  \n",
        "\n",
        "  #Performance scheduling-lr reduced if no improvement seen for n epochs\n",
        "  lr_scheduler3 = ReduceLROnPlateau(monitor='loss', factor=0.5, patience=5, min_lr=0.0001) #lr reduced by factor of 0.5 if train loss does not reduce for 5 epochs; lower bound of learning rate is 0.0001\n",
        "\n",
        "  early_stopping_cb = keras.callbacks.EarlyStopping(patience=5,restore_best_weights=True)\n",
        "  checkpoint_callback11b=keras.callbacks.ModelCheckpoint('model11b.h5') #save at end of every epoch\n",
        "  history11b=model11b.fit(X_train,Y_train,epochs=10,validation_data=(X_valid,Y_valid),callbacks=[checkpoint_callback11b,early_stopping_cb,lr_scheduler3],verbose=0)\n",
        "  print(\"Dropout rate:\",i)\n",
        "  model11b.evaluate(X_test,Y_test)\n",
        "#Droput rate= 0.5 gave best lowest loss and highest accuracy "
      ]
    },
    {
      "cell_type": "markdown",
      "metadata": {
        "id": "ij29lCV-R5Qw"
      },
      "source": [
        "### **Alpha Dropout**"
      ]
    },
    {
      "cell_type": "code",
      "execution_count": null,
      "metadata": {
        "colab": {
          "base_uri": "https://localhost:8080/"
        },
        "id": "tFEPqiNoRjVo",
        "outputId": "75f9f9ff-0886-4153-e455-bd4ed7cdffbf"
      },
      "outputs": [
        {
          "name": "stdout",
          "output_type": "stream",
          "text": [
            "32/32 [==============================] - 0s 3ms/step - loss: 1.3243 - accuracy: 0.4950\n"
          ]
        },
        {
          "data": {
            "text/plain": [
              "[1.3243217468261719, 0.4950000047683716]"
            ]
          },
          "execution_count": 31,
          "metadata": {},
          "output_type": "execute_result"
        }
      ],
      "source": [
        "model11c=keras.models.Sequential() \n",
        "model11c.add(keras.layers.Dense(100,activation=\"relu\",input_shape=[8105,])) \n",
        "model11c.add(keras.layers.AlphaDropout(0.5)) #50% dropout rate\n",
        "model11c.add(keras.layers.BatchNormalization())\n",
        "model11c.add(keras.layers.Dense(100,activation=\"relu\"))\n",
        "model11c.add(keras.layers.AlphaDropout(0.5)) #50% dropout rate \n",
        "model11c.add(keras.layers.BatchNormalization())\n",
        "model11c.add(keras.layers.Dense(5,activation=\"softmax\"))\n",
        "\n",
        "\n",
        "model11c.compile(loss=\"categorical_crossentropy\",optimizer= 'Adam',metrics=[\"accuracy\"])  \n",
        "\n",
        "checkpoint_callback11c=keras.callbacks.ModelCheckpoint('model11c.h5') #save at end of every epoch\n",
        "history11c=model11c.fit(X_train,Y_train,epochs=10,validation_data=(X_valid,Y_valid),callbacks=[checkpoint_callback11c,early_stopping_cb,lr_scheduler3],verbose=0)\n",
        "model11c.evaluate(X_test,Y_test) #49.50%"
      ]
    },
    {
      "cell_type": "markdown",
      "metadata": {
        "id": "IaxcqsMVS6fU"
      },
      "source": [
        "#### **l1 regularization**"
      ]
    },
    {
      "cell_type": "code",
      "execution_count": null,
      "metadata": {
        "colab": {
          "base_uri": "https://localhost:8080/"
        },
        "id": "VzXqKQR5S-YC",
        "outputId": "987ed011-22d4-4daf-c980-f2b8b0d0ec9c"
      },
      "outputs": [
        {
          "name": "stdout",
          "output_type": "stream",
          "text": [
            "32/32 [==============================] - 0s 4ms/step - loss: 2.9052 - accuracy: 0.4840\n"
          ]
        },
        {
          "data": {
            "text/plain": [
              "[2.9051620960235596, 0.48399999737739563]"
            ]
          },
          "execution_count": 98,
          "metadata": {},
          "output_type": "execute_result"
        }
      ],
      "source": [
        "model12=keras.models.Sequential() \n",
        "model12.add(keras.layers.Dense(100,activation=\"relu\",input_shape=[8105,],kernel_regularizer=keras.regularizers.l1(0.01))) \n",
        "model12.add(keras.layers.BatchNormalization())\n",
        "model12.add(keras.layers.Dense(100,activation=\"relu\",kernel_regularizer=keras.regularizers.l1(0.01)))\n",
        "model12.add(keras.layers.BatchNormalization())\n",
        "model12.add(keras.layers.Dense(5,activation=\"softmax\",kernel_regularizer=keras.regularizers.l1(0.01)))\n",
        "\n",
        "\n",
        "model12.compile(loss=\"categorical_crossentropy\",optimizer= 'Adam',metrics=[\"accuracy\"])  \n",
        "\n",
        "#Performance scheduling-lr reduced if no improvement seen for n epochs\n",
        "lr_scheduler3 = ReduceLROnPlateau(monitor='loss', factor=0.5, patience=5, min_lr=0.0001) #lr reduced by factor of 0.5 if train loss does not reduce for 5 epochs; lower bound of learning rate is 0.0001\n",
        "\n",
        "checkpoint_callback12=keras.callbacks.ModelCheckpoint('model12.h5') #save at end of every epoch\n",
        "history12=model12.fit(X_train,Y_train,epochs=10,validation_data=(X_valid,Y_valid),callbacks=[checkpoint_callback12,early_stopping_cb,lr_scheduler3],verbose=0)\n",
        "model12.evaluate(X_test,Y_test) #48.40%"
      ]
    },
    {
      "cell_type": "markdown",
      "metadata": {
        "id": "J5O3AndKTp9i"
      },
      "source": [
        "### **l2 regularization**"
      ]
    },
    {
      "cell_type": "code",
      "execution_count": null,
      "metadata": {
        "colab": {
          "base_uri": "https://localhost:8080/"
        },
        "id": "3PA0pDaeTsg0",
        "outputId": "8f7eb923-07a8-4f11-8fbe-fdb3214cecd3"
      },
      "outputs": [
        {
          "name": "stdout",
          "output_type": "stream",
          "text": [
            "32/32 [==============================] - 0s 4ms/step - loss: 2.5276 - accuracy: 0.5130\n"
          ]
        },
        {
          "data": {
            "text/plain": [
              "[2.5276129245758057, 0.5130000114440918]"
            ]
          },
          "execution_count": 99,
          "metadata": {},
          "output_type": "execute_result"
        }
      ],
      "source": [
        "model13=keras.models.Sequential() \n",
        "model13.add(keras.layers.Dense(100,activation=\"relu\",input_shape=[8105,],kernel_regularizer=keras.regularizers.l2(0.01))) \n",
        "model13.add(keras.layers.BatchNormalization())\n",
        "model13.add(keras.layers.Dense(100,activation=\"relu\",kernel_regularizer=keras.regularizers.l2(0.01)))\n",
        "model13.add(keras.layers.BatchNormalization())\n",
        "model13.add(keras.layers.Dense(5,activation=\"softmax\",kernel_regularizer=keras.regularizers.l2(0.01)))\n",
        "\n",
        "\n",
        "model13.compile(loss=\"categorical_crossentropy\",optimizer= 'Adam',metrics=[\"accuracy\"])  \n",
        "\n",
        "#Performance scheduling-lr reduced if no improvement seen for n epochs\n",
        "lr_scheduler3 = ReduceLROnPlateau(monitor='loss', factor=0.5, patience=5, min_lr=0.0001) #lr reduced by factor of 0.5 if train loss does not reduce for 5 epochs; lower bound of learning rate is 0.0001\n",
        "\n",
        "checkpoint_callback13=keras.callbacks.ModelCheckpoint('model13.h5') #save at end of every epoch\n",
        "history13=model13.fit(X_train,Y_train,epochs=10,validation_data=(X_valid,Y_valid),callbacks=[checkpoint_callback13,early_stopping_cb,lr_scheduler3],verbose=0)\n",
        "model13.evaluate(X_test,Y_test) #51.30%"
      ]
    },
    {
      "cell_type": "markdown",
      "metadata": {
        "id": "kai4Qf6qUqy8"
      },
      "source": [
        "### **Max norm regularization**"
      ]
    },
    {
      "cell_type": "code",
      "execution_count": null,
      "metadata": {
        "colab": {
          "base_uri": "https://localhost:8080/"
        },
        "id": "2yLgej5HUA97",
        "outputId": "510df131-367d-4fbc-f53c-2588a115599e"
      },
      "outputs": [
        {
          "name": "stdout",
          "output_type": "stream",
          "text": [
            "32/32 [==============================] - 0s 7ms/step - loss: 1.8314 - accuracy: 0.4470\n"
          ]
        },
        {
          "data": {
            "text/plain": [
              "[1.8314181566238403, 0.44699999690055847]"
            ]
          },
          "execution_count": 100,
          "metadata": {},
          "output_type": "execute_result"
        }
      ],
      "source": [
        "model14=keras.models.Sequential() \n",
        "model14.add(keras.layers.Dense(100,activation=\"relu\",input_shape=[8105,],kernel_constraint=keras.constraints.max_norm(1.))) \n",
        "model14.add(keras.layers.BatchNormalization())\n",
        "model14.add(keras.layers.Dense(100,activation=\"relu\",kernel_constraint=keras.constraints.max_norm(1.)))\n",
        "model14.add(keras.layers.BatchNormalization())\n",
        "model14.add(keras.layers.Dense(5,activation=\"softmax\",kernel_constraint=keras.constraints.max_norm(1.)))\n",
        "\n",
        "\n",
        "model14.compile(loss=\"categorical_crossentropy\",optimizer= 'Adam',metrics=[\"accuracy\"])  \n",
        "\n",
        "#Performance scheduling-lr reduced if no improvement seen for n epochs\n",
        "lr_scheduler3= ReduceLROnPlateau(monitor='loss', factor=0.5, patience=5, min_lr=0.0001) #lr reduced by factor of 0.5 if train loss does not reduce for 5 epochs; lower bound of learning rate is 0.0001\n",
        "\n",
        "checkpoint_callback14=keras.callbacks.ModelCheckpoint('model14.h5') #save at end of every epoch\n",
        "history14=model14.fit(X_train,Y_train,epochs=10,validation_data=(X_valid,Y_valid),callbacks=[checkpoint_callback13,early_stopping_cb,lr_scheduler3],verbose=0)\n",
        "model14.evaluate(X_test,Y_test) #44.70%"
      ]
    },
    {
      "cell_type": "markdown",
      "metadata": {
        "id": "2PT432qPYDAT"
      },
      "source": [
        "### **Elastic net regularizer (l1+l2)**"
      ]
    },
    {
      "cell_type": "code",
      "execution_count": null,
      "metadata": {
        "colab": {
          "base_uri": "https://localhost:8080/"
        },
        "id": "pJ2yAE8iX0kl",
        "outputId": "3cf5debe-5df5-4440-c242-4f6ff3d50d7d"
      },
      "outputs": [
        {
          "name": "stdout",
          "output_type": "stream",
          "text": [
            "32/32 [==============================] - 0s 5ms/step - loss: 2.7915 - accuracy: 0.5240\n"
          ]
        },
        {
          "data": {
            "text/plain": [
              "[2.79150390625, 0.5239999890327454]"
            ]
          },
          "execution_count": 108,
          "metadata": {},
          "output_type": "execute_result"
        }
      ],
      "source": [
        "model15=keras.models.Sequential() \n",
        "model15.add(keras.layers.Dense(100,activation=\"relu\",input_shape=[8105,],kernel_regularizer=keras.regularizers.l1_l2(0.01))) \n",
        "model15.add(keras.layers.BatchNormalization())\n",
        "model15.add(keras.layers.Dense(100,activation=\"relu\",kernel_regularizer=keras.regularizers.l1_l2(0.01)))\n",
        "model15.add(keras.layers.BatchNormalization())\n",
        "model15.add(keras.layers.Dense(5,activation=\"softmax\",kernel_regularizer=keras.regularizers.l1_l2(0.01)))\n",
        "\n",
        "\n",
        "model15.compile(loss=\"categorical_crossentropy\",optimizer= 'Adam',metrics=[\"accuracy\"])  \n",
        "\n",
        "#Performance scheduling-lr reduced if no improvement seen for n epochs\n",
        "lr_scheduler3 = ReduceLROnPlateau(monitor='loss', factor=0.5, patience=5, min_lr=0.0001) #lr reduced by factor of 0.5 if train loss does not reduce for 5 epochs; lower bound of learning rate is 0.0001\n",
        "\n",
        "checkpoint_callback15=keras.callbacks.ModelCheckpoint('model15.h5') #save at end of every epoch\n",
        "history15=model15.fit(X_train,Y_train,epochs=10,validation_data=(X_valid,Y_valid),callbacks=[checkpoint_callback15,early_stopping_cb,lr_scheduler3],verbose=0)\n",
        "model15.evaluate(X_test,Y_test) #52.40%"
      ]
    },
    {
      "cell_type": "markdown",
      "metadata": {
        "id": "UMBuXyfgUvzg"
      },
      "source": [
        "### Best performance using dropout regularization."
      ]
    },
    {
      "cell_type": "markdown",
      "metadata": {
        "id": "sQDWvoPVSESG"
      },
      "source": [
        "## **Weight initializers**"
      ]
    },
    {
      "cell_type": "code",
      "execution_count": null,
      "metadata": {
        "colab": {
          "base_uri": "https://localhost:8080/"
        },
        "id": "zwKfFqf6U2Uz",
        "outputId": "3899f71e-c941-4a26-cfe9-22667f6e1504"
      },
      "outputs": [
        {
          "name": "stdout",
          "output_type": "stream",
          "text": [
            "Kernel initializer: he_normal\n",
            "32/32 [==============================] - 0s 3ms/step - loss: 1.2143 - accuracy: 0.5390\n",
            "Kernel initializer: he_uniform\n",
            "32/32 [==============================] - 0s 4ms/step - loss: 1.2220 - accuracy: 0.5360\n",
            "Kernel initializer: lecun_normal\n",
            "32/32 [==============================] - 0s 3ms/step - loss: 1.2589 - accuracy: 0.5370\n",
            "Kernel initializer: lecun_uniform\n",
            "32/32 [==============================] - 0s 3ms/step - loss: 1.5655 - accuracy: 0.5450\n",
            "Kernel initializer: glorot_normal\n",
            "32/32 [==============================] - 0s 4ms/step - loss: 1.2166 - accuracy: 0.5430\n",
            "Kernel initializer: glorot_uniform\n",
            "32/32 [==============================] - 0s 5ms/step - loss: 1.4457 - accuracy: 0.5270\n"
          ]
        }
      ],
      "source": [
        "#Best model so far: MLP- 2 hidden layers, BN, performance scheduling, dropout with rate=0.5, early stopping, performance scheduling\n",
        "for i in [\"he_normal\",\"he_uniform\",\"lecun_normal\",\"lecun_uniform\",\"glorot_normal\",\"glorot_uniform\"]:\n",
        "  model16=keras.models.Sequential() \n",
        "  model16.add(keras.layers.Dense(100,activation=\"relu\",input_shape=[8105,],kernel_initializer=i)) \n",
        "  model16.add(keras.layers.Dropout(0.5)) #50% dropout rate\n",
        "  model16.add(keras.layers.BatchNormalization())\n",
        "  model16.add(keras.layers.Dense(100,activation=\"relu\",kernel_initializer=i))\n",
        "  model16.add(keras.layers.Dropout(0.5)) #50% dropout rate \n",
        "  model16.add(keras.layers.BatchNormalization())\n",
        "  model16.add(keras.layers.Dense(5,activation=\"softmax\",kernel_initializer=i))\n",
        "\n",
        "  model16.compile(loss=\"categorical_crossentropy\",optimizer= 'Adam',metrics=[\"accuracy\"])  \n",
        "\n",
        "  checkpoint_callback16=keras.callbacks.ModelCheckpoint('model16.h5') #save at end of every epoch\n",
        "  history16=model16.fit(X_train,Y_train,epochs=10,validation_data=(X_valid,Y_valid),callbacks=[checkpoint_callback16,early_stopping_cb,lr_scheduler3],verbose=0)\n",
        "  print(\"Kernel initializer:\", i)\n",
        "  model16.evaluate(X_test,Y_test) "
      ]
    },
    {
      "cell_type": "markdown",
      "metadata": {
        "id": "boqkvuWGSM7N"
      },
      "source": [
        "#### Highest accuracy and lowest loss by lecun_uniform initialization."
      ]
    },
    {
      "cell_type": "markdown",
      "metadata": {
        "id": "1dDoMjoXTl8-"
      },
      "source": [
        "## **Optimizers**"
      ]
    },
    {
      "cell_type": "code",
      "execution_count": null,
      "metadata": {
        "colab": {
          "base_uri": "https://localhost:8080/"
        },
        "id": "w3bSu1ltScV5",
        "outputId": "8f2f9b25-553f-4e95-aa73-77d3fca8b2d6"
      },
      "outputs": [
        {
          "output_type": "stream",
          "name": "stdout",
          "text": [
            "Optimizer: SGD\n",
            "32/32 [==============================] - 0s 3ms/step - loss: 1.2309 - accuracy: 0.5510\n",
            "Optimizer: rmsprop\n",
            "32/32 [==============================] - 0s 3ms/step - loss: 1.1962 - accuracy: 0.5410\n",
            "Optimizer: adagrad\n",
            "32/32 [==============================] - 0s 3ms/step - loss: 1.3801 - accuracy: 0.4760\n",
            "Optimizer: adam\n",
            "32/32 [==============================] - 0s 3ms/step - loss: 1.3261 - accuracy: 0.5330\n",
            "Optimizer: nadam\n",
            "32/32 [==============================] - 0s 13ms/step - loss: 1.2038 - accuracy: 0.5450\n",
            "Optimizer: adamax\n",
            "32/32 [==============================] - 0s 3ms/step - loss: 1.2338 - accuracy: 0.5430\n"
          ]
        }
      ],
      "source": [
        "#2 hidden layer MLP, BN, early stopping, dropout (rate=0.5), performance scheduling, relu activation function, lecun_uniform initialization\n",
        "for i in ['SGD','rmsprop','adagrad','adam','nadam','adamax']:\n",
        "  model17=keras.models.Sequential() \n",
        "  model17.add(keras.layers.Dense(100,activation=\"relu\",input_shape=[8105,],kernel_initializer=\"lecun_uniform\")) \n",
        "  model17.add(keras.layers.Dropout(0.5)) #50% dropout rate\n",
        "  model17.add(keras.layers.BatchNormalization())\n",
        "  model17.add(keras.layers.Dense(100,activation=\"relu\",kernel_initializer=\"lecun_uniform\"))\n",
        "  model17.add(keras.layers.Dropout(0.5)) #50% dropout rate \n",
        "  model17.add(keras.layers.BatchNormalization())\n",
        "  model17.add(keras.layers.Dense(5,activation=\"softmax\",kernel_initializer=\"lecun_uniform\"))\n",
        "\n",
        "  model17.compile(loss=\"categorical_crossentropy\",optimizer=i,metrics=[\"accuracy\"])  \n",
        "\n",
        "  checkpoint_callback17=keras.callbacks.ModelCheckpoint('model17.h5') #save at end of every epoch\n",
        "  history17=model17.fit(X_train,Y_train,epochs=10,validation_data=(X_valid,Y_valid),callbacks=[checkpoint_callback17,early_stopping_cb,lr_scheduler3],verbose=0)\n",
        "  print(\"Optimizer:\", i)\n",
        "  model17.evaluate(X_test,Y_test) "
      ]
    },
    {
      "cell_type": "markdown",
      "metadata": {
        "id": "bGmeLxfiT7Ma"
      },
      "source": [
        "#### Highest accuracy and lowest loss by adam optimizer."
      ]
    },
    {
      "cell_type": "markdown",
      "metadata": {
        "id": "sQt0Cl45nnym"
      },
      "source": [
        "### **Visualizing gradients and experimenting with Gradient Clipping**"
      ]
    },
    {
      "cell_type": "code",
      "execution_count": null,
      "metadata": {
        "colab": {
          "base_uri": "https://localhost:8080/"
        },
        "id": "yLA4lv1UggBt",
        "outputId": "c71c3d27-0d79-47a4-a89e-a33507a06101"
      },
      "outputs": [
        {
          "output_type": "execute_result",
          "data": {
            "text/plain": [
              "<keras.callbacks.History at 0x7fa339f36750>"
            ]
          },
          "metadata": {},
          "execution_count": 21
        }
      ],
      "source": [
        "#without batch normalization\n",
        "model17b=keras.models.Sequential() \n",
        "model17b.add(keras.layers.Dense(100,activation=\"relu\",input_shape=[8105,],kernel_initializer=\"lecun_uniform\")) \n",
        "model17b.add(keras.layers.Dense(100,activation=\"relu\",kernel_initializer=\"lecun_uniform\")) \n",
        "model17b.add(keras.layers.Dense(5,activation=\"softmax\",kernel_initializer=\"lecun_uniform\"))\n",
        "\n",
        "model17b.compile(loss=\"categorical_crossentropy\",optimizer='adam',metrics=[\"accuracy\"])  \n",
        "\n",
        "#Defining own callback function to save weights of each layer at end of epoch\n",
        "from tensorflow.keras.callbacks import Callback\n",
        "class model_weights(Callback):\n",
        "    def __init__(self, model): #initializing model, weights of each layer and epochs\n",
        "        super().__init__()\n",
        "        self.model = model\n",
        "        self.weights = []\n",
        "        self.epochs = []\n",
        " \n",
        "    def on_epoch_end(self, epoch, logs=None): #at end of each epoch, store weights\n",
        "        self.epochs.append(epoch) \n",
        "        weight = {}\n",
        "        for layer in model17b.layers:\n",
        "            if not layer.weights:\n",
        "                continue\n",
        "            name = layer.weights[0].name.split(\"/\")[0]\n",
        "            weight[name] = layer.weights[0].numpy()\n",
        "        self.weights.append(weight)\n",
        "gradients_cb = model_weights(model17b) #callback function \n",
        "checkpoint_callback17b=keras.callbacks.ModelCheckpoint('model17b.h5')\n",
        "model17b.fit(X_train,Y_train,epochs=10,validation_data=(X_valid,Y_valid),callbacks=[checkpoint_callback17b,early_stopping_cb,lr_scheduler3,gradients_cb],verbose=0)"
      ]
    },
    {
      "cell_type": "markdown",
      "metadata": {
        "id": "CiKCGOWgpeGK"
      },
      "source": [
        "#### Gradients without BN"
      ]
    },
    {
      "cell_type": "code",
      "execution_count": null,
      "metadata": {
        "colab": {
          "base_uri": "https://localhost:8080/",
          "height": 513
        },
        "id": "s9rhVZVooVDT",
        "outputId": "73854477-8689-477c-a6f1-33f766929789"
      },
      "outputs": [
        {
          "output_type": "display_data",
          "data": {
            "text/plain": [
              "<Figure size 432x576 with 2 Axes>"
            ],
            "image/png": "[encoded data removed]"
          },
          "metadata": {
            "needs_background": "light"
          }
        }
      ],
      "source": [
        "#Plotting iterations/epochs vs mean and standard deviation of weights\n",
        "import matplotlib.pyplot as plt\n",
        "def plotweight(gradients_cb):\n",
        "    fig, ax = plt.subplots(2, 1, sharex=True, figsize=(6, 8)) #2 plots\n",
        "    ax[0].set_title(\"Mean weight\") #title of first plot\n",
        "    ax[1].set_xlabel(\"Epochs\")\n",
        "    ax[0].set_ylabel(\"Gradients\")\n",
        "    ax[1].set_ylabel(\"Gradients\")\n",
        "    for key in gradients_cb.weights[0]:\n",
        "        ax[0].plot(gradients_cb.epochs, [w[key].mean() for w in gradients_cb.weights], label=key, marker='.') #plot epochs on x axis and mean of weights on y axis\n",
        "    #ax[0].legend(loc=\"upperleft\") #to distinguish between layers\n",
        "    ax[1].set_title(\"Standard Deviation\") #second plot on sd of weights\n",
        "    for key in gradients_cb.weights[0]:\n",
        "        ax[1].plot(gradients_cb.epochs, [w[key].std() for w in gradients_cb.weights], label=key, marker='.') #plot epochs on x axis and sd of weights on y axis\n",
        "    #ax[1].legend(loc=\"upperleft\")\n",
        "    plt.show()\n",
        "    \n",
        "plotweight(gradients_cb)"
      ]
    },
    {
      "cell_type": "markdown",
      "metadata": {
        "id": "R3qnmBuLpiGQ"
      },
      "source": [
        "#### Gradients with BN"
      ]
    },
    {
      "cell_type": "code",
      "execution_count": null,
      "metadata": {
        "colab": {
          "base_uri": "https://localhost:8080/",
          "height": 513
        },
        "id": "N0GJiweWkSTx",
        "outputId": "aacfe665-9e54-401b-9d40-308e8a0bdce6"
      },
      "outputs": [
        {
          "output_type": "display_data",
          "data": {
            "text/plain": [
              "<Figure size 432x576 with 2 Axes>"
            ],
            "image/png": "[encoded data removed]"
          },
          "metadata": {
            "needs_background": "light"
          }
        }
      ],
      "source": [
        "#with BN\n",
        "#using model17 (already defined and compiled)\n",
        "class model_weights(Callback):\n",
        "    def __init__(self, model):\n",
        "        super().__init__()\n",
        "        self.model = model\n",
        "        self.weights = []\n",
        "        self.epochs = []\n",
        " \n",
        "    def on_epoch_end(self, epoch, logs=None):\n",
        "        self.epochs.append(epoch) \n",
        "        weight = {}\n",
        "        for layer in model17.layers:\n",
        "            if not layer.weights:\n",
        "                continue\n",
        "            name = layer.weights[0].name.split(\"/\")[0]\n",
        "            weight[name] = layer.weights[0].numpy()\n",
        "        self.weights.append(weight)\n",
        "gradients_cb2 = model_weights(model17)\n",
        "#use gradients callback to get layer weights at end of epoch\n",
        "model17.fit(X_train,Y_train,epochs=10,validation_data=(X_valid,Y_valid),callbacks=[checkpoint_callback17,early_stopping_cb,lr_scheduler3,gradients_cb2],verbose=0)\n",
        "#plot epochs vs mean/sd of weights\n",
        "plotweight(gradients_cb2)"
      ]
    },
    {
      "cell_type": "markdown",
      "metadata": {
        "id": "hGJblC5RpkQX"
      },
      "source": [
        "#### Gradients with Gradient Clipping"
      ]
    },
    {
      "cell_type": "code",
      "execution_count": null,
      "metadata": {
        "colab": {
          "base_uri": "https://localhost:8080/"
        },
        "id": "riGB-IDhmhdW",
        "outputId": "5e19c2ba-68ce-4f03-9a86-936c576b3333"
      },
      "outputs": [
        {
          "output_type": "stream",
          "name": "stdout",
          "text": [
            "32/32 [==============================] - 0s 3ms/step - loss: 1.2040 - accuracy: 0.5540\n"
          ]
        },
        {
          "output_type": "execute_result",
          "data": {
            "text/plain": [
              "[1.2040464878082275, 0.5540000200271606]"
            ]
          },
          "metadata": {},
          "execution_count": 35
        }
      ],
      "source": [
        "#with gradient clipping\n",
        "#define, compile model\n",
        "model17c=keras.models.Sequential() \n",
        "model17c.add(keras.layers.Dense(100,activation=\"relu\",input_shape=[8105,],kernel_initializer=\"lecun_uniform\")) \n",
        "model17c.add(keras.layers.Dropout(0.5)) #50% dropout rate\n",
        "model17c.add(keras.layers.Dense(100,activation=\"relu\",kernel_initializer=\"lecun_uniform\"))\n",
        "model17c.add(keras.layers.Dropout(0.5)) #50% dropout rate \n",
        "model17c.add(keras.layers.Dense(5,activation=\"softmax\",kernel_initializer=\"lecun_uniform\"))\n",
        "\n",
        "model17c.compile(loss=\"categorical_crossentropy\",optimizer=tf.keras.optimizers.Adam(clipvalue=1.0),metrics=[\"accuracy\"])  \n",
        "\n",
        "checkpoint_callback17c=keras.callbacks.ModelCheckpoint('model17c.h5') #save at end of every epoch\n",
        "history17c=model17c.fit(X_train,Y_train,epochs=10,validation_data=(X_valid,Y_valid),callbacks=[checkpoint_callback17c,early_stopping_cb,lr_scheduler3],verbose=0)\n",
        "model17c.evaluate(X_test,Y_test) #52.7%\n",
        "#accuracy better with BN"
      ]
    },
    {
      "cell_type": "code",
      "execution_count": null,
      "metadata": {
        "colab": {
          "base_uri": "https://localhost:8080/",
          "height": 513
        },
        "id": "SXgoUnlmnBoS",
        "outputId": "835bf6e9-0581-40c3-cdf2-0d9cb39c70b6"
      },
      "outputs": [
        {
          "output_type": "display_data",
          "data": {
            "text/plain": [
              "<Figure size 432x576 with 2 Axes>"
            ],
            "image/png": "[encoded data removed]"
          },
          "metadata": {
            "needs_background": "light"
          }
        }
      ],
      "source": [
        "class model_weights(Callback):\n",
        "    def __init__(self, model):\n",
        "        super().__init__()\n",
        "        self.model = model\n",
        "        self.weights = []\n",
        "        self.epochs = []\n",
        " \n",
        "    def on_epoch_end(self, epoch, logs=None):\n",
        "        self.epochs.append(epoch) \n",
        "        weight = {}\n",
        "        for layer in model17c.layers:\n",
        "            if not layer.weights:\n",
        "                continue\n",
        "            name = layer.weights[0].name.split(\"/\")[0]\n",
        "            weight[name] = layer.weights[0].numpy()\n",
        "        self.weights.append(weight)\n",
        "gradients_cb3 = model_weights(model17c)\n",
        "#use gradients callback to get layer weights at end of epoch\n",
        "model17c.fit(X_train,Y_train,epochs=10,validation_data=(X_valid,Y_valid),callbacks=[checkpoint_callback17c,early_stopping_cb,lr_scheduler3,gradients_cb3],verbose=0)\n",
        "#plot epochs vs mean/sd of weights\n",
        "plotweight(gradients_cb3)"
      ]
    },
    {
      "cell_type": "markdown",
      "metadata": {
        "id": "3o6QWIutpYQ8"
      },
      "source": [
        "#### Gradients most stable for BN, Gradient Clippping shows slight improvement as compared to original model. "
      ]
    },
    {
      "cell_type": "markdown",
      "source": [
        "### Number of Neurons in each hidden layer"
      ],
      "metadata": {
        "id": "-q08QjBZr0MX"
      }
    },
    {
      "cell_type": "code",
      "execution_count": null,
      "metadata": {
        "colab": {
          "base_uri": "https://localhost:8080/"
        },
        "id": "LtoFxPGRqcB5",
        "outputId": "932f7bc9-09a9-4aff-f1fb-7b75db2fe713"
      },
      "outputs": [
        {
          "name": "stdout",
          "output_type": "stream",
          "text": [
            "Number of neurons in layer 1: 30\n",
            "Number of neurons in layer 2: 30\n",
            "32/32 [==============================] - 0s 2ms/step - loss: 1.2936 - accuracy: 0.5510\n",
            "Number of neurons in layer 1: 30\n",
            "Number of neurons in layer 2: 50\n",
            "32/32 [==============================] - 0s 2ms/step - loss: 1.2817 - accuracy: 0.5450\n",
            "Number of neurons in layer 1: 30\n",
            "Number of neurons in layer 2: 100\n",
            "32/32 [==============================] - 0s 2ms/step - loss: 1.2423 - accuracy: 0.5350\n",
            "Number of neurons in layer 1: 30\n",
            "Number of neurons in layer 2: 200\n",
            "32/32 [==============================] - 0s 3ms/step - loss: 1.2918 - accuracy: 0.5410\n",
            "Number of neurons in layer 1: 50\n",
            "Number of neurons in layer 2: 30\n",
            "32/32 [==============================] - 0s 2ms/step - loss: 1.2100 - accuracy: 0.5370\n",
            "Number of neurons in layer 1: 50\n",
            "Number of neurons in layer 2: 50\n",
            "32/32 [==============================] - 0s 2ms/step - loss: 1.3703 - accuracy: 0.5340\n",
            "Number of neurons in layer 1: 50\n",
            "Number of neurons in layer 2: 100\n",
            "32/32 [==============================] - 0s 2ms/step - loss: 1.4135 - accuracy: 0.5210\n",
            "Number of neurons in layer 1: 50\n",
            "Number of neurons in layer 2: 200\n",
            "32/32 [==============================] - 0s 3ms/step - loss: 1.3647 - accuracy: 0.5110\n",
            "Number of neurons in layer 1: 100\n",
            "Number of neurons in layer 2: 30\n",
            "32/32 [==============================] - 0s 3ms/step - loss: 1.2006 - accuracy: 0.5500\n",
            "Number of neurons in layer 1: 100\n",
            "Number of neurons in layer 2: 50\n",
            "32/32 [==============================] - 0s 4ms/step - loss: 1.5837 - accuracy: 0.5440\n",
            "Number of neurons in layer 1: 100\n",
            "Number of neurons in layer 2: 100\n",
            "32/32 [==============================] - 0s 3ms/step - loss: 1.2179 - accuracy: 0.5420\n",
            "Number of neurons in layer 1: 100\n",
            "Number of neurons in layer 2: 200\n",
            "32/32 [==============================] - 0s 3ms/step - loss: 1.6310 - accuracy: 0.5360\n",
            "Number of neurons in layer 1: 200\n",
            "Number of neurons in layer 2: 30\n",
            "32/32 [==============================] - 0s 4ms/step - loss: 1.2735 - accuracy: 0.5320\n",
            "Number of neurons in layer 1: 200\n",
            "Number of neurons in layer 2: 50\n",
            "32/32 [==============================] - 0s 4ms/step - loss: 1.2993 - accuracy: 0.5390\n",
            "Number of neurons in layer 1: 200\n",
            "Number of neurons in layer 2: 100\n",
            "32/32 [==============================] - 0s 4ms/step - loss: 1.3585 - accuracy: 0.4950\n",
            "Number of neurons in layer 1: 200\n",
            "Number of neurons in layer 2: 200\n",
            "32/32 [==============================] - 0s 4ms/step - loss: 1.3277 - accuracy: 0.4960\n"
          ]
        }
      ],
      "source": [
        "for i in [30, 50,100,200]:\n",
        "  for j in [30,50,100,200]:\n",
        "    model18=keras.models.Sequential() \n",
        "    model18.add(keras.layers.Dense(i,activation=\"relu\",input_shape=[8105,],kernel_initializer=\"lecun_uniform\")) \n",
        "    model18.add(keras.layers.Dropout(0.5)) #50% dropout rate\n",
        "    model18.add(keras.layers.BatchNormalization())\n",
        "    model18.add(keras.layers.Dense(i,activation=\"relu\",kernel_initializer=\"lecun_uniform\"))\n",
        "    model18.add(keras.layers.Dropout(0.5)) #50% dropout rate \n",
        "    model18.add(keras.layers.BatchNormalization())\n",
        "    model18.add(keras.layers.Dense(5,activation=\"softmax\",kernel_initializer=\"lecun_uniform\"))\n",
        "\n",
        "    model18.compile(loss=\"categorical_crossentropy\",optimizer='adam',metrics=[\"accuracy\"])  \n",
        "\n",
        "    checkpoint_callback18=keras.callbacks.ModelCheckpoint('model18.h5') \n",
        "    history18=model18.fit(X_train,Y_train,epochs=10,validation_data=(X_valid,Y_valid),callbacks=[checkpoint_callback18,early_stopping_cb,lr_scheduler3],verbose=0)\n",
        "    print(\"Number of neurons in layer 1:\", i)\n",
        "    print(\"Number of neurons in layer 2:\", j)\n",
        "    model18.evaluate(X_test,Y_test) "
      ]
    },
    {
      "cell_type": "markdown",
      "metadata": {
        "id": "sQExZrvQszXf"
      },
      "source": [
        "#### Best accuracy, lowest loss for 100 neurons in first hidden layer and 30 in second hidden layer."
      ]
    },
    {
      "cell_type": "markdown",
      "metadata": {
        "id": "-i_qlOoxrrcY"
      },
      "source": [
        "#### Hyperparameters:\n",
        "###### Learning rate: performance scheduling used to tune learning rate\n",
        "###### Optimizer: experimented with ['SGD','rmsprop','adagrad','adam','nadam','adamax']\n",
        "###### Activation function: experimented with ['tanh','elu','relu','sigmoid','softplus']\n",
        "###### Number of hidden layers: experimented with [1,2,3,4]\n",
        "###### Number of neurons in each hidden layer: experimented with combinations of [30,50,100,200]"
      ]
    },
    {
      "cell_type": "markdown",
      "metadata": {
        "id": "FSk5VenVzxJh"
      },
      "source": [
        "### **Simple RNN**"
      ]
    },
    {
      "cell_type": "code",
      "execution_count": null,
      "metadata": {
        "colab": {
          "base_uri": "https://localhost:8080/"
        },
        "id": "LzpuidXAtA7R",
        "outputId": "7b16c9df-a3a0-4773-ca5d-97aebce77872"
      },
      "outputs": [
        {
          "name": "stdout",
          "output_type": "stream",
          "text": [
            "Epoch 1/3\n",
            "113/113 [==============================] - 1036s 9s/step - loss: 0.4500 - accuracy: 0.4872 - val_loss: 0.4390 - val_accuracy: 0.4950 - lr: 0.0010\n",
            "Epoch 2/3\n",
            "113/113 [==============================] - 879s 8s/step - loss: 0.4391 - accuracy: 0.4906 - val_loss: 0.4381 - val_accuracy: 0.4950 - lr: 0.0010\n",
            "Epoch 3/3\n",
            "113/113 [==============================] - 859s 8s/step - loss: 0.4391 - accuracy: 0.4906 - val_loss: 0.4342 - val_accuracy: 0.4950 - lr: 0.0010\n",
            "32/32 [==============================] - 15s 460ms/step - loss: 0.4342 - accuracy: 0.4950\n"
          ]
        },
        {
          "data": {
            "text/plain": [
              "[0.43417224287986755, 0.4950000047683716]"
            ]
          },
          "execution_count": 14,
          "metadata": {},
          "output_type": "execute_result"
        }
      ],
      "source": [
        "from keras.callbacks import ReduceLROnPlateau\n",
        "embed_length = 32\n",
        "model20 = keras.models.Sequential()\n",
        "model20.add(keras.layers.Embedding(8105, embed_length, input_length=X_train.shape[1],)) #number of distinct words in the dataset; each word is shown according to give embedding size\n",
        "model20.add(keras.layers.SimpleRNN(100,input_shape=[None,1]))#Simple RNN layer\n",
        "model20.add(keras.layers.Dense(5,activation=\"softmax\")) #output layer with 5 neurons for 5 classes\n",
        "\n",
        "model20.compile(loss='binary_crossentropy', optimizer='adam', metrics=['accuracy'])\n",
        "#Performance scheduling-lr reduced if no improvement seen for n epochs\n",
        "lr_scheduler3 = ReduceLROnPlateau(monitor='loss', factor=0.5, patience=5, min_lr=0.0001)\n",
        "history20=model20.fit(X_train, Y_train, validation_data=(X_test, Y_test), epochs=3,callbacks=[lr_scheduler3])\n",
        "model20.evaluate(X_test,Y_test) #49.5%, loss=0.4342"
      ]
    },
    {
      "cell_type": "markdown",
      "metadata": {
        "id": "id_TNpIBz0OB"
      },
      "source": [
        "### **Deep RNN**"
      ]
    },
    {
      "cell_type": "code",
      "execution_count": null,
      "metadata": {
        "colab": {
          "base_uri": "https://localhost:8080/"
        },
        "id": "yYeuQcWEzJFV",
        "outputId": "241b1208-4071-4a57-cb9e-6a6b792899af"
      },
      "outputs": [
        {
          "name": "stdout",
          "output_type": "stream",
          "text": [
            "Epoch 1/3\n",
            "113/113 [==============================] - 1658s 15s/step - loss: 1.3841 - accuracy: 0.4875 - val_loss: 1.3333 - val_accuracy: 0.5125 - lr: 0.0010\n",
            "Epoch 2/3\n",
            "113/113 [==============================] - 1685s 15s/step - loss: 1.3755 - accuracy: 0.4906 - val_loss: 1.3330 - val_accuracy: 0.5125 - lr: 0.0010\n",
            "Epoch 3/3\n",
            "113/113 [==============================] - 1700s 15s/step - loss: 1.3801 - accuracy: 0.4783 - val_loss: 1.3648 - val_accuracy: 0.5125 - lr: 0.0010\n",
            "32/32 [==============================] - 27s 837ms/step - loss: 1.3696 - accuracy: 0.4950\n"
          ]
        },
        {
          "data": {
            "text/plain": [
              "[1.3696328401565552, 0.4950000047683716]"
            ]
          },
          "execution_count": 15,
          "metadata": {},
          "output_type": "execute_result"
        }
      ],
      "source": [
        "model21 = keras.models.Sequential()\n",
        "model21.add(keras.layers.Embedding(8105, embed_length, input_length=X_train.shape[1],))\n",
        "#default tanh activation\n",
        "model21.add(keras.layers.SimpleRNN(100, return_sequences=True)) #2 hidden layers,input_shape=[None, 1]\n",
        "model21.add(keras.layers.SimpleRNN(30)) #return_sequences set as True for all recurrent layers except last one since we only want last output\n",
        "model21.add(keras.layers.Dense(5, activation=\"softmax\"))\n",
        "model21.compile(loss=\"categorical_crossentropy\", optimizer='Adam', metrics=[\"accuracy\"])\n",
        "history21 = model21.fit(X_train, Y_train, epochs=3,validation_data=(X_valid, Y_valid),callbacks=[lr_scheduler3])\n",
        "model21.evaluate(X_test,Y_test)"
      ]
    },
    {
      "cell_type": "markdown",
      "metadata": {
        "id": "pvx_UELsDQ_d"
      },
      "source": [
        "## **RNN with Layer Normalization**"
      ]
    },
    {
      "cell_type": "code",
      "source": [
        "from tensorflow.keras.layers import LayerNormalization\n",
        "\n",
        "class LNSimpleRNNCell(keras.layers.Layer):\n",
        "    def __init__(self, units, activation=\"tanh\", **kwargs):\n",
        "        super().__init__(**kwargs)\n",
        "        self.state_size = units\n",
        "        self.output_size = units\n",
        "        self.simple_rnn_cell = keras.layers.SimpleRNNCell(units,\n",
        "                                                          activation=None)\n",
        "        self.layer_norm = LayerNormalization()\n",
        "        self.activation = keras.activations.get(activation)\n",
        "    def get_initial_state(self, inputs=None, batch_size=None, dtype=None):\n",
        "        if inputs is not None:\n",
        "            batch_size = tf.shape(inputs)[0]\n",
        "            dtype = inputs.dtype\n",
        "        return [tf.zeros([batch_size, self.state_size], dtype=dtype)]\n",
        "    def call(self, inputs, states):\n",
        "        outputs, new_states = self.simple_rnn_cell(inputs, states)\n",
        "        norm_outputs = self.activation(self.layer_norm(outputs))\n",
        "        return norm_outputs, [norm_outputs]\n",
        "embed_length=32\n",
        "model21b = keras.models.Sequential()\n",
        "model21b.add(keras.layers.Embedding(8105, embed_length, input_length=X_train.shape[1],))\n",
        "model21b.add(keras.layers.RNN(LNSimpleRNNCell(100), return_sequences=True,input_shape=[None,1])) #input_shape=[None, 1]\n",
        "model21b.add(keras.layers.RNN(LNSimpleRNNCell(30)))\n",
        "model21b.add(keras.layers.Dense(5,activation=\"softmax\"))\n",
        "\n",
        "model21b.compile(loss=\"categorical_crossentropy\", optimizer=\"adam\",metrics=['accuracy'])\n",
        "history21b = model21b.fit(X_train, Y_train, epochs=3,validation_data=(X_valid, Y_valid),callbacks=[lr_scheduler3])\n",
        "model21b.evaluate(X_test,Y_test) "
      ],
      "metadata": {
        "id": "GdPnEG47H5sk",
        "colab": {
          "base_uri": "https://localhost:8080/"
        },
        "outputId": "0946dffb-90c4-465a-86c6-964f869e786e"
      },
      "execution_count": null,
      "outputs": [
        {
          "output_type": "stream",
          "name": "stdout",
          "text": [
            "Epoch 1/3\n",
            "113/113 [==============================] - 283s 2s/step - loss: 0.4640 - accuracy: 0.4925 - val_loss: 0.4361 - val_accuracy: 0.4930 - lr: 0.0010\n",
            "Epoch 2/3\n",
            "113/113 [==============================] - 272s 2s/step - loss: 0.4362 - accuracy: 0.4953 - val_loss: 0.4381 - val_accuracy: 0.4930 - lr: 0.0010\n",
            "Epoch 3/3\n",
            "113/113 [==============================] - 272s 2s/step - loss: 0.4359 - accuracy: 0.4953 - val_loss: 0.4355 - val_accuracy: 0.4930 - lr: 0.0010\n",
            "32/32 [==============================] - 29s 899ms/step - loss: 0.4355 - accuracy: 0.4930\n"
          ]
        },
        {
          "output_type": "execute_result",
          "data": {
            "text/plain": [
              "[0.4355091452598572, 0.49300000071525574]"
            ]
          },
          "metadata": {},
          "execution_count": 49
        }
      ]
    },
    {
      "cell_type": "markdown",
      "metadata": {
        "id": "Vy2__Moa7ypJ"
      },
      "source": [
        "## **LSTM**"
      ]
    },
    {
      "cell_type": "code",
      "execution_count": null,
      "metadata": {
        "colab": {
          "base_uri": "https://localhost:8080/"
        },
        "id": "zDVBxZCU1PJN",
        "outputId": "a695ba04-2e4d-44c9-9bbe-cebde20e9f76"
      },
      "outputs": [
        {
          "name": "stdout",
          "output_type": "stream",
          "text": [
            "Epoch 1/3\n",
            "113/113 [==============================] - 1361s 11s/step - loss: 0.4601 - accuracy: 0.4878 - val_loss: 0.4356 - val_accuracy: 0.4950 - lr: 0.0010\n",
            "Epoch 2/3\n",
            "113/113 [==============================] - 1278s 11s/step - loss: 0.4383 - accuracy: 0.4906 - val_loss: 0.4337 - val_accuracy: 0.4950 - lr: 0.0010\n",
            "Epoch 3/3\n",
            "113/113 [==============================] - 1068s 9s/step - loss: 0.4379 - accuracy: 0.4906 - val_loss: 0.4354 - val_accuracy: 0.4950 - lr: 0.0010\n",
            "32/32 [==============================] - 39s 1s/step - loss: 0.4354 - accuracy: 0.4950\n"
          ]
        },
        {
          "data": {
            "text/plain": [
              "[0.43535077571868896, 0.4950000047683716]"
            ]
          },
          "execution_count": 133,
          "metadata": {},
          "output_type": "execute_result"
        }
      ],
      "source": [
        "#1 hidden layer\n",
        "model22 = keras.models.Sequential()\n",
        "model22.add(keras.layers.Embedding(8105, embed_length, input_length=X_train.shape[1],)) #number of distinct words in the dataset; each word is shown according to give embedding size\n",
        "model22.add(keras.layers.LSTM(100)) #LSTM layer\n",
        "#100 neurons, default tanh activation function\n",
        "model22.add(keras.layers.Dense(5, activation='softmax')) #output layer\n",
        "\n",
        "model22.compile(loss='binary_crossentropy', optimizer='adam', metrics=['accuracy'])\n",
        "\n",
        "model22.fit(X_train, Y_train, validation_data=(X_test, Y_test), epochs=3,callbacks=[lr_scheduler3])\n",
        "model22.evaluate(X_test,Y_test) #49.5%, loss=0.4354"
      ]
    },
    {
      "cell_type": "code",
      "execution_count": null,
      "metadata": {
        "colab": {
          "background_save": true,
          "base_uri": "https://localhost:8080/"
        },
        "id": "ptRA-Qlw8Jix",
        "outputId": "f331689c-a835-47e9-b613-2a9f17e6ecb9"
      },
      "outputs": [
        {
          "name": "stdout",
          "output_type": "stream",
          "text": [
            "Epoch 1/3\n",
            "113/113 [==============================] - 2208s 19s/step - loss: 0.4557 - accuracy: 0.4906 - val_loss: 0.4359 - val_accuracy: 0.4950 - lr: 0.0010\n",
            "Epoch 2/3\n",
            "113/113 [==============================] - 2116s 19s/step - loss: 0.4371 - accuracy: 0.4906 - val_loss: 0.4342 - val_accuracy: 0.4950 - lr: 0.0010\n",
            "Epoch 3/3\n",
            "113/113 [==============================] - 2108s 19s/step - loss: 0.4371 - accuracy: 0.4906 - val_loss: 0.4383 - val_accuracy: 0.4950 - lr: 0.0010\n",
            "32/32 [==============================] - 58s 2s/step - loss: 0.4383 - accuracy: 0.4950\n"
          ]
        },
        {
          "data": {
            "text/plain": [
              "[0.43831756711006165, 0.4950000047683716]"
            ]
          },
          "execution_count": null,
          "metadata": {},
          "output_type": "execute_result"
        }
      ],
      "source": [
        "#2 hidden layers\n",
        "model22b = keras.models.Sequential()\n",
        "model22b.add(keras.layers.Embedding(8105, embed_length, input_length=X_train.shape[1],)) #number of distinct words in the dataset; each word is shown according to give embedding size\n",
        "model22b.add(keras.layers.LSTM(100, return_sequences=True, input_shape=[None,1])) #LSTM layer 1\n",
        "#100 neurons, default tanh activation function\n",
        "model22b.add(keras.layers.LSTM(30)) #LSTM layer 2\n",
        "#30 neurons, default tanh activation function\n",
        "model22b.add(keras.layers.Dense(5, activation='softmax')) #output layer\n",
        "\n",
        "model22b.compile(loss='binary_crossentropy', optimizer='adam', metrics=['accuracy'])\n",
        "\n",
        "model22b.fit(X_train, Y_train, validation_data=(X_test, Y_test), epochs=3,callbacks=[lr_scheduler3])\n",
        "model22b.evaluate(X_test,Y_test) #49.5%, loss=0.4383"
      ]
    },
    {
      "cell_type": "markdown",
      "metadata": {
        "id": "06wvvVST8B8v"
      },
      "source": [
        "## **LSTM with Dropout**"
      ]
    },
    {
      "cell_type": "code",
      "execution_count": null,
      "metadata": {
        "colab": {
          "base_uri": "https://localhost:8080/"
        },
        "id": "BkdZyy_C43Bd",
        "outputId": "cacf0f38-85d4-476b-cdcf-d4e194c06084"
      },
      "outputs": [
        {
          "output_type": "stream",
          "name": "stdout",
          "text": [
            "Epoch 1/10\n",
            "113/113 [==============================] - 59s 501ms/step - loss: 0.4869 - accuracy: 0.4500 - val_loss: 0.4352 - val_accuracy: 0.4950 - lr: 0.0010\n",
            "Epoch 2/10\n",
            "113/113 [==============================] - 56s 494ms/step - loss: 0.4576 - accuracy: 0.4869 - val_loss: 0.4355 - val_accuracy: 0.4950 - lr: 0.0010\n",
            "Epoch 3/10\n",
            "113/113 [==============================] - 56s 495ms/step - loss: 0.4521 - accuracy: 0.4872 - val_loss: 0.4337 - val_accuracy: 0.4950 - lr: 0.0010\n",
            "Epoch 4/10\n",
            "113/113 [==============================] - 56s 494ms/step - loss: 0.4513 - accuracy: 0.4894 - val_loss: 0.4344 - val_accuracy: 0.4950 - lr: 0.0010\n",
            "Epoch 5/10\n",
            "113/113 [==============================] - 56s 494ms/step - loss: 0.4495 - accuracy: 0.4894 - val_loss: 0.4341 - val_accuracy: 0.4950 - lr: 0.0010\n",
            "Epoch 6/10\n",
            "113/113 [==============================] - 56s 494ms/step - loss: 0.4493 - accuracy: 0.4906 - val_loss: 0.4345 - val_accuracy: 0.4950 - lr: 0.0010\n",
            "Epoch 7/10\n",
            "113/113 [==============================] - 56s 495ms/step - loss: 0.4472 - accuracy: 0.4903 - val_loss: 0.4342 - val_accuracy: 0.4950 - lr: 0.0010\n",
            "Epoch 8/10\n",
            "113/113 [==============================] - 56s 495ms/step - loss: 0.4476 - accuracy: 0.4903 - val_loss: 0.4344 - val_accuracy: 0.4950 - lr: 0.0010\n",
            "Epoch 9/10\n",
            "113/113 [==============================] - 56s 495ms/step - loss: 0.4470 - accuracy: 0.4906 - val_loss: 0.4342 - val_accuracy: 0.4950 - lr: 0.0010\n",
            "Epoch 10/10\n",
            "113/113 [==============================] - 56s 494ms/step - loss: 0.4460 - accuracy: 0.4906 - val_loss: 0.4345 - val_accuracy: 0.4950 - lr: 0.0010\n",
            "32/32 [==============================] - 6s 190ms/step - loss: 0.4345 - accuracy: 0.4950\n"
          ]
        },
        {
          "output_type": "execute_result",
          "data": {
            "text/plain": [
              "[0.4344644248485565, 0.4950000047683716]"
            ]
          },
          "metadata": {},
          "execution_count": 78
        }
      ],
      "source": [
        "model23 = keras.models.Sequential()\n",
        "model23.add(keras.layers.Embedding(8105, embed_length, input_length=X_train.shape[1],)) #number of distinct words in the dataset; each word is shown according to give embedding size\n",
        "model23.add(keras.layers.LSTM(100,return_sequences=True, input_shape=[None,1])) #LSTM layer 1\n",
        "model23.add(keras.layers.Dropout(0.5))\n",
        "#100 neurons, default tanh activation function\n",
        "model23.add(keras.layers.LSTM(30)) #LSTM layer 2\n",
        "model23.add(keras.layers.Dropout(0.5))\n",
        "#30 neurons, default tanh ac tivation function\n",
        "model23.add(keras.layers.Dense(5, activation='softmax')) #output layer\n",
        "\n",
        "model23.compile(loss='binary_crossentropy', optimizer='adam', metrics=['accuracy'])\n",
        "\n",
        "history23=model23.fit(X_train, Y_train, validation_data=(X_test, Y_test), epochs=10,callbacks=[lr_scheduler3])\n",
        "model23.evaluate(X_test,Y_test)"
      ]
    },
    {
      "cell_type": "markdown",
      "metadata": {
        "id": "CEE0wPBZ--DB"
      },
      "source": [
        "## **GRU**"
      ]
    },
    {
      "cell_type": "code",
      "execution_count": null,
      "metadata": {
        "id": "YFbM-K-H9Ccw",
        "colab": {
          "base_uri": "https://localhost:8080/"
        },
        "outputId": "0628ae90-caea-47ec-b15e-7b3d19b81cf5"
      },
      "outputs": [
        {
          "output_type": "stream",
          "name": "stdout",
          "text": [
            "Epoch 1/3\n",
            "113/113 [==============================] - 32s 273ms/step - loss: 0.4672 - accuracy: 0.4842 - val_loss: 0.4347 - val_accuracy: 0.4950 - lr: 0.0010\n",
            "Epoch 2/3\n",
            "113/113 [==============================] - 32s 285ms/step - loss: 0.4378 - accuracy: 0.4906 - val_loss: 0.4360 - val_accuracy: 0.4950 - lr: 0.0010\n",
            "Epoch 3/3\n",
            "113/113 [==============================] - 30s 266ms/step - loss: 0.4376 - accuracy: 0.4906 - val_loss: 0.4363 - val_accuracy: 0.4950 - lr: 0.0010\n",
            "32/32 [==============================] - 3s 102ms/step - loss: 0.4363 - accuracy: 0.4950\n"
          ]
        },
        {
          "output_type": "execute_result",
          "data": {
            "text/plain": [
              "[0.43626055121421814, 0.4950000047683716]"
            ]
          },
          "metadata": {},
          "execution_count": 64
        }
      ],
      "source": [
        "#1 hidden layer\n",
        "model24 = keras.models.Sequential()\n",
        "model24.add(keras.layers.Embedding(8105, embed_length, input_length=X_train.shape[1],)) #number of distinct words in the dataset; each word is shown according to give embedding size\n",
        "model24.add(keras.layers.GRU(100,input_shape=[None,1])) #GRU layer\n",
        "#100 neurons, default tanh activation function\n",
        "model24.add(keras.layers.Dense(5, activation='softmax')) #output layer\n",
        "\n",
        "model24.compile(loss='binary_crossentropy', optimizer='adam', metrics=['accuracy'])\n",
        "\n",
        "model24.fit(X_train, Y_train, validation_data=(X_test, Y_test), epochs=3,callbacks=[lr_scheduler3])\n",
        "model24.evaluate(X_test,Y_test)"
      ]
    },
    {
      "cell_type": "code",
      "execution_count": null,
      "metadata": {
        "id": "lux-WWkq-v2E",
        "colab": {
          "base_uri": "https://localhost:8080/"
        },
        "outputId": "25435847-e856-4a85-e605-b663903bc75b"
      },
      "outputs": [
        {
          "output_type": "stream",
          "name": "stdout",
          "text": [
            "Epoch 1/3\n",
            "113/113 [==============================] - 56s 472ms/step - loss: 0.4643 - accuracy: 0.4883 - val_loss: 0.4344 - val_accuracy: 0.4950 - lr: 0.0010\n",
            "Epoch 2/3\n",
            "113/113 [==============================] - 53s 466ms/step - loss: 0.4374 - accuracy: 0.4906 - val_loss: 0.4337 - val_accuracy: 0.4950 - lr: 0.0010\n",
            "Epoch 3/3\n",
            "113/113 [==============================] - 57s 509ms/step - loss: 0.4376 - accuracy: 0.4906 - val_loss: 0.4353 - val_accuracy: 0.4950 - lr: 0.0010\n",
            "32/32 [==============================] - 6s 187ms/step - loss: 0.4353 - accuracy: 0.4950\n"
          ]
        },
        {
          "output_type": "execute_result",
          "data": {
            "text/plain": [
              "[0.43527865409851074, 0.4950000047683716]"
            ]
          },
          "metadata": {},
          "execution_count": 65
        }
      ],
      "source": [
        "#2 hidden layers\n",
        "model24b = keras.models.Sequential()\n",
        "model24b.add(keras.layers.Embedding(8105, embed_length, input_length=X_train.shape[1],)) #number of distinct words in the dataset; each word is shown according to give embedding size\n",
        "model24b.add(keras.layers.GRU(100,return_sequences=True,input_shape=[None,1])) #GRU layer 1\n",
        "#100 neurons, default tanh activation function\n",
        "model24b.add(keras.layers.GRU(30)) #GRU layer 2\n",
        "model24b.add(keras.layers.Dense(5, activation='softmax')) #output layer\n",
        "\n",
        "model24b.compile(loss='binary_crossentropy', optimizer='adam', metrics=['accuracy'])\n",
        "\n",
        "model24b.fit(X_train, Y_train, validation_data=(X_test, Y_test), epochs=3,callbacks=[lr_scheduler3])\n",
        "model24b.evaluate(X_test,Y_test)"
      ]
    },
    {
      "cell_type": "markdown",
      "metadata": {
        "id": "glj24tTS_Q-l"
      },
      "source": [
        "## **GRU with Dropout**"
      ]
    },
    {
      "cell_type": "code",
      "source": [
        "model25 = keras.models.Sequential()\n",
        "model25.add(keras.layers.Embedding(8105, embed_length, input_length=X_train.shape[1],)) #number of distinct words in the dataset; each word is shown according to give embedding size\n",
        "model25.add(keras.layers.GRU(100,return_sequences=True,input_shape=[None,1])) #GRU layer 1\n",
        "model25.add(keras.layers.Dropout(0.5))\n",
        "#100 neurons, default tanh activation function\n",
        "model25.add(keras.layers.GRU(30)) #GRU layer 2\n",
        "model25.add(keras.layers.Dropout(0.5))\n",
        "model25.add(keras.layers.Dense(5, activation='softmax')) #output layer\n",
        "\n",
        "model25.compile(loss='binary_crossentropy', optimizer='adam', metrics=['accuracy'])\n",
        "\n",
        "model25.fit(X_train, Y_train, validation_data=(X_test, Y_test), epochs=3,callbacks=[lr_scheduler3])\n",
        "model25.evaluate(X_test,Y_test)"
      ],
      "metadata": {
        "colab": {
          "base_uri": "https://localhost:8080/"
        },
        "id": "O0mD-L5hxp8b",
        "outputId": "ede02825-dc6b-4b7b-99b2-8ae9c2bdfe97"
      },
      "execution_count": null,
      "outputs": [
        {
          "output_type": "stream",
          "name": "stdout",
          "text": [
            "Epoch 1/3\n",
            "113/113 [==============================] - 57s 475ms/step - loss: 0.4924 - accuracy: 0.4736 - val_loss: 0.4341 - val_accuracy: 0.4950 - lr: 0.0010\n",
            "Epoch 2/3\n",
            "113/113 [==============================] - 53s 472ms/step - loss: 0.4556 - accuracy: 0.4861 - val_loss: 0.4340 - val_accuracy: 0.4950 - lr: 0.0010\n",
            "Epoch 3/3\n",
            "113/113 [==============================] - 53s 473ms/step - loss: 0.4539 - accuracy: 0.4897 - val_loss: 0.4359 - val_accuracy: 0.4950 - lr: 0.0010\n",
            "32/32 [==============================] - 6s 183ms/step - loss: 0.4359 - accuracy: 0.4950\n"
          ]
        },
        {
          "output_type": "execute_result",
          "data": {
            "text/plain": [
              "[0.43587931990623474, 0.4950000047683716]"
            ]
          },
          "metadata": {},
          "execution_count": 66
        }
      ]
    },
    {
      "cell_type": "markdown",
      "source": [
        "## **Stacked Bidirectional RNN**"
      ],
      "metadata": {
        "id": "OQhQGbNk6g4p"
      }
    },
    {
      "cell_type": "code",
      "source": [
        "from tensorflow.keras.layers import Bidirectional\n",
        "embed_length = 32\n",
        "model26=keras.models.Sequential()\n",
        "model26.add(keras.layers.Embedding(8105,embed_length,input_length=X_train.shape[1],))\n",
        "model26.add(Bidirectional(keras.layers.LSTM(100,return_sequences=True,input_shape=[None,1])))\n",
        "model26.add(Bidirectional(keras.layers.LSTM(30)))\n",
        "model26.add(keras.layers.Dense(64,activation=\"tanh\"))\n",
        "model26.add(keras.layers.Dense(5,activation=\"softmax\"))\n",
        "\n",
        "model26.compile(loss=\"categorical_crossentropy\",optimizer=\"adam\",metrics=[\"accuracy\"])\n",
        "history26=model26.fit(X_train,Y_train,epochs=3,validation_data=(X_valid,Y_valid),callbacks=[lr_scheduler3])\n",
        "model26.evaluate(X_test,Y_test)"
      ],
      "metadata": {
        "colab": {
          "base_uri": "https://localhost:8080/"
        },
        "id": "fqzRzN0Q4rfq",
        "outputId": "0db40d99-743e-4d9f-a9a7-57ea16bfef31"
      },
      "execution_count": null,
      "outputs": [
        {
          "output_type": "stream",
          "name": "stdout",
          "text": [
            "Epoch 1/3\n",
            "113/113 [==============================] - 130s 1s/step - loss: 1.5086 - accuracy: 0.4653 - val_loss: 1.4182 - val_accuracy: 0.5125 - lr: 0.0010\n",
            "Epoch 2/3\n",
            "113/113 [==============================] - 124s 1s/step - loss: 1.4058 - accuracy: 0.4906 - val_loss: 1.3603 - val_accuracy: 0.5125 - lr: 0.0010\n",
            "Epoch 3/3\n",
            "113/113 [==============================] - 131s 1s/step - loss: 1.3800 - accuracy: 0.4906 - val_loss: 1.3427 - val_accuracy: 0.5125 - lr: 0.0010\n",
            "32/32 [==============================] - 13s 391ms/step - loss: 1.3662 - accuracy: 0.4950\n"
          ]
        },
        {
          "output_type": "execute_result",
          "data": {
            "text/plain": [
              "[1.3661597967147827, 0.4950000047683716]"
            ]
          },
          "metadata": {},
          "execution_count": 112
        }
      ]
    },
    {
      "cell_type": "markdown",
      "source": [
        "## **Stacked Bidirectional LSTM with recurrent dropout**\n",
        "#### Recurrent dropout for dropping connections between recurrent units (when unfolded through time)"
      ],
      "metadata": {
        "id": "uLJ8-Oz869K1"
      }
    },
    {
      "cell_type": "code",
      "source": [
        "model27=keras.models.Sequential()\n",
        "model27.add(keras.layers.Embedding(8105,embed_length,input_length=X_train.shape[1],))\n",
        "model27.add(keras.layers.Bidirectional(keras.layers.LSTM(100,recurrent_dropout=0.5,return_sequences=True,input_shape=[None,1])))\n",
        "model27.add(keras.layers.Bidirectional(keras.layers.LSTM(30,recurrent_dropout=0.5)))\n",
        "model27.add(keras.layers.Dense(64,activation=\"relu\"))\n",
        "model27.add(keras.layers.Dense(5,activation=\"softmax\"))\n",
        "\n",
        "model27.compile(loss=\"categorical_crossentropy\",optimizer=\"adam\",metrics=[\"accuracy\"])\n",
        "history27=model27.fit(X_train,Y_train,epochs=3,validation_data=(X_valid,Y_valid),callbacks=[lr_scheduler3])\n",
        "model27.evaluate(X_test,Y_test)"
      ],
      "metadata": {
        "id": "U6RxEp1bLcS7",
        "colab": {
          "base_uri": "https://localhost:8080/"
        },
        "outputId": "acdef9a9-85ba-4372-d024-495ea34d4257"
      },
      "execution_count": null,
      "outputs": [
        {
          "output_type": "stream",
          "name": "stdout",
          "text": [
            "Epoch 1/3\n",
            "113/113 [==============================] - 271s 2s/step - loss: 0.4575 - accuracy: 0.4892 - val_loss: 0.4355 - val_accuracy: 0.4930 - lr: 0.0010\n",
            "Epoch 2/3\n",
            "113/113 [==============================] - 263s 2s/step - loss: 0.4356 - accuracy: 0.4953 - val_loss: 0.4355 - val_accuracy: 0.4930 - lr: 0.0010\n",
            "Epoch 3/3\n",
            "113/113 [==============================] - 264s 2s/step - loss: 0.4356 - accuracy: 0.4953 - val_loss: 0.4357 - val_accuracy: 0.4930 - lr: 0.0010\n",
            "32/32 [==============================] - 26s 819ms/step - loss: 0.4357 - accuracy: 0.4930\n"
          ]
        },
        {
          "output_type": "execute_result",
          "data": {
            "text/plain": [
              "[0.43572646379470825, 0.49300000071525574]"
            ]
          },
          "metadata": {},
          "execution_count": 48
        }
      ]
    },
    {
      "cell_type": "markdown",
      "source": [
        "## Adding more dense layers to stacked bidirectionsal LSTM"
      ],
      "metadata": {
        "id": "0jgGRaEtGGwN"
      }
    },
    {
      "cell_type": "code",
      "source": [
        "model27b=keras.models.Sequential()\n",
        "model27b.add(keras.layers.Embedding(8105,embed_length,input_length=X_train.shape[1],))\n",
        "model27b.add(keras.layers.Bidirectional(keras.layers.LSTM(100,return_sequences=True,input_shape=[None,1])))\n",
        "model27b.add(keras.layers.Bidirectional(keras.layers.LSTM(30)))\n",
        "model27b.add(keras.layers.Dense(225,activation='relu'))\n",
        "model27b.add(keras.layers.Dropout(0.3))\n",
        "model27b.add(keras.layers.Dense(150,activation='relu'))\n",
        "model27b.add(keras.layers.Dropout(0.2))\n",
        "model27b.add(keras.layers.Dense(95,activation='relu'))\n",
        "model27b.add(keras.layers.Dropout(0.2))\n",
        "model27b.add(keras.layers.Dense(64,activation='relu'))\n",
        "model27b.add(keras.layers.Dropout(0.1))\n",
        "model27b.add(keras.layers.Dense(34,activation='relu'))\n",
        "model27b.add(keras.layers.Dropout(0.1))\n",
        "model27b.add(keras.layers.Dense(32,activation='relu'))\n",
        "model27b.add(keras.layers.Dense(5, activation='softmax'))\n",
        "\n",
        "\n",
        "model27b.compile(loss=\"categorical_crossentropy\",optimizer=\"adam\",metrics=[\"accuracy\"])\n",
        "history27b=model27b.fit(X_train,Y_train,epochs=10,validation_data=(X_valid,Y_valid),callbacks=[lr_scheduler3])\n",
        "model27b.evaluate(X_test,Y_test)"
      ],
      "metadata": {
        "colab": {
          "base_uri": "https://localhost:8080/"
        },
        "id": "XPFCPae0Fu-e",
        "outputId": "20f11380-3e01-44af-8a0a-6e280a161abf"
      },
      "execution_count": null,
      "outputs": [
        {
          "output_type": "stream",
          "name": "stdout",
          "text": [
            "Epoch 1/10\n",
            "113/113 [==============================] - 112s 942ms/step - loss: 1.4149 - accuracy: 0.4814 - val_loss: 1.3495 - val_accuracy: 0.5125 - lr: 0.0010\n",
            "Epoch 2/10\n",
            "113/113 [==============================] - 112s 990ms/step - loss: 1.3865 - accuracy: 0.4906 - val_loss: 1.3328 - val_accuracy: 0.5125 - lr: 0.0010\n",
            "Epoch 3/10\n",
            "113/113 [==============================] - 114s 1s/step - loss: 1.3774 - accuracy: 0.4906 - val_loss: 1.3476 - val_accuracy: 0.5125 - lr: 0.0010\n",
            "Epoch 4/10\n",
            "113/113 [==============================] - 108s 959ms/step - loss: 1.3773 - accuracy: 0.4906 - val_loss: 1.3277 - val_accuracy: 0.5125 - lr: 0.0010\n",
            "Epoch 5/10\n",
            "113/113 [==============================] - 106s 939ms/step - loss: 1.3750 - accuracy: 0.4906 - val_loss: 1.3383 - val_accuracy: 0.5125 - lr: 0.0010\n",
            "Epoch 6/10\n",
            "113/113 [==============================] - 106s 937ms/step - loss: 1.3745 - accuracy: 0.4906 - val_loss: 1.3331 - val_accuracy: 0.5125 - lr: 0.0010\n",
            "Epoch 7/10\n",
            "113/113 [==============================] - 108s 959ms/step - loss: 1.3737 - accuracy: 0.4906 - val_loss: 1.3310 - val_accuracy: 0.5125 - lr: 0.0010\n",
            "Epoch 8/10\n",
            "113/113 [==============================] - 106s 940ms/step - loss: 1.3704 - accuracy: 0.4906 - val_loss: 1.3363 - val_accuracy: 0.5125 - lr: 0.0010\n",
            "Epoch 9/10\n",
            "113/113 [==============================] - 106s 938ms/step - loss: 1.3713 - accuracy: 0.4906 - val_loss: 1.3272 - val_accuracy: 0.5125 - lr: 0.0010\n",
            "Epoch 10/10\n",
            "113/113 [==============================] - 107s 944ms/step - loss: 1.3726 - accuracy: 0.4906 - val_loss: 1.3297 - val_accuracy: 0.5125 - lr: 0.0010\n",
            "32/32 [==============================] - 13s 394ms/step - loss: 1.3578 - accuracy: 0.4950\n"
          ]
        },
        {
          "output_type": "execute_result",
          "data": {
            "text/plain": [
              "[1.3578294515609741, 0.4950000047683716]"
            ]
          },
          "metadata": {},
          "execution_count": 166
        }
      ]
    },
    {
      "cell_type": "markdown",
      "source": [
        "## **1d Convolution network to learn patterns in the sequences**"
      ],
      "metadata": {
        "id": "FVJ9d8-I_QW-"
      }
    },
    {
      "cell_type": "code",
      "source": [
        "model28=keras.models.Sequential()\n",
        "model28.add(keras.layers.Embedding(8105,embed_length,input_length=X_train.shape[1],))\n",
        "model28.add(keras.layers.Conv1D(filters=32, kernel_size=3,padding='same')) #convolution layer with 32 filters of size 3x3, same padding\n",
        "model28.add(keras.layers.MaxPooling1D(2))#max pooling layer, pool size=2\n",
        "model28.add(keras.layers.Conv1D(32, 3,padding=\"same\"))\n",
        "model28.add(keras.layers.GlobalMaxPooling1D())\n",
        "model28.add(keras.layers.Dense(5,activation='softmax'))\n",
        "\n",
        "\n",
        "model28.compile(loss=\"categorical_crossentropy\",optimizer=\"adam\",metrics=[\"accuracy\"])\n",
        "history28=model28.fit(X_train,Y_train,epochs=3,validation_data=(X_valid,Y_valid),callbacks=[lr_scheduler3])\n",
        "model28.evaluate(X_test,Y_test)"
      ],
      "metadata": {
        "colab": {
          "base_uri": "https://localhost:8080/"
        },
        "id": "56O7gCyz_bHy",
        "outputId": "5cb71602-547e-4f86-8bdf-fc6dfcdd86d0"
      },
      "execution_count": null,
      "outputs": [
        {
          "output_type": "stream",
          "name": "stdout",
          "text": [
            "Epoch 1/3\n",
            "113/113 [==============================] - 10s 20ms/step - loss: 1.3992 - accuracy: 0.4875 - val_loss: 1.3359 - val_accuracy: 0.5125 - lr: 0.0010\n",
            "Epoch 2/3\n",
            "113/113 [==============================] - 2s 17ms/step - loss: 1.3709 - accuracy: 0.4906 - val_loss: 1.3291 - val_accuracy: 0.5125 - lr: 0.0010\n",
            "Epoch 3/3\n",
            "113/113 [==============================] - 2s 18ms/step - loss: 1.3696 - accuracy: 0.4906 - val_loss: 1.3292 - val_accuracy: 0.5125 - lr: 0.0010\n",
            "32/32 [==============================] - 0s 9ms/step - loss: 1.3576 - accuracy: 0.4950\n"
          ]
        },
        {
          "output_type": "execute_result",
          "data": {
            "text/plain": [
              "[1.3576143980026245, 0.4950000047683716]"
            ]
          },
          "metadata": {},
          "execution_count": 126
        }
      ]
    },
    {
      "cell_type": "markdown",
      "source": [
        "## **Hybrid model**\n",
        "### **1d Convolution network with LSTM**"
      ],
      "metadata": {
        "id": "FDiu16roBdMF"
      }
    },
    {
      "cell_type": "code",
      "source": [
        "model28b=keras.models.Sequential()\n",
        "model28b.add(keras.layers.Embedding(8105,embed_length,input_length=X_train.shape[1],))\n",
        "model28b.add(keras.layers.Conv1D(filters=32,kernel_size=3,padding=\"same\",activation=\"relu\"))#convolution layer with 32 filters of size 3x3, same padding\n",
        "model28b.add(keras.layers.MaxPooling1D(2))#max pooling layer, pool size=2\n",
        "model28b.add(keras.layers.Conv1D(filters=32,kernel_size=3,padding=\"same\",activation=\"relu\"))\n",
        "model28b.add(keras.layers.MaxPooling1D(2))\n",
        "model28b.add(keras.layers.Bidirectional(keras.layers.LSTM(100,return_sequences=True)))\n",
        "model28b.add(keras.layers.Bidirectional(keras.layers.LSTM(30)))\n",
        "model28b.add(keras.layers.Dense(225,activation='relu')) #dense layers\n",
        "model28b.add(keras.layers.Dropout(0.3))\n",
        "model28b.add(keras.layers.Dense(150,activation='relu'))\n",
        "model28b.add(keras.layers.Dropout(0.2))\n",
        "model28b.add(keras.layers.Dense(95,activation='relu'))\n",
        "model28b.add(keras.layers.Dropout(0.2))\n",
        "model28b.add(keras.layers.Dense(64,activation='relu'))\n",
        "model28b.add(keras.layers.Dropout(0.1))\n",
        "model28b.add(keras.layers.Dense(34,activation='relu'))\n",
        "model28b.add(keras.layers.Dropout(0.1))\n",
        "model28b.add(keras.layers.Dense(32,activation='relu'))\n",
        "model28b.add(keras.layers.Dense(5,activation=\"softmax\"))\n",
        "\n",
        "model28b.compile(loss=\"categorical_crossentropy\",optimizer=\"adam\",metrics=[\"accuracy\"])\n",
        "history28b=model28b.fit(X_train,Y_train,epochs=10,validation_data=(X_valid,Y_valid),callbacks=[lr_scheduler3])\n",
        "model28b.evaluate(X_test,Y_test)\n"
      ],
      "metadata": {
        "colab": {
          "base_uri": "https://localhost:8080/"
        },
        "id": "V0HkPr7bAp6c",
        "outputId": "810c1a17-bbb1-4540-ad23-1b1252732bea"
      },
      "execution_count": null,
      "outputs": [
        {
          "output_type": "stream",
          "name": "stdout",
          "text": [
            "Epoch 1/10\n",
            "113/113 [==============================] - 36s 269ms/step - loss: 1.4172 - accuracy: 0.4886 - val_loss: 1.3333 - val_accuracy: 0.5125 - lr: 0.0010\n",
            "Epoch 2/10\n",
            "113/113 [==============================] - 34s 303ms/step - loss: 1.3746 - accuracy: 0.4906 - val_loss: 1.3276 - val_accuracy: 0.5125 - lr: 0.0010\n",
            "Epoch 3/10\n",
            "113/113 [==============================] - 29s 258ms/step - loss: 1.3826 - accuracy: 0.4906 - val_loss: 1.3373 - val_accuracy: 0.5125 - lr: 0.0010\n",
            "Epoch 4/10\n",
            "113/113 [==============================] - 29s 253ms/step - loss: 1.3760 - accuracy: 0.4906 - val_loss: 1.3356 - val_accuracy: 0.5125 - lr: 0.0010\n",
            "Epoch 5/10\n",
            "113/113 [==============================] - 29s 253ms/step - loss: 1.3738 - accuracy: 0.4906 - val_loss: 1.3317 - val_accuracy: 0.5125 - lr: 0.0010\n",
            "Epoch 6/10\n",
            "113/113 [==============================] - 31s 273ms/step - loss: 1.3726 - accuracy: 0.4906 - val_loss: 1.3324 - val_accuracy: 0.5125 - lr: 0.0010\n",
            "Epoch 7/10\n",
            "113/113 [==============================] - 32s 287ms/step - loss: 1.3724 - accuracy: 0.4906 - val_loss: 1.3278 - val_accuracy: 0.5125 - lr: 0.0010\n",
            "Epoch 8/10\n",
            "113/113 [==============================] - 29s 252ms/step - loss: 1.3725 - accuracy: 0.4906 - val_loss: 1.3270 - val_accuracy: 0.5125 - lr: 0.0010\n",
            "Epoch 9/10\n",
            "113/113 [==============================] - 30s 267ms/step - loss: 1.3710 - accuracy: 0.4906 - val_loss: 1.3271 - val_accuracy: 0.5125 - lr: 0.0010\n",
            "Epoch 10/10\n",
            "113/113 [==============================] - 29s 253ms/step - loss: 1.3687 - accuracy: 0.4906 - val_loss: 1.3271 - val_accuracy: 0.5125 - lr: 0.0010\n",
            "32/32 [==============================] - 4s 109ms/step - loss: 1.3594 - accuracy: 0.4950\n"
          ]
        },
        {
          "output_type": "execute_result",
          "data": {
            "text/plain": [
              "[1.3594410419464111, 0.4950000047683716]"
            ]
          },
          "metadata": {},
          "execution_count": 60
        }
      ]
    },
    {
      "cell_type": "markdown",
      "source": [
        "## **Lowest loss so far achieved with LSTM (with dropout)**"
      ],
      "metadata": {
        "id": "GCwMAOdQqYGD"
      }
    },
    {
      "cell_type": "code",
      "source": [
        "import matplotlib.pyplot as plt\n",
        "def eval_metric4(history, metric_name):\n",
        "    metric = history.history[metric_name]\n",
        "    val_metric = history.history['val_' + metric_name]\n",
        "\n",
        "    epoch = range(1, 10 + 1)\n",
        "\n",
        "    plt.plot(epoch, metric, color=\"black\",marker='.', label='Train ' + metric_name)\n",
        "    plt.plot(epoch, val_metric, color=\"black\",marker='.', linestyle='dashed',label='Validation ' + metric_name)\n",
        "    plt.xlabel('Epochs')\n",
        "    plt.ylabel('Loss')\n",
        "    plt.legend()\n",
        "    plt.show()\n",
        "eval_metric4(history23,'loss')"
      ],
      "metadata": {
        "colab": {
          "base_uri": "https://localhost:8080/",
          "height": 279
        },
        "id": "I0riiyjqilOj",
        "outputId": "5e35e67c-7ca9-4599-c608-865f5506af60"
      },
      "execution_count": null,
      "outputs": [
        {
          "output_type": "display_data",
          "data": {
            "text/plain": [
              "<Figure size 432x288 with 1 Axes>"
            ],
            "image/png": "[encoded data removed]"
          },
          "metadata": {
            "needs_background": "light"
          }
        }
      ]
    },
    {
      "cell_type": "code",
      "source": [
        "eval_metric4(history23,'accuracy')"
      ],
      "metadata": {
        "colab": {
          "base_uri": "https://localhost:8080/",
          "height": 279
        },
        "id": "Jl8STuO2yQit",
        "outputId": "1acf561c-779f-4a17-cb8c-a8efaf366ab2"
      },
      "execution_count": null,
      "outputs": [
        {
          "output_type": "display_data",
          "data": {
            "text/plain": [
              "<Figure size 432x288 with 1 Axes>"
            ],
            "image/png": "[encoded data removed]"
          },
          "metadata": {
            "needs_background": "light"
          }
        }
      ]
    },
    {
      "cell_type": "markdown",
      "source": [
        "## **Comparing performance with machine learning model (Random forest)**"
      ],
      "metadata": {
        "id": "84izhJ95Z3F_"
      }
    },
    {
      "cell_type": "code",
      "source": [
        "from sklearn.metrics import accuracy_score\n",
        "from sklearn.ensemble import RandomForestClassifier\n",
        "rf = RandomForestClassifier(n_estimators = 10, criterion = 'entropy', random_state = 42)\n",
        "rf.fit(X_train, Y_train)\n",
        "y_pred_rf = rf.predict(X_test)\n",
        "rf_accuracy=round(accuracy_score(Y_test,y_pred_rf),4)*100\n",
        "print(\"Accuracy for Random Forest: {}%\".format(rf_accuracy))"
      ],
      "metadata": {
        "colab": {
          "base_uri": "https://localhost:8080/"
        },
        "id": "-gEgZXjcYp4K",
        "outputId": "d9027970-7b7e-4d61-ca1f-134cb8911a4d"
      },
      "execution_count": null,
      "outputs": [
        {
          "output_type": "stream",
          "name": "stdout",
          "text": [
            "Accuracy for Random Forest: 32.1%\n"
          ]
        }
      ]
    },
    {
      "cell_type": "markdown",
      "source": [
        "### Neural networks (even a simple MLP) gave higher accuracy than a statistical ML model for my problem statement. "
      ],
      "metadata": {
        "id": "ozFglJlKaA_k"
      }
    }
  ],
  "metadata": {
    "colab": {
      "collapsed_sections": [],
      "name": "CS767_Project_Final.ipynb",
      "provenance": []
    },
    "kernelspec": {
      "display_name": "Python 3",
      "name": "python3"
    },
    "language_info": {
      "name": "python"
    },
    "accelerator": "GPU"
  },
  "nbformat": 4,
  "nbformat_minor": 0
}